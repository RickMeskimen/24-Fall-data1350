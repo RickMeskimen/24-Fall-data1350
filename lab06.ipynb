{
 "cells": [
  {
   "cell_type": "code",
   "execution_count": 48,
   "id": "d2b4dc9e",
   "metadata": {
    "deletable": false,
    "editable": false
   },
   "outputs": [],
   "source": [
    "# Initialize Otter\n",
    "import otter\n",
    "grader = otter.Notebook(\"lab06.ipynb\")"
   ]
  },
  {
   "cell_type": "markdown",
   "id": "4e99165f",
   "metadata": {},
   "source": [
    "# Lab 6: Examining the Therapeutic Touch\n",
    "\n",
    "Welcome to Lab 6! This assignment involves using statistical modeling, hypothesis testing, and simulation to analyze data and draw conclusions\n",
    "\n",
    "Recommended Reading:\n",
    "\n",
    "* [Assessing a Model](https://inferentialthinking.com/chapters/11/1/Assessing_a_Model.html)\n",
    "* [Empirical Distribution of a Statistic](https://inferentialthinking.com/chapters/10/3/Empirical_Distribution_of_a_Statistic.html)\n",
    "* [Random Sampling in Python](https://inferentialthinking.com/chapters/10/4/Random_Sampling_in_Python.html)\n",
    "* [Python Reference](https://www.data8.org/sp24/reference/)\n"
   ]
  },
  {
   "cell_type": "markdown",
   "id": "b6e936f9",
   "metadata": {},
   "source": [
    "After such an extensive introduction to programming for data science, we are finally moving into the section of the course where we can apply our new skills to answer real questions.  \n",
    "\n",
    "In this lab, we'll use testing techniques that were introduced in lecture to test the idea of the therapeutic touch, the idea that some practitioner can feel and massage your human energy field. \n"
   ]
  },
  {
   "cell_type": "code",
   "execution_count": 49,
   "id": "7b3d3eb9",
   "metadata": {},
   "outputs": [],
   "source": [
    "# Run this cell, but please don't change it.\n",
    " \n",
    "# These lines import the Numpy and Datascience modules.\n",
    "import numpy as np\n",
    "from datascience import *\n",
    "\n",
    "# These lines do some fancy plotting magic\n",
    "import matplotlib\n",
    "%matplotlib inline\n",
    "import matplotlib.pyplot as plt\n",
    "plt.style.use('fivethirtyeight')\n",
    "import warnings\n",
    "warnings.simplefilter('ignore', FutureWarning)\n",
    "from matplotlib import patches\n",
    "from ipywidgets import interact, interactive, fixed\n",
    "import ipywidgets as widgets\n"
   ]
  },
  {
   "cell_type": "markdown",
   "id": "5d710b91",
   "metadata": {},
   "source": [
    "## 1. What is the Therapeutic Touch\n",
    "\n",
    "The Therapeutic Touch (TT) is the idea that everyone can feel the Human Energy Field (HEF) around individuals.  Those who practice TT have described different people's HEFs as \"warm as Jell-O\" and \"tactile as taffy.\" \n",
    "\n",
    "TT was a popular technique used throughout the 20th century that was toted as a great way to bring balance to a person's health. Certain practitioners claim they have the ability to feel the HEF and can massage it in order to promote health and relaxation in individuals.\n",
    "\n",
    "### Emily Rosa\n",
    "\n",
    "[Emily Rosa](https://en.wikipedia.org/wiki/Emily_Rosa) was a 4th grade student who was very familiar with the world of TT, thanks to her parents, who were both medical practitioners and skeptics of TT.\n",
    "\n",
    "For her 4th grade science fair project, Emily decided to test whether or not TT practitioners could truly interact with a person's HEF. She later went on to publish her work in TT, becoming the youngest person to have a research paper published in a peer reviewed medical journal."
   ]
  },
  {
   "cell_type": "markdown",
   "id": "af85cc60",
   "metadata": {},
   "source": [
    "### Emily's Experiment\n",
    "\n",
    "Emily's experiment was clean, simple, and effective. Due to her parents' occupations in the medical field, she had wide access to people who claimed to be TT practitioners. \n",
    "\n",
    "Emily took 21 TT practitioners and used them for her science experiment. She would take a TT practitioner and ask them to extend their hands through a screen (which they can't see through). Emily would be on the other side and would flip a fair coin. Depending on how the coin landed, she would put out either her left hand or her right hand. The TT practitioner would then have to answer which hand Emily put out. If a pracitioner could truly interact with a person's HEF, it would be expected that they answered correctly.\n",
    "\n",
    "Overall, through 210 samples, the practitioner picked the correct hand 44% of the time. \n",
    "\n",
    "Emily's main goal here was to test whether or not the TT practicioners' guesses were random, like the flip of a coin. In most medical experiments, this is the norm. **We want to test whether or not the treatment has an effect, *not* whether or not the treatment actually works.**\n",
    "\n",
    "We will now begin to formulate this experiment in terms of the terminology we learned in this course. "
   ]
  },
  {
   "cell_type": "markdown",
   "id": "1b5d53b7",
   "metadata": {},
   "source": [
    "**Question 1.1**: Describe Emily’s [model](https://inferentialthinking.com/chapters/11/1/Assessing_a_Model.html) for how likely the TT practitioners are to choose the correct hand. What alternative model is her model meant to discredit?\n",
    "\n",
    "If you are able, check in with fellow peers, the discussion forum, or your lab TA/AIs, to come to a conclusion.\n"
   ]
  },
  {
   "cell_type": "markdown",
   "id": "ccb281d4",
   "metadata": {},
   "source": [
    "Her model assumes that the TT practicioners have no greater chance than a normal person, 50/50, because they cannot actually know which hand is extended. It is meant to discredit the model that assume these TT practicioners can predict which hand will be extended based on their mystical powers. "
   ]
  },
  {
   "cell_type": "markdown",
   "id": "65bb09a2",
   "metadata": {},
   "source": [
    "**Question 1.2:** Remember that the practitioner got the correct answer 44% (0.44) of the time. According to Emily's model, on average, what proportion of times do we expect the practitioner to guess the correct hand? Make sure your answer is a number between 0 and 1. \n"
   ]
  },
  {
   "cell_type": "code",
   "execution_count": 50,
   "id": "63b8dcca",
   "metadata": {
    "tags": []
   },
   "outputs": [
    {
     "data": {
      "text/plain": [
       "0.5"
      ]
     },
     "execution_count": 50,
     "metadata": {},
     "output_type": "execute_result"
    }
   ],
   "source": [
    "expected_proportion_correct = .5\n",
    "expected_proportion_correct"
   ]
  },
  {
   "cell_type": "code",
   "execution_count": 51,
   "id": "145d99e4",
   "metadata": {
    "deletable": false,
    "editable": false
   },
   "outputs": [
    {
     "data": {
      "text/html": [
       "<p><strong><pre style='display: inline;'>q1_2</pre></strong> passed! 🙌</p>"
      ],
      "text/plain": [
       "q1_2 results: All test cases passed!"
      ]
     },
     "execution_count": 51,
     "metadata": {},
     "output_type": "execute_result"
    }
   ],
   "source": [
    "grader.check(\"q1_2\")"
   ]
  },
  {
   "cell_type": "markdown",
   "id": "87f924aa",
   "metadata": {},
   "source": [
    "The goal now is to see if our deviation from this expected proportion of correct answers is due to something other than chance. \n",
    "\n",
    "**Question 1.3:** We usually use a statistic to help determine which model the evidence points towards. What is a statistic that we can use to compare outcomes under Emily’s model to what was observed? Assign `valid_stat` to an array of integer(s) representing test statistics that Emily can use: \n",
    "\n",
    "1. The difference between the expected percent correct and the actual percent correct\n",
    "2. The absolute difference between the expected percent correct and the actual percent correct\n",
    "3. The sum of the expected percent correct and the actual percent correct\n",
    "\n",
    "**NOTE:** Make sure to use `make_array` to create your array of integer(s)!\n",
    "\n",
    "> *Hint*: What should the domain (possible x values) be for the distribution of our test statistics?\n"
   ]
  },
  {
   "cell_type": "code",
   "execution_count": 52,
   "id": "08b33579",
   "metadata": {
    "tags": []
   },
   "outputs": [
    {
     "data": {
      "text/plain": [
       "array([2])"
      ]
     },
     "execution_count": 52,
     "metadata": {},
     "output_type": "execute_result"
    }
   ],
   "source": [
    "valid_stat = make_array(2)\n",
    "valid_stat"
   ]
  },
  {
   "cell_type": "code",
   "execution_count": 53,
   "id": "e78cafc3",
   "metadata": {
    "deletable": false,
    "editable": false
   },
   "outputs": [
    {
     "data": {
      "text/html": [
       "<p><strong><pre style='display: inline;'>q1_3</pre></strong> passed! 💯</p>"
      ],
      "text/plain": [
       "q1_3 results: All test cases passed!"
      ]
     },
     "execution_count": 53,
     "metadata": {},
     "output_type": "execute_result"
    }
   ],
   "source": [
    "grader.check(\"q1_3\")"
   ]
  },
  {
   "cell_type": "markdown",
   "id": "621a3a67",
   "metadata": {},
   "source": [
    "**Question 1.4:** Why is the statistic from Question 1.3 the appropriate choice for comparing outcomes in Emily's experiment? How does it relate to the models you defined in Question 1.1?\n"
   ]
  },
  {
   "cell_type": "markdown",
   "id": "7d147ae5",
   "metadata": {},
   "source": [
    "We need to use absolute difference because it tells us the true difference between the two outcomes. It related to the model in 1.1 because the assumption was that the probability was 50%. "
   ]
  },
  {
   "cell_type": "markdown",
   "id": "8a16dec1",
   "metadata": {},
   "source": [
    "**Question 1.5:** Define the function `statistic` which takes in an expected proportion and an actual proportion, and returns the value of the statistic chosen in Question 1.3. Assume that the argument takes in proportions, but  return your answer as a percentage. \n",
    "\n",
    "*Hint:* Remember we are asking for a **percentage**, not a proportion. \n"
   ]
  },
  {
   "cell_type": "code",
   "execution_count": 89,
   "id": "f44302ef",
   "metadata": {
    "tags": []
   },
   "outputs": [],
   "source": [
    "def statistic(expected_prop, actual_prop):\n",
    "    diff = abs(expected_prop-actual_prop)\n",
    "    return diff*100"
   ]
  },
  {
   "cell_type": "code",
   "execution_count": 55,
   "id": "18e87d1b",
   "metadata": {
    "deletable": false,
    "editable": false
   },
   "outputs": [
    {
     "data": {
      "text/html": [
       "<p><strong><pre style='display: inline;'>q1_5</pre></strong> passed! ✨</p>"
      ],
      "text/plain": [
       "q1_5 results: All test cases passed!"
      ]
     },
     "execution_count": 55,
     "metadata": {},
     "output_type": "execute_result"
    }
   ],
   "source": [
    "grader.check(\"q1_5\")"
   ]
  },
  {
   "cell_type": "markdown",
   "id": "4a091b8e",
   "metadata": {},
   "source": [
    "**Question 1.6:** Use your newly defined function to calculate the observed statistic from Emily's experiment. \n"
   ]
  },
  {
   "cell_type": "code",
   "execution_count": 56,
   "id": "297a246a",
   "metadata": {
    "tags": []
   },
   "outputs": [
    {
     "data": {
      "text/plain": [
       "6.0"
      ]
     },
     "execution_count": 56,
     "metadata": {},
     "output_type": "execute_result"
    }
   ],
   "source": [
    "observed_statistic = statistic(0.50,0.44)\n",
    "observed_statistic"
   ]
  },
  {
   "cell_type": "code",
   "execution_count": 57,
   "id": "f90fd96f",
   "metadata": {
    "deletable": false,
    "editable": false
   },
   "outputs": [
    {
     "data": {
      "text/html": [
       "<p><strong><pre style='display: inline;'>q1_6</pre></strong> passed! 🌈</p>"
      ],
      "text/plain": [
       "q1_6 results: All test cases passed!"
      ]
     },
     "execution_count": 57,
     "metadata": {},
     "output_type": "execute_result"
    }
   ],
   "source": [
    "grader.check(\"q1_6\")"
   ]
  },
  {
   "cell_type": "markdown",
   "id": "4dc97aa6",
   "metadata": {},
   "source": [
    "**Is this observed statistic consistent with what we expect to see under Emily’s model?**\n",
    "\n",
    "In order to answer this question, we must simulate the experiment as though Emily's model was correct, and calculate our statistic for every simulation.\n",
    "\n",
    "### `sample_proportions`\n",
    "\n",
    "`sample_proportions` can be used to randomly sample from multiple categories when you know the proportion of data points that are expected to fall in each category. `sample_proportions` takes two arguments: the sample size and an array of proportions corresponding to each category in the population (should sum to 1).\n",
    "\n",
    "Consider flipping a fair coin, where the two outcomes (coin lands heads and coin lands tails) occur with an equal chance. We expect that half of all coin flips will land heads, and half of all coin flips will land tails.\n",
    "\n",
    "Run the following cell to see the simulation of 10 flips of a fair coin. Let the first item of `coin_proportions` be the proportion of heads and the second item of `coin_proportions` be the proportion of tails.\n",
    "\n",
    "*Observe what happens when you run this cell multiple times—the proportion of coin flips that land heads and tails appears to change, as you are simulating flipping 10 coins each time!*"
   ]
  },
  {
   "cell_type": "code",
   "execution_count": 58,
   "id": "c7245202",
   "metadata": {},
   "outputs": [
    {
     "data": {
      "text/plain": [
       "array([ 0.5,  0.5])"
      ]
     },
     "execution_count": 58,
     "metadata": {},
     "output_type": "execute_result"
    }
   ],
   "source": [
    "coin_proportions = make_array(0.5, 0.5) \n",
    "ten_flips = sample_proportions(10, coin_proportions)\n",
    "ten_flips"
   ]
  },
  {
   "cell_type": "markdown",
   "id": "1fecbaba",
   "metadata": {},
   "source": [
    "`sample_proportions` returns an array that is the same length as the proportion array that is passed through. It contains the proportion of each category that appears in the sample. \n",
    "\n",
    "In our example, the first item of `ten_flips` is the simulated proportion of heads and the second item of `ten_flips` is the simulated proportion of tails."
   ]
  },
  {
   "cell_type": "code",
   "execution_count": 59,
   "id": "04b0ef76",
   "metadata": {},
   "outputs": [
    {
     "name": "stdout",
     "output_type": "stream",
     "text": [
      "In our simulation, 0.5 of flips were heads and 0.5 of flips were tails.\n"
     ]
    }
   ],
   "source": [
    "simulated_proportion_heads = ten_flips.item(0)\n",
    "simulated_proportion_tails = ten_flips.item(1)\n",
    "\n",
    "print(\"In our simulation, \" + str(simulated_proportion_heads) + \" of flips were heads and \" \\\n",
    "      + str(simulated_proportion_tails) + \" of flips were tails.\")"
   ]
  },
  {
   "cell_type": "markdown",
   "id": "725c0823",
   "metadata": {},
   "source": [
    "**Question 1.7:** To begin simulating, we should start by creating a representation of Emily's model to use for our simulation. This will be an array with two items in it. The first item should be the proportion of times a TT practictioner picks the correct hand, assuming that Emily’s model was correct. The second item should be the proportion of times, under the same assumption, that the TT practitioner picks the incorrect hand. Assign `model_proportions` to this array. \n",
    "\n",
    "After this, we can simulate 210 hand choices, as Emily evaluated in real life, and find a single statistic to summarize this instance of the simulation. Use the `sample_proportions` function and assign the **proportion of correct hand choices** (out of 210) to `simulation_proportion_correct`. Lastly, use your `statistic` function to assign `one_statistic`  to the value of the statistic for this one simulation.\n",
    "\n",
    "*Hint:* `sample_proportions` usage can be found on the [Python Reference](https://www.data8.org/sp24/reference/).\n"
   ]
  },
  {
   "cell_type": "code",
   "execution_count": 60,
   "id": "9566511c",
   "metadata": {
    "tags": []
   },
   "outputs": [
    {
     "data": {
      "text/plain": [
       "0.9523809523809545"
      ]
     },
     "execution_count": 60,
     "metadata": {},
     "output_type": "execute_result"
    }
   ],
   "source": [
    "# This saves the random state of our code so that we can \n",
    "# generate the same numbers each time we run the code.\n",
    "# Please do not change this line. \n",
    "np.random.seed(16)\n",
    "\n",
    "model_proportions = make_array(0.50,0.50)\n",
    "simulation_proportion_correct = (sample_proportions(210,model_proportions)).item(0)\n",
    "one_statistic = statistic(0.50,simulation_proportion_correct)\n",
    "one_statistic\n"
   ]
  },
  {
   "cell_type": "code",
   "execution_count": 61,
   "id": "83ede217",
   "metadata": {
    "deletable": false,
    "editable": false
   },
   "outputs": [
    {
     "data": {
      "text/html": [
       "<p><strong><pre style='display: inline;'>q1_7</pre></strong> passed! 🍀</p>"
      ],
      "text/plain": [
       "q1_7 results: All test cases passed!"
      ]
     },
     "execution_count": 61,
     "metadata": {},
     "output_type": "execute_result"
    }
   ],
   "source": [
    "grader.check(\"q1_7\")"
   ]
  },
  {
   "attachments": {},
   "cell_type": "markdown",
   "id": "bac92163",
   "metadata": {},
   "source": [
    "**Question 1.8:** Let's now see what the distribution of statistics is actually like under Emily's model. \n",
    "\n",
    "Define the function `simulation_and_statistic` to take in the `model_proportions` array and the expected proportion of times a TT practitioner would guess a hand correctly under Emily's model. The function should simulate Emily running through the experiment 210 times and return the statistic of this one simulation. \n",
    "\n",
    "*Hint:* This should follow the same pattern as the code you did in the previous problem.  "
   ]
  },
  {
   "cell_type": "code",
   "execution_count": 91,
   "id": "84f7f211",
   "metadata": {
    "tags": []
   },
   "outputs": [],
   "source": [
    "def simulation_and_statistic(model_proportions, expected_proportion_correct):\n",
    "    '''Simulates 210 TT hand choices under Emily’s model. \n",
    "    Returns one statistic from the simulation.'''\n",
    "    simulation_proportion_correct = sample_proportions(210,model_proportions).item(0)\n",
    "    return statistic(expected_proportion_correct,simulation_proportion_correct)"
   ]
  },
  {
   "cell_type": "code",
   "execution_count": 93,
   "id": "e8e07d5c",
   "metadata": {
    "tags": []
   },
   "outputs": [
    {
     "data": {
      "text/plain": [
       "array([  1.9047619 ,   4.76190476,   0.95238095,   0.95238095,\n",
       "         3.80952381,   3.80952381,   0.47619048,   0.47619048,\n",
       "         4.28571429,   0.47619048,   1.42857143,   0.95238095,\n",
       "         0.47619048,   1.9047619 ,   1.42857143,   1.42857143,\n",
       "         1.42857143,   0.47619048,   0.95238095,   1.42857143,\n",
       "         5.23809524,   4.76190476,   1.42857143,   3.33333333,\n",
       "         3.33333333,   1.9047619 ,   3.33333333,   0.47619048,\n",
       "         4.76190476,   0.95238095,   3.80952381,   1.42857143,\n",
       "         0.47619048,   0.95238095,   0.        ,   8.57142857,\n",
       "         0.47619048,   1.9047619 ,   0.47619048,   3.80952381,\n",
       "         1.42857143,   4.28571429,   4.28571429,   5.23809524,\n",
       "         1.42857143,   3.80952381,   3.80952381,   3.80952381,\n",
       "         1.42857143,   0.95238095,   1.9047619 ,   0.95238095,\n",
       "         0.47619048,   3.80952381,   2.85714286,   5.71428571,\n",
       "         3.80952381,   0.47619048,   5.23809524,   4.76190476,\n",
       "         0.        ,   1.42857143,   2.85714286,   1.42857143,\n",
       "         2.85714286,   1.9047619 ,   4.28571429,   3.33333333,\n",
       "         3.80952381,   0.        ,   3.80952381,   0.47619048,\n",
       "         0.        ,   1.9047619 ,   2.38095238,   4.76190476,\n",
       "         1.42857143,   6.19047619,   4.76190476,   0.47619048,\n",
       "         6.66666667,   4.76190476,   6.66666667,   4.76190476,\n",
       "         0.47619048,   3.33333333,   3.33333333,   2.38095238,\n",
       "         3.33333333,   2.38095238,   2.85714286,   0.95238095,\n",
       "         3.33333333,   4.76190476,   1.42857143,   3.33333333,\n",
       "         0.47619048,   1.42857143,   2.85714286,   1.42857143,\n",
       "         4.76190476,   2.85714286,   0.95238095,   1.9047619 ,\n",
       "         3.80952381,   1.42857143,   5.71428571,   1.9047619 ,\n",
       "         2.85714286,   1.9047619 ,   0.95238095,   0.        ,\n",
       "         1.9047619 ,   2.38095238,   0.47619048,   0.47619048,\n",
       "         1.9047619 ,   2.38095238,   3.80952381,   0.47619048,\n",
       "         5.23809524,   2.38095238,   1.42857143,   1.9047619 ,\n",
       "         3.33333333,   3.33333333,   1.9047619 ,   4.28571429,\n",
       "         2.85714286,   4.76190476,  10.        ,   1.42857143,\n",
       "         3.80952381,   0.        ,   1.42857143,   3.33333333,\n",
       "         4.76190476,   6.19047619,   1.42857143,   3.33333333,\n",
       "         3.80952381,   1.9047619 ,   2.38095238,   2.38095238,\n",
       "         3.80952381,   6.19047619,   2.38095238,   0.95238095,\n",
       "         7.14285714,   4.28571429,  10.        ,   3.80952381,\n",
       "        10.        ,   2.85714286,   5.23809524,   0.47619048,\n",
       "         0.95238095,   2.38095238,   6.66666667,   4.28571429,\n",
       "         6.19047619,   2.38095238,   5.23809524,   5.71428571,\n",
       "         0.95238095,   4.76190476,   1.9047619 ,   1.9047619 ,\n",
       "         1.9047619 ,   0.47619048,   2.38095238,   2.85714286,\n",
       "         2.85714286,   5.71428571,   0.47619048,   1.42857143,\n",
       "         2.38095238,   2.38095238,   3.80952381,   8.0952381 ,\n",
       "         3.33333333,   4.76190476,   1.42857143,   0.        ,\n",
       "         7.14285714,   2.38095238,   0.47619048,   0.47619048,\n",
       "         1.9047619 ,   1.42857143,   1.9047619 ,   3.80952381,\n",
       "         2.85714286,   0.47619048,   3.33333333,   4.76190476,\n",
       "         0.        ,   3.33333333,   0.95238095,   2.85714286,\n",
       "         4.76190476,   4.28571429,   4.28571429,   4.76190476,\n",
       "         6.66666667,   0.95238095,   0.47619048,   7.14285714,\n",
       "         3.33333333,   4.28571429,   0.47619048,   1.42857143,\n",
       "         4.76190476,   0.        ,   1.42857143,   0.47619048,\n",
       "         4.76190476,   4.76190476,   2.38095238,   1.42857143,\n",
       "         0.47619048,   2.38095238,   1.42857143,   0.        ,\n",
       "         0.47619048,   1.9047619 ,   1.42857143,   0.47619048,\n",
       "         1.42857143,   5.23809524,   2.85714286,   0.        ,\n",
       "         3.33333333,   1.9047619 ,   4.28571429,   5.23809524,\n",
       "         3.33333333,   2.38095238,   0.47619048,   1.42857143,\n",
       "         5.71428571,   4.28571429,   9.04761905,   2.85714286,\n",
       "         9.52380952,   0.47619048,   8.0952381 ,   1.9047619 ,\n",
       "         5.23809524,   3.33333333,   0.95238095,   1.9047619 ,\n",
       "         1.9047619 ,   5.71428571,   1.9047619 ,   0.47619048,\n",
       "         3.80952381,   3.33333333,   5.23809524,   5.23809524,\n",
       "         5.71428571,   1.42857143,   0.95238095,   0.47619048,\n",
       "         3.33333333,   3.33333333,   0.95238095,   3.80952381,\n",
       "         2.85714286,   6.19047619,   2.38095238,   4.76190476,\n",
       "         0.47619048,   1.42857143,   0.47619048,   0.95238095,\n",
       "         8.57142857,   1.9047619 ,   0.47619048,   2.38095238,\n",
       "         3.80952381,   0.95238095,   1.9047619 ,   8.57142857,\n",
       "         3.33333333,   1.42857143,   4.28571429,   3.80952381,\n",
       "         3.33333333,   1.42857143,   0.47619048,   1.42857143,\n",
       "         5.23809524,   2.38095238,   6.19047619,   1.9047619 ,\n",
       "         0.47619048,   0.        ,   5.23809524,   0.47619048,\n",
       "         0.        ,   3.33333333,   0.95238095,   1.9047619 ,\n",
       "         3.33333333,   4.28571429,   0.95238095,   6.19047619,\n",
       "         1.42857143,   1.9047619 ,   3.80952381,   0.95238095,\n",
       "         1.42857143,   1.42857143,   1.42857143,   2.38095238,\n",
       "         1.42857143,   4.28571429,   2.85714286,   5.23809524,\n",
       "         4.76190476,   1.42857143,   4.76190476,   1.9047619 ,\n",
       "         1.9047619 ,   3.80952381,   2.38095238,   2.38095238,\n",
       "         0.        ,   5.23809524,   3.33333333,   4.76190476,\n",
       "         4.28571429,   5.71428571,   1.9047619 ,   1.9047619 ,\n",
       "         1.9047619 ,   1.9047619 ,   3.33333333,   0.        ,\n",
       "         3.33333333,   5.71428571,   0.95238095,   0.95238095,\n",
       "         2.38095238,   6.66666667,   1.42857143,   1.42857143,\n",
       "         3.80952381,   0.47619048,   2.38095238,   3.33333333,\n",
       "         0.        ,   7.14285714,   1.9047619 ,   5.71428571,\n",
       "         0.        ,   1.9047619 ,   1.42857143,   4.28571429,\n",
       "         0.47619048,   1.9047619 ,   0.47619048,   2.85714286,\n",
       "         0.        ,   3.33333333,   0.47619048,   0.47619048,\n",
       "         0.47619048,   1.9047619 ,   0.95238095,   2.38095238,\n",
       "         1.42857143,   3.33333333,   2.85714286,   0.47619048,\n",
       "         2.38095238,   0.        ,   4.76190476,   1.9047619 ,\n",
       "         3.80952381,   0.95238095,   0.        ,   1.42857143,\n",
       "         4.28571429,   3.33333333,   0.95238095,   4.28571429,\n",
       "         1.42857143,   2.85714286,   1.42857143,   1.42857143,\n",
       "         0.95238095,   5.71428571,   6.66666667,   3.33333333,\n",
       "         0.95238095,   0.95238095,   0.95238095,   0.95238095,\n",
       "         0.95238095,   1.9047619 ,   2.85714286,   1.9047619 ,\n",
       "         1.42857143,   3.80952381,   4.76190476,   3.80952381,\n",
       "         5.23809524,   1.9047619 ,   0.95238095,   1.42857143,\n",
       "         5.23809524,   4.76190476,   0.47619048,   1.42857143,\n",
       "         4.28571429,   5.23809524,   3.80952381,   0.47619048,\n",
       "         4.28571429,   6.66666667,   3.33333333,   0.47619048,\n",
       "         0.        ,   0.95238095,   5.23809524,   0.47619048,\n",
       "         2.85714286,   5.23809524,   1.42857143,   2.38095238,\n",
       "         0.        ,   0.47619048,   2.85714286,   0.95238095,\n",
       "         1.42857143,   0.47619048,   1.9047619 ,   3.80952381,\n",
       "         2.38095238,   0.47619048,   2.38095238,   2.38095238,\n",
       "         4.28571429,   0.        ,   0.47619048,   1.42857143,\n",
       "         2.85714286,   5.71428571,   3.33333333,   0.95238095,\n",
       "         0.47619048,   9.04761905,   5.23809524,   4.76190476,\n",
       "         7.61904762,   0.95238095,   1.9047619 ,   5.71428571,\n",
       "         1.9047619 ,   2.38095238,   3.33333333,   0.47619048,\n",
       "         3.80952381,   7.61904762,   0.        ,   5.71428571,\n",
       "         2.85714286,   2.38095238,   5.23809524,   1.9047619 ,\n",
       "         3.33333333,   7.14285714,   4.28571429,   1.9047619 ,\n",
       "         5.23809524,   2.38095238,   0.47619048,   2.85714286,\n",
       "         2.38095238,   0.47619048,   1.42857143,   0.95238095,\n",
       "         7.14285714,   6.66666667,   0.95238095,   2.85714286,\n",
       "         0.47619048,   7.61904762,   1.9047619 ,   4.28571429,\n",
       "         2.85714286,   0.47619048,   2.38095238,   1.9047619 ,\n",
       "         1.42857143,   1.42857143,   5.23809524,   1.9047619 ,\n",
       "         1.9047619 ,   4.28571429,   1.42857143,   0.        ,\n",
       "         2.85714286,   2.85714286,   3.80952381,   0.95238095,\n",
       "         0.        ,   0.95238095,   2.38095238,   3.33333333,\n",
       "         2.85714286,   1.9047619 ,   0.47619048,   3.33333333,\n",
       "         1.42857143,   3.33333333,   0.47619048,   0.47619048,\n",
       "         3.33333333,   0.        ,   0.47619048,   1.9047619 ,\n",
       "         3.33333333,   0.47619048,   0.47619048,   5.23809524,\n",
       "         2.85714286,   5.23809524,   2.38095238,   0.95238095,\n",
       "         1.42857143,   5.71428571,   2.85714286,   4.28571429,\n",
       "         1.42857143,   8.0952381 ,   3.80952381,   2.85714286,\n",
       "         2.38095238,   1.9047619 ,   3.33333333,   0.47619048,\n",
       "         3.33333333,   1.42857143,   1.9047619 ,   4.76190476,\n",
       "         5.23809524,   0.47619048,   1.42857143,   0.47619048,\n",
       "         6.66666667,   0.47619048,   5.23809524,   0.47619048,\n",
       "         3.80952381,   2.38095238,   3.33333333,   1.42857143,\n",
       "         2.85714286,   1.42857143,   1.42857143,   0.95238095,\n",
       "         0.95238095,   0.95238095,   0.95238095,   3.80952381,\n",
       "         0.47619048,   0.95238095,   2.85714286,   4.28571429,\n",
       "         0.47619048,   4.76190476,   0.47619048,   2.85714286,\n",
       "         3.80952381,   2.85714286,   6.66666667,   2.38095238,\n",
       "         3.80952381,   4.76190476,   0.        ,   4.76190476,\n",
       "         5.71428571,   0.        ,   0.95238095,   1.42857143,\n",
       "         4.28571429,   1.9047619 ,   3.33333333,   6.66666667,\n",
       "         0.95238095,   4.28571429,   2.38095238,   0.        ,\n",
       "         1.42857143,   3.80952381,   0.95238095,   5.23809524,\n",
       "         0.        ,   5.23809524,   0.95238095,   8.0952381 ,\n",
       "         3.80952381,   2.38095238,   0.95238095,   7.14285714,\n",
       "         2.38095238,   6.19047619,   7.14285714,   2.38095238,\n",
       "         1.9047619 ,   2.85714286,   3.33333333,   8.57142857,\n",
       "         4.28571429,   5.23809524,   2.38095238,   1.42857143,\n",
       "         0.95238095,   0.95238095,   0.47619048,   4.76190476,\n",
       "         0.        ,   4.28571429,   0.47619048,   4.76190476,\n",
       "         0.95238095,   4.76190476,   2.85714286,   6.66666667,\n",
       "         4.28571429,   0.47619048,   3.33333333,   1.9047619 ,\n",
       "         2.38095238,   3.80952381,   0.47619048,   5.23809524,\n",
       "         2.85714286,   3.80952381,   4.76190476,   0.47619048,\n",
       "         0.95238095,   0.95238095,   2.38095238,   5.71428571,\n",
       "         7.61904762,   2.85714286,   6.66666667,   1.9047619 ,\n",
       "         5.23809524,   0.47619048,   5.23809524,   1.9047619 ,\n",
       "         0.95238095,   0.47619048,   1.42857143,   3.33333333,\n",
       "         6.66666667,   2.85714286,  10.95238095,   3.80952381,\n",
       "         2.38095238,   0.95238095,   4.76190476,   1.42857143,\n",
       "         2.38095238,   2.38095238,   0.95238095,   2.38095238,\n",
       "         3.80952381,   2.38095238,   4.28571429,   3.80952381,\n",
       "         4.76190476,   6.19047619,   0.47619048,   0.95238095,\n",
       "         3.33333333,   1.42857143,   3.80952381,   3.80952381,\n",
       "         1.42857143,   5.23809524,   4.76190476,   1.9047619 ,\n",
       "         0.95238095,   6.19047619,   7.61904762,   4.28571429,\n",
       "         1.9047619 ,   0.47619048,   0.47619048,   2.85714286,\n",
       "         1.42857143,   6.19047619,   1.42857143,   2.85714286,\n",
       "         0.95238095,   1.9047619 ,   5.71428571,   1.9047619 ,\n",
       "         8.0952381 ,   0.47619048,   0.        ,   0.95238095,\n",
       "         3.80952381,   5.23809524,   0.95238095,   1.9047619 ,\n",
       "         4.28571429,   0.        ,   4.76190476,   2.38095238,\n",
       "         2.38095238,   5.23809524,   1.9047619 ,   7.14285714,\n",
       "         7.61904762,   2.85714286,   7.61904762,   2.38095238,\n",
       "         2.38095238,   2.38095238,   0.        ,   1.9047619 ,\n",
       "         2.38095238,   1.42857143,   4.76190476,   4.28571429,\n",
       "         1.9047619 ,   4.28571429,   0.47619048,   0.95238095,\n",
       "         1.9047619 ,   0.95238095,   0.        ,   6.19047619,\n",
       "         1.9047619 ,   5.23809524,   2.38095238,   4.76190476,\n",
       "         0.47619048,   2.38095238,   0.95238095,   2.38095238,\n",
       "         0.95238095,   1.9047619 ,   0.47619048,   1.42857143,\n",
       "         0.95238095,   1.42857143,   4.28571429,   3.80952381,\n",
       "         0.95238095,   1.42857143,   0.        ,   4.28571429,\n",
       "         3.80952381,   0.95238095,   4.28571429,   0.47619048,\n",
       "         1.42857143,   4.76190476,   0.95238095,   2.85714286,\n",
       "         1.42857143,   1.9047619 ,   0.95238095,   3.80952381,\n",
       "         2.85714286,   1.9047619 ,   1.42857143,   2.85714286,\n",
       "         1.42857143,   0.        ,   6.19047619,   2.38095238,\n",
       "         0.47619048,   2.38095238,   4.28571429,   0.95238095,\n",
       "         2.85714286,   1.9047619 ,   8.0952381 ,   3.33333333,\n",
       "         5.71428571,   0.95238095,   0.47619048,   0.95238095,\n",
       "         2.38095238,   1.9047619 ,   1.9047619 ,   0.        ,\n",
       "         0.47619048,   0.47619048,   4.28571429,   8.0952381 ,\n",
       "         1.9047619 ,   2.38095238,   3.33333333,   6.66666667,\n",
       "         1.9047619 ,   4.28571429,   0.95238095,   0.        ,\n",
       "         4.28571429,   0.47619048,   0.95238095,   1.42857143,\n",
       "         1.42857143,   1.9047619 ,   1.42857143,   3.33333333,\n",
       "         2.85714286,   5.71428571,   3.33333333,   3.80952381,\n",
       "         1.42857143,   4.76190476,   0.47619048,   3.80952381,\n",
       "         3.80952381,   1.42857143,   3.33333333,   2.38095238,\n",
       "         1.9047619 ,   0.47619048,   1.9047619 ,   3.80952381,\n",
       "         2.85714286,   4.28571429,   0.47619048,   4.28571429,\n",
       "         0.47619048,   0.47619048,   0.95238095,   1.9047619 ,\n",
       "         0.        ,  10.47619048,   0.47619048,   2.85714286,\n",
       "         2.38095238,   7.14285714,   0.47619048,   0.        ,\n",
       "         3.33333333,   0.        ,   4.76190476,   0.47619048,\n",
       "         2.85714286,   1.42857143,   5.71428571,   6.66666667,\n",
       "         2.38095238,   1.9047619 ,   2.38095238,   0.47619048,\n",
       "         5.71428571,   2.38095238,   3.33333333,   1.42857143,\n",
       "         4.76190476,   2.85714286,   0.        ,   1.9047619 ,\n",
       "         0.47619048,   2.38095238,   0.47619048,   1.42857143,\n",
       "         1.42857143,   0.95238095,   1.42857143,   2.85714286,\n",
       "         4.28571429,   0.        ,   3.33333333,   3.80952381,\n",
       "         0.95238095,   1.42857143,   3.33333333,   2.38095238,\n",
       "         2.85714286,   1.42857143,   0.47619048,   5.23809524,\n",
       "         3.80952381,   1.42857143,   1.42857143,   2.38095238,\n",
       "         2.38095238,   0.        ,   3.33333333,   3.80952381,\n",
       "         5.71428571,   3.33333333,   1.9047619 ,   0.95238095,\n",
       "         3.80952381,   0.95238095,   1.42857143,   0.95238095,\n",
       "         2.85714286,   0.95238095,   1.42857143,   0.95238095,\n",
       "         0.47619048,   3.80952381,   4.76190476,   4.28571429,\n",
       "         4.76190476,   0.95238095,   2.85714286,   8.57142857,\n",
       "         3.33333333,   2.38095238,   3.80952381,   1.42857143,\n",
       "         1.42857143,   0.47619048,   2.85714286,   2.85714286,\n",
       "         2.85714286,   0.95238095,   0.47619048,   1.42857143,\n",
       "         3.33333333,   1.42857143,   1.9047619 ,   0.        ,\n",
       "         1.42857143,   2.38095238,   0.47619048,   1.42857143,\n",
       "         2.85714286,   0.95238095,   0.95238095,   1.42857143,\n",
       "         1.42857143,   7.61904762,   1.42857143,   3.33333333,\n",
       "         0.47619048,   4.28571429,   0.47619048,   2.85714286,\n",
       "         0.47619048,   2.38095238,   3.33333333,   3.33333333,\n",
       "         0.95238095,   0.47619048,   3.33333333,   3.80952381,\n",
       "         6.19047619,   5.71428571,   3.80952381,   3.80952381,\n",
       "         0.47619048,   7.61904762,   0.        ,   2.85714286,\n",
       "         0.47619048,   0.95238095,   2.85714286,   6.19047619,\n",
       "         1.42857143,   0.95238095,   1.9047619 ,   1.42857143,\n",
       "         4.28571429,   2.38095238,   6.19047619,   4.28571429,\n",
       "         3.33333333,   0.47619048,   0.95238095,  10.47619048,\n",
       "         2.38095238,   1.9047619 ,   1.9047619 ,   3.33333333,\n",
       "         0.95238095,   6.19047619,   1.42857143,   2.38095238,\n",
       "         0.95238095,   3.33333333,   1.42857143,   1.9047619 ,\n",
       "         1.9047619 ,   0.        ,   0.95238095,   0.95238095,\n",
       "         2.85714286,   1.9047619 ,   3.33333333,   2.38095238])"
      ]
     },
     "execution_count": 93,
     "metadata": {},
     "output_type": "execute_result"
    }
   ],
   "source": [
    "num_repetitions = 1000\n",
    "\n",
    "simulated_statistics = make_array()\n",
    "\n",
    "for amount in range(num_repetitions):\n",
    "    statistic2 = simulation_and_statistic(model_proportions, expected_proportion_correct)\n",
    "    simulated_statistics = np.append(simulated_statistics,statistic2)\n",
    "\n",
    "simulated_statistics\n"
   ]
  },
  {
   "cell_type": "code",
   "execution_count": 94,
   "id": "7fad96ba",
   "metadata": {
    "deletable": false,
    "editable": false
   },
   "outputs": [
    {
     "data": {
      "text/html": [
       "<p><strong><pre style='display: inline;'>q1_8</pre></strong> passed! 🚀</p>"
      ],
      "text/plain": [
       "q1_8 results: All test cases passed!"
      ]
     },
     "execution_count": 94,
     "metadata": {},
     "output_type": "execute_result"
    }
   ],
   "source": [
    "grader.check(\"q1_8\")"
   ]
  },
  {
   "cell_type": "markdown",
   "id": "3121934c",
   "metadata": {},
   "source": [
    "Let's view the distribution of the simulated statistics under Emily's model, and visually compare where the observed statistic lies relative to the simulated statistics."
   ]
  },
  {
   "cell_type": "code",
   "execution_count": 95,
   "id": "a385deeb",
   "metadata": {},
   "outputs": [
    {
     "data": {
      "image/png": "[encoded data removed]",
      "text/plain": [
       "<Figure size 600x400 with 1 Axes>"
      ]
     },
     "metadata": {},
     "output_type": "display_data"
    }
   ],
   "source": [
    "t = Table().with_column('Simulated Statistics', simulated_statistics)\n",
    "t.hist()\n",
    "plt.scatter(observed_statistic, 0, color='red', s=100, zorder=2);"
   ]
  },
  {
   "cell_type": "markdown",
   "id": "56c835ae",
   "metadata": {},
   "source": [
    "We can make a visual argument as to whether we believe the observed statistic is consistent with Emily’s model. Here, since larger values of the test statistic suggest the alternative model (where the chance of guessing the correct hand is something other than 50%), we can formalize our analysis by finding what proportion of simulated statistics were as large or larger than our observed test statistic (the area at or to the right of the observed test statistic). If this area is small enough, we’ll declare that the observed data are inconsistent with our simulated model. Here is the [link](https://inferentialthinking.com/chapters/11/1/Assessing_a_Model.html) to the section in the textbook."
   ]
  },
  {
   "cell_type": "markdown",
   "id": "992f84f5",
   "metadata": {},
   "source": [
    "**Question 1.9:** Calculate the proportion of simulated statistics in Question 1.8 greater than or equal to the observed statistic. \n",
    "\n",
    "*Hint:* `np.count_nonzero` usage can be found [here](https://www.data8.org/sp24/reference/#array-functions-and-methods).\n"
   ]
  },
  {
   "cell_type": "code",
   "execution_count": null,
   "id": "550f0b11",
   "metadata": {
    "scrolled": true,
    "tags": []
   },
   "outputs": [
    {
     "ename": "ZeroDivisionError",
     "evalue": "division by zero",
     "output_type": "error",
     "traceback": [
      "\u001b[0;31m---------------------------------------------------------------------------\u001b[0m",
      "\u001b[0;31mZeroDivisionError\u001b[0m                         Traceback (most recent call last)",
      "Cell \u001b[0;32mIn[44], line 5\u001b[0m\n\u001b[1;32m      2\u001b[0m proportion_greater_or_equal\n\u001b[1;32m      4\u001b[0m count_greater_or_equal \u001b[38;5;241m=\u001b[39m \u001b[38;5;28msum\u001b[39m(stat \u001b[38;5;241m>\u001b[39m\u001b[38;5;241m=\u001b[39m observed_statistic \u001b[38;5;28;01mfor\u001b[39;00m stat \u001b[38;5;129;01min\u001b[39;00m simulated_statistics)\n\u001b[0;32m----> 5\u001b[0m proportion_greater_or_equal \u001b[38;5;241m=\u001b[39m \u001b[43mcount_greater_or_equal\u001b[49m\u001b[43m \u001b[49m\u001b[38;5;241;43m/\u001b[39;49m\u001b[43m \u001b[49m\u001b[38;5;28;43mlen\u001b[39;49m\u001b[43m(\u001b[49m\u001b[43msimulated_statistics\u001b[49m\u001b[43m)\u001b[49m\n\u001b[1;32m      6\u001b[0m proportion_greater_or_equal\n",
      "\u001b[0;31mZeroDivisionError\u001b[0m: division by zero"
     ]
    }
   ],
   "source": [
    "proportion_greater_or_equal = ...\n",
    "proportion_greater_or_equal\n",
    "\n",
    "count_greater_or_equal = sum(stat >= observed_statistic for stat in simulated_statistics)\n",
    "proportion_greater_or_equal = count_greater_or_equal / len(simulated_statistics)\n",
    "proportion_greater_or_equal"
   ]
  },
  {
   "cell_type": "code",
   "execution_count": null,
   "id": "1f4a3e36",
   "metadata": {
    "deletable": false,
    "editable": false
   },
   "outputs": [
    {
     "data": {
      "text/html": [
       "<p><strong style='color: red;'><pre style='display: inline;'>q1_9</pre> results:</strong></p><p><strong><pre style='display: inline;'>q1_9 - 1</pre> result:</strong></p><pre>    ✅ Test case passed</pre><p><strong><pre style='display: inline;'>q1_9 - 2</pre> result:</strong></p><pre>    ❌ Test case failed\n",
       "    Trying:\n",
       "        proportion_greater_or_equal*1000 == np.count_nonzero(simulated_statistics >= observed_statistic)\n",
       "    Expecting:\n",
       "        True\n",
       "    **********************************************************************\n",
       "    Line 1, in q1_9 1\n",
       "    Failed example:\n",
       "        proportion_greater_or_equal*1000 == np.count_nonzero(simulated_statistics >= observed_statistic)\n",
       "    Exception raised:\n",
       "        Traceback (most recent call last):\n",
       "          File \"/usr/local/python/3.12.1/lib/python3.12/doctest.py\", line 1359, in __run\n",
       "            exec(compile(example.source, filename, \"single\",\n",
       "          File \"<doctest q1_9 1[0]>\", line 1, in <module>\n",
       "            proportion_greater_or_equal*1000 == np.count_nonzero(simulated_statistics >= observed_statistic)\n",
       "                                                                 ^^^^^^^^^^^^^^^^^^^^^^^^^^^^^^^^^^^^^^^^^^\n",
       "        TypeError: '>=' not supported between instances of 'list' and 'float'\n",
       "</pre>"
      ],
      "text/plain": [
       "q1_9 results:\n",
       "    q1_9 - 1 result:\n",
       "        ✅ Test case passed\n",
       "\n",
       "    q1_9 - 2 result:\n",
       "        ❌ Test case failed\n",
       "        Trying:\n",
       "            proportion_greater_or_equal*1000 == np.count_nonzero(simulated_statistics >= observed_statistic)\n",
       "        Expecting:\n",
       "            True\n",
       "        **********************************************************************\n",
       "        Line 1, in q1_9 1\n",
       "        Failed example:\n",
       "            proportion_greater_or_equal*1000 == np.count_nonzero(simulated_statistics >= observed_statistic)\n",
       "        Exception raised:\n",
       "            Traceback (most recent call last):\n",
       "              File \"/usr/local/python/3.12.1/lib/python3.12/doctest.py\", line 1359, in __run\n",
       "                exec(compile(example.source, filename, \"single\",\n",
       "              File \"<doctest q1_9 1[0]>\", line 1, in <module>\n",
       "                proportion_greater_or_equal*1000 == np.count_nonzero(simulated_statistics >= observed_statistic)\n",
       "                                                                     ^^^^^^^^^^^^^^^^^^^^^^^^^^^^^^^^^^^^^^^^^^\n",
       "            TypeError: '>=' not supported between instances of 'list' and 'float'"
      ]
     },
     "execution_count": 20,
     "metadata": {},
     "output_type": "execute_result"
    }
   ],
   "source": [
    "grader.check(\"q1_9\")"
   ]
  },
  {
   "cell_type": "markdown",
   "metadata": {},
   "source": [
    "By convention, we often compare the proportion we just calculated to 0.05. If the proportion of simulated statistics greater than or equal to the observed statistic is sufficiently small (less than or equal to 0.05), then this is evidence against Emily's model. Conceptually, you may think of this as the case where less than 5% of simulated values are as far or farther away from what we had expected. If this is not the case, we don’t have any reason to doubt Emily’s model. \n",
    "\n",
    "This should help you make your own conclusions about Emily Rosa's experiment. \n",
    "\n",
    "Therapeutic touch fell out of use after this experiment, which was eventually accepted into one of the premier medical journals. TT practitioners hit back and accused Emily and her family of tampering with the results, while some claimed that Emily's bad spiritual mood towards therapeutic touch made it difficult to read her HEF. Whatever it may be, Emily's experiment is a classic example about how anyone, with the right resources, can test anything they want!"
   ]
  },
  {
   "cell_type": "markdown",
   "metadata": {},
   "source": [
    " "
   ]
  }
 ],
 "metadata": {
  "kernelspec": {
   "display_name": "Python 3",
   "language": "python",
   "name": "python3"
  },
  "language_info": {
   "codemirror_mode": {
    "name": "ipython",
    "version": 3
   },
   "file_extension": ".py",
   "mimetype": "text/x-python",
   "name": "python",
   "nbconvert_exporter": "python",
   "pygments_lexer": "ipython3",
   "version": "3.12.1"
  },
  "otter": {
   "OK_FORMAT": true,
   "tests": {
    "q1_10": {
     "name": "q1_10",
     "points": null,
     "suites": [
      {
       "cases": [
        {
         "code": ">>> peer_talk == True\nTrue",
         "hidden": false,
         "locked": false
        }
       ],
       "scored": true,
       "setup": "",
       "teardown": "",
       "type": "doctest"
      }
     ]
    },
    "q1_2": {
     "name": "q1_2",
     "points": null,
     "suites": [
      {
       "cases": [
        {
         "code": ">>> 0 <= expected_proportion_correct <= 1\nTrue",
         "hidden": false,
         "locked": false
        },
        {
         "code": ">>> expected_proportion_correct == 0.5\nTrue",
         "hidden": false,
         "locked": false
        }
       ],
       "scored": true,
       "setup": "",
       "teardown": "",
       "type": "doctest"
      }
     ]
    },
    "q1_3": {
     "name": "q1_3",
     "points": null,
     "suites": [
      {
       "cases": [
        {
         "code": ">>> type(valid_stat) == np.ndarray\nTrue",
         "hidden": false,
         "locked": false
        },
        {
         "code": ">>> int(sum(valid_stat))\n2",
         "hidden": false,
         "locked": false
        }
       ],
       "scored": true,
       "setup": "",
       "teardown": "",
       "type": "doctest"
      }
     ]
    },
    "q1_5": {
     "name": "q1_5",
     "points": null,
     "suites": [
      {
       "cases": [
        {
         "code": ">>> int(round(statistic(.5,.5) + statistic(.4,.1),1))\n30",
         "hidden": false,
         "locked": false
        },
        {
         "code": ">>> int(statistic(.4,.1) - statistic(.1,.4))\n0",
         "hidden": false,
         "locked": false
        }
       ],
       "scored": true,
       "setup": "",
       "teardown": "",
       "type": "doctest"
      }
     ]
    },
    "q1_6": {
     "name": "q1_6",
     "points": null,
     "suites": [
      {
       "cases": [
        {
         "code": ">>> int(round(observed_statistic,2))\n6",
         "hidden": false,
         "locked": false
        }
       ],
       "scored": true,
       "setup": "",
       "teardown": "",
       "type": "doctest"
      }
     ]
    },
    "q1_7": {
     "name": "q1_7",
     "points": null,
     "suites": [
      {
       "cases": [
        {
         "code": ">>> len(model_proportions) % 2 == 0\nTrue",
         "hidden": false,
         "locked": false
        },
        {
         "code": ">>> len(np.unique(model_proportions))\n1",
         "hidden": false,
         "locked": false
        },
        {
         "code": ">>> sum(model_proportions) == 1\nTrue",
         "hidden": false,
         "locked": false
        },
        {
         "code": ">>> type(simulation_proportion_correct) == float\nTrue",
         "hidden": false,
         "locked": false
        },
        {
         "code": ">>> round(simulation_proportion_correct, 2)\n0.49",
         "hidden": false,
         "locked": false
        },
        {
         "code": ">>> round(one_statistic, 2) - 0.95 < 0.05\nTrue",
         "hidden": false,
         "locked": false
        }
       ],
       "scored": true,
       "setup": "",
       "teardown": "",
       "type": "doctest"
      }
     ]
    },
    "q1_8": {
     "name": "q1_8",
     "points": null,
     "suites": [
      {
       "cases": [
        {
         "code": ">>> len(simulated_statistics) == 1000\nTrue",
         "hidden": false,
         "locked": false
        },
        {
         "code": ">>> np.all(simulated_statistics <= 30)\nTrue",
         "hidden": false,
         "locked": false
        },
        {
         "code": ">>> np.all(simulated_statistics >= 0)\nTrue",
         "hidden": false,
         "locked": false
        },
        {
         "code": ">>> 0 <= simulation_and_statistic(model_proportions, expected_proportion_correct) <= 25\nTrue",
         "hidden": false,
         "locked": false
        }
       ],
       "scored": true,
       "setup": "",
       "teardown": "",
       "type": "doctest"
      }
     ]
    },
    "q1_9": {
     "name": "q1_9",
     "points": null,
     "suites": [
      {
       "cases": [
        {
         "code": ">>> 0 <= proportion_greater_or_equal <= 1\nTrue",
         "hidden": false,
         "locked": false
        },
        {
         "code": ">>> proportion_greater_or_equal*1000 == np.count_nonzero(simulated_statistics >= observed_statistic)\nTrue",
         "hidden": false,
         "locked": false
        }
       ],
       "scored": true,
       "setup": "",
       "teardown": "",
       "type": "doctest"
      }
     ]
    }
   }
  }
 },
 "nbformat": 4,
 "nbformat_minor": 5
}
