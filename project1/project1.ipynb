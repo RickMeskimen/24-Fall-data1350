{
 "cells": [
  {
   "cell_type": "code",
   "execution_count": 1,
   "metadata": {
    "deletable": false,
    "editable": false
   },
   "outputs": [
    {
     "name": "stderr",
     "output_type": "stream",
     "text": [
      "/home/codespace/.local/lib/python3.12/site-packages/nbformat/__init__.py:96: MissingIDFieldWarning: Cell is missing an id field, this will become a hard error in future nbformat versions. You may want to use `normalize()` on your notebooks before validations (available since nbformat 5.1.4). Previous versions of nbformat are fixing this issue transparently, and will stop doing so in the future.\n",
      "  validate(nb)\n"
     ]
    }
   ],
   "source": [
    "# Initialize Otter\n",
    "import otter\n",
    "grader = otter.Notebook(\"project1.ipynb\")"
   ]
  },
  {
   "cell_type": "markdown",
   "metadata": {},
   "source": [
    "# Project 1: World Population and Poverty"
   ]
  },
  {
   "cell_type": "markdown",
   "metadata": {},
   "source": [
    "In this project, you'll explore data from [Gapminder.org](http://gapminder.org), a website dedicated to providing a fact-based view of the world and how it has changed. That site includes several data visualizations and presentations, but also publishes the raw data that we will use in this project to recreate and extend some of their most famous visualizations.\n",
    "\n",
    "The Gapminder website collects data from many sources and compiles them into tables that describe many countries around the world. All of the data they aggregate are published in the [Systema Globalis](https://github.com/open-numbers/ddf--gapminder--systema_globalis/blob/master/README.md). Their goal is \"to compile all public statistics; Social, Economic and Environmental; into a comparable total dataset.\" All data sets in this project are copied directly from the Systema Globalis without any changes.\n",
    "\n",
    "This project is dedicated to [Hans Rosling](https://en.wikipedia.org/wiki/Hans_Rosling) (1948-2017), who championed the use of data to understand and prioritize global development challenges."
   ]
  },
  {
   "cell_type": "code",
   "execution_count": 2,
   "metadata": {
    "deletable": false
   },
   "outputs": [],
   "source": [
    "# Run this cell to set up the notebook, but please don't change it. \n",
    "\n",
    "# These lines import the NumPy and Datascience modules.\n",
    "from datascience import *\n",
    "import numpy as np\n",
    "\n",
    "# These lines do some fancy plotting magic.\n",
    "%matplotlib inline\n",
    "import matplotlib.pyplot as plots\n",
    "plots.style.use('fivethirtyeight')\n",
    "\n",
    "from ipywidgets import interact, interactive, fixed, interact_manual\n",
    "import ipywidgets as widgets"
   ]
  },
  {
   "cell_type": "markdown",
   "metadata": {},
   "source": [
    "## 0. Hazards with `.show`\n",
    "\n",
    "As a heads up, please do not run the function `tbl.show()` in this assignment without an argument. For instance if you want to view a table, please type `tbl.show(10)` instead of `tbl.show()`. This may break your notebook and we cannot gaurantee what we will have the capacity to aid you in this. Please answer the question below, and set the value to `True` to confirm you have read this and agree.\n"
   ]
  },
  {
   "cell_type": "code",
   "execution_count": 3,
   "metadata": {
    "tags": []
   },
   "outputs": [],
   "source": [
    "i_wont_use_show_without_an_argument = True"
   ]
  },
  {
   "cell_type": "code",
   "execution_count": 4,
   "metadata": {
    "deletable": false,
    "editable": false
   },
   "outputs": [
    {
     "data": {
      "text/html": [
       "<p><strong><pre style='display: inline;'>q0</pre></strong> passed! 🎉</p>"
      ],
      "text/plain": [
       "q0 results: All test cases passed!"
      ]
     },
     "execution_count": 4,
     "metadata": {},
     "output_type": "execute_result"
    }
   ],
   "source": [
    "grader.check(\"q0\")"
   ]
  },
  {
   "cell_type": "markdown",
   "metadata": {
    "deletable": false,
    "editable": false
   },
   "source": [
    "## 1. Global Population Growth\n"
   ]
  },
  {
   "cell_type": "markdown",
   "metadata": {
    "deletable": false,
    "editable": false
   },
   "source": [
    "The global population of humans reached 1 billion around 1800, 3 billion around 1960, and 7 billion around 2011. The potential impact of population growth has concerned scientists, economists, and politicians alike.\n",
    "\n",
    "The United Nations Population Division estimates that the world population will likely continue to grow throughout the 21st century, but at a slower rate, perhaps reaching and stabilizing at 11 billion by 2100. However, the UN does not rule out scenarios of slower or more extreme growth. These projections help us understand long-term population processes, even if they leave out possible global catastrophic events like war or climate crises.\n",
    "\n",
    "<a href=\"http://www.pewresearch.org/fact-tank/2015/06/08/scientists-more-worried-than-public-about-worlds-growing-population/ft_15-06-04_popcount/\"> \n",
    " <img src=\"pew_population_projection.png\"/> \n",
    "</a>\n",
    "\n",
    "In this part of the project, we will examine some of the factors that influence population growth and how they have been changing over the years and around the world. There are two main sub-parts of this analysis.\n",
    "\n",
    "- First, we will examine the data for one country, Poland. We will see how factors such as life expectancy, fertility rate, and child mortality have changed over time in Poland, and how they are related to the rate of population growth.\n",
    "- Next, we will examine whether the changes we have observed for Poland are particular to that country or whether they reflect general patterns observable in other countries too. We will study aspects of world population growth and see how they have been changing.\n",
    "\n",
    "The first table we will consider contains the total population of each country over time. Run the cell below.\n"
   ]
  },
  {
   "cell_type": "code",
   "execution_count": 5,
   "metadata": {
    "deletable": false,
    "scrolled": true
   },
   "outputs": [
    {
     "data": {
      "text/html": [
       "<table border=\"1\" class=\"dataframe\">\n",
       "    <thead>\n",
       "        <tr>\n",
       "            <th>geo</th> <th>time</th> <th>population_total</th>\n",
       "        </tr>\n",
       "    </thead>\n",
       "    <tbody>\n",
       "        <tr>\n",
       "            <td>afg </td> <td>1800</td> <td>3280000         </td>\n",
       "        </tr>\n",
       "        <tr>\n",
       "            <td>afg </td> <td>1801</td> <td>3280000         </td>\n",
       "        </tr>\n",
       "        <tr>\n",
       "            <td>afg </td> <td>1802</td> <td>3280000         </td>\n",
       "        </tr>\n",
       "    </tbody>\n",
       "</table>\n",
       "<p>... (43534 rows omitted)</p>"
      ],
      "text/plain": [
       "<IPython.core.display.HTML object>"
      ]
     },
     "metadata": {},
     "output_type": "display_data"
    }
   ],
   "source": [
    "population = Table.read_table('population.csv').where(\"time\", are.below(2021))\n",
    "population.show(3)"
   ]
  },
  {
   "cell_type": "markdown",
   "metadata": {},
   "source": [
    "**Note:** The population csv file can also be found [here](https://github.com/open-numbers/ddf--gapminder--gapminder_world/blob/master/ddf--datapoints--population_total--by--geo--time.csv).\n"
   ]
  },
  {
   "cell_type": "markdown",
   "metadata": {
    "deletable": false
   },
   "source": [
    "### Poland\n",
    "\n",
    "The Central European nation of Poland has undergone many changes over the centuries. In modern times it was (re)created as a democratic republic in 1919 after World War I. It was invaded and divided in World War II between Germany and the Soviet Union. War and the Holocaust had a devastating impact on its people. Poland was constituted in its current borders at the end of World War II (1945) under a communist government. In 1989, with the fall of the Soviet Union, Poland re-established itself as a democratic republic.\n",
    "\n",
    "In this section of the project, we will examine aspects of the population of Poland since 1900. Poland's borders have changed, so we will look at the population within its current (2012) borders.\n",
    "\n",
    "In the `population` table, the `geo` column contains three-letter codes established by the [International Organization for Standardization](https://en.wikipedia.org/wiki/International_Organization_for_Standardization) (ISO) in the [Alpha-3](https://en.wikipedia.org/wiki/ISO_3166-1_alpha-3#Current_codes) standard. **Use the Alpha-3 link to find the 3-letter code for Poland.**\n"
   ]
  },
  {
   "cell_type": "markdown",
   "metadata": {},
   "source": [
    "**Question 1.** Create a table called `p_pop` that has two columns labeled `time` and `population_total`. The first column should contain the years from 1900 through 2020 (including both 1900 and 2020) and the second should contain the population of Poland in each of those years.\n"
   ]
  },
  {
   "cell_type": "code",
   "execution_count": 6,
   "metadata": {
    "deletable": false,
    "tags": []
   },
   "outputs": [
    {
     "data": {
      "text/html": [
       "<table border=\"1\" class=\"dataframe\">\n",
       "    <thead>\n",
       "        <tr>\n",
       "            <th>time</th> <th>population_total</th>\n",
       "        </tr>\n",
       "    </thead>\n",
       "    <tbody>\n",
       "        <tr>\n",
       "            <td>1900</td> <td>24340168        </td>\n",
       "        </tr>\n",
       "        <tr>\n",
       "            <td>1901</td> <td>24517983        </td>\n",
       "        </tr>\n",
       "        <tr>\n",
       "            <td>1902</td> <td>24694172        </td>\n",
       "        </tr>\n",
       "        <tr>\n",
       "            <td>1903</td> <td>24868705        </td>\n",
       "        </tr>\n",
       "        <tr>\n",
       "            <td>1904</td> <td>25044468        </td>\n",
       "        </tr>\n",
       "        <tr>\n",
       "            <td>1905</td> <td>25221471        </td>\n",
       "        </tr>\n",
       "        <tr>\n",
       "            <td>1906</td> <td>25399722        </td>\n",
       "        </tr>\n",
       "        <tr>\n",
       "            <td>1907</td> <td>25579229        </td>\n",
       "        </tr>\n",
       "        <tr>\n",
       "            <td>1908</td> <td>25760003        </td>\n",
       "        </tr>\n",
       "        <tr>\n",
       "            <td>1909</td> <td>25848341        </td>\n",
       "        </tr>\n",
       "    </tbody>\n",
       "</table>\n",
       "<p>... (111 rows omitted)</p>"
      ],
      "text/plain": [
       "time | population_total\n",
       "1900 | 24340168\n",
       "1901 | 24517983\n",
       "1902 | 24694172\n",
       "1903 | 24868705\n",
       "1904 | 25044468\n",
       "1905 | 25221471\n",
       "1906 | 25399722\n",
       "1907 | 25579229\n",
       "1908 | 25760003\n",
       "1909 | 25848341\n",
       "... (111 rows omitted)"
      ]
     },
     "execution_count": 6,
     "metadata": {},
     "output_type": "execute_result"
    }
   ],
   "source": [
    "p_pop = ((population.where('geo', are.containing(\"pol\"))).where('time', are.between_or_equal_to(1900,2020))).drop('geo')\n",
    "p_pop"
   ]
  },
  {
   "cell_type": "code",
   "execution_count": 7,
   "metadata": {
    "deletable": false,
    "editable": false
   },
   "outputs": [
    {
     "data": {
      "text/html": [
       "<p><strong><pre style='display: inline;'>q1_1</pre></strong> passed! ✨</p>"
      ],
      "text/plain": [
       "q1_1 results: All test cases passed!"
      ]
     },
     "execution_count": 7,
     "metadata": {},
     "output_type": "execute_result"
    }
   ],
   "source": [
    "grader.check(\"q1_1\")"
   ]
  },
  {
   "cell_type": "markdown",
   "metadata": {
    "deletable": false
   },
   "source": [
    "Run the following cell to create a table called `p_five` that has the population of Poland every five years.\n"
   ]
  },
  {
   "cell_type": "code",
   "execution_count": 8,
   "metadata": {
    "deletable": false
   },
   "outputs": [
    {
     "data": {
      "text/html": [
       "<table border=\"1\" class=\"dataframe\">\n",
       "    <thead>\n",
       "        <tr>\n",
       "            <th>time</th> <th>population_total</th>\n",
       "        </tr>\n",
       "    </thead>\n",
       "    <tbody>\n",
       "        <tr>\n",
       "            <td>1900</td> <td>24,340,168      </td>\n",
       "        </tr>\n",
       "        <tr>\n",
       "            <td>1905</td> <td>25,221,471      </td>\n",
       "        </tr>\n",
       "        <tr>\n",
       "            <td>1910</td> <td>25,844,639      </td>\n",
       "        </tr>\n",
       "    </tbody>\n",
       "</table>\n",
       "<p>... (22 rows omitted)</p>"
      ],
      "text/plain": [
       "<IPython.core.display.HTML object>"
      ]
     },
     "metadata": {},
     "output_type": "display_data"
    }
   ],
   "source": [
    "p_pop.set_format('population_total', NumberFormatter)\n",
    "\n",
    "fives = np.arange(1900, 2021, 5) # 1900, 1905, 1910, ...\n",
    "p_five = p_pop.sort('time').where('time', are.contained_in(fives))\n",
    "p_five.show(3)"
   ]
  },
  {
   "cell_type": "markdown",
   "metadata": {},
   "source": [
    "Run the following cell to visualize the population over time. Following the devastating effects of World War I and World War II, Poland's population increased steadily from 1950 to 2000 and then leveled off. In the following questions we'll investigate this period of population growth.\n"
   ]
  },
  {
   "cell_type": "code",
   "execution_count": 9,
   "metadata": {},
   "outputs": [
    {
     "data": {
      "image/png": "[encoded data removed]",
      "text/plain": [
       "<Figure size 600x600 with 1 Axes>"
      ]
     },
     "metadata": {},
     "output_type": "display_data"
    }
   ],
   "source": [
    "p_five.plot(0, 1)"
   ]
  },
  {
   "cell_type": "markdown",
   "metadata": {},
   "source": [
    "**Question 2.** Assign `initial` to an array that contains the population for every five year interval from **1900 to 2015** (inclusive). Then, assign `changed` to an array that contains the population for every five year interval from **1905 to 2020** (inclusive). The first array should include both 1900 and 2015, and the second array should include both 1905 and 2020. You should use the `p_five` table to create both arrays, by first filtering the table to only contain the relevant years.\n",
    "\n",
    "The annual growth rate for a time period is equal to:\n",
    "\n",
    "$$\\left(\\left(\\frac{\\text{Population at end of period}}{\\text{Population at start of period}}\\right)^{\\displaystyle\\frac{1}{\\text{number of years}}}\\right) -1$$\n",
    "\n",
    "We have provided the code below that uses `initial` and `changed` in order to add a column to `p_five` called `annual_growth`. **Don't worry about the calculation of the growth rates**; run the test below to test your solution.\n",
    "\n",
    "If you are interested in how we came up with the formula for growth rates, consult the [growth rates](https://inferentialthinking.com/chapters/03/2/1/Growth.html) section of the textbook.\n"
   ]
  },
  {
   "cell_type": "code",
   "execution_count": 10,
   "metadata": {
    "tags": []
   },
   "outputs": [
    {
     "data": {
      "text/html": [
       "<table border=\"1\" class=\"dataframe\">\n",
       "    <thead>\n",
       "        <tr>\n",
       "            <th>time</th> <th>population_total</th> <th>annual_growth</th>\n",
       "        </tr>\n",
       "    </thead>\n",
       "    <tbody>\n",
       "        <tr>\n",
       "            <td>1900</td> <td>24,340,168      </td> <td>0.71%        </td>\n",
       "        </tr>\n",
       "        <tr>\n",
       "            <td>1905</td> <td>25,221,471      </td> <td>0.49%        </td>\n",
       "        </tr>\n",
       "        <tr>\n",
       "            <td>1910</td> <td>25,844,639      </td> <td>-0.87%       </td>\n",
       "        </tr>\n",
       "        <tr>\n",
       "            <td>1915</td> <td>24,739,041      </td> <td>-0.75%       </td>\n",
       "        </tr>\n",
       "        <tr>\n",
       "            <td>1920</td> <td>23,827,906      </td> <td>1.32%        </td>\n",
       "        </tr>\n",
       "        <tr>\n",
       "            <td>1925</td> <td>25,439,942      </td> <td>1.52%        </td>\n",
       "        </tr>\n",
       "        <tr>\n",
       "            <td>1930</td> <td>27,427,399      </td> <td>0.75%        </td>\n",
       "        </tr>\n",
       "        <tr>\n",
       "            <td>1935</td> <td>28,465,230      </td> <td>0.32%        </td>\n",
       "        </tr>\n",
       "        <tr>\n",
       "            <td>1940</td> <td>28,927,566      </td> <td>-1.58%       </td>\n",
       "        </tr>\n",
       "        <tr>\n",
       "            <td>1945</td> <td>26,713,772      </td> <td>-1.46%       </td>\n",
       "        </tr>\n",
       "    </tbody>\n",
       "</table>\n",
       "<p>... (14 rows omitted)</p>"
      ],
      "text/plain": [
       "time | population_total | annual_growth\n",
       "1900 | 24,340,168       | 0.71%\n",
       "1905 | 25,221,471       | 0.49%\n",
       "1910 | 25,844,639       | -0.87%\n",
       "1915 | 24,739,041       | -0.75%\n",
       "1920 | 23,827,906       | 1.32%\n",
       "1925 | 25,439,942       | 1.52%\n",
       "1930 | 27,427,399       | 0.75%\n",
       "1935 | 28,465,230       | 0.32%\n",
       "1940 | 28,927,566       | -1.58%\n",
       "1945 | 26,713,772       | -1.46%\n",
       "... (14 rows omitted)"
      ]
     },
     "execution_count": 10,
     "metadata": {},
     "output_type": "execute_result"
    }
   ],
   "source": [
    "initial = (p_five.where('time', are.between_or_equal_to(1900,2015))).column('population_total')\n",
    "changed = (p_five.where('time', are.between_or_equal_to(1905,2020))).column('population_total')\n",
    "\n",
    "p_1900_through_2015 = p_five.where('time', are.below_or_equal_to(2015)) \n",
    "p_five_growth = p_1900_through_2015.with_column('annual_growth', (changed/initial)**0.2-1)\n",
    "p_five_growth.set_format('annual_growth', PercentFormatter)"
   ]
  },
  {
   "cell_type": "code",
   "execution_count": 11,
   "metadata": {
    "deletable": false,
    "editable": false
   },
   "outputs": [
    {
     "data": {
      "text/html": [
       "<p><strong><pre style='display: inline;'>q1_2</pre></strong> passed! 🚀</p>"
      ],
      "text/plain": [
       "q1_2 results: All test cases passed!"
      ]
     },
     "execution_count": 11,
     "metadata": {},
     "output_type": "execute_result"
    }
   ],
   "source": [
    "grader.check(\"q1_2\")"
   ]
  },
  {
   "cell_type": "markdown",
   "metadata": {
    "deletable": false
   },
   "source": [
    "The annual growth rate in Poland has been declining since 1950, as shown in the table below.\n"
   ]
  },
  {
   "cell_type": "code",
   "execution_count": 12,
   "metadata": {},
   "outputs": [
    {
     "data": {
      "text/html": [
       "<table border=\"1\" class=\"dataframe\">\n",
       "    <thead>\n",
       "        <tr>\n",
       "            <th>time</th> <th>population_total</th> <th>annual_growth</th>\n",
       "        </tr>\n",
       "    </thead>\n",
       "    <tbody>\n",
       "        <tr>\n",
       "            <td>1950</td> <td>24,824,007      </td> <td>1.90%        </td>\n",
       "        </tr>\n",
       "        <tr>\n",
       "            <td>1955</td> <td>27,269,742      </td> <td>1.66%        </td>\n",
       "        </tr>\n",
       "        <tr>\n",
       "            <td>1960</td> <td>29,614,201      </td> <td>1.15%        </td>\n",
       "        </tr>\n",
       "        <tr>\n",
       "            <td>1965</td> <td>31,360,903      </td> <td>0.80%        </td>\n",
       "        </tr>\n",
       "        <tr>\n",
       "            <td>1970</td> <td>32,639,262      </td> <td>0.80%        </td>\n",
       "        </tr>\n",
       "        <tr>\n",
       "            <td>1975</td> <td>33,970,730      </td> <td>0.91%        </td>\n",
       "        </tr>\n",
       "        <tr>\n",
       "            <td>1980</td> <td>35,539,723      </td> <td>0.88%        </td>\n",
       "        </tr>\n",
       "        <tr>\n",
       "            <td>1985</td> <td>37,133,860      </td> <td>0.44%        </td>\n",
       "        </tr>\n",
       "        <tr>\n",
       "            <td>1990</td> <td>37,960,193      </td> <td>0.26%        </td>\n",
       "        </tr>\n",
       "        <tr>\n",
       "            <td>1995</td> <td>38,458,642      </td> <td>0.05%        </td>\n",
       "        </tr>\n",
       "        <tr>\n",
       "            <td>2000</td> <td>38,556,699      </td> <td>-0.10%       </td>\n",
       "        </tr>\n",
       "        <tr>\n",
       "            <td>2005</td> <td>38,368,957      </td> <td>-0.02%       </td>\n",
       "        </tr>\n",
       "        <tr>\n",
       "            <td>2010</td> <td>38,329,784      </td> <td>-0.15%       </td>\n",
       "        </tr>\n",
       "        <tr>\n",
       "            <td>2015</td> <td>38,034,076      </td> <td>-0.10%       </td>\n",
       "        </tr>\n",
       "    </tbody>\n",
       "</table>"
      ],
      "text/plain": [
       "<IPython.core.display.HTML object>"
      ]
     },
     "metadata": {},
     "output_type": "display_data"
    }
   ],
   "source": [
    "# Run this cell to view annual growth rates in Poland since 1950.\n",
    "p_five_growth.where('time', are.above_or_equal_to(1950)).show()"
   ]
  },
  {
   "cell_type": "markdown",
   "metadata": {},
   "source": [
    "Next, we'll try to understand what has changed in Poland that might explain the slowing population growth rate. Run the next cell to load three additional tables of measurements about countries over time.\n"
   ]
  },
  {
   "cell_type": "code",
   "execution_count": 13,
   "metadata": {
    "deletable": false
   },
   "outputs": [],
   "source": [
    "life_expectancy = Table.read_table('life_expectancy.csv').where('time', are.below(2021))\n",
    "child_mortality = Table.read_table('child_mortality.csv').relabel(2, 'child_mortality_under_5_per_1000_born').where('time', are.below(2021))\n",
    "fertility = Table.read_table('fertility.csv').where('time', are.below(2021))"
   ]
  },
  {
   "cell_type": "markdown",
   "metadata": {
    "deletable": false,
    "editable": false
   },
   "source": [
    "The `life_expectancy` table contains a statistic that is often used to measure how long people live, called _life expectancy at birth_. This number, for a country in a given year, [does not measure how long babies born in that year are expected to live](http://blogs.worldbank.org/opendata/what-does-life-expectancy-birth-really-mean). Instead, it measures how long someone would live, on average, if the _mortality conditions_ in that year persisted throughout their lifetime. These \"mortality conditions\" describe what fraction of people for each age survived the year. So, it is a way of measuring the proportion of people that are staying alive, aggregated over different age groups in the population.\n"
   ]
  },
  {
   "cell_type": "markdown",
   "metadata": {},
   "source": [
    "Run the following cells below to see `life_expectancy`, `child_mortality`, and `fertility`. Refer back to these tables as they will be helpful for answering further questions!\n"
   ]
  },
  {
   "cell_type": "code",
   "execution_count": 14,
   "metadata": {},
   "outputs": [
    {
     "data": {
      "text/html": [
       "<table border=\"1\" class=\"dataframe\">\n",
       "    <thead>\n",
       "        <tr>\n",
       "            <th>geo</th> <th>time</th> <th>life_expectancy_years</th>\n",
       "        </tr>\n",
       "    </thead>\n",
       "    <tbody>\n",
       "        <tr>\n",
       "            <td>afg </td> <td>1800</td> <td>28.21                </td>\n",
       "        </tr>\n",
       "        <tr>\n",
       "            <td>afg </td> <td>1801</td> <td>28.2                 </td>\n",
       "        </tr>\n",
       "        <tr>\n",
       "            <td>afg </td> <td>1802</td> <td>28.19                </td>\n",
       "        </tr>\n",
       "    </tbody>\n",
       "</table>\n",
       "<p>... (41247 rows omitted)</p>"
      ],
      "text/plain": [
       "<IPython.core.display.HTML object>"
      ]
     },
     "metadata": {},
     "output_type": "display_data"
    }
   ],
   "source": [
    "life_expectancy.show(3)"
   ]
  },
  {
   "cell_type": "code",
   "execution_count": 15,
   "metadata": {},
   "outputs": [
    {
     "data": {
      "text/html": [
       "<table border=\"1\" class=\"dataframe\">\n",
       "    <thead>\n",
       "        <tr>\n",
       "            <th>geo</th> <th>time</th> <th>child_mortality_under_5_per_1000_born</th>\n",
       "        </tr>\n",
       "    </thead>\n",
       "    <tbody>\n",
       "        <tr>\n",
       "            <td>afg </td> <td>1800</td> <td>468.58                               </td>\n",
       "        </tr>\n",
       "        <tr>\n",
       "            <td>afg </td> <td>1801</td> <td>468.58                               </td>\n",
       "        </tr>\n",
       "        <tr>\n",
       "            <td>afg </td> <td>1802</td> <td>468.58                               </td>\n",
       "        </tr>\n",
       "    </tbody>\n",
       "</table>\n",
       "<p>... (41734 rows omitted)</p>"
      ],
      "text/plain": [
       "<IPython.core.display.HTML object>"
      ]
     },
     "metadata": {},
     "output_type": "display_data"
    }
   ],
   "source": [
    "child_mortality.show(3)"
   ]
  },
  {
   "cell_type": "code",
   "execution_count": 16,
   "metadata": {},
   "outputs": [
    {
     "data": {
      "text/html": [
       "<table border=\"1\" class=\"dataframe\">\n",
       "    <thead>\n",
       "        <tr>\n",
       "            <th>geo</th> <th>time</th> <th>children_per_woman_total_fertility</th>\n",
       "        </tr>\n",
       "    </thead>\n",
       "    <tbody>\n",
       "        <tr>\n",
       "            <td>abw </td> <td>1800</td> <td>5.64                              </td>\n",
       "        </tr>\n",
       "        <tr>\n",
       "            <td>abw </td> <td>1801</td> <td>5.64                              </td>\n",
       "        </tr>\n",
       "        <tr>\n",
       "            <td>abw </td> <td>1802</td> <td>5.64                              </td>\n",
       "        </tr>\n",
       "    </tbody>\n",
       "</table>\n",
       "<p>... (44632 rows omitted)</p>"
      ],
      "text/plain": [
       "<IPython.core.display.HTML object>"
      ]
     },
     "metadata": {},
     "output_type": "display_data"
    }
   ],
   "source": [
    "fertility.show(3)"
   ]
  },
  {
   "cell_type": "markdown",
   "metadata": {},
   "source": [
    "<!-- BEGIN QUESTION -->\n",
    "\n",
    "**Question 3.** Is population growing more slowly perhaps because people aren’t living as long? Use the `life_expectancy` table to draw a line graph with the years 1950 and later on the horizontal axis that shows how the _life expectancy at birth_ has changed in Poland.\n",
    "\n",
    "_Hint_: Make sure you filter the table properly; otherwise, the graph may look funky!\n"
   ]
  },
  {
   "cell_type": "code",
   "execution_count": 17,
   "metadata": {
    "deletable": false,
    "manual_grade": true,
    "manual_problem_id": "global_pop_3",
    "tags": []
   },
   "outputs": [
    {
     "data": {
      "image/png": "[encoded data removed]",
      "text/plain": [
       "<Figure size 600x600 with 1 Axes>"
      ]
     },
     "metadata": {},
     "output_type": "display_data"
    }
   ],
   "source": [
    "# Fill in code here\n",
    "fives = np.arange(1900, 2021, 10)\n",
    "life_expectancy_ten = life_expectancy.sort('time').where('time', are.contained_in(fives))\n",
    "life_expectancy_1950 = (life_expectancy_ten.where('time', are.above_or_equal_to(1950))).drop('geo')\n",
    "life_expectancy_line = life_expectancy_1950.plot(0,1)\n",
    "life_expectancy_line"
   ]
  },
  {
   "cell_type": "markdown",
   "metadata": {},
   "source": [
    "<!-- END QUESTION -->\n",
    "\n",
    "<!-- BEGIN QUESTION -->\n",
    "\n",
    "**Question 4.** Assuming everything else stays the same, do the trends in life expectancy in the graph above directly explain why the population growth rate decreased since 1950 in Poland? Why or why not?\n"
   ]
  },
  {
   "cell_type": "markdown",
   "metadata": {},
   "source": [
    "There is not enough information being presented here to explain such a complex value. "
   ]
  },
  {
   "cell_type": "markdown",
   "metadata": {
    "deletable": false,
    "editable": false
   },
   "source": [
    "<!-- END QUESTION -->\n",
    "\n",
    "The `fertility` table contains a statistic that is often used to measure how many babies are being born, the _total fertility rate_. This number describes the [number of children a woman would have in her lifetime](https://www.measureevaluation.org/prh/rh_indicators/specific/fertility/total-fertility-rate), on average, if the current rates of birth by age of the mother persisted throughout her child bearing years, assuming she survived through age 49.\n"
   ]
  },
  {
   "cell_type": "markdown",
   "metadata": {},
   "source": [
    "**Question 5.** Complete the function `fertility_over_time`. It takes two input arguments, the Alpha-3 code of a country (denoted as `country_code`) and a year to `start` from (denoted as start). It returns a two-column table with the column labels `Year` and `Children per woman`. These columns can be used to generate a line chart of the country’s fertility rate each year, starting from the year given by `start`. The plot should include the start year and all later years that appear in the fertility table.\n",
    "\n",
    "Then, determine the Alpha-3 code for **Poland**. The code at the very bottom for `poland_code` and the year `1950` are inputted to your `fertility_over_time` function. The function returns a table which we use in order to plot how Poland's fertility rate has changed since `1950`. Note that the function `fertility_over_time` should not return the plot itself – it returns a two column table. The expression that draws the line plot is provided for you; please don’t change it.\n",
    "\n",
    "_Hint_: Read about `tbl.relabeled` in the [Python Reference](https://www.data8.org/su24/reference/) to rename columns.\n"
   ]
  },
  {
   "cell_type": "code",
   "execution_count": 18,
   "metadata": {
    "deletable": false,
    "tags": []
   },
   "outputs": [
    {
     "data": {
      "text/html": [
       "<table border=\"1\" class=\"dataframe\">\n",
       "    <thead>\n",
       "        <tr>\n",
       "            <th>Year</th> <th>Children per woman</th>\n",
       "        </tr>\n",
       "    </thead>\n",
       "    <tbody>\n",
       "        <tr>\n",
       "            <td>1950</td> <td>3.6               </td>\n",
       "        </tr>\n",
       "        <tr>\n",
       "            <td>1951</td> <td>3.62              </td>\n",
       "        </tr>\n",
       "        <tr>\n",
       "            <td>1952</td> <td>3.64              </td>\n",
       "        </tr>\n",
       "        <tr>\n",
       "            <td>1953</td> <td>3.65              </td>\n",
       "        </tr>\n",
       "        <tr>\n",
       "            <td>1954</td> <td>3.64              </td>\n",
       "        </tr>\n",
       "        <tr>\n",
       "            <td>1955</td> <td>3.6               </td>\n",
       "        </tr>\n",
       "        <tr>\n",
       "            <td>1956</td> <td>3.55              </td>\n",
       "        </tr>\n",
       "        <tr>\n",
       "            <td>1957</td> <td>3.47              </td>\n",
       "        </tr>\n",
       "        <tr>\n",
       "            <td>1958</td> <td>3.37              </td>\n",
       "        </tr>\n",
       "        <tr>\n",
       "            <td>1959</td> <td>3.25              </td>\n",
       "        </tr>\n",
       "    </tbody>\n",
       "</table>\n",
       "<p>... (61 rows omitted)</p>"
      ],
      "text/plain": [
       "Year | Children per woman\n",
       "1950 | 3.6\n",
       "1951 | 3.62\n",
       "1952 | 3.64\n",
       "1953 | 3.65\n",
       "1954 | 3.64\n",
       "1955 | 3.6\n",
       "1956 | 3.55\n",
       "1957 | 3.47\n",
       "1958 | 3.37\n",
       "1959 | 3.25\n",
       "... (61 rows omitted)"
      ]
     },
     "execution_count": 18,
     "metadata": {},
     "output_type": "execute_result"
    }
   ],
   "source": [
    "def fertility_over_time(country_code, start):\n",
    "    \"\"\"Create a two-column table that describes a country's total fertility rate each year.\"\"\"\n",
    "    # It's a good idea (but not required) to use multiple lines in your solution.\n",
    "    table = (fertility.where('geo', are.containing(country_code))).where('time', are.above_or_equal_to(start))\n",
    "    table3 = ((table.drop('geo')).relabeled('time', 'Year')).relabeled('children_per_woman_total_fertility', 'Children per woman')\n",
    "    return table3\n",
    "\n",
    "poland_code = 'pol'\n",
    "fertility_over_time(poland_code, 1950)"
   ]
  },
  {
   "cell_type": "code",
   "execution_count": 19,
   "metadata": {
    "deletable": false,
    "editable": false
   },
   "outputs": [
    {
     "data": {
      "text/html": [
       "<p><strong><pre style='display: inline;'>q1_5</pre></strong> passed! 🌟</p>"
      ],
      "text/plain": [
       "q1_5 results: All test cases passed!"
      ]
     },
     "execution_count": 19,
     "metadata": {},
     "output_type": "execute_result"
    }
   ],
   "source": [
    "grader.check(\"q1_5\")"
   ]
  },
  {
   "cell_type": "markdown",
   "metadata": {},
   "source": [
    "Plotting the fertility rate in Poland since 1950, we see a downward trend.\n"
   ]
  },
  {
   "cell_type": "code",
   "execution_count": 20,
   "metadata": {},
   "outputs": [
    {
     "data": {
      "image/png": "[encoded data removed]",
      "text/plain": [
       "<Figure size 600x600 with 1 Axes>"
      ]
     },
     "metadata": {},
     "output_type": "display_data"
    }
   ],
   "source": [
    "fertility_over_time(poland_code, 1950).plot(0, 1)"
   ]
  },
  {
   "cell_type": "markdown",
   "metadata": {},
   "source": [
    "<!-- BEGIN QUESTION -->\n",
    "\n",
    "**Question 6.** Assuming everything else is constant, do the trends in fertility in the graph above help directly explain why the population growth rate decreased from 1950 to 2020 in Poland? Why or why not?\n"
   ]
  },
  {
   "cell_type": "markdown",
   "metadata": {},
   "source": [
    "Yes, it explains the reason for the population growth decrease. The fertility rate has decreased by a significant amount. "
   ]
  },
  {
   "cell_type": "markdown",
   "metadata": {
    "deletable": false
   },
   "source": [
    "<!-- END QUESTION -->\n",
    "\n",
    "It has been [observed](https://www.ageing.ox.ac.uk/download/143) that lower fertility rates are often associated with lower child mortality rates. We can see if this association is evident in Poland by plotting the relationship between total fertility rate and [child mortality rate per 1000 children](https://en.wikipedia.org/wiki/Child_mortality).\n"
   ]
  },
  {
   "cell_type": "markdown",
   "metadata": {},
   "source": [
    "**Question 7.** Create a table `poland_since_1950` that contains one row per year starting with 1950 and:\n",
    "\n",
    "- A column `Year` containing the year\n",
    "- A column `Children per woman` describing total fertility in Poland that year\n",
    "- A column `Child deaths per 1000 born` describing child mortality in Poland that year\n"
   ]
  },
  {
   "cell_type": "code",
   "execution_count": 21,
   "metadata": {
    "deletable": false,
    "scrolled": false,
    "tags": []
   },
   "outputs": [
    {
     "data": {
      "text/html": [
       "<table border=\"1\" class=\"dataframe\">\n",
       "    <thead>\n",
       "        <tr>\n",
       "            <th>Year</th> <th>Children per woman</th> <th>Child deaths per 1000 born</th>\n",
       "        </tr>\n",
       "    </thead>\n",
       "    <tbody>\n",
       "        <tr>\n",
       "            <td>2020</td> <td>1.29              </td> <td>4.13                      </td>\n",
       "        </tr>\n",
       "        <tr>\n",
       "            <td>2019</td> <td>1.29              </td> <td>4.27                      </td>\n",
       "        </tr>\n",
       "        <tr>\n",
       "            <td>2018</td> <td>1.29              </td> <td>4.45                      </td>\n",
       "        </tr>\n",
       "        <tr>\n",
       "            <td>2017</td> <td>1.29              </td> <td>4.57                      </td>\n",
       "        </tr>\n",
       "        <tr>\n",
       "            <td>2016</td> <td>1.3               </td> <td>4.71                      </td>\n",
       "        </tr>\n",
       "        <tr>\n",
       "            <td>2015</td> <td>1.31              </td> <td>4.86                      </td>\n",
       "        </tr>\n",
       "        <tr>\n",
       "            <td>2014</td> <td>1.32              </td> <td>5.03                      </td>\n",
       "        </tr>\n",
       "        <tr>\n",
       "            <td>2013</td> <td>1.33              </td> <td>5.21                      </td>\n",
       "        </tr>\n",
       "        <tr>\n",
       "            <td>2012</td> <td>1.34              </td> <td>5.42                      </td>\n",
       "        </tr>\n",
       "        <tr>\n",
       "            <td>2011</td> <td>1.36              </td> <td>5.68                      </td>\n",
       "        </tr>\n",
       "    </tbody>\n",
       "</table>\n",
       "<p>... (61 rows omitted)</p>"
      ],
      "text/plain": [
       "Year | Children per woman | Child deaths per 1000 born\n",
       "2020 | 1.29               | 4.13\n",
       "2019 | 1.29               | 4.27\n",
       "2018 | 1.29               | 4.45\n",
       "2017 | 1.29               | 4.57\n",
       "2016 | 1.3                | 4.71\n",
       "2015 | 1.31               | 4.86\n",
       "2014 | 1.32               | 5.03\n",
       "2013 | 1.33               | 5.21\n",
       "2012 | 1.34               | 5.42\n",
       "2011 | 1.36               | 5.68\n",
       "... (61 rows omitted)"
      ]
     },
     "execution_count": 21,
     "metadata": {},
     "output_type": "execute_result"
    }
   ],
   "source": [
    "pol_fertility = fertility_over_time(poland_code, 1950)  # Try starting with the table you built already!\n",
    "# It's a good idea (but not required) to use multiple lines in your solution.\n",
    "pol_child_mortality = (child_mortality.where('geo', are.containing('pol'))).where('time', are.above_or_equal_to(1950))\n",
    "pol_fertility_and_child_mortality = pol_fertility.with_column('Child deaths per 1000 born', pol_child_mortality.column('child_mortality_under_5_per_1000_born'))\n",
    "poland_since_1950 = pol_fertility_and_child_mortality.sort('Year', descending=True)\n",
    "poland_since_1950"
   ]
  },
  {
   "cell_type": "code",
   "execution_count": 22,
   "metadata": {
    "deletable": false,
    "editable": false
   },
   "outputs": [
    {
     "data": {
      "text/html": [
       "<p><strong><pre style='display: inline;'>q1_7</pre></strong> passed! 🌟</p>"
      ],
      "text/plain": [
       "q1_7 results: All test cases passed!"
      ]
     },
     "execution_count": 22,
     "metadata": {},
     "output_type": "execute_result"
    }
   ],
   "source": [
    "grader.check(\"q1_7\")"
   ]
  },
  {
   "cell_type": "markdown",
   "metadata": {},
   "source": [
    "Run the following cell to generate a scatter plot from the `poland_since_1950` table you created.\n",
    "\n",
    "The plot uses **color** to encode data about the `Year` column. The colors, ranging from dark blue to white, represent the passing of time between 1950 and 2020. For example, a point on the scatter plot representing data from the 1950s would appear as **dark blue** and a point from the 2010s would appear as **light blue**.\n"
   ]
  },
  {
   "cell_type": "code",
   "execution_count": 23,
   "metadata": {},
   "outputs": [
    {
     "data": {
      "image/png": "[encoded data removed]",
      "text/plain": [
       "<Figure size 600x600 with 2 Axes>"
      ]
     },
     "metadata": {},
     "output_type": "display_data"
    }
   ],
   "source": [
    "x_births = poland_since_1950.column(\"Children per woman\")\n",
    "y_deaths = poland_since_1950.column(\"Child deaths per 1000 born\")\n",
    "time_colors = poland_since_1950.column(\"Year\")\n",
    "\n",
    "plots.figure(figsize=(6,6))\n",
    "plots.scatter(x_births, y_deaths, c=time_colors, cmap=\"Blues_r\")\n",
    "plots.colorbar()                  \n",
    "plots.xlabel(\"Children per woman\")\n",
    "plots.ylabel(\"Child deaths per 1000 born\");"
   ]
  },
  {
   "cell_type": "markdown",
   "metadata": {},
   "source": [
    "<!-- BEGIN QUESTION -->\n",
    "\n",
    "**Question 8.** In one or two sentences, describe the association (if any) that is illustrated by this scatter plot. Does the diagram show any causal relation between between fertility and child mortality?\n"
   ]
  },
  {
   "cell_type": "markdown",
   "metadata": {},
   "source": [
    "My scatter plot is reveresed but I understand what it is saying. Essentially the more children that are being born in any given year the higher the mortality rate for children is. This makes plenty of sense from the standpoint that individuals wanting to start a family would be far more likely to have more children if it is unlikely that they will live to adulthood. "
   ]
  },
  {
   "cell_type": "markdown",
   "metadata": {},
   "source": [
    "<!-- END QUESTION -->\n",
    "\n",
    "_Optional food for thought_: What other context or information you would need in order to better understand the factors affecting life expectancy, child mortality, and fertility?\n"
   ]
  },
  {
   "cell_type": "markdown",
   "metadata": {},
   "source": [
    "--- \n",
    "\n",
    "To double check your work, the cell below will rerun all of the autograder tests for Section 1. "
   ]
  },
  {
   "cell_type": "code",
   "execution_count": 24,
   "metadata": {},
   "outputs": [
    {
     "data": {
      "text/html": [
       "<p><strong><pre style='display: inline;'>q1_1</pre></strong> passed! 🍀</p>"
      ],
      "text/plain": [
       "q1_1 results: All test cases passed!"
      ]
     },
     "metadata": {},
     "output_type": "display_data"
    },
    {
     "data": {
      "text/html": [
       "<p><strong><pre style='display: inline;'>q1_2</pre></strong> passed! 🎉</p>"
      ],
      "text/plain": [
       "q1_2 results: All test cases passed!"
      ]
     },
     "metadata": {},
     "output_type": "display_data"
    },
    {
     "data": {
      "text/html": [
       "<p><strong><pre style='display: inline;'>q1_5</pre></strong> passed! 💯</p>"
      ],
      "text/plain": [
       "q1_5 results: All test cases passed!"
      ]
     },
     "metadata": {},
     "output_type": "display_data"
    },
    {
     "data": {
      "text/html": [
       "<p><strong><pre style='display: inline;'>q1_7</pre></strong> passed! 🌈</p>"
      ],
      "text/plain": [
       "q1_7 results: All test cases passed!"
      ]
     },
     "metadata": {},
     "output_type": "display_data"
    }
   ],
   "source": [
    "checkpoint_tests = [\"q1_1\", \"q1_2\", \"q1_5\", \"q1_7\"]\n",
    "for test in checkpoint_tests:\n",
    "    display(grader.check(test))"
   ]
  },
  {
   "cell_type": "markdown",
   "metadata": {
    "deletable": false
   },
   "source": [
    "### The World\n",
    "\n",
    "The changes observed in Poland can also be observed in many other countries: except during periods of extended war, famine, and social chaos, health services generally improve, life expectancy increases, and child mortality decreases. At the same time, the fertility rate often plummets, and where it does, the population growth rate decreases despite increasing longevity."
   ]
  },
  {
   "cell_type": "markdown",
   "metadata": {
    "deletable": false
   },
   "source": [
    "Run the cell below to generate two overlaid histograms, one for 1962 and one for 2010, that show the distributions of total fertility rates for these two years among all 201 countries in the `fertility` table."
   ]
  },
  {
   "cell_type": "code",
   "execution_count": 25,
   "metadata": {
    "deletable": false
   },
   "outputs": [
    {
     "data": {
      "image/png": "[encoded data removed]",
      "text/plain": [
       "<Figure size 600x400 with 1 Axes>"
      ]
     },
     "metadata": {},
     "output_type": "display_data"
    }
   ],
   "source": [
    "Table().with_columns( \n",
    "    '1962', fertility.where('time', 1962).column(2),\n",
    "    '2010', fertility.where('time', 2010).column(2)\n",
    ").hist(bins=np.arange(0, 10, 0.5), unit='child per woman')\n",
    "_ = plots.xlabel('Children per woman')\n",
    "_ = plots.ylabel('Percent per children per woman')\n",
    "_ = plots.xticks(np.arange(10))"
   ]
  },
  {
   "cell_type": "markdown",
   "metadata": {},
   "source": [
    "**Question 9.** Assign `fertility_statements` to an **array** of the numbers of each statement below that can be correctly inferred from these histograms.\n",
    "\n",
    "1. About the same number of countries had a fertility rate between 3.5 and 4.5 in both 1962 and 2010.\n",
    "1. In 1962, less than 20% of countries had a fertility rate below 3.\n",
    "1. At least half of countries had a fertility rate between 5 and 8 in 1962.\n",
    "1. In 2010, about 40% of countries had a fertility rate between 1.5 and 2.\n",
    "1. At least half of countries had a fertility rate below 3 in 2010.\n",
    "1. More countries had a fertility rate above 3 in 1962 than in 2010.\n"
   ]
  },
  {
   "cell_type": "code",
   "execution_count": 26,
   "metadata": {
    "deletable": false,
    "tags": []
   },
   "outputs": [],
   "source": [
    "fertility_statements = make_array(2,3,5,6)"
   ]
  },
  {
   "cell_type": "code",
   "execution_count": 27,
   "metadata": {
    "deletable": false,
    "editable": false
   },
   "outputs": [
    {
     "data": {
      "text/html": [
       "<p><strong><pre style='display: inline;'>q1_9</pre></strong> passed! 💯</p>"
      ],
      "text/plain": [
       "q1_9 results: All test cases passed!"
      ]
     },
     "execution_count": 27,
     "metadata": {},
     "output_type": "execute_result"
    }
   ],
   "source": [
    "grader.check(\"q1_9\")"
   ]
  },
  {
   "cell_type": "markdown",
   "metadata": {},
   "source": [
    "<!-- BEGIN QUESTION -->\n",
    "\n",
    "**Question 10.** Draw a line plot of the **world population** from 1800 through 2020 (inclusive of both endpoints). The world population is the sum of all of the countries' populations. You should use the `population` table defined earlier in the project. \n"
   ]
  },
  {
   "cell_type": "code",
   "execution_count": 28,
   "metadata": {
    "deletable": false,
    "manual_grade": true,
    "manual_problem_id": "global_pop_10",
    "tags": []
   },
   "outputs": [
    {
     "data": {
      "image/png": "[encoded data removed]",
      "text/plain": [
       "<Figure size 600x600 with 1 Axes>"
      ]
     },
     "metadata": {},
     "output_type": "display_data"
    }
   ],
   "source": [
    "#Fill in code here\n",
    "(population.drop('geo')).plot(0,1)"
   ]
  },
  {
   "attachments": {},
   "cell_type": "markdown",
   "metadata": {},
   "source": [
    "<!-- END QUESTION -->\n",
    "\n",
    "**Question 11.** Create a function `stats_for_year` that takes a `year` and returns a table of statistics. The table it returns should have four columns: `geo`, `population_total`, `children_per_woman_total_fertility`, and `child_mortality_under_5_per_1000_born`. Each row should contain one unique Alpha-3 country code and three statistics: population, fertility rate, and child mortality for that `year` from the `population`, `fertility` and `child_mortality` tables. Only include rows for which all three statistics are available for the country and year.\n",
    "\n",
    "In addition, restrict the result to country codes that appears in `big_50`, an array of the 50 most populous countries in 2020. This restriction will speed up computations later in the project.\n",
    "\n",
    "After you write `stats_for_year`, try calling `stats_for_year` on any year between 1960 and 2020. Try to understand the output of stats_for_year.\n",
    "\n",
    "*Hint*: The tests for this question are quite comprehensive, so if you pass the tests, your function is probably correct. However, without calling your function yourself and looking at the output, it will be very difficult to understand any problems you have, so try your best to write the function correctly and check that it works before you rely on the `grader` tests to confirm your work.\n",
    "\n",
    "*Hint*: What do all three tables have in common (pay attention to column names)?\n",
    "\n",
    "*Hint*: Create additional cells before directly writing the function.\n"
   ]
  },
  {
   "cell_type": "code",
   "execution_count": 29,
   "metadata": {
    "deletable": false,
    "tags": []
   },
   "outputs": [
    {
     "data": {
      "text/html": [
       "<table border=\"1\" class=\"dataframe\">\n",
       "    <thead>\n",
       "        <tr>\n",
       "            <th>geo</th> <th>population_total</th> <th>children_per_woman_total_fertility</th> <th>child_mortality_under_5_per_1000_born</th>\n",
       "        </tr>\n",
       "    </thead>\n",
       "    <tbody>\n",
       "        <tr>\n",
       "            <td>afg </td> <td>9956318         </td> <td>7.45                              </td> <td>329.58                               </td>\n",
       "        </tr>\n",
       "        <tr>\n",
       "            <td>ago </td> <td>5770573         </td> <td>7.62                              </td> <td>291.04                               </td>\n",
       "        </tr>\n",
       "        <tr>\n",
       "            <td>arg </td> <td>22159644        </td> <td>3.06                              </td> <td>57.5                                 </td>\n",
       "        </tr>\n",
       "        <tr>\n",
       "            <td>bgd </td> <td>55385114        </td> <td>6.88                              </td> <td>233.59                               </td>\n",
       "        </tr>\n",
       "        <tr>\n",
       "            <td>bra </td> <td>83373533        </td> <td>5.82                              </td> <td>148.25                               </td>\n",
       "        </tr>\n",
       "        <tr>\n",
       "            <td>can </td> <td>19627973        </td> <td>3.18                              </td> <td>27.12                                </td>\n",
       "        </tr>\n",
       "        <tr>\n",
       "            <td>chn </td> <td>724218970       </td> <td>6.02                              </td> <td>115.43                               </td>\n",
       "        </tr>\n",
       "        <tr>\n",
       "            <td>cod </td> <td>17369882        </td> <td>6.09                              </td> <td>262.14                               </td>\n",
       "        </tr>\n",
       "        <tr>\n",
       "            <td>col </td> <td>18725242        </td> <td>6.57                              </td> <td>115.18                               </td>\n",
       "        </tr>\n",
       "        <tr>\n",
       "            <td>deu </td> <td>76258034        </td> <td>2.48                              </td> <td>31                                   </td>\n",
       "        </tr>\n",
       "    </tbody>\n",
       "</table>\n",
       "<p>... (40 rows omitted)</p>"
      ],
      "text/plain": [
       "geo  | population_total | children_per_woman_total_fertility | child_mortality_under_5_per_1000_born\n",
       "afg  | 9956318          | 7.45                               | 329.58\n",
       "ago  | 5770573          | 7.62                               | 291.04\n",
       "arg  | 22159644         | 3.06                               | 57.5\n",
       "bgd  | 55385114         | 6.88                               | 233.59\n",
       "bra  | 83373533         | 5.82                               | 148.25\n",
       "can  | 19627973         | 3.18                               | 27.12\n",
       "chn  | 724218970        | 6.02                               | 115.43\n",
       "cod  | 17369882         | 6.09                               | 262.14\n",
       "col  | 18725242         | 6.57                               | 115.18\n",
       "deu  | 76258034         | 2.48                               | 31\n",
       "... (40 rows omitted)"
      ]
     },
     "execution_count": 29,
     "metadata": {},
     "output_type": "execute_result"
    }
   ],
   "source": [
    "# We first create a population table that only includes the \n",
    "# 50 countries with the largest 2020 populations. We focus on \n",
    "# these 50 countries only so that plotting later will run faster.\n",
    "big_50 = population.where('time', are.equal_to(2020)).sort(\"population_total\", descending=True).take(np.arange(50)).column('geo')\n",
    "population_of_big_50 = population.where('time', are.above(1959)).where('geo', are.contained_in(big_50))\n",
    "\n",
    "def stats_for_year(year):\n",
    "    \"\"\"Return a table of the stats for each country that year.\"\"\"\n",
    "    p = population_of_big_50.where('time', are.equal_to(year)).drop('time')\n",
    "    f = (fertility.where('time', are.equal_to(year)).drop('time')).where('geo', are.contained_in(big_50))\n",
    "    c = (child_mortality.where('time', are.equal_to(year)).drop('time')).where('geo', are.contained_in(big_50))\n",
    "    table = p.with_columns('children_per_woman_total_fertility', f.column('children_per_woman_total_fertility'),'child_mortality_under_5_per_1000_born', c.column('child_mortality_under_5_per_1000_born'))\n",
    "    return table\n",
    "\n",
    "stats_for_year(1965)"
   ]
  },
  {
   "cell_type": "code",
   "execution_count": 30,
   "metadata": {
    "deletable": false,
    "editable": false
   },
   "outputs": [
    {
     "data": {
      "text/html": [
       "<p><strong><pre style='display: inline;'>q1_11</pre></strong> passed! 💯</p>"
      ],
      "text/plain": [
       "q1_11 results: All test cases passed!"
      ]
     },
     "execution_count": 30,
     "metadata": {},
     "output_type": "execute_result"
    }
   ],
   "source": [
    "grader.check(\"q1_11\")"
   ]
  },
  {
   "cell_type": "markdown",
   "metadata": {},
   "source": [
    "**Question 12.** Create a table called `pop_by_decade` with two columns called `decade` and `population`, in this order. It has a row for each year that starts a decade, in increasing order starting with 1960 and ending with 2020. For example, 1960 is the start of the 1960's decade. The `population` column contains the total population of all countries included in the result of `stats_for_year(year)` for the first `year` of the decade. You should see that these countries contain most of the world's population.\n",
    "\n",
    "*Hint:* One approach is to define a function `pop_for_year` that computes this total population, then `apply` it to the `decade` column.  **Think about how you can use the `stats_for_year` function** from the previous question if you want to implement `pop_for_year`.\n",
    "\n",
    "This first test is just a sanity check for your helper function if you choose to use it. **You will not lose points for not implementing the function `pop_for_year`**.\n",
    "\n",
    "**Note:** The cell where you will generate the `pop_by_decade` table is below the cell where you can choose to define the helper function `pop_for_year`. You should define your `pop_by_decade` table in the cell that starts with the table `decades` being defined. \n"
   ]
  },
  {
   "cell_type": "code",
   "execution_count": 127,
   "metadata": {
    "tags": []
   },
   "outputs": [
    {
     "data": {
      "text/plain": [
       "3557059643"
      ]
     },
     "execution_count": 127,
     "metadata": {},
     "output_type": "execute_result"
    }
   ],
   "source": [
    "def pop_for_year(year):\n",
    "    \"\"\"Return the total population for the specified year.\"\"\"\n",
    "    return sum(stats_for_year(year).column('population_total'))\n",
    "\n",
    "    \n",
    "\n",
    "pop_for_year(1975)"
   ]
  },
  {
   "cell_type": "code",
   "execution_count": 128,
   "metadata": {
    "deletable": false,
    "editable": false
   },
   "outputs": [
    {
     "data": {
      "text/html": [
       "<p><strong><pre style='display: inline;'>q1_12_0</pre></strong> passed! 🎉</p>"
      ],
      "text/plain": [
       "q1_12_0 results: All test cases passed!"
      ]
     },
     "execution_count": 128,
     "metadata": {},
     "output_type": "execute_result"
    }
   ],
   "source": [
    "grader.check(\"q1_12_0\")"
   ]
  },
  {
   "cell_type": "markdown",
   "metadata": {},
   "source": [
    "Now that you've defined your helper function (if you've chosen to do so), define the `pop_by_decade` table.\n"
   ]
  },
  {
   "cell_type": "code",
   "execution_count": 33,
   "metadata": {
    "deletable": false,
    "tags": []
   },
   "outputs": [
    {
     "data": {
      "text/html": [
       "<table border=\"1\" class=\"dataframe\">\n",
       "    <thead>\n",
       "        <tr>\n",
       "            <th>decade</th> <th>population</th>\n",
       "        </tr>\n",
       "    </thead>\n",
       "    <tbody>\n",
       "        <tr>\n",
       "            <td>1960  </td> <td>2,635,123,897</td>\n",
       "        </tr>\n",
       "        <tr>\n",
       "            <td>1970  </td> <td>3,221,457,416</td>\n",
       "        </tr>\n",
       "        <tr>\n",
       "            <td>1980  </td> <td>3,890,044,418</td>\n",
       "        </tr>\n",
       "        <tr>\n",
       "            <td>1990  </td> <td>4,656,339,803</td>\n",
       "        </tr>\n",
       "        <tr>\n",
       "            <td>2000  </td> <td>5,377,062,169</td>\n",
       "        </tr>\n",
       "        <tr>\n",
       "            <td>2010  </td> <td>6,064,674,132</td>\n",
       "        </tr>\n",
       "        <tr>\n",
       "            <td>2020  </td> <td>6,765,161,289</td>\n",
       "        </tr>\n",
       "    </tbody>\n",
       "</table>"
      ],
      "text/plain": [
       "decade | population\n",
       "1960   | 2,635,123,897\n",
       "1970   | 3,221,457,416\n",
       "1980   | 3,890,044,418\n",
       "1990   | 4,656,339,803\n",
       "2000   | 5,377,062,169\n",
       "2010   | 6,064,674,132\n",
       "2020   | 6,765,161,289"
      ]
     },
     "execution_count": 33,
     "metadata": {},
     "output_type": "execute_result"
    }
   ],
   "source": [
    "decades = Table().with_column('decade', np.arange(1960, 2021, 10))\n",
    "\n",
    "pop_by_decade = decades.with_columns('population', decades.apply(pop_for_year))\n",
    "pop_by_decade.set_format(1, NumberFormatter)\n"
   ]
  },
  {
   "cell_type": "code",
   "execution_count": 34,
   "metadata": {
    "deletable": false,
    "editable": false
   },
   "outputs": [
    {
     "data": {
      "text/html": [
       "<p><strong><pre style='display: inline;'>q1_12</pre></strong> passed! 💯</p>"
      ],
      "text/plain": [
       "q1_12 results: All test cases passed!"
      ]
     },
     "execution_count": 34,
     "metadata": {},
     "output_type": "execute_result"
    }
   ],
   "source": [
    "grader.check(\"q1_12\")"
   ]
  },
  {
   "cell_type": "markdown",
   "metadata": {
    "deletable": false,
    "editable": false
   },
   "source": [
    "The `countries` table describes various characteristics of countries. The `country` column contains the same codes as the `geo` column in each of the other data tables (`population`, `fertility`, and `child_mortality`). The `world_6region` column classifies each country into a region of the world. Run the cell below to inspect the data."
   ]
  },
  {
   "cell_type": "code",
   "execution_count": 35,
   "metadata": {},
   "outputs": [
    {
     "data": {
      "text/html": [
       "<table border=\"1\" class=\"dataframe\">\n",
       "    <thead>\n",
       "        <tr>\n",
       "            <th>country</th> <th>name</th> <th>world_6region</th>\n",
       "        </tr>\n",
       "    </thead>\n",
       "    <tbody>\n",
       "        <tr>\n",
       "            <td>afg    </td> <td>Afghanistan         </td> <td>south_asia              </td>\n",
       "        </tr>\n",
       "        <tr>\n",
       "            <td>ago    </td> <td>Angola              </td> <td>sub_saharan_africa      </td>\n",
       "        </tr>\n",
       "        <tr>\n",
       "            <td>alb    </td> <td>Albania             </td> <td>europe_central_asia     </td>\n",
       "        </tr>\n",
       "        <tr>\n",
       "            <td>and    </td> <td>Andorra             </td> <td>europe_central_asia     </td>\n",
       "        </tr>\n",
       "        <tr>\n",
       "            <td>are    </td> <td>United Arab Emirates</td> <td>middle_east_north_africa</td>\n",
       "        </tr>\n",
       "        <tr>\n",
       "            <td>arg    </td> <td>Argentina           </td> <td>america                 </td>\n",
       "        </tr>\n",
       "        <tr>\n",
       "            <td>arm    </td> <td>Armenia             </td> <td>europe_central_asia     </td>\n",
       "        </tr>\n",
       "        <tr>\n",
       "            <td>atg    </td> <td>Antigua and Barbuda </td> <td>america                 </td>\n",
       "        </tr>\n",
       "        <tr>\n",
       "            <td>aus    </td> <td>Australia           </td> <td>east_asia_pacific       </td>\n",
       "        </tr>\n",
       "        <tr>\n",
       "            <td>aut    </td> <td>Austria             </td> <td>europe_central_asia     </td>\n",
       "        </tr>\n",
       "    </tbody>\n",
       "</table>\n",
       "<p>... (187 rows omitted)</p>"
      ],
      "text/plain": [
       "country | name                 | world_6region\n",
       "afg     | Afghanistan          | south_asia\n",
       "ago     | Angola               | sub_saharan_africa\n",
       "alb     | Albania              | europe_central_asia\n",
       "and     | Andorra              | europe_central_asia\n",
       "are     | United Arab Emirates | middle_east_north_africa\n",
       "arg     | Argentina            | america\n",
       "arm     | Armenia              | europe_central_asia\n",
       "atg     | Antigua and Barbuda  | america\n",
       "aus     | Australia            | east_asia_pacific\n",
       "aut     | Austria              | europe_central_asia\n",
       "... (187 rows omitted)"
      ]
     },
     "execution_count": 35,
     "metadata": {},
     "output_type": "execute_result"
    }
   ],
   "source": [
    "countries = Table.read_table('countries.csv').where('country', are.contained_in(population.group('geo').column('geo')))\n",
    "countries_small_table = countries.select('country', 'name', 'world_6region')\n",
    "countries_small_table"
   ]
  },
  {
   "cell_type": "markdown",
   "metadata": {},
   "source": [
    "**Question 13.** Create a table called `region_counts`. It should contain two columns called `region` and `count`. The `region` column should contain regions of the world, and the `count` column should contain the number of countries in each region that appears in the result of `stats_for_year(2020)`. \n",
    "\n",
    "For example, one row would have `south_asia` as its `region` value and an integer as its `count` value: the number of large South Asian countries for which we have population, fertility, and child mortality numbers from 2020.\n",
    "\n",
    "*Hint*: You may have to relabel a column to name it `region`. \n"
   ]
  },
  {
   "cell_type": "code",
   "execution_count": 36,
   "metadata": {
    "deletable": false,
    "tags": []
   },
   "outputs": [
    {
     "data": {
      "text/html": [
       "<table border=\"1\" class=\"dataframe\">\n",
       "    <thead>\n",
       "        <tr>\n",
       "            <th>region</th> <th>count</th>\n",
       "        </tr>\n",
       "    </thead>\n",
       "    <tbody>\n",
       "        <tr>\n",
       "            <td>america                 </td> <td>8    </td>\n",
       "        </tr>\n",
       "        <tr>\n",
       "            <td>east_asia_pacific       </td> <td>9    </td>\n",
       "        </tr>\n",
       "        <tr>\n",
       "            <td>europe_central_asia     </td> <td>10   </td>\n",
       "        </tr>\n",
       "        <tr>\n",
       "            <td>middle_east_north_africa</td> <td>7    </td>\n",
       "        </tr>\n",
       "        <tr>\n",
       "            <td>south_asia              </td> <td>5    </td>\n",
       "        </tr>\n",
       "        <tr>\n",
       "            <td>sub_saharan_africa      </td> <td>11   </td>\n",
       "        </tr>\n",
       "    </tbody>\n",
       "</table>"
      ],
      "text/plain": [
       "region                   | count\n",
       "america                  | 8\n",
       "east_asia_pacific        | 9\n",
       "europe_central_asia      | 10\n",
       "middle_east_north_africa | 7\n",
       "south_asia               | 5\n",
       "sub_saharan_africa       | 11"
      ]
     },
     "execution_count": 36,
     "metadata": {},
     "output_type": "execute_result"
    }
   ],
   "source": [
    "big_50_countries = countries_small_table.where('country', are.contained_in(big_50))\n",
    "stats_for_2020 = (stats_for_year(2020).with_columns('region', big_50_countries.column('world_6region'))).select('geo','region')\n",
    "region_counts = stats_for_2020.group('region')\n",
    "region_counts"
   ]
  },
  {
   "cell_type": "code",
   "execution_count": 37,
   "metadata": {
    "deletable": false,
    "editable": false
   },
   "outputs": [
    {
     "data": {
      "text/html": [
       "<p><strong><pre style='display: inline;'>q1_13</pre></strong> passed! 💯</p>"
      ],
      "text/plain": [
       "q1_13 results: All test cases passed!"
      ]
     },
     "execution_count": 37,
     "metadata": {},
     "output_type": "execute_result"
    }
   ],
   "source": [
    "grader.check(\"q1_13\")"
   ]
  },
  {
   "cell_type": "markdown",
   "metadata": {
    "deletable": false
   },
   "source": [
    "The following scatter diagram compares total fertility rate and child mortality rate for each country in 1960. The area of each dot represents the population of the country, and the color represents its region of the world. Run the cell. Do you think you can identify any of the dots?"
   ]
  },
  {
   "cell_type": "code",
   "execution_count": 38,
   "metadata": {
    "deletable": false
   },
   "outputs": [
    {
     "data": {
      "image/png": "[encoded data removed]",
      "text/plain": [
       "<Figure size 500x500 with 1 Axes>"
      ]
     },
     "metadata": {},
     "output_type": "display_data"
    }
   ],
   "source": [
    "from functools import lru_cache as cache\n",
    "\n",
    "# This cache annotation makes sure that if the same year\n",
    "# is passed as an argument twice, the work of computing\n",
    "# the result is only carried out once.\n",
    "@cache(None)\n",
    "def stats_relabeled(year):\n",
    "    \"\"\"Relabeled and cached version of stats_for_year.\"\"\"\n",
    "    return stats_for_year(year).relabel(2, 'Children per woman').relabel(3, 'Child deaths per 1000 born')\n",
    "\n",
    "def fertility_vs_child_mortality(year):\n",
    "    \"\"\"Draw a color scatter diagram comparing child mortality and fertility.\"\"\"\n",
    "    with_region = stats_relabeled(year).join('geo', countries.select('country', 'world_6region'), 'country')\n",
    "    with_region.scatter(2, 3, sizes=1, group=4, s=500)\n",
    "    plots.xlim(0,10)\n",
    "    plots.ylim(-50, 500)\n",
    "    plots.title(year)\n",
    "    plots.show()\n",
    "\n",
    "fertility_vs_child_mortality(1960)"
   ]
  },
  {
   "cell_type": "markdown",
   "metadata": {},
   "source": [
    "**Question 14.** Assign `scatter_statements` to an array of the numbers of each statement below that can be inferred from this scatter diagram for 1960. \n",
    "1. All countries in `europe_central_asia` had uniformly low fertility rates.\n",
    "1. The lowest child mortality rate of any country was from an `east_asia_pacific` country.\n",
    "1. Most countries had a fertility rate above 5.\n",
    "1. There was an association between child mortality and fertility.\n",
    "1. The two largest countries by population also had the two highest child mortality rates.\n"
   ]
  },
  {
   "cell_type": "code",
   "execution_count": 39,
   "metadata": {
    "deletable": false,
    "tags": []
   },
   "outputs": [],
   "source": [
    "scatter_statements = make_array(4)"
   ]
  },
  {
   "cell_type": "code",
   "execution_count": 40,
   "metadata": {
    "deletable": false,
    "editable": false
   },
   "outputs": [
    {
     "data": {
      "text/html": [
       "<p><strong><pre style='display: inline;'>q1_14</pre></strong> passed! 🙌</p>"
      ],
      "text/plain": [
       "q1_14 results: All test cases passed!"
      ]
     },
     "execution_count": 40,
     "metadata": {},
     "output_type": "execute_result"
    }
   ],
   "source": [
    "grader.check(\"q1_14\")"
   ]
  },
  {
   "cell_type": "markdown",
   "metadata": {
    "deletable": false
   },
   "source": [
    "The result of the cell below is interactive. Drag the slider to the right to see how countries have changed over time. You’ll find that in terms of population growth, the divide between the countries of the global North and global South that existed in the 1960s has shrunk significantly. \n",
    "\n",
    "This shift in fertility rates is the reason that the global population is expected to grow more slowly in the 21st century than it did in the 19th and 20th centuries. Fertility rates change for reasons that include cultural patterns, better prospects for children surviving to adulthood, and family planning (such as contraception and women’s greater control over their reproduction).\n",
    "\n",
    "**Note:** Don't worry if a red warning pops up when running the cell below. You'll still be able to run the cell!"
   ]
  },
  {
   "cell_type": "code",
   "execution_count": 41,
   "metadata": {
    "deletable": false,
    "scrolled": true
   },
   "outputs": [
    {
     "data": {
      "application/vnd.jupyter.widget-view+json": {
       "model_id": "5037b1dedbf84d859480f6a7171cfc12",
       "version_major": 2,
       "version_minor": 0
      },
      "text/plain": [
       "interactive(children=(IntSlider(value=1960, description='year', max=2020, min=1960), Output()), _dom_classes=(…"
      ]
     },
     "metadata": {},
     "output_type": "display_data"
    }
   ],
   "source": [
    "_ = widgets.interact(fertility_vs_child_mortality, \n",
    "                     year=widgets.IntSlider(min=1960, max=2020, value=1960))"
   ]
  },
  {
   "cell_type": "markdown",
   "metadata": {
    "deletable": false,
    "editable": false
   },
   "source": [
    "Now is a great time to take a break and watch the same data presented by [Hans Rosling in a 2010 TEDx talk](https://www.gapminder.org/videos/reducing-child-mortality-a-moral-and-environmental-imperative) with smoother animation and witty commentary."
   ]
  },
  {
   "cell_type": "markdown",
   "metadata": {},
   "source": [
    "When we look at population and fertility as data scientists, we need to learn about the experiences of people in real life, not just abstractly as data. We should also recognize that population studies have sometimes had political undercurrents. Those undercurrents have included population control, control of women’s reproduction, or fears of shifts between racial groups. To do better as data scientists, we should check our assumptions to avoid unthinkingly reproducing past patterns."
   ]
  },
  {
   "cell_type": "markdown",
   "metadata": {
    "deletable": false
   },
   "source": [
    "## 2. Global Poverty"
   ]
  },
  {
   "cell_type": "markdown",
   "metadata": {
    "deletable": false
   },
   "source": [
    "In 1800, 85% of the world's 1 billion people lived in [extreme poverty](https://en.wikipedia.org/wiki/Extreme_poverty), defined by the United Nations as \"a condition characterized by severe deprivation of basic human needs, including food, safe drinking water, sanitation facilities, health, shelter, education and information.\" At the time when the data in this project were gathered, a common definition of extreme poverty was a person living on less than \\$1.25 a day.\n",
    "\n",
    "In 2018, the proportion of people living in extreme poverty was estimated to be [about 9\\%](https://unstats.un.org/sdgs/report/2019/goal-01/). Although the world rate of extreme poverty has declined consistently for hundreds of years, the number of people living in extreme poverty is still over 600 million. The United Nations adopted an [ambitious goal](http://www.un.org/sustainabledevelopment/poverty/): \"By 2030, eradicate extreme poverty for all people everywhere.\"\n",
    "\n",
    "In this part of the project, we will examine some aspects of global poverty that might affect whether the goal is achievable. The causes of poverty are complex. They include global histories, such as colonialism, as well as factors such as health care, economics, and social inequality in each country."
   ]
  },
  {
   "cell_type": "markdown",
   "metadata": {
    "deletable": false,
    "editable": false
   },
   "source": [
    "First, load the population and poverty rate by country and year and the country descriptions. While the `population` table has values for every recent year for many countries, the `poverty` table only includes certain years for each country in which a measurement of the rate of extreme poverty was available."
   ]
  },
  {
   "cell_type": "code",
   "execution_count": 42,
   "metadata": {},
   "outputs": [
    {
     "data": {
      "text/html": [
       "<table border=\"1\" class=\"dataframe\">\n",
       "    <thead>\n",
       "        <tr>\n",
       "            <th>geo</th> <th>time</th> <th>extreme_poverty_percent_people_below_125_a_day</th>\n",
       "        </tr>\n",
       "    </thead>\n",
       "    <tbody>\n",
       "        <tr>\n",
       "            <td>alb </td> <td>1996</td> <td>0.2                                           </td>\n",
       "        </tr>\n",
       "        <tr>\n",
       "            <td>alb </td> <td>2002</td> <td>0.73                                          </td>\n",
       "        </tr>\n",
       "        <tr>\n",
       "            <td>alb </td> <td>2004</td> <td>0.53                                          </td>\n",
       "        </tr>\n",
       "    </tbody>\n",
       "</table>\n",
       "<p>... (1096 rows omitted)</p>"
      ],
      "text/plain": [
       "<IPython.core.display.HTML object>"
      ]
     },
     "metadata": {},
     "output_type": "display_data"
    }
   ],
   "source": [
    "population = Table.read_table('population.csv') \n",
    "countries = Table.read_table('countries.csv').where('country', are.contained_in(population.group('geo').column('geo')))\n",
    "poverty = Table.read_table('poverty.csv')\n",
    "poverty.show(3)"
   ]
  },
  {
   "cell_type": "markdown",
   "metadata": {},
   "source": [
    "**Question 1.** Assign `latest_poverty` to a three-column table with one row for each country that appears in the `poverty` table. The first column should contain the 3-letter code for the country. The second column should contain the most recent year for which an extreme poverty rate is available for the country. The third column should contain the poverty rate in that year. **Do not change the last line, so that the labels of your table are set correctly.**\n",
    "\n",
    "*Hint*: think about how ```group``` works: it does a sequential search of the table (from top to bottom) and collects values in the array in the order in which they appear, and then applies a function to that array. The `first` function may be helpful, but you are not required to use it.\n"
   ]
  },
  {
   "cell_type": "code",
   "execution_count": 43,
   "metadata": {
    "deletable": false,
    "tags": []
   },
   "outputs": [
    {
     "data": {
      "text/html": [
       "<table border=\"1\" class=\"dataframe\">\n",
       "    <thead>\n",
       "        <tr>\n",
       "            <th>geo</th> <th>time</th> <th>poverty_percent</th>\n",
       "        </tr>\n",
       "    </thead>\n",
       "    <tbody>\n",
       "        <tr>\n",
       "            <td>ago </td> <td>2009</td> <td>54.31          </td>\n",
       "        </tr>\n",
       "        <tr>\n",
       "            <td>alb </td> <td>2012</td> <td>0.73           </td>\n",
       "        </tr>\n",
       "        <tr>\n",
       "            <td>arg </td> <td>2011</td> <td>12.58          </td>\n",
       "        </tr>\n",
       "        <tr>\n",
       "            <td>arm </td> <td>2012</td> <td>18.83          </td>\n",
       "        </tr>\n",
       "        <tr>\n",
       "            <td>aus </td> <td>2003</td> <td>1.36           </td>\n",
       "        </tr>\n",
       "        <tr>\n",
       "            <td>aut </td> <td>2004</td> <td>1              </td>\n",
       "        </tr>\n",
       "        <tr>\n",
       "            <td>aze </td> <td>2008</td> <td>25.23          </td>\n",
       "        </tr>\n",
       "        <tr>\n",
       "            <td>bdi </td> <td>2006</td> <td>86.43          </td>\n",
       "        </tr>\n",
       "        <tr>\n",
       "            <td>bel </td> <td>2000</td> <td>0.83           </td>\n",
       "        </tr>\n",
       "        <tr>\n",
       "            <td>ben </td> <td>2012</td> <td>51.61          </td>\n",
       "        </tr>\n",
       "    </tbody>\n",
       "</table>\n",
       "<p>... (135 rows omitted)</p>"
      ],
      "text/plain": [
       "geo  | time | poverty_percent\n",
       "ago  | 2009 | 54.31\n",
       "alb  | 2012 | 0.73\n",
       "arg  | 2011 | 12.58\n",
       "arm  | 2012 | 18.83\n",
       "aus  | 2003 | 1.36\n",
       "aut  | 2004 | 1\n",
       "aze  | 2008 | 25.23\n",
       "bdi  | 2006 | 86.43\n",
       "bel  | 2000 | 0.83\n",
       "ben  | 2012 | 51.61\n",
       "... (135 rows omitted)"
      ]
     },
     "execution_count": 43,
     "metadata": {},
     "output_type": "execute_result"
    }
   ],
   "source": [
    "def first(values):\n",
    "    return values.item(0)\n",
    "\n",
    "latest_poverty = poverty.group('geo', np.max)\n",
    "latest_poverty = latest_poverty.relabeled(0, 'geo').relabeled(1, 'time').relabeled(2, 'poverty_percent') # You should *not* change this line.\n",
    "latest_poverty"
   ]
  },
  {
   "cell_type": "code",
   "execution_count": 44,
   "metadata": {
    "deletable": false,
    "editable": false
   },
   "outputs": [
    {
     "data": {
      "text/html": [
       "<p><strong><pre style='display: inline;'>q2_1</pre></strong> passed! 🌈</p>"
      ],
      "text/plain": [
       "q2_1 results: All test cases passed!"
      ]
     },
     "execution_count": 44,
     "metadata": {},
     "output_type": "execute_result"
    }
   ],
   "source": [
    "grader.check(\"q2_1\")"
   ]
  },
  {
   "cell_type": "markdown",
   "metadata": {},
   "source": [
    "**Question 2.** Using both `latest_poverty` and `population`, create a four-column table called `recent_poverty_total` with one row for each country in `latest_poverty`. The four columns should have the following labels and contents:\n",
    "1. `geo` contains the 3-letter country code,\n",
    "1. `poverty_percent` contains the most recent poverty percent,\n",
    "1. `population_total` contains the population of the country in 2010,\n",
    "1. `poverty_total` contains the number of people in poverty **rounded to the nearest integer**, based on the 2010 population and most recent poverty rate.\n",
    "\n",
    "*Hint*: You are not required to use `poverty_and_pop`, and you are always welcome to add any additional names. "
   ]
  },
  {
   "cell_type": "code",
   "execution_count": 160,
   "metadata": {
    "deletable": false,
    "tags": []
   },
   "outputs": [
    {
     "data": {
      "text/html": [
       "<table border=\"1\" class=\"dataframe\">\n",
       "    <thead>\n",
       "        <tr>\n",
       "            <th>geo</th> <th>poverty_percent</th> <th>population_total</th> <th>poverty_total</th>\n",
       "        </tr>\n",
       "    </thead>\n",
       "    <tbody>\n",
       "        <tr>\n",
       "            <td>ago </td> <td>54.31          </td> <td>23356247        </td> <td>12684778     </td>\n",
       "        </tr>\n",
       "        <tr>\n",
       "            <td>alb </td> <td>0.73           </td> <td>2948029         </td> <td>21521        </td>\n",
       "        </tr>\n",
       "        <tr>\n",
       "            <td>arg </td> <td>12.58          </td> <td>40895751        </td> <td>5144685      </td>\n",
       "        </tr>\n",
       "        <tr>\n",
       "            <td>arm </td> <td>18.83          </td> <td>2877314         </td> <td>541798       </td>\n",
       "        </tr>\n",
       "        <tr>\n",
       "            <td>aus </td> <td>1.36           </td> <td>22154687        </td> <td>301304       </td>\n",
       "        </tr>\n",
       "        <tr>\n",
       "            <td>aut </td> <td>1              </td> <td>8409945         </td> <td>84099        </td>\n",
       "        </tr>\n",
       "        <tr>\n",
       "            <td>aze </td> <td>25.23          </td> <td>9032465         </td> <td>2278891      </td>\n",
       "        </tr>\n",
       "        <tr>\n",
       "            <td>bdi </td> <td>86.43          </td> <td>8675606         </td> <td>7498326      </td>\n",
       "        </tr>\n",
       "        <tr>\n",
       "            <td>bel </td> <td>0.83           </td> <td>10938735        </td> <td>90792        </td>\n",
       "        </tr>\n",
       "        <tr>\n",
       "            <td>ben </td> <td>51.61          </td> <td>9199254         </td> <td>4747735      </td>\n",
       "        </tr>\n",
       "    </tbody>\n",
       "</table>\n",
       "<p>... (135 rows omitted)</p>"
      ],
      "text/plain": [
       "geo  | poverty_percent | population_total | poverty_total\n",
       "ago  | 54.31           | 23356247         | 12684778\n",
       "alb  | 0.73            | 2948029          | 21521\n",
       "arg  | 12.58           | 40895751         | 5144685\n",
       "arm  | 18.83           | 2877314          | 541798\n",
       "aus  | 1.36            | 22154687         | 301304\n",
       "aut  | 1               | 8409945          | 84099\n",
       "aze  | 25.23           | 9032465          | 2278891\n",
       "bdi  | 86.43           | 8675606          | 7498326\n",
       "bel  | 0.83            | 10938735         | 90792\n",
       "ben  | 51.61           | 9199254          | 4747735\n",
       "... (135 rows omitted)"
      ]
     },
     "execution_count": 160,
     "metadata": {},
     "output_type": "execute_result"
    }
   ],
   "source": [
    "pop_sort_2010 = (population.where('time', are.equal_to(2010))).where('geo', are.contained_in(latest_poverty.column('geo')))\n",
    "poverty_and_pop = (latest_poverty.drop('time')).with_column('population_total', pop_sort_2010.column('population_total'))\n",
    "poverty_total = ((poverty_and_pop.column('poverty_percent'))/100)*poverty_and_pop.column('population_total')\n",
    "poverty_total_round = (np.round(poverty_total)).astype(int)\n",
    "recent_poverty_total = poverty_and_pop.with_column('poverty_total', poverty_total_round)\n",
    "recent_poverty_total"
   ]
  },
  {
   "cell_type": "code",
   "execution_count": 159,
   "metadata": {
    "deletable": false,
    "editable": false
   },
   "outputs": [
    {
     "data": {
      "text/html": [
       "<p><strong><pre style='display: inline;'>q2_2</pre></strong> passed! 🚀</p>"
      ],
      "text/plain": [
       "q2_2 results: All test cases passed!"
      ]
     },
     "execution_count": 159,
     "metadata": {},
     "output_type": "execute_result"
    }
   ],
   "source": [
    "grader.check(\"q2_2\")"
   ]
  },
  {
   "cell_type": "markdown",
   "metadata": {},
   "source": [
    "**Question 3.** Assign the name `poverty_percent` to the known percentage of the world’s 2010 population that were living in extreme poverty. Assume that the `poverty_total` numbers in the `recent_poverty_total` table describe **all** people in 2010 living in extreme poverty. You should get a number that is above the 2018 global estimate of 9%, since many country-specific poverty rates are older than 2018.\n",
    "\n",
    "*Hint*: The sum of the `population_total` column in the `recent_poverty_total` table is not the world population, because only a subset of the world's countries are included in the `recent_poverty_total` table (only some countries have known poverty rates). Use the `population` table to compute the world's 2010 total population.\n",
    "\n",
    "*Hint*: We are computing a percentage (value between 0 and 100), not a proportion (value between 0 and 1).\n"
   ]
  },
  {
   "cell_type": "code",
   "execution_count": 144,
   "metadata": {
    "deletable": false,
    "tags": []
   },
   "outputs": [
    {
     "data": {
      "text/plain": [
       "45.97982104889747"
      ]
     },
     "execution_count": 144,
     "metadata": {},
     "output_type": "execute_result"
    }
   ],
   "source": [
    "poverty_percent = ((sum(recent_poverty_total.column('poverty_total')))/(sum((population.where('time',are.equal_to(2010))).column('population_total'))))*100\n",
    "poverty_percent"
   ]
  },
  {
   "cell_type": "code",
   "execution_count": 130,
   "metadata": {
    "deletable": false,
    "editable": false
   },
   "outputs": [
    {
     "data": {
      "text/html": [
       "<p><strong style='color: red;'><pre style='display: inline;'>q2_3</pre> results:</strong></p><p><strong><pre style='display: inline;'>q2_3 - 1</pre> result:</strong></p><pre>    ❌ Test case failed\n",
       "    Trying:\n",
       "        10 <= poverty_percent <= 20\n",
       "    Expecting:\n",
       "        True\n",
       "    **********************************************************************\n",
       "    Line 1, in q2_3 0\n",
       "    Failed example:\n",
       "        10 <= poverty_percent <= 20\n",
       "    Exception raised:\n",
       "        Traceback (most recent call last):\n",
       "          File \"/usr/local/python/3.12.1/lib/python3.12/doctest.py\", line 1359, in __run\n",
       "            exec(compile(example.source, filename, \"single\",\n",
       "          File \"<doctest q2_3 0[0]>\", line 1, in <module>\n",
       "            10 <= poverty_percent <= 20\n",
       "        TypeError: '<=' not supported between instances of 'int' and 'ellipsis'\n",
       "</pre>"
      ],
      "text/plain": [
       "q2_3 results:\n",
       "    q2_3 - 1 result:\n",
       "        ❌ Test case failed\n",
       "        Trying:\n",
       "            10 <= poverty_percent <= 20\n",
       "        Expecting:\n",
       "            True\n",
       "        **********************************************************************\n",
       "        Line 1, in q2_3 0\n",
       "        Failed example:\n",
       "            10 <= poverty_percent <= 20\n",
       "        Exception raised:\n",
       "            Traceback (most recent call last):\n",
       "              File \"/usr/local/python/3.12.1/lib/python3.12/doctest.py\", line 1359, in __run\n",
       "                exec(compile(example.source, filename, \"single\",\n",
       "              File \"<doctest q2_3 0[0]>\", line 1, in <module>\n",
       "                10 <= poverty_percent <= 20\n",
       "            TypeError: '<=' not supported between instances of 'int' and 'ellipsis'"
      ]
     },
     "execution_count": 130,
     "metadata": {},
     "output_type": "execute_result"
    }
   ],
   "source": [
    "grader.check(\"q2_3\")"
   ]
  },
  {
   "cell_type": "markdown",
   "metadata": {
    "deletable": false,
    "editable": false
   },
   "source": [
    "The `countries` table includes not only the name and region of countries, but also their positions on the globe."
   ]
  },
  {
   "cell_type": "code",
   "execution_count": 165,
   "metadata": {
    "deletable": false,
    "editable": false
   },
   "outputs": [
    {
     "data": {
      "text/html": [
       "<table border=\"1\" class=\"dataframe\">\n",
       "    <thead>\n",
       "        <tr>\n",
       "            <th>country</th> <th>name</th> <th>world_4region</th> <th>latitude</th> <th>longitude</th>\n",
       "        </tr>\n",
       "    </thead>\n",
       "    <tbody>\n",
       "        <tr>\n",
       "            <td>afg    </td> <td>Afghanistan         </td> <td>asia         </td> <td>33      </td> <td>66       </td>\n",
       "        </tr>\n",
       "        <tr>\n",
       "            <td>ago    </td> <td>Angola              </td> <td>africa       </td> <td>-12.5   </td> <td>18.5     </td>\n",
       "        </tr>\n",
       "        <tr>\n",
       "            <td>alb    </td> <td>Albania             </td> <td>europe       </td> <td>41      </td> <td>20       </td>\n",
       "        </tr>\n",
       "        <tr>\n",
       "            <td>and    </td> <td>Andorra             </td> <td>europe       </td> <td>42.5078 </td> <td>1.52109  </td>\n",
       "        </tr>\n",
       "        <tr>\n",
       "            <td>are    </td> <td>United Arab Emirates</td> <td>asia         </td> <td>23.75   </td> <td>54.5     </td>\n",
       "        </tr>\n",
       "        <tr>\n",
       "            <td>arg    </td> <td>Argentina           </td> <td>americas     </td> <td>-34     </td> <td>-64      </td>\n",
       "        </tr>\n",
       "        <tr>\n",
       "            <td>arm    </td> <td>Armenia             </td> <td>europe       </td> <td>40.25   </td> <td>45       </td>\n",
       "        </tr>\n",
       "        <tr>\n",
       "            <td>atg    </td> <td>Antigua and Barbuda </td> <td>americas     </td> <td>17.05   </td> <td>-61.8    </td>\n",
       "        </tr>\n",
       "        <tr>\n",
       "            <td>aus    </td> <td>Australia           </td> <td>asia         </td> <td>-25     </td> <td>135      </td>\n",
       "        </tr>\n",
       "        <tr>\n",
       "            <td>aut    </td> <td>Austria             </td> <td>europe       </td> <td>47.3333 </td> <td>13.3333  </td>\n",
       "        </tr>\n",
       "    </tbody>\n",
       "</table>\n",
       "<p>... (187 rows omitted)</p>"
      ],
      "text/plain": [
       "country | name                 | world_4region | latitude | longitude\n",
       "afg     | Afghanistan          | asia          | 33       | 66\n",
       "ago     | Angola               | africa        | -12.5    | 18.5\n",
       "alb     | Albania              | europe        | 41       | 20\n",
       "and     | Andorra              | europe        | 42.5078  | 1.52109\n",
       "are     | United Arab Emirates | asia          | 23.75    | 54.5\n",
       "arg     | Argentina            | americas      | -34      | -64\n",
       "arm     | Armenia              | europe        | 40.25    | 45\n",
       "atg     | Antigua and Barbuda  | americas      | 17.05    | -61.8\n",
       "aus     | Australia            | asia          | -25      | 135\n",
       "aut     | Austria              | europe        | 47.3333  | 13.3333\n",
       "... (187 rows omitted)"
      ]
     },
     "execution_count": 165,
     "metadata": {},
     "output_type": "execute_result"
    }
   ],
   "source": [
    "countries_filter = countries.select('country', 'name', 'world_4region', 'latitude', 'longitude')\n",
    "countries_filter"
   ]
  },
  {
   "cell_type": "markdown",
   "metadata": {},
   "source": [
    "**Question 4.** Using both `countries` and `recent_poverty_total`, create a five-column table called `poverty_map` with one row for every country in `recent_poverty_total`.  The five columns should have the following labels and contents, in this order:\n",
    "1. `latitude` contains the country's latitude,\n",
    "1. `longitude` contains the country's longitude,\n",
    "1. `name` contains the country's name,\n",
    "1. `region` contains the country's region from the `world_4region` column of `countries`,\n",
    "1. `poverty_total` contains the country's poverty total.\n"
   ]
  },
  {
   "cell_type": "code",
   "execution_count": 113,
   "metadata": {
    "deletable": false,
    "tags": []
   },
   "outputs": [
    {
     "data": {
      "text/html": [
       "<table border=\"1\" class=\"dataframe\">\n",
       "    <thead>\n",
       "        <tr>\n",
       "            <th>latitude</th> <th>longitude</th> <th>name</th> <th>region</th> <th>poverty_total</th>\n",
       "        </tr>\n",
       "    </thead>\n",
       "    <tbody>\n",
       "        <tr>\n",
       "            <td>35      </td> <td>105      </td> <td>China           </td> <td>asia  </td> <td>1153496696   </td>\n",
       "        </tr>\n",
       "        <tr>\n",
       "            <td>22      </td> <td>79       </td> <td>India           </td> <td>asia  </td> <td>813267858    </td>\n",
       "        </tr>\n",
       "        <tr>\n",
       "            <td>-5      </td> <td>120      </td> <td>Indonesia       </td> <td>asia  </td> <td>164834208    </td>\n",
       "        </tr>\n",
       "        <tr>\n",
       "            <td>30      </td> <td>70       </td> <td>Pakistan        </td> <td>asia  </td> <td>119245618    </td>\n",
       "        </tr>\n",
       "        <tr>\n",
       "            <td>10      </td> <td>8        </td> <td>Nigeria         </td> <td>africa</td> <td>108812449    </td>\n",
       "        </tr>\n",
       "        <tr>\n",
       "            <td>24      </td> <td>90       </td> <td>Bangladesh      </td> <td>asia  </td> <td>105678768    </td>\n",
       "        </tr>\n",
       "        <tr>\n",
       "            <td>9       </td> <td>39.5     </td> <td>Ethiopia        </td> <td>africa</td> <td>60576742     </td>\n",
       "        </tr>\n",
       "        <tr>\n",
       "            <td>-2.5    </td> <td>23.5     </td> <td>Congo, Dem. Rep.</td> <td>africa</td> <td>56635412     </td>\n",
       "        </tr>\n",
       "        <tr>\n",
       "            <td>16.1667 </td> <td>107.833  </td> <td>Vietnam         </td> <td>asia  </td> <td>56088177     </td>\n",
       "        </tr>\n",
       "        <tr>\n",
       "            <td>-6      </td> <td>35       </td> <td>Tanzania        </td> <td>africa</td> <td>37353084     </td>\n",
       "        </tr>\n",
       "    </tbody>\n",
       "</table>\n",
       "<p>... (135 rows omitted)</p>"
      ],
      "text/plain": [
       "latitude | longitude | name             | region | poverty_total\n",
       "35       | 105       | China            | asia   | 1153496696\n",
       "22       | 79        | India            | asia   | 813267858\n",
       "-5       | 120       | Indonesia        | asia   | 164834208\n",
       "30       | 70        | Pakistan         | asia   | 119245618\n",
       "10       | 8         | Nigeria          | africa | 108812449\n",
       "24       | 90        | Bangladesh       | asia   | 105678768\n",
       "9        | 39.5      | Ethiopia         | africa | 60576742\n",
       "-2.5     | 23.5      | Congo, Dem. Rep. | africa | 56635412\n",
       "16.1667  | 107.833   | Vietnam          | asia   | 56088177\n",
       "-6       | 35        | Tanzania         | africa | 37353084\n",
       "... (135 rows omitted)"
      ]
     },
     "execution_count": 113,
     "metadata": {},
     "output_type": "execute_result"
    }
   ],
   "source": [
    "filtered_down = countries_filter.where('country', are.contained_in(recent_poverty_total.column('geo')))\n",
    "ppre_poverty_map = filtered_down.with_column('poverty_total', recent_poverty_total.column('poverty_total'))\n",
    "pre_poverty_map = ppre_poverty_map.select('latitude','longitude','name','world_4region','poverty_total')\n",
    "poverty_map = pre_poverty_map.relabeled('world_4region','region').sort('poverty_total', descending=True)\n",
    "poverty_map"
   ]
  },
  {
   "cell_type": "code",
   "execution_count": 114,
   "metadata": {
    "deletable": false,
    "editable": false
   },
   "outputs": [
    {
     "data": {
      "text/html": [
       "<p><strong><pre style='display: inline;'>q2_4</pre></strong> passed! 🙌</p>"
      ],
      "text/plain": [
       "q2_4 results: All test cases passed!"
      ]
     },
     "execution_count": 114,
     "metadata": {},
     "output_type": "execute_result"
    }
   ],
   "source": [
    "grader.check(\"q2_4\")"
   ]
  },
  {
   "cell_type": "markdown",
   "metadata": {
    "deletable": false,
    "editable": false
   },
   "source": [
    "Run the cell below to draw a map of the world in which the areas of circles represent the number of people living in extreme poverty. Double-click on the map to zoom in.\n",
    "\n",
    "> ***Note:*** If the cell below isn't loading, you can view the output [here](https://github.jonathanferrari.com/static/poverty_map.html)"
   ]
  },
  {
   "cell_type": "code",
   "execution_count": 115,
   "metadata": {
    "deletable": false,
    "editable": false,
    "scrolled": true
   },
   "outputs": [
    {
     "data": {
      "text/html": [
       "<div style=\"width:100%;\"><div style=\"position:relative;width:100%;height:0;padding-bottom:60%;\"><span style=\"color:#565656\">Make this Notebook Trusted to load map: File -> Trust Notebook</span><iframe srcdoc=\"&lt;!DOCTYPE html&gt;\n",
       "&lt;html&gt;\n",
       "&lt;head&gt;\n",
       "    \n",
       "    &lt;meta http-equiv=&quot;content-type&quot; content=&quot;text/html; charset=UTF-8&quot; /&gt;\n",
       "    \n",
       "        &lt;script&gt;\n",
       "            L_NO_TOUCH = false;\n",
       "            L_DISABLE_3D = false;\n",
       "        &lt;/script&gt;\n",
       "    \n",
       "    &lt;style&gt;html, body {width: 100%;height: 100%;margin: 0;padding: 0;}&lt;/style&gt;\n",
       "    &lt;style&gt;#map {position:absolute;top:0;bottom:0;right:0;left:0;}&lt;/style&gt;\n",
       "    &lt;script src=&quot;https://cdn.jsdelivr.net/npm/leaflet@1.9.3/dist/leaflet.js&quot;&gt;&lt;/script&gt;\n",
       "    &lt;script src=&quot;https://code.jquery.com/jquery-3.7.1.min.js&quot;&gt;&lt;/script&gt;\n",
       "    &lt;script src=&quot;https://cdn.jsdelivr.net/npm/bootstrap@5.2.2/dist/js/bootstrap.bundle.min.js&quot;&gt;&lt;/script&gt;\n",
       "    &lt;script src=&quot;https://cdnjs.cloudflare.com/ajax/libs/Leaflet.awesome-markers/2.0.2/leaflet.awesome-markers.js&quot;&gt;&lt;/script&gt;\n",
       "    &lt;link rel=&quot;stylesheet&quot; href=&quot;https://cdn.jsdelivr.net/npm/leaflet@1.9.3/dist/leaflet.css&quot;/&gt;\n",
       "    &lt;link rel=&quot;stylesheet&quot; href=&quot;https://cdn.jsdelivr.net/npm/bootstrap@5.2.2/dist/css/bootstrap.min.css&quot;/&gt;\n",
       "    &lt;link rel=&quot;stylesheet&quot; href=&quot;https://netdna.bootstrapcdn.com/bootstrap/3.0.0/css/bootstrap-glyphicons.css&quot;/&gt;\n",
       "    &lt;link rel=&quot;stylesheet&quot; href=&quot;https://cdn.jsdelivr.net/npm/@fortawesome/fontawesome-free@6.2.0/css/all.min.css&quot;/&gt;\n",
       "    &lt;link rel=&quot;stylesheet&quot; href=&quot;https://cdnjs.cloudflare.com/ajax/libs/Leaflet.awesome-markers/2.0.2/leaflet.awesome-markers.css&quot;/&gt;\n",
       "    &lt;link rel=&quot;stylesheet&quot; href=&quot;https://cdn.jsdelivr.net/gh/python-visualization/folium/folium/templates/leaflet.awesome.rotate.min.css&quot;/&gt;\n",
       "    \n",
       "            &lt;meta name=&quot;viewport&quot; content=&quot;width=device-width,\n",
       "                initial-scale=1.0, maximum-scale=1.0, user-scalable=no&quot; /&gt;\n",
       "            &lt;style&gt;\n",
       "                #map_678786ce5b6b6805ed5fcf76aff74537 {\n",
       "                    position: relative;\n",
       "                    width: 960.0px;\n",
       "                    height: 500.0px;\n",
       "                    left: 0.0%;\n",
       "                    top: 0.0%;\n",
       "                }\n",
       "                .leaflet-container { font-size: 1rem; }\n",
       "            &lt;/style&gt;\n",
       "        \n",
       "&lt;/head&gt;\n",
       "&lt;body&gt;\n",
       "    \n",
       "    \n",
       "            &lt;div class=&quot;folium-map&quot; id=&quot;map_678786ce5b6b6805ed5fcf76aff74537&quot; &gt;&lt;/div&gt;\n",
       "        \n",
       "&lt;/body&gt;\n",
       "&lt;script&gt;\n",
       "    \n",
       "    \n",
       "            var map_678786ce5b6b6805ed5fcf76aff74537 = L.map(\n",
       "                &quot;map_678786ce5b6b6805ed5fcf76aff74537&quot;,\n",
       "                {\n",
       "                    center: [15.0, 32.17871],\n",
       "                    crs: L.CRS.EPSG3857,\n",
       "                    zoom: 1,\n",
       "                    zoomControl: true,\n",
       "                    preferCanvas: false,\n",
       "                    clusteredMarker: false,\n",
       "                    includeColorScaleOutliers: true,\n",
       "                    radiusInMeters: false,\n",
       "                }\n",
       "            );\n",
       "\n",
       "            \n",
       "\n",
       "        \n",
       "    \n",
       "            var tile_layer_8c1745de06575d098189245b8f225ffc = L.tileLayer(\n",
       "                &quot;https://tile.openstreetmap.org/{z}/{x}/{y}.png&quot;,\n",
       "                {&quot;attribution&quot;: &quot;\\u0026copy; \\u003ca href=\\&quot;https://www.openstreetmap.org/copyright\\&quot;\\u003eOpenStreetMap\\u003c/a\\u003e contributors&quot;, &quot;detectRetina&quot;: false, &quot;maxNativeZoom&quot;: 19, &quot;maxZoom&quot;: 17, &quot;minZoom&quot;: -1, &quot;noWrap&quot;: false, &quot;opacity&quot;: 1, &quot;subdomains&quot;: &quot;abc&quot;, &quot;tms&quot;: false}\n",
       "            );\n",
       "        \n",
       "    \n",
       "            tile_layer_8c1745de06575d098189245b8f225ffc.addTo(map_678786ce5b6b6805ed5fcf76aff74537);\n",
       "        \n",
       "    \n",
       "            var circle_marker_72b565f0736009ccaeee54c122f62f24 = L.circleMarker(\n",
       "                [35.0, 105.0],\n",
       "                {&quot;bubblingMouseEvents&quot;: true, &quot;color&quot;: &quot;red&quot;, &quot;dashArray&quot;: null, &quot;dashOffset&quot;: null, &quot;fill&quot;: true, &quot;fillColor&quot;: &quot;red&quot;, &quot;fillOpacity&quot;: 0.2, &quot;fillRule&quot;: &quot;evenodd&quot;, &quot;lineCap&quot;: &quot;round&quot;, &quot;lineJoin&quot;: &quot;round&quot;, &quot;opacity&quot;: 1.0, &quot;radius&quot;: 191.61664907234407, &quot;stroke&quot;: true, &quot;weight&quot;: 3}\n",
       "            ).addTo(map_678786ce5b6b6805ed5fcf76aff74537);\n",
       "        \n",
       "    \n",
       "        var popup_4f34bba630079bd24b32346a6b68ac0e = L.popup({&quot;maxWidth&quot;: &quot;100%&quot;});\n",
       "\n",
       "        \n",
       "            \n",
       "                var html_21b22707ff18d3ce8221d49299081478 = $(`&lt;div id=&quot;html_21b22707ff18d3ce8221d49299081478&quot; style=&quot;width: 100.0%; height: 100.0%;&quot;&gt;China&lt;/div&gt;`)[0];\n",
       "                popup_4f34bba630079bd24b32346a6b68ac0e.setContent(html_21b22707ff18d3ce8221d49299081478);\n",
       "            \n",
       "        \n",
       "\n",
       "        circle_marker_72b565f0736009ccaeee54c122f62f24.bindPopup(popup_4f34bba630079bd24b32346a6b68ac0e)\n",
       "        ;\n",
       "\n",
       "        \n",
       "    \n",
       "    \n",
       "            var circle_marker_09c0654d9a3213bbbee69db4d8f0c2c5 = L.circleMarker(\n",
       "                [22.0, 79.0],\n",
       "                {&quot;bubblingMouseEvents&quot;: true, &quot;color&quot;: &quot;red&quot;, &quot;dashArray&quot;: null, &quot;dashOffset&quot;: null, &quot;fill&quot;: true, &quot;fillColor&quot;: &quot;red&quot;, &quot;fillOpacity&quot;: 0.2, &quot;fillRule&quot;: &quot;evenodd&quot;, &quot;lineCap&quot;: &quot;round&quot;, &quot;lineJoin&quot;: &quot;round&quot;, &quot;opacity&quot;: 1.0, &quot;radius&quot;: 160.8947479928774, &quot;stroke&quot;: true, &quot;weight&quot;: 3}\n",
       "            ).addTo(map_678786ce5b6b6805ed5fcf76aff74537);\n",
       "        \n",
       "    \n",
       "        var popup_7a1aea4acfe8b13878aba08bfc1aa7b4 = L.popup({&quot;maxWidth&quot;: &quot;100%&quot;});\n",
       "\n",
       "        \n",
       "            \n",
       "                var html_251dc410c505ad6dd9fe09a719a58480 = $(`&lt;div id=&quot;html_251dc410c505ad6dd9fe09a719a58480&quot; style=&quot;width: 100.0%; height: 100.0%;&quot;&gt;India&lt;/div&gt;`)[0];\n",
       "                popup_7a1aea4acfe8b13878aba08bfc1aa7b4.setContent(html_251dc410c505ad6dd9fe09a719a58480);\n",
       "            \n",
       "        \n",
       "\n",
       "        circle_marker_09c0654d9a3213bbbee69db4d8f0c2c5.bindPopup(popup_7a1aea4acfe8b13878aba08bfc1aa7b4)\n",
       "        ;\n",
       "\n",
       "        \n",
       "    \n",
       "    \n",
       "            var circle_marker_ae462f248f0ed4ec71b238e278a73ccd = L.circleMarker(\n",
       "                [-5.0, 120.0],\n",
       "                {&quot;bubblingMouseEvents&quot;: true, &quot;color&quot;: &quot;red&quot;, &quot;dashArray&quot;: null, &quot;dashOffset&quot;: null, &quot;fill&quot;: true, &quot;fillColor&quot;: &quot;red&quot;, &quot;fillOpacity&quot;: 0.2, &quot;fillRule&quot;: &quot;evenodd&quot;, &quot;lineCap&quot;: &quot;round&quot;, &quot;lineJoin&quot;: &quot;round&quot;, &quot;opacity&quot;: 1.0, &quot;radius&quot;: 72.4350453769964, &quot;stroke&quot;: true, &quot;weight&quot;: 3}\n",
       "            ).addTo(map_678786ce5b6b6805ed5fcf76aff74537);\n",
       "        \n",
       "    \n",
       "        var popup_8ab8ee3724b52cd9fec18eecc3fa7d31 = L.popup({&quot;maxWidth&quot;: &quot;100%&quot;});\n",
       "\n",
       "        \n",
       "            \n",
       "                var html_fa803d4f6c0be5c81e7916ac15544fd7 = $(`&lt;div id=&quot;html_fa803d4f6c0be5c81e7916ac15544fd7&quot; style=&quot;width: 100.0%; height: 100.0%;&quot;&gt;Indonesia&lt;/div&gt;`)[0];\n",
       "                popup_8ab8ee3724b52cd9fec18eecc3fa7d31.setContent(html_fa803d4f6c0be5c81e7916ac15544fd7);\n",
       "            \n",
       "        \n",
       "\n",
       "        circle_marker_ae462f248f0ed4ec71b238e278a73ccd.bindPopup(popup_8ab8ee3724b52cd9fec18eecc3fa7d31)\n",
       "        ;\n",
       "\n",
       "        \n",
       "    \n",
       "    \n",
       "            var circle_marker_b26ad9c8d1373f79ed64a609d1e26916 = L.circleMarker(\n",
       "                [30.0, 70.0],\n",
       "                {&quot;bubblingMouseEvents&quot;: true, &quot;color&quot;: &quot;red&quot;, &quot;dashArray&quot;: null, &quot;dashOffset&quot;: null, &quot;fill&quot;: true, &quot;fillColor&quot;: &quot;red&quot;, &quot;fillOpacity&quot;: 0.2, &quot;fillRule&quot;: &quot;evenodd&quot;, &quot;lineCap&quot;: &quot;round&quot;, &quot;lineJoin&quot;: &quot;round&quot;, &quot;opacity&quot;: 1.0, &quot;radius&quot;: 61.60930051014683, &quot;stroke&quot;: true, &quot;weight&quot;: 3}\n",
       "            ).addTo(map_678786ce5b6b6805ed5fcf76aff74537);\n",
       "        \n",
       "    \n",
       "        var popup_e2d6a54be73a50c2a48dcb077c510555 = L.popup({&quot;maxWidth&quot;: &quot;100%&quot;});\n",
       "\n",
       "        \n",
       "            \n",
       "                var html_a3042bf2d00a7b0099a9f9ad7cde5b99 = $(`&lt;div id=&quot;html_a3042bf2d00a7b0099a9f9ad7cde5b99&quot; style=&quot;width: 100.0%; height: 100.0%;&quot;&gt;Pakistan&lt;/div&gt;`)[0];\n",
       "                popup_e2d6a54be73a50c2a48dcb077c510555.setContent(html_a3042bf2d00a7b0099a9f9ad7cde5b99);\n",
       "            \n",
       "        \n",
       "\n",
       "        circle_marker_b26ad9c8d1373f79ed64a609d1e26916.bindPopup(popup_e2d6a54be73a50c2a48dcb077c510555)\n",
       "        ;\n",
       "\n",
       "        \n",
       "    \n",
       "    \n",
       "            var circle_marker_23248dedcc7b89c8e07beba3d8d0f8ed = L.circleMarker(\n",
       "                [10.0, 8.0],\n",
       "                {&quot;bubblingMouseEvents&quot;: true, &quot;color&quot;: &quot;blue&quot;, &quot;dashArray&quot;: null, &quot;dashOffset&quot;: null, &quot;fill&quot;: true, &quot;fillColor&quot;: &quot;blue&quot;, &quot;fillOpacity&quot;: 0.2, &quot;fillRule&quot;: &quot;evenodd&quot;, &quot;lineCap&quot;: &quot;round&quot;, &quot;lineJoin&quot;: &quot;round&quot;, &quot;opacity&quot;: 1.0, &quot;radius&quot;: 58.85242412727748, &quot;stroke&quot;: true, &quot;weight&quot;: 3}\n",
       "            ).addTo(map_678786ce5b6b6805ed5fcf76aff74537);\n",
       "        \n",
       "    \n",
       "        var popup_52baa5c979fba1de74e001e0c6a301f0 = L.popup({&quot;maxWidth&quot;: &quot;100%&quot;});\n",
       "\n",
       "        \n",
       "            \n",
       "                var html_c813f167ba19651de8b961ab215af1fa = $(`&lt;div id=&quot;html_c813f167ba19651de8b961ab215af1fa&quot; style=&quot;width: 100.0%; height: 100.0%;&quot;&gt;Nigeria&lt;/div&gt;`)[0];\n",
       "                popup_52baa5c979fba1de74e001e0c6a301f0.setContent(html_c813f167ba19651de8b961ab215af1fa);\n",
       "            \n",
       "        \n",
       "\n",
       "        circle_marker_23248dedcc7b89c8e07beba3d8d0f8ed.bindPopup(popup_52baa5c979fba1de74e001e0c6a301f0)\n",
       "        ;\n",
       "\n",
       "        \n",
       "    \n",
       "    \n",
       "            var circle_marker_1aff6e047944d56a53719d139360fbca = L.circleMarker(\n",
       "                [24.0, 90.0],\n",
       "                {&quot;bubblingMouseEvents&quot;: true, &quot;color&quot;: &quot;red&quot;, &quot;dashArray&quot;: null, &quot;dashOffset&quot;: null, &quot;fill&quot;: true, &quot;fillColor&quot;: &quot;red&quot;, &quot;fillOpacity&quot;: 0.2, &quot;fillRule&quot;: &quot;evenodd&quot;, &quot;lineCap&quot;: &quot;round&quot;, &quot;lineJoin&quot;: &quot;round&quot;, &quot;opacity&quot;: 1.0, &quot;radius&quot;: 57.99879017197102, &quot;stroke&quot;: true, &quot;weight&quot;: 3}\n",
       "            ).addTo(map_678786ce5b6b6805ed5fcf76aff74537);\n",
       "        \n",
       "    \n",
       "        var popup_cda8c0113a6cd6eebf676c16c0f2b970 = L.popup({&quot;maxWidth&quot;: &quot;100%&quot;});\n",
       "\n",
       "        \n",
       "            \n",
       "                var html_a77a33991650a4eb83ae5adf209eba1c = $(`&lt;div id=&quot;html_a77a33991650a4eb83ae5adf209eba1c&quot; style=&quot;width: 100.0%; height: 100.0%;&quot;&gt;Bangladesh&lt;/div&gt;`)[0];\n",
       "                popup_cda8c0113a6cd6eebf676c16c0f2b970.setContent(html_a77a33991650a4eb83ae5adf209eba1c);\n",
       "            \n",
       "        \n",
       "\n",
       "        circle_marker_1aff6e047944d56a53719d139360fbca.bindPopup(popup_cda8c0113a6cd6eebf676c16c0f2b970)\n",
       "        ;\n",
       "\n",
       "        \n",
       "    \n",
       "    \n",
       "            var circle_marker_9cb4d038f957fbbd42d22542ebd446f2 = L.circleMarker(\n",
       "                [9.0, 39.5],\n",
       "                {&quot;bubblingMouseEvents&quot;: true, &quot;color&quot;: &quot;blue&quot;, &quot;dashArray&quot;: null, &quot;dashOffset&quot;: null, &quot;fill&quot;: true, &quot;fillColor&quot;: &quot;blue&quot;, &quot;fillOpacity&quot;: 0.2, &quot;fillRule&quot;: &quot;evenodd&quot;, &quot;lineCap&quot;: &quot;round&quot;, &quot;lineJoin&quot;: &quot;round&quot;, &quot;opacity&quot;: 1.0, &quot;radius&quot;: 43.91147441319279, &quot;stroke&quot;: true, &quot;weight&quot;: 3}\n",
       "            ).addTo(map_678786ce5b6b6805ed5fcf76aff74537);\n",
       "        \n",
       "    \n",
       "        var popup_919a5a2cc51d6c0d6c299b777858a4d2 = L.popup({&quot;maxWidth&quot;: &quot;100%&quot;});\n",
       "\n",
       "        \n",
       "            \n",
       "                var html_d03d5d789125d32397027649ac8718af = $(`&lt;div id=&quot;html_d03d5d789125d32397027649ac8718af&quot; style=&quot;width: 100.0%; height: 100.0%;&quot;&gt;Ethiopia&lt;/div&gt;`)[0];\n",
       "                popup_919a5a2cc51d6c0d6c299b777858a4d2.setContent(html_d03d5d789125d32397027649ac8718af);\n",
       "            \n",
       "        \n",
       "\n",
       "        circle_marker_9cb4d038f957fbbd42d22542ebd446f2.bindPopup(popup_919a5a2cc51d6c0d6c299b777858a4d2)\n",
       "        ;\n",
       "\n",
       "        \n",
       "    \n",
       "    \n",
       "            var circle_marker_4a49d5a2d86c85b6396795659214ed4c = L.circleMarker(\n",
       "                [-2.5, 23.5],\n",
       "                {&quot;bubblingMouseEvents&quot;: true, &quot;color&quot;: &quot;blue&quot;, &quot;dashArray&quot;: null, &quot;dashOffset&quot;: null, &quot;fill&quot;: true, &quot;fillColor&quot;: &quot;blue&quot;, &quot;fillOpacity&quot;: 0.2, &quot;fillRule&quot;: &quot;evenodd&quot;, &quot;lineCap&quot;: &quot;round&quot;, &quot;lineJoin&quot;: &quot;round&quot;, &quot;opacity&quot;: 1.0, &quot;radius&quot;: 42.45893492268982, &quot;stroke&quot;: true, &quot;weight&quot;: 3}\n",
       "            ).addTo(map_678786ce5b6b6805ed5fcf76aff74537);\n",
       "        \n",
       "    \n",
       "        var popup_824f24f4db8dbd5728d10a2ef66350d0 = L.popup({&quot;maxWidth&quot;: &quot;100%&quot;});\n",
       "\n",
       "        \n",
       "            \n",
       "                var html_4ee0f7dc47f740dc4b675121b380a934 = $(`&lt;div id=&quot;html_4ee0f7dc47f740dc4b675121b380a934&quot; style=&quot;width: 100.0%; height: 100.0%;&quot;&gt;Congo, Dem. Rep.&lt;/div&gt;`)[0];\n",
       "                popup_824f24f4db8dbd5728d10a2ef66350d0.setContent(html_4ee0f7dc47f740dc4b675121b380a934);\n",
       "            \n",
       "        \n",
       "\n",
       "        circle_marker_4a49d5a2d86c85b6396795659214ed4c.bindPopup(popup_824f24f4db8dbd5728d10a2ef66350d0)\n",
       "        ;\n",
       "\n",
       "        \n",
       "    \n",
       "    \n",
       "            var circle_marker_f83afda7d352923c86386990058a59bf = L.circleMarker(\n",
       "                [16.16667, 107.83333],\n",
       "                {&quot;bubblingMouseEvents&quot;: true, &quot;color&quot;: &quot;red&quot;, &quot;dashArray&quot;: null, &quot;dashOffset&quot;: null, &quot;fill&quot;: true, &quot;fillColor&quot;: &quot;red&quot;, &quot;fillOpacity&quot;: 0.2, &quot;fillRule&quot;: &quot;evenodd&quot;, &quot;lineCap&quot;: &quot;round&quot;, &quot;lineJoin&quot;: &quot;round&quot;, &quot;opacity&quot;: 1.0, &quot;radius&quot;: 42.25330902678074, &quot;stroke&quot;: true, &quot;weight&quot;: 3}\n",
       "            ).addTo(map_678786ce5b6b6805ed5fcf76aff74537);\n",
       "        \n",
       "    \n",
       "        var popup_96068551af6b580b15700a844dcc6d87 = L.popup({&quot;maxWidth&quot;: &quot;100%&quot;});\n",
       "\n",
       "        \n",
       "            \n",
       "                var html_2afaff3a8c6d13c3ca0a2faf7c5fc87d = $(`&lt;div id=&quot;html_2afaff3a8c6d13c3ca0a2faf7c5fc87d&quot; style=&quot;width: 100.0%; height: 100.0%;&quot;&gt;Vietnam&lt;/div&gt;`)[0];\n",
       "                popup_96068551af6b580b15700a844dcc6d87.setContent(html_2afaff3a8c6d13c3ca0a2faf7c5fc87d);\n",
       "            \n",
       "        \n",
       "\n",
       "        circle_marker_f83afda7d352923c86386990058a59bf.bindPopup(popup_96068551af6b580b15700a844dcc6d87)\n",
       "        ;\n",
       "\n",
       "        \n",
       "    \n",
       "    \n",
       "            var circle_marker_a80a684d2bcfebe5988b4682e03775e0 = L.circleMarker(\n",
       "                [-6.0, 35.0],\n",
       "                {&quot;bubblingMouseEvents&quot;: true, &quot;color&quot;: &quot;blue&quot;, &quot;dashArray&quot;: null, &quot;dashOffset&quot;: null, &quot;fill&quot;: true, &quot;fillColor&quot;: &quot;blue&quot;, &quot;fillOpacity&quot;: 0.2, &quot;fillRule&quot;: &quot;evenodd&quot;, &quot;lineCap&quot;: &quot;round&quot;, &quot;lineJoin&quot;: &quot;round&quot;, &quot;opacity&quot;: 1.0, &quot;radius&quot;: 34.48167037232038, &quot;stroke&quot;: true, &quot;weight&quot;: 3}\n",
       "            ).addTo(map_678786ce5b6b6805ed5fcf76aff74537);\n",
       "        \n",
       "    \n",
       "        var popup_16e02c927cdada1762ac82e2153622bd = L.popup({&quot;maxWidth&quot;: &quot;100%&quot;});\n",
       "\n",
       "        \n",
       "            \n",
       "                var html_f5b7a317b2f69debdd7b3445aa3a998e = $(`&lt;div id=&quot;html_f5b7a317b2f69debdd7b3445aa3a998e&quot; style=&quot;width: 100.0%; height: 100.0%;&quot;&gt;Tanzania&lt;/div&gt;`)[0];\n",
       "                popup_16e02c927cdada1762ac82e2153622bd.setContent(html_f5b7a317b2f69debdd7b3445aa3a998e);\n",
       "            \n",
       "        \n",
       "\n",
       "        circle_marker_a80a684d2bcfebe5988b4682e03775e0.bindPopup(popup_16e02c927cdada1762ac82e2153622bd)\n",
       "        ;\n",
       "\n",
       "        \n",
       "    \n",
       "    \n",
       "            var circle_marker_4416890bd7348a22388cb0826db3bf22 = L.circleMarker(\n",
       "                [13.0, 122.0],\n",
       "                {&quot;bubblingMouseEvents&quot;: true, &quot;color&quot;: &quot;red&quot;, &quot;dashArray&quot;: null, &quot;dashOffset&quot;: null, &quot;fill&quot;: true, &quot;fillColor&quot;: &quot;red&quot;, &quot;fillOpacity&quot;: 0.2, &quot;fillRule&quot;: &quot;evenodd&quot;, &quot;lineCap&quot;: &quot;round&quot;, &quot;lineJoin&quot;: &quot;round&quot;, &quot;opacity&quot;: 1.0, &quot;radius&quot;: 34.180496416253504, &quot;stroke&quot;: true, &quot;weight&quot;: 3}\n",
       "            ).addTo(map_678786ce5b6b6805ed5fcf76aff74537);\n",
       "        \n",
       "    \n",
       "        var popup_f38de80242f08d89ed94d45d49716e86 = L.popup({&quot;maxWidth&quot;: &quot;100%&quot;});\n",
       "\n",
       "        \n",
       "            \n",
       "                var html_07df5d74aca7cb72f188f29f5a1dce81 = $(`&lt;div id=&quot;html_07df5d74aca7cb72f188f29f5a1dce81&quot; style=&quot;width: 100.0%; height: 100.0%;&quot;&gt;Philippines&lt;/div&gt;`)[0];\n",
       "                popup_f38de80242f08d89ed94d45d49716e86.setContent(html_07df5d74aca7cb72f188f29f5a1dce81);\n",
       "            \n",
       "        \n",
       "\n",
       "        circle_marker_4416890bd7348a22388cb0826db3bf22.bindPopup(popup_f38de80242f08d89ed94d45d49716e86)\n",
       "        ;\n",
       "\n",
       "        \n",
       "    \n",
       "    \n",
       "            var circle_marker_4c496645e4f7c5e8d32cf7fca4bd3fec = L.circleMarker(\n",
       "                [-10.0, -55.0],\n",
       "                {&quot;bubblingMouseEvents&quot;: true, &quot;color&quot;: &quot;green&quot;, &quot;dashArray&quot;: null, &quot;dashOffset&quot;: null, &quot;fill&quot;: true, &quot;fillColor&quot;: &quot;green&quot;, &quot;fillOpacity&quot;: 0.2, &quot;fillRule&quot;: &quot;evenodd&quot;, &quot;lineCap&quot;: &quot;round&quot;, &quot;lineJoin&quot;: &quot;round&quot;, &quot;opacity&quot;: 1.0, &quot;radius&quot;: 32.2547619133685, &quot;stroke&quot;: true, &quot;weight&quot;: 3}\n",
       "            ).addTo(map_678786ce5b6b6805ed5fcf76aff74537);\n",
       "        \n",
       "    \n",
       "        var popup_30c92165bf5d71656e61627ac1a09822 = L.popup({&quot;maxWidth&quot;: &quot;100%&quot;});\n",
       "\n",
       "        \n",
       "            \n",
       "                var html_909f8c66fce81d546833787488bfa09d = $(`&lt;div id=&quot;html_909f8c66fce81d546833787488bfa09d&quot; style=&quot;width: 100.0%; height: 100.0%;&quot;&gt;Brazil&lt;/div&gt;`)[0];\n",
       "                popup_30c92165bf5d71656e61627ac1a09822.setContent(html_909f8c66fce81d546833787488bfa09d);\n",
       "            \n",
       "        \n",
       "\n",
       "        circle_marker_4c496645e4f7c5e8d32cf7fca4bd3fec.bindPopup(popup_30c92165bf5d71656e61627ac1a09822)\n",
       "        ;\n",
       "\n",
       "        \n",
       "    \n",
       "    \n",
       "            var circle_marker_61934f13123ea5ae99fea5fc4e8d8fce = L.circleMarker(\n",
       "                [1.25, 32.5],\n",
       "                {&quot;bubblingMouseEvents&quot;: true, &quot;color&quot;: &quot;blue&quot;, &quot;dashArray&quot;: null, &quot;dashOffset&quot;: null, &quot;fill&quot;: true, &quot;fillColor&quot;: &quot;blue&quot;, &quot;fillOpacity&quot;: 0.2, &quot;fillRule&quot;: &quot;evenodd&quot;, &quot;lineCap&quot;: &quot;round&quot;, &quot;lineJoin&quot;: &quot;round&quot;, &quot;opacity&quot;: 1.0, &quot;radius&quot;: 27.246522929908185, &quot;stroke&quot;: true, &quot;weight&quot;: 3}\n",
       "            ).addTo(map_678786ce5b6b6805ed5fcf76aff74537);\n",
       "        \n",
       "    \n",
       "        var popup_8bdc1f39926eef385ce582fc2054f677 = L.popup({&quot;maxWidth&quot;: &quot;100%&quot;});\n",
       "\n",
       "        \n",
       "            \n",
       "                var html_fe4705071da0cd0c8160decd9aa4dcae = $(`&lt;div id=&quot;html_fe4705071da0cd0c8160decd9aa4dcae&quot; style=&quot;width: 100.0%; height: 100.0%;&quot;&gt;Uganda&lt;/div&gt;`)[0];\n",
       "                popup_8bdc1f39926eef385ce582fc2054f677.setContent(html_fe4705071da0cd0c8160decd9aa4dcae);\n",
       "            \n",
       "        \n",
       "\n",
       "        circle_marker_61934f13123ea5ae99fea5fc4e8d8fce.bindPopup(popup_8bdc1f39926eef385ce582fc2054f677)\n",
       "        ;\n",
       "\n",
       "        \n",
       "    \n",
       "    \n",
       "            var circle_marker_05f99a5d5a394811c013879301c7a265 = L.circleMarker(\n",
       "                [28.0, 84.0],\n",
       "                {&quot;bubblingMouseEvents&quot;: true, &quot;color&quot;: &quot;red&quot;, &quot;dashArray&quot;: null, &quot;dashOffset&quot;: null, &quot;fill&quot;: true, &quot;fillColor&quot;: &quot;red&quot;, &quot;fillOpacity&quot;: 0.2, &quot;fillRule&quot;: &quot;evenodd&quot;, &quot;lineCap&quot;: &quot;round&quot;, &quot;lineJoin&quot;: &quot;round&quot;, &quot;opacity&quot;: 1.0, &quot;radius&quot;: 25.9225442998105, &quot;stroke&quot;: true, &quot;weight&quot;: 3}\n",
       "            ).addTo(map_678786ce5b6b6805ed5fcf76aff74537);\n",
       "        \n",
       "    \n",
       "        var popup_0e0c00b98d2d4471c4ac36687d80106f = L.popup({&quot;maxWidth&quot;: &quot;100%&quot;});\n",
       "\n",
       "        \n",
       "            \n",
       "                var html_80f5de3b0c6aefbe7b6e8d5ac2d364d8 = $(`&lt;div id=&quot;html_80f5de3b0c6aefbe7b6e8d5ac2d364d8&quot; style=&quot;width: 100.0%; height: 100.0%;&quot;&gt;Nepal&lt;/div&gt;`)[0];\n",
       "                popup_0e0c00b98d2d4471c4ac36687d80106f.setContent(html_80f5de3b0c6aefbe7b6e8d5ac2d364d8);\n",
       "            \n",
       "        \n",
       "\n",
       "        circle_marker_05f99a5d5a394811c013879301c7a265.bindPopup(popup_0e0c00b98d2d4471c4ac36687d80106f)\n",
       "        ;\n",
       "\n",
       "        \n",
       "    \n",
       "    \n",
       "            var circle_marker_dc72678495d7b9d7e74972316d32a1f7 = L.circleMarker(\n",
       "                [-20.0, 47.0],\n",
       "                {&quot;bubblingMouseEvents&quot;: true, &quot;color&quot;: &quot;blue&quot;, &quot;dashArray&quot;: null, &quot;dashOffset&quot;: null, &quot;fill&quot;: true, &quot;fillColor&quot;: &quot;blue&quot;, &quot;fillOpacity&quot;: 0.2, &quot;fillRule&quot;: &quot;evenodd&quot;, &quot;lineCap&quot;: &quot;round&quot;, &quot;lineJoin&quot;: &quot;round&quot;, &quot;opacity&quot;: 1.0, &quot;radius&quot;: 25.242621279013672, &quot;stroke&quot;: true, &quot;weight&quot;: 3}\n",
       "            ).addTo(map_678786ce5b6b6805ed5fcf76aff74537);\n",
       "        \n",
       "    \n",
       "        var popup_41b143de320c3ebcc98c2641fb1fb653 = L.popup({&quot;maxWidth&quot;: &quot;100%&quot;});\n",
       "\n",
       "        \n",
       "            \n",
       "                var html_50fbfe966563e5c6918d9070d4f9b236 = $(`&lt;div id=&quot;html_50fbfe966563e5c6918d9070d4f9b236&quot; style=&quot;width: 100.0%; height: 100.0%;&quot;&gt;Madagascar&lt;/div&gt;`)[0];\n",
       "                popup_41b143de320c3ebcc98c2641fb1fb653.setContent(html_50fbfe966563e5c6918d9070d4f9b236);\n",
       "            \n",
       "        \n",
       "\n",
       "        circle_marker_dc72678495d7b9d7e74972316d32a1f7.bindPopup(popup_41b143de320c3ebcc98c2641fb1fb653)\n",
       "        ;\n",
       "\n",
       "        \n",
       "    \n",
       "    \n",
       "            var circle_marker_0ad26a10261dd9e8e2e9999353e2b772 = L.circleMarker(\n",
       "                [-18.25, 35.0],\n",
       "                {&quot;bubblingMouseEvents&quot;: true, &quot;color&quot;: &quot;blue&quot;, &quot;dashArray&quot;: null, &quot;dashOffset&quot;: null, &quot;fill&quot;: true, &quot;fillColor&quot;: &quot;blue&quot;, &quot;fillOpacity&quot;: 0.2, &quot;fillRule&quot;: &quot;evenodd&quot;, &quot;lineCap&quot;: &quot;round&quot;, &quot;lineJoin&quot;: &quot;round&quot;, &quot;opacity&quot;: 1.0, &quot;radius&quot;: 24.56920293676448, &quot;stroke&quot;: true, &quot;weight&quot;: 3}\n",
       "            ).addTo(map_678786ce5b6b6805ed5fcf76aff74537);\n",
       "        \n",
       "    \n",
       "        var popup_6fe1ffb21821ffa67b46be3357658ce7 = L.popup({&quot;maxWidth&quot;: &quot;100%&quot;});\n",
       "\n",
       "        \n",
       "            \n",
       "                var html_0b603a856d955f2a3ffc88541b9d3079 = $(`&lt;div id=&quot;html_0b603a856d955f2a3ffc88541b9d3079&quot; style=&quot;width: 100.0%; height: 100.0%;&quot;&gt;Mozambique&lt;/div&gt;`)[0];\n",
       "                popup_6fe1ffb21821ffa67b46be3357658ce7.setContent(html_0b603a856d955f2a3ffc88541b9d3079);\n",
       "            \n",
       "        \n",
       "\n",
       "        circle_marker_0ad26a10261dd9e8e2e9999353e2b772.bindPopup(popup_6fe1ffb21821ffa67b46be3357658ce7)\n",
       "        ;\n",
       "\n",
       "        \n",
       "    \n",
       "    \n",
       "            var circle_marker_981a0b82824d012e27728b0c31347752 = L.circleMarker(\n",
       "                [1.0, 38.0],\n",
       "                {&quot;bubblingMouseEvents&quot;: true, &quot;color&quot;: &quot;blue&quot;, &quot;dashArray&quot;: null, &quot;dashOffset&quot;: null, &quot;fill&quot;: true, &quot;fillColor&quot;: &quot;blue&quot;, &quot;fillOpacity&quot;: 0.2, &quot;fillRule&quot;: &quot;evenodd&quot;, &quot;lineCap&quot;: &quot;round&quot;, &quot;lineJoin&quot;: &quot;round&quot;, &quot;opacity&quot;: 1.0, &quot;radius&quot;: 24.088125640567295, &quot;stroke&quot;: true, &quot;weight&quot;: 3}\n",
       "            ).addTo(map_678786ce5b6b6805ed5fcf76aff74537);\n",
       "        \n",
       "    \n",
       "        var popup_a6cb8a3f61109882984cf56f5a08a993 = L.popup({&quot;maxWidth&quot;: &quot;100%&quot;});\n",
       "\n",
       "        \n",
       "            \n",
       "                var html_c59fabf4a75904d2139724aa11e98783 = $(`&lt;div id=&quot;html_c59fabf4a75904d2139724aa11e98783&quot; style=&quot;width: 100.0%; height: 100.0%;&quot;&gt;Kenya&lt;/div&gt;`)[0];\n",
       "                popup_a6cb8a3f61109882984cf56f5a08a993.setContent(html_c59fabf4a75904d2139724aa11e98783);\n",
       "            \n",
       "        \n",
       "\n",
       "        circle_marker_981a0b82824d012e27728b0c31347752.bindPopup(popup_a6cb8a3f61109882984cf56f5a08a993)\n",
       "        ;\n",
       "\n",
       "        \n",
       "    \n",
       "    \n",
       "            var circle_marker_9870fa1dcbab5f83ebc9455c4d600b2f = L.circleMarker(\n",
       "                [15.5, 101.0],\n",
       "                {&quot;bubblingMouseEvents&quot;: true, &quot;color&quot;: &quot;red&quot;, &quot;dashArray&quot;: null, &quot;dashOffset&quot;: null, &quot;fill&quot;: true, &quot;fillColor&quot;: &quot;red&quot;, &quot;fillOpacity&quot;: 0.2, &quot;fillRule&quot;: &quot;evenodd&quot;, &quot;lineCap&quot;: &quot;round&quot;, &quot;lineJoin&quot;: &quot;round&quot;, &quot;opacity&quot;: 1.0, &quot;radius&quot;: 21.672540025374772, &quot;stroke&quot;: true, &quot;weight&quot;: 3}\n",
       "            ).addTo(map_678786ce5b6b6805ed5fcf76aff74537);\n",
       "        \n",
       "    \n",
       "        var popup_41fc13a7088a46dafd8a27d4944712f2 = L.popup({&quot;maxWidth&quot;: &quot;100%&quot;});\n",
       "\n",
       "        \n",
       "            \n",
       "                var html_05dba0545d29b0520fdab95da71f9ce6 = $(`&lt;div id=&quot;html_05dba0545d29b0520fdab95da71f9ce6&quot; style=&quot;width: 100.0%; height: 100.0%;&quot;&gt;Thailand&lt;/div&gt;`)[0];\n",
       "                popup_41fc13a7088a46dafd8a27d4944712f2.setContent(html_05dba0545d29b0520fdab95da71f9ce6);\n",
       "            \n",
       "        \n",
       "\n",
       "        circle_marker_9870fa1dcbab5f83ebc9455c4d600b2f.bindPopup(popup_41fc13a7088a46dafd8a27d4944712f2)\n",
       "        ;\n",
       "\n",
       "        \n",
       "    \n",
       "    \n",
       "            var circle_marker_aef5d006315e7b5c2c4b316e5ca58487 = L.circleMarker(\n",
       "                [19.42847, -99.12766],\n",
       "                {&quot;bubblingMouseEvents&quot;: true, &quot;color&quot;: &quot;green&quot;, &quot;dashArray&quot;: null, &quot;dashOffset&quot;: null, &quot;fill&quot;: true, &quot;fillColor&quot;: &quot;green&quot;, &quot;fillOpacity&quot;: 0.2, &quot;fillRule&quot;: &quot;evenodd&quot;, &quot;lineCap&quot;: &quot;round&quot;, &quot;lineJoin&quot;: &quot;round&quot;, &quot;opacity&quot;: 1.0, &quot;radius&quot;: 21.543681011463075, &quot;stroke&quot;: true, &quot;weight&quot;: 3}\n",
       "            ).addTo(map_678786ce5b6b6805ed5fcf76aff74537);\n",
       "        \n",
       "    \n",
       "        var popup_f21ae2a8845d6d68591273a535274567 = L.popup({&quot;maxWidth&quot;: &quot;100%&quot;});\n",
       "\n",
       "        \n",
       "            \n",
       "                var html_50356bbf1ae5699cb2cfd144b192928c = $(`&lt;div id=&quot;html_50356bbf1ae5699cb2cfd144b192928c&quot; style=&quot;width: 100.0%; height: 100.0%;&quot;&gt;Mexico&lt;/div&gt;`)[0];\n",
       "                popup_f21ae2a8845d6d68591273a535274567.setContent(html_50356bbf1ae5699cb2cfd144b192928c);\n",
       "            \n",
       "        \n",
       "\n",
       "        circle_marker_aef5d006315e7b5c2c4b316e5ca58487.bindPopup(popup_f21ae2a8845d6d68591273a535274567)\n",
       "        ;\n",
       "\n",
       "        \n",
       "    \n",
       "    \n",
       "            var circle_marker_2fc312f658c0c82a88698f2f3f7fb190 = L.circleMarker(\n",
       "                [-29.0, 24.0],\n",
       "                {&quot;bubblingMouseEvents&quot;: true, &quot;color&quot;: &quot;blue&quot;, &quot;dashArray&quot;: null, &quot;dashOffset&quot;: null, &quot;fill&quot;: true, &quot;fillColor&quot;: &quot;blue&quot;, &quot;fillOpacity&quot;: 0.2, &quot;fillRule&quot;: &quot;evenodd&quot;, &quot;lineCap&quot;: &quot;round&quot;, &quot;lineJoin&quot;: &quot;round&quot;, &quot;opacity&quot;: 1.0, &quot;radius&quot;: 20.667247094540503, &quot;stroke&quot;: true, &quot;weight&quot;: 3}\n",
       "            ).addTo(map_678786ce5b6b6805ed5fcf76aff74537);\n",
       "        \n",
       "    \n",
       "        var popup_35fcd4ab5c50db9feb8d27c4e7c4b78b = L.popup({&quot;maxWidth&quot;: &quot;100%&quot;});\n",
       "\n",
       "        \n",
       "            \n",
       "                var html_1e5e28c653582a89dbd599fbc93621b1 = $(`&lt;div id=&quot;html_1e5e28c653582a89dbd599fbc93621b1&quot; style=&quot;width: 100.0%; height: 100.0%;&quot;&gt;South Africa&lt;/div&gt;`)[0];\n",
       "                popup_35fcd4ab5c50db9feb8d27c4e7c4b78b.setContent(html_1e5e28c653582a89dbd599fbc93621b1);\n",
       "            \n",
       "        \n",
       "\n",
       "        circle_marker_2fc312f658c0c82a88698f2f3f7fb190.bindPopup(popup_35fcd4ab5c50db9feb8d27c4e7c4b78b)\n",
       "        ;\n",
       "\n",
       "        \n",
       "    \n",
       "    \n",
       "            var circle_marker_0b005674344354c2b1d1b9ba3a5dacc3 = L.circleMarker(\n",
       "                [18.0, -2.0],\n",
       "                {&quot;bubblingMouseEvents&quot;: true, &quot;color&quot;: &quot;blue&quot;, &quot;dashArray&quot;: null, &quot;dashOffset&quot;: null, &quot;fill&quot;: true, &quot;fillColor&quot;: &quot;blue&quot;, &quot;fillOpacity&quot;: 0.2, &quot;fillRule&quot;: &quot;evenodd&quot;, &quot;lineCap&quot;: &quot;round&quot;, &quot;lineJoin&quot;: &quot;round&quot;, &quot;opacity&quot;: 1.0, &quot;radius&quot;: 20.287619641644866, &quot;stroke&quot;: true, &quot;weight&quot;: 3}\n",
       "            ).addTo(map_678786ce5b6b6805ed5fcf76aff74537);\n",
       "        \n",
       "    \n",
       "        var popup_bc0fb97b1608783e4bd04bd27191a08c = L.popup({&quot;maxWidth&quot;: &quot;100%&quot;});\n",
       "\n",
       "        \n",
       "            \n",
       "                var html_aebe50f0c3088c5e66cd8fd8cdb74c48 = $(`&lt;div id=&quot;html_aebe50f0c3088c5e66cd8fd8cdb74c48&quot; style=&quot;width: 100.0%; height: 100.0%;&quot;&gt;Mali&lt;/div&gt;`)[0];\n",
       "                popup_bc0fb97b1608783e4bd04bd27191a08c.setContent(html_aebe50f0c3088c5e66cd8fd8cdb74c48);\n",
       "            \n",
       "        \n",
       "\n",
       "        circle_marker_0b005674344354c2b1d1b9ba3a5dacc3.bindPopup(popup_bc0fb97b1608783e4bd04bd27191a08c)\n",
       "        ;\n",
       "\n",
       "        \n",
       "    \n",
       "    \n",
       "            var circle_marker_374ff1db60f715a01b76e9aa056e68c0 = L.circleMarker(\n",
       "                [18.0, 9.0],\n",
       "                {&quot;bubblingMouseEvents&quot;: true, &quot;color&quot;: &quot;blue&quot;, &quot;dashArray&quot;: null, &quot;dashOffset&quot;: null, &quot;fill&quot;: true, &quot;fillColor&quot;: &quot;blue&quot;, &quot;fillOpacity&quot;: 0.2, &quot;fillRule&quot;: &quot;evenodd&quot;, &quot;lineCap&quot;: &quot;round&quot;, &quot;lineJoin&quot;: &quot;round&quot;, &quot;opacity&quot;: 1.0, &quot;radius&quot;: 20.240121829854633, &quot;stroke&quot;: true, &quot;weight&quot;: 3}\n",
       "            ).addTo(map_678786ce5b6b6805ed5fcf76aff74537);\n",
       "        \n",
       "    \n",
       "        var popup_e4d0b143166bf4393019c9aa6fe0d17d = L.popup({&quot;maxWidth&quot;: &quot;100%&quot;});\n",
       "\n",
       "        \n",
       "            \n",
       "                var html_521cd3345c94c880987f3a351bdb144d = $(`&lt;div id=&quot;html_521cd3345c94c880987f3a351bdb144d&quot; style=&quot;width: 100.0%; height: 100.0%;&quot;&gt;Niger&lt;/div&gt;`)[0];\n",
       "                popup_e4d0b143166bf4393019c9aa6fe0d17d.setContent(html_521cd3345c94c880987f3a351bdb144d);\n",
       "            \n",
       "        \n",
       "\n",
       "        circle_marker_374ff1db60f715a01b76e9aa056e68c0.bindPopup(popup_e4d0b143166bf4393019c9aa6fe0d17d)\n",
       "        ;\n",
       "\n",
       "        \n",
       "    \n",
       "    \n",
       "            var circle_marker_c783716438555eae70c00f30ead65b14 = L.circleMarker(\n",
       "                [-12.5, 18.5],\n",
       "                {&quot;bubblingMouseEvents&quot;: true, &quot;color&quot;: &quot;blue&quot;, &quot;dashArray&quot;: null, &quot;dashOffset&quot;: null, &quot;fill&quot;: true, &quot;fillColor&quot;: &quot;blue&quot;, &quot;fillOpacity&quot;: 0.2, &quot;fillRule&quot;: &quot;evenodd&quot;, &quot;lineCap&quot;: &quot;round&quot;, &quot;lineJoin&quot;: &quot;round&quot;, &quot;opacity&quot;: 1.0, &quot;radius&quot;: 20.094004681612503, &quot;stroke&quot;: true, &quot;weight&quot;: 3}\n",
       "            ).addTo(map_678786ce5b6b6805ed5fcf76aff74537);\n",
       "        \n",
       "    \n",
       "        var popup_8a5cab9d3ce4faeea31db495af731939 = L.popup({&quot;maxWidth&quot;: &quot;100%&quot;});\n",
       "\n",
       "        \n",
       "            \n",
       "                var html_f7dd1fd16d63405a45fe8bb1418baba1 = $(`&lt;div id=&quot;html_f7dd1fd16d63405a45fe8bb1418baba1&quot; style=&quot;width: 100.0%; height: 100.0%;&quot;&gt;Angola&lt;/div&gt;`)[0];\n",
       "                popup_8a5cab9d3ce4faeea31db495af731939.setContent(html_f7dd1fd16d63405a45fe8bb1418baba1);\n",
       "            \n",
       "        \n",
       "\n",
       "        circle_marker_c783716438555eae70c00f30ead65b14.bindPopup(popup_8a5cab9d3ce4faeea31db495af731939)\n",
       "        ;\n",
       "\n",
       "        \n",
       "    \n",
       "    \n",
       "            var circle_marker_ff53e932d4909ab5ca68e6cc7fc64885 = L.circleMarker(\n",
       "                [8.1, -1.2],\n",
       "                {&quot;bubblingMouseEvents&quot;: true, &quot;color&quot;: &quot;blue&quot;, &quot;dashArray&quot;: null, &quot;dashOffset&quot;: null, &quot;fill&quot;: true, &quot;fillColor&quot;: &quot;blue&quot;, &quot;fillOpacity&quot;: 0.2, &quot;fillRule&quot;: &quot;evenodd&quot;, &quot;lineCap&quot;: &quot;round&quot;, &quot;lineJoin&quot;: &quot;round&quot;, &quot;opacity&quot;: 1.0, &quot;radius&quot;: 20.070364659994787, &quot;stroke&quot;: true, &quot;weight&quot;: 3}\n",
       "            ).addTo(map_678786ce5b6b6805ed5fcf76aff74537);\n",
       "        \n",
       "    \n",
       "        var popup_6cb378d0f57497131e658ec71d3a10d4 = L.popup({&quot;maxWidth&quot;: &quot;100%&quot;});\n",
       "\n",
       "        \n",
       "            \n",
       "                var html_50d92ab9764bfb3b76843f9b2e1f57da = $(`&lt;div id=&quot;html_50d92ab9764bfb3b76843f9b2e1f57da&quot; style=&quot;width: 100.0%; height: 100.0%;&quot;&gt;Ghana&lt;/div&gt;`)[0];\n",
       "                popup_6cb378d0f57497131e658ec71d3a10d4.setContent(html_50d92ab9764bfb3b76843f9b2e1f57da);\n",
       "            \n",
       "        \n",
       "\n",
       "        circle_marker_ff53e932d4909ab5ca68e6cc7fc64885.bindPopup(popup_6cb378d0f57497131e658ec71d3a10d4)\n",
       "        ;\n",
       "\n",
       "        \n",
       "    \n",
       "    \n",
       "            var circle_marker_34350c721a62f445aa5ee20f934fda4e = L.circleMarker(\n",
       "                [-13.5, 34.0],\n",
       "                {&quot;bubblingMouseEvents&quot;: true, &quot;color&quot;: &quot;blue&quot;, &quot;dashArray&quot;: null, &quot;dashOffset&quot;: null, &quot;fill&quot;: true, &quot;fillColor&quot;: &quot;blue&quot;, &quot;fillOpacity&quot;: 0.2, &quot;fillRule&quot;: &quot;evenodd&quot;, &quot;lineCap&quot;: &quot;round&quot;, &quot;lineJoin&quot;: &quot;round&quot;, &quot;opacity&quot;: 1.0, &quot;radius&quot;: 19.62525417509149, &quot;stroke&quot;: true, &quot;weight&quot;: 3}\n",
       "            ).addTo(map_678786ce5b6b6805ed5fcf76aff74537);\n",
       "        \n",
       "    \n",
       "        var popup_50391708f752b55f9d0af8bc2830243e = L.popup({&quot;maxWidth&quot;: &quot;100%&quot;});\n",
       "\n",
       "        \n",
       "            \n",
       "                var html_0c973682aedb28a2b7b30421639b4f4d = $(`&lt;div id=&quot;html_0c973682aedb28a2b7b30421639b4f4d&quot; style=&quot;width: 100.0%; height: 100.0%;&quot;&gt;Malawi&lt;/div&gt;`)[0];\n",
       "                popup_50391708f752b55f9d0af8bc2830243e.setContent(html_0c973682aedb28a2b7b30421639b4f4d);\n",
       "            \n",
       "        \n",
       "\n",
       "        circle_marker_34350c721a62f445aa5ee20f934fda4e.bindPopup(popup_50391708f752b55f9d0af8bc2830243e)\n",
       "        ;\n",
       "\n",
       "        \n",
       "    \n",
       "    \n",
       "            var circle_marker_328fb60bc9a9fe59596a3fbb18ce74be = L.circleMarker(\n",
       "                [12.5, -1.66667],\n",
       "                {&quot;bubblingMouseEvents&quot;: true, &quot;color&quot;: &quot;blue&quot;, &quot;dashArray&quot;: null, &quot;dashOffset&quot;: null, &quot;fill&quot;: true, &quot;fillColor&quot;: &quot;blue&quot;, &quot;fillOpacity&quot;: 0.2, &quot;fillRule&quot;: &quot;evenodd&quot;, &quot;lineCap&quot;: &quot;round&quot;, &quot;lineJoin&quot;: &quot;round&quot;, &quot;opacity&quot;: 1.0, &quot;radius&quot;: 18.802187343288324, &quot;stroke&quot;: true, &quot;weight&quot;: 3}\n",
       "            ).addTo(map_678786ce5b6b6805ed5fcf76aff74537);\n",
       "        \n",
       "    \n",
       "        var popup_e89bd1698b2e5cf58b8a22ada1be3a80 = L.popup({&quot;maxWidth&quot;: &quot;100%&quot;});\n",
       "\n",
       "        \n",
       "            \n",
       "                var html_57162221b0fdc351aaa048a13763927f = $(`&lt;div id=&quot;html_57162221b0fdc351aaa048a13763927f&quot; style=&quot;width: 100.0%; height: 100.0%;&quot;&gt;Burkina Faso&lt;/div&gt;`)[0];\n",
       "                popup_e89bd1698b2e5cf58b8a22ada1be3a80.setContent(html_57162221b0fdc351aaa048a13763927f);\n",
       "            \n",
       "        \n",
       "\n",
       "        circle_marker_328fb60bc9a9fe59596a3fbb18ce74be.bindPopup(popup_e89bd1698b2e5cf58b8a22ada1be3a80)\n",
       "        ;\n",
       "\n",
       "        \n",
       "    \n",
       "    \n",
       "            var circle_marker_de37381e7111843e317f3719dc6963cf = L.circleMarker(\n",
       "                [-14.33333, 28.5],\n",
       "                {&quot;bubblingMouseEvents&quot;: true, &quot;color&quot;: &quot;blue&quot;, &quot;dashArray&quot;: null, &quot;dashOffset&quot;: null, &quot;fill&quot;: true, &quot;fillColor&quot;: &quot;blue&quot;, &quot;fillOpacity&quot;: 0.2, &quot;fillRule&quot;: &quot;evenodd&quot;, &quot;lineCap&quot;: &quot;round&quot;, &quot;lineJoin&quot;: &quot;round&quot;, &quot;opacity&quot;: 1.0, &quot;radius&quot;: 17.940846416721868, &quot;stroke&quot;: true, &quot;weight&quot;: 3}\n",
       "            ).addTo(map_678786ce5b6b6805ed5fcf76aff74537);\n",
       "        \n",
       "    \n",
       "        var popup_fb3ce4d9b656db13f988fd256b1eccc1 = L.popup({&quot;maxWidth&quot;: &quot;100%&quot;});\n",
       "\n",
       "        \n",
       "            \n",
       "                var html_8645f9a32c61babc9ba2bd873653fc27 = $(`&lt;div id=&quot;html_8645f9a32c61babc9ba2bd873653fc27&quot; style=&quot;width: 100.0%; height: 100.0%;&quot;&gt;Zambia&lt;/div&gt;`)[0];\n",
       "                popup_fb3ce4d9b656db13f988fd256b1eccc1.setContent(html_8645f9a32c61babc9ba2bd873653fc27);\n",
       "            \n",
       "        \n",
       "\n",
       "        circle_marker_de37381e7111843e317f3719dc6963cf.bindPopup(popup_fb3ce4d9b656db13f988fd256b1eccc1)\n",
       "        ;\n",
       "\n",
       "        \n",
       "    \n",
       "    \n",
       "            var circle_marker_2d8364f096c750accf148a273cc6d7bd = L.circleMarker(\n",
       "                [6.0, 12.5],\n",
       "                {&quot;bubblingMouseEvents&quot;: true, &quot;color&quot;: &quot;blue&quot;, &quot;dashArray&quot;: null, &quot;dashOffset&quot;: null, &quot;fill&quot;: true, &quot;fillColor&quot;: &quot;blue&quot;, &quot;fillOpacity&quot;: 0.2, &quot;fillRule&quot;: &quot;evenodd&quot;, &quot;lineCap&quot;: &quot;round&quot;, &quot;lineJoin&quot;: &quot;round&quot;, &quot;opacity&quot;: 1.0, &quot;radius&quot;: 17.524284290088747, &quot;stroke&quot;: true, &quot;weight&quot;: 3}\n",
       "            ).addTo(map_678786ce5b6b6805ed5fcf76aff74537);\n",
       "        \n",
       "    \n",
       "        var popup_175a8c51dc4a6cb79ee2a9fa6af5f44c = L.popup({&quot;maxWidth&quot;: &quot;100%&quot;});\n",
       "\n",
       "        \n",
       "            \n",
       "                var html_92f4569e9eb883ccad2ea8598feef804 = $(`&lt;div id=&quot;html_92f4569e9eb883ccad2ea8598feef804&quot; style=&quot;width: 100.0%; height: 100.0%;&quot;&gt;Cameroon&lt;/div&gt;`)[0];\n",
       "                popup_175a8c51dc4a6cb79ee2a9fa6af5f44c.setContent(html_92f4569e9eb883ccad2ea8598feef804);\n",
       "            \n",
       "        \n",
       "\n",
       "        circle_marker_2d8364f096c750accf148a273cc6d7bd.bindPopup(popup_175a8c51dc4a6cb79ee2a9fa6af5f44c)\n",
       "        ;\n",
       "\n",
       "        \n",
       "    \n",
       "    \n",
       "            var circle_marker_1d20d2d23fd7071b2074bcf5a9cd46d9 = L.circleMarker(\n",
       "                [10.83333, -10.66667],\n",
       "                {&quot;bubblingMouseEvents&quot;: true, &quot;color&quot;: &quot;blue&quot;, &quot;dashArray&quot;: null, &quot;dashOffset&quot;: null, &quot;fill&quot;: true, &quot;fillColor&quot;: &quot;blue&quot;, &quot;fillOpacity&quot;: 0.2, &quot;fillRule&quot;: &quot;evenodd&quot;, &quot;lineCap&quot;: &quot;round&quot;, &quot;lineJoin&quot;: &quot;round&quot;, &quot;opacity&quot;: 1.0, &quot;radius&quot;: 17.43896952048552, &quot;stroke&quot;: true, &quot;weight&quot;: 3}\n",
       "            ).addTo(map_678786ce5b6b6805ed5fcf76aff74537);\n",
       "        \n",
       "    \n",
       "        var popup_ec2480b1400b38f7618f459e070acdb0 = L.popup({&quot;maxWidth&quot;: &quot;100%&quot;});\n",
       "\n",
       "        \n",
       "            \n",
       "                var html_83cad23e051258b6302960ab79badd9b = $(`&lt;div id=&quot;html_83cad23e051258b6302960ab79badd9b&quot; style=&quot;width: 100.0%; height: 100.0%;&quot;&gt;Guinea&lt;/div&gt;`)[0];\n",
       "                popup_ec2480b1400b38f7618f459e070acdb0.setContent(html_83cad23e051258b6302960ab79badd9b);\n",
       "            \n",
       "        \n",
       "\n",
       "        circle_marker_1d20d2d23fd7071b2074bcf5a9cd46d9.bindPopup(popup_ec2480b1400b38f7618f459e070acdb0)\n",
       "        ;\n",
       "\n",
       "        \n",
       "    \n",
       "    \n",
       "            var circle_marker_cb7314e38c10f36943340c04892873d5 = L.circleMarker(\n",
       "                [14.5, -14.25],\n",
       "                {&quot;bubblingMouseEvents&quot;: true, &quot;color&quot;: &quot;blue&quot;, &quot;dashArray&quot;: null, &quot;dashOffset&quot;: null, &quot;fill&quot;: true, &quot;fillColor&quot;: &quot;blue&quot;, &quot;fillOpacity&quot;: 0.2, &quot;fillRule&quot;: &quot;evenodd&quot;, &quot;lineCap&quot;: &quot;round&quot;, &quot;lineJoin&quot;: &quot;round&quot;, &quot;opacity&quot;: 1.0, &quot;radius&quot;: 16.284282441357412, &quot;stroke&quot;: true, &quot;weight&quot;: 3}\n",
       "            ).addTo(map_678786ce5b6b6805ed5fcf76aff74537);\n",
       "        \n",
       "    \n",
       "        var popup_9ced38ee7929efe126c40f676d3165b9 = L.popup({&quot;maxWidth&quot;: &quot;100%&quot;});\n",
       "\n",
       "        \n",
       "            \n",
       "                var html_ad6bac1d8f3d28d99bf7a6a2fd8be840 = $(`&lt;div id=&quot;html_ad6bac1d8f3d28d99bf7a6a2fd8be840&quot; style=&quot;width: 100.0%; height: 100.0%;&quot;&gt;Senegal&lt;/div&gt;`)[0];\n",
       "                popup_9ced38ee7929efe126c40f676d3165b9.setContent(html_ad6bac1d8f3d28d99bf7a6a2fd8be840);\n",
       "            \n",
       "        \n",
       "\n",
       "        circle_marker_cb7314e38c10f36943340c04892873d5.bindPopup(popup_9ced38ee7929efe126c40f676d3165b9)\n",
       "        ;\n",
       "\n",
       "        \n",
       "    \n",
       "    \n",
       "            var circle_marker_d6d95feeb9f5ab57d9412c164e6102fb = L.circleMarker(\n",
       "                [4.0, -73.25],\n",
       "                {&quot;bubblingMouseEvents&quot;: true, &quot;color&quot;: &quot;green&quot;, &quot;dashArray&quot;: null, &quot;dashOffset&quot;: null, &quot;fill&quot;: true, &quot;fillColor&quot;: &quot;green&quot;, &quot;fillOpacity&quot;: 0.2, &quot;fillRule&quot;: &quot;evenodd&quot;, &quot;lineCap&quot;: &quot;round&quot;, &quot;lineJoin&quot;: &quot;round&quot;, &quot;opacity&quot;: 1.0, &quot;radius&quot;: 16.034079370740933, &quot;stroke&quot;: true, &quot;weight&quot;: 3}\n",
       "            ).addTo(map_678786ce5b6b6805ed5fcf76aff74537);\n",
       "        \n",
       "    \n",
       "        var popup_db31a5dffc9334cb100e76f910f69b5c = L.popup({&quot;maxWidth&quot;: &quot;100%&quot;});\n",
       "\n",
       "        \n",
       "            \n",
       "                var html_2c8c4a52d77dd17498be02b1dfb06bda = $(`&lt;div id=&quot;html_2c8c4a52d77dd17498be02b1dfb06bda&quot; style=&quot;width: 100.0%; height: 100.0%;&quot;&gt;Colombia&lt;/div&gt;`)[0];\n",
       "                popup_db31a5dffc9334cb100e76f910f69b5c.setContent(html_2c8c4a52d77dd17498be02b1dfb06bda);\n",
       "            \n",
       "        \n",
       "\n",
       "        circle_marker_d6d95feeb9f5ab57d9412c164e6102fb.bindPopup(popup_db31a5dffc9334cb100e76f910f69b5c)\n",
       "        ;\n",
       "\n",
       "        \n",
       "    \n",
       "    \n",
       "            var circle_marker_459e82202523ec9cd9111cca998491c3 = L.circleMarker(\n",
       "                [-2.0, 30.0],\n",
       "                {&quot;bubblingMouseEvents&quot;: true, &quot;color&quot;: &quot;blue&quot;, &quot;dashArray&quot;: null, &quot;dashOffset&quot;: null, &quot;fill&quot;: true, &quot;fillColor&quot;: &quot;blue&quot;, &quot;fillOpacity&quot;: 0.2, &quot;fillRule&quot;: &quot;evenodd&quot;, &quot;lineCap&quot;: &quot;round&quot;, &quot;lineJoin&quot;: &quot;round&quot;, &quot;opacity&quot;: 1.0, &quot;radius&quot;: 15.925966709173617, &quot;stroke&quot;: true, &quot;weight&quot;: 3}\n",
       "            ).addTo(map_678786ce5b6b6805ed5fcf76aff74537);\n",
       "        \n",
       "    \n",
       "        var popup_18905ab4f44449b54e936f81c6f5e6d7 = L.popup({&quot;maxWidth&quot;: &quot;100%&quot;});\n",
       "\n",
       "        \n",
       "            \n",
       "                var html_4dab6c3a98a016abb2a21302c10f3a4b = $(`&lt;div id=&quot;html_4dab6c3a98a016abb2a21302c10f3a4b&quot; style=&quot;width: 100.0%; height: 100.0%;&quot;&gt;Rwanda&lt;/div&gt;`)[0];\n",
       "                popup_18905ab4f44449b54e936f81c6f5e6d7.setContent(html_4dab6c3a98a016abb2a21302c10f3a4b);\n",
       "            \n",
       "        \n",
       "\n",
       "        circle_marker_459e82202523ec9cd9111cca998491c3.bindPopup(popup_18905ab4f44449b54e936f81c6f5e6d7)\n",
       "        ;\n",
       "\n",
       "        \n",
       "    \n",
       "    \n",
       "            var circle_marker_94f4756a2e8b3ee8c5e756b73c886dad = L.circleMarker(\n",
       "                [-3.5, 30.0],\n",
       "                {&quot;bubblingMouseEvents&quot;: true, &quot;color&quot;: &quot;blue&quot;, &quot;dashArray&quot;: null, &quot;dashOffset&quot;: null, &quot;fill&quot;: true, &quot;fillColor&quot;: &quot;blue&quot;, &quot;fillOpacity&quot;: 0.2, &quot;fillRule&quot;: &quot;evenodd&quot;, &quot;lineCap&quot;: &quot;round&quot;, &quot;lineJoin&quot;: &quot;round&quot;, &quot;opacity&quot;: 1.0, &quot;radius&quot;: 15.449243656661508, &quot;stroke&quot;: true, &quot;weight&quot;: 3}\n",
       "            ).addTo(map_678786ce5b6b6805ed5fcf76aff74537);\n",
       "        \n",
       "    \n",
       "        var popup_b3b7068509451d2167e8225865fae800 = L.popup({&quot;maxWidth&quot;: &quot;100%&quot;});\n",
       "\n",
       "        \n",
       "            \n",
       "                var html_89cf4d6bd29f6b1f94bba4486d4f8e5b = $(`&lt;div id=&quot;html_89cf4d6bd29f6b1f94bba4486d4f8e5b&quot; style=&quot;width: 100.0%; height: 100.0%;&quot;&gt;Burundi&lt;/div&gt;`)[0];\n",
       "                popup_b3b7068509451d2167e8225865fae800.setContent(html_89cf4d6bd29f6b1f94bba4486d4f8e5b);\n",
       "            \n",
       "        \n",
       "\n",
       "        circle_marker_94f4756a2e8b3ee8c5e756b73c886dad.bindPopup(popup_b3b7068509451d2167e8225865fae800)\n",
       "        ;\n",
       "\n",
       "        \n",
       "    \n",
       "    \n",
       "            var circle_marker_ef8dc31301af8bde5468769663a6f7f3 = L.circleMarker(\n",
       "                [15.0, 19.0],\n",
       "                {&quot;bubblingMouseEvents&quot;: true, &quot;color&quot;: &quot;blue&quot;, &quot;dashArray&quot;: null, &quot;dashOffset&quot;: null, &quot;fill&quot;: true, &quot;fillColor&quot;: &quot;blue&quot;, &quot;fillOpacity&quot;: 0.2, &quot;fillRule&quot;: &quot;evenodd&quot;, &quot;lineCap&quot;: &quot;round&quot;, &quot;lineJoin&quot;: &quot;round&quot;, &quot;opacity&quot;: 1.0, &quot;radius&quot;: 15.350884243330423, &quot;stroke&quot;: true, &quot;weight&quot;: 3}\n",
       "            ).addTo(map_678786ce5b6b6805ed5fcf76aff74537);\n",
       "        \n",
       "    \n",
       "        var popup_68af63402aada9360de02a542fc1dd3e = L.popup({&quot;maxWidth&quot;: &quot;100%&quot;});\n",
       "\n",
       "        \n",
       "            \n",
       "                var html_20ce0e3a8e1c94b783207608cd79de9c = $(`&lt;div id=&quot;html_20ce0e3a8e1c94b783207608cd79de9c&quot; style=&quot;width: 100.0%; height: 100.0%;&quot;&gt;Chad&lt;/div&gt;`)[0];\n",
       "                popup_68af63402aada9360de02a542fc1dd3e.setContent(html_20ce0e3a8e1c94b783207608cd79de9c);\n",
       "            \n",
       "        \n",
       "\n",
       "        circle_marker_ef8dc31301af8bde5468769663a6f7f3.bindPopup(popup_68af63402aada9360de02a542fc1dd3e)\n",
       "        ;\n",
       "\n",
       "        \n",
       "    \n",
       "    \n",
       "            var circle_marker_d29cca4f5945e407cbbfbdbea19d08d0 = L.circleMarker(\n",
       "                [8.0, -5.5],\n",
       "                {&quot;bubblingMouseEvents&quot;: true, &quot;color&quot;: &quot;blue&quot;, &quot;dashArray&quot;: null, &quot;dashOffset&quot;: null, &quot;fill&quot;: true, &quot;fillColor&quot;: &quot;blue&quot;, &quot;fillOpacity&quot;: 0.2, &quot;fillRule&quot;: &quot;evenodd&quot;, &quot;lineCap&quot;: &quot;round&quot;, &quot;lineJoin&quot;: &quot;round&quot;, &quot;opacity&quot;: 1.0, &quot;radius&quot;: 15.133268463096499, &quot;stroke&quot;: true, &quot;weight&quot;: 3}\n",
       "            ).addTo(map_678786ce5b6b6805ed5fcf76aff74537);\n",
       "        \n",
       "    \n",
       "        var popup_05dbbaef7602bad1fd78ff792a11a806 = L.popup({&quot;maxWidth&quot;: &quot;100%&quot;});\n",
       "\n",
       "        \n",
       "            \n",
       "                var html_c90bdfe0b78974613f4b9879f534b158 = $(`&lt;div id=&quot;html_c90bdfe0b78974613f4b9879f534b158&quot; style=&quot;width: 100.0%; height: 100.0%;&quot;&gt;Cote d&#x27;Ivoire&lt;/div&gt;`)[0];\n",
       "                popup_05dbbaef7602bad1fd78ff792a11a806.setContent(html_c90bdfe0b78974613f4b9879f534b158);\n",
       "            \n",
       "        \n",
       "\n",
       "        circle_marker_d29cca4f5945e407cbbfbdbea19d08d0.bindPopup(popup_05dbbaef7602bad1fd78ff792a11a806)\n",
       "        ;\n",
       "\n",
       "        \n",
       "    \n",
       "    \n",
       "            var circle_marker_f3b61d7ce311d8d360a0daacb6b28494 = L.circleMarker(\n",
       "                [16.0, 30.0],\n",
       "                {&quot;bubblingMouseEvents&quot;: true, &quot;color&quot;: &quot;blue&quot;, &quot;dashArray&quot;: null, &quot;dashOffset&quot;: null, &quot;fill&quot;: true, &quot;fillColor&quot;: &quot;blue&quot;, &quot;fillOpacity&quot;: 0.2, &quot;fillRule&quot;: &quot;evenodd&quot;, &quot;lineCap&quot;: &quot;round&quot;, &quot;lineJoin&quot;: &quot;round&quot;, &quot;opacity&quot;: 1.0, &quot;radius&quot;: 14.75537843817308, &quot;stroke&quot;: true, &quot;weight&quot;: 3}\n",
       "            ).addTo(map_678786ce5b6b6805ed5fcf76aff74537);\n",
       "        \n",
       "    \n",
       "        var popup_6095de859a628f6c18e7248bbfb96e4e = L.popup({&quot;maxWidth&quot;: &quot;100%&quot;});\n",
       "\n",
       "        \n",
       "            \n",
       "                var html_bd8b47f93756f52dfa640423ac0e8b41 = $(`&lt;div id=&quot;html_bd8b47f93756f52dfa640423ac0e8b41&quot; style=&quot;width: 100.0%; height: 100.0%;&quot;&gt;Sudan&lt;/div&gt;`)[0];\n",
       "                popup_6095de859a628f6c18e7248bbfb96e4e.setContent(html_bd8b47f93756f52dfa640423ac0e8b41);\n",
       "            \n",
       "        \n",
       "\n",
       "        circle_marker_f3b61d7ce311d8d360a0daacb6b28494.bindPopup(popup_6095de859a628f6c18e7248bbfb96e4e)\n",
       "        ;\n",
       "\n",
       "        \n",
       "    \n",
       "    \n",
       "            var circle_marker_36fd4f800ed82bb535b718c43eac134d = L.circleMarker(\n",
       "                [13.0, 105.0],\n",
       "                {&quot;bubblingMouseEvents&quot;: true, &quot;color&quot;: &quot;red&quot;, &quot;dashArray&quot;: null, &quot;dashOffset&quot;: null, &quot;fill&quot;: true, &quot;fillColor&quot;: &quot;red&quot;, &quot;fillOpacity&quot;: 0.2, &quot;fillRule&quot;: &quot;evenodd&quot;, &quot;lineCap&quot;: &quot;round&quot;, &quot;lineJoin&quot;: &quot;round&quot;, &quot;opacity&quot;: 1.0, &quot;radius&quot;: 14.238306436238885, &quot;stroke&quot;: true, &quot;weight&quot;: 3}\n",
       "            ).addTo(map_678786ce5b6b6805ed5fcf76aff74537);\n",
       "        \n",
       "    \n",
       "        var popup_8ef9645bc1bf088ef3fc8066dca099bb = L.popup({&quot;maxWidth&quot;: &quot;100%&quot;});\n",
       "\n",
       "        \n",
       "            \n",
       "                var html_a356ab46263cacc899650860ccc147da = $(`&lt;div id=&quot;html_a356ab46263cacc899650860ccc147da&quot; style=&quot;width: 100.0%; height: 100.0%;&quot;&gt;Cambodia&lt;/div&gt;`)[0];\n",
       "                popup_8ef9645bc1bf088ef3fc8066dca099bb.setContent(html_a356ab46263cacc899650860ccc147da);\n",
       "            \n",
       "        \n",
       "\n",
       "        circle_marker_36fd4f800ed82bb535b718c43eac134d.bindPopup(popup_8ef9645bc1bf088ef3fc8066dca099bb)\n",
       "        ;\n",
       "\n",
       "        \n",
       "    \n",
       "    \n",
       "            var circle_marker_d96e08a63fb4bdfec643cdc5294bcd24 = L.circleMarker(\n",
       "                [19.0, -72.41667],\n",
       "                {&quot;bubblingMouseEvents&quot;: true, &quot;color&quot;: &quot;green&quot;, &quot;dashArray&quot;: null, &quot;dashOffset&quot;: null, &quot;fill&quot;: true, &quot;fillColor&quot;: &quot;green&quot;, &quot;fillOpacity&quot;: 0.2, &quot;fillRule&quot;: &quot;evenodd&quot;, &quot;lineCap&quot;: &quot;round&quot;, &quot;lineJoin&quot;: &quot;round&quot;, &quot;opacity&quot;: 1.0, &quot;radius&quot;: 13.979752671774591, &quot;stroke&quot;: true, &quot;weight&quot;: 3}\n",
       "            ).addTo(map_678786ce5b6b6805ed5fcf76aff74537);\n",
       "        \n",
       "    \n",
       "        var popup_ceb15c40b7504351f8854062354f74a3 = L.popup({&quot;maxWidth&quot;: &quot;100%&quot;});\n",
       "\n",
       "        \n",
       "            \n",
       "                var html_94550cfa3b749ed2cb724b4624d4087c = $(`&lt;div id=&quot;html_94550cfa3b749ed2cb724b4624d4087c&quot; style=&quot;width: 100.0%; height: 100.0%;&quot;&gt;Haiti&lt;/div&gt;`)[0];\n",
       "                popup_ceb15c40b7504351f8854062354f74a3.setContent(html_94550cfa3b749ed2cb724b4624d4087c);\n",
       "            \n",
       "        \n",
       "\n",
       "        circle_marker_d96e08a63fb4bdfec643cdc5294bcd24.bindPopup(popup_ceb15c40b7504351f8854062354f74a3)\n",
       "        ;\n",
       "\n",
       "        \n",
       "    \n",
       "    \n",
       "            var circle_marker_722e6a1909af76b6a242411e25860888 = L.circleMarker(\n",
       "                [14.64072, -90.51327],\n",
       "                {&quot;bubblingMouseEvents&quot;: true, &quot;color&quot;: &quot;green&quot;, &quot;dashArray&quot;: null, &quot;dashOffset&quot;: null, &quot;fill&quot;: true, &quot;fillColor&quot;: &quot;green&quot;, &quot;fillOpacity&quot;: 0.2, &quot;fillRule&quot;: &quot;evenodd&quot;, &quot;lineCap&quot;: &quot;round&quot;, &quot;lineJoin&quot;: &quot;round&quot;, &quot;opacity&quot;: 1.0, &quot;radius&quot;: 13.414423352179131, &quot;stroke&quot;: true, &quot;weight&quot;: 3}\n",
       "            ).addTo(map_678786ce5b6b6805ed5fcf76aff74537);\n",
       "        \n",
       "    \n",
       "        var popup_8e47c3bf43dd0cf3cb8a41dfa1b8bdef = L.popup({&quot;maxWidth&quot;: &quot;100%&quot;});\n",
       "\n",
       "        \n",
       "            \n",
       "                var html_6b4a6969dcf2cda42ed3832d3ed42fcb = $(`&lt;div id=&quot;html_6b4a6969dcf2cda42ed3832d3ed42fcb&quot; style=&quot;width: 100.0%; height: 100.0%;&quot;&gt;Guatemala&lt;/div&gt;`)[0];\n",
       "                popup_8e47c3bf43dd0cf3cb8a41dfa1b8bdef.setContent(html_6b4a6969dcf2cda42ed3832d3ed42fcb);\n",
       "            \n",
       "        \n",
       "\n",
       "        circle_marker_722e6a1909af76b6a242411e25860888.bindPopup(popup_8e47c3bf43dd0cf3cb8a41dfa1b8bdef)\n",
       "        ;\n",
       "\n",
       "        \n",
       "    \n",
       "    \n",
       "            var circle_marker_4bbda5dfa0ba581bec98fc6f462b11cf = L.circleMarker(\n",
       "                [8.0, -66.0],\n",
       "                {&quot;bubblingMouseEvents&quot;: true, &quot;color&quot;: &quot;green&quot;, &quot;dashArray&quot;: null, &quot;dashOffset&quot;: null, &quot;fill&quot;: true, &quot;fillColor&quot;: &quot;green&quot;, &quot;fillOpacity&quot;: 0.2, &quot;fillRule&quot;: &quot;evenodd&quot;, &quot;lineCap&quot;: &quot;round&quot;, &quot;lineJoin&quot;: &quot;round&quot;, &quot;opacity&quot;: 1.0, &quot;radius&quot;: 13.135628799078571, &quot;stroke&quot;: true, &quot;weight&quot;: 3}\n",
       "            ).addTo(map_678786ce5b6b6805ed5fcf76aff74537);\n",
       "        \n",
       "    \n",
       "        var popup_9e1fea5e69c97470b500c6a4cf29e228 = L.popup({&quot;maxWidth&quot;: &quot;100%&quot;});\n",
       "\n",
       "        \n",
       "            \n",
       "                var html_142d040e81a9482a5ed8bd8bdd53caf0 = $(`&lt;div id=&quot;html_142d040e81a9482a5ed8bd8bdd53caf0&quot; style=&quot;width: 100.0%; height: 100.0%;&quot;&gt;Venezuela&lt;/div&gt;`)[0];\n",
       "                popup_9e1fea5e69c97470b500c6a4cf29e228.setContent(html_142d040e81a9482a5ed8bd8bdd53caf0);\n",
       "            \n",
       "        \n",
       "\n",
       "        circle_marker_4bbda5dfa0ba581bec98fc6f462b11cf.bindPopup(popup_9e1fea5e69c97470b500c6a4cf29e228)\n",
       "        ;\n",
       "\n",
       "        \n",
       "    \n",
       "    \n",
       "            var circle_marker_0810e21cd186c60e62ba2f7a7854509d = L.circleMarker(\n",
       "                [39.76, -98.5],\n",
       "                {&quot;bubblingMouseEvents&quot;: true, &quot;color&quot;: &quot;green&quot;, &quot;dashArray&quot;: null, &quot;dashOffset&quot;: null, &quot;fill&quot;: true, &quot;fillColor&quot;: &quot;green&quot;, &quot;fillOpacity&quot;: 0.2, &quot;fillRule&quot;: &quot;evenodd&quot;, &quot;lineCap&quot;: &quot;round&quot;, &quot;lineJoin&quot;: &quot;round&quot;, &quot;opacity&quot;: 1.0, &quot;radius&quot;: 12.816534715641207, &quot;stroke&quot;: true, &quot;weight&quot;: 3}\n",
       "            ).addTo(map_678786ce5b6b6805ed5fcf76aff74537);\n",
       "        \n",
       "    \n",
       "        var popup_1a2c313abe48ae9138996f518dd03a21 = L.popup({&quot;maxWidth&quot;: &quot;100%&quot;});\n",
       "\n",
       "        \n",
       "            \n",
       "                var html_808317be50198b38980719d9bf8c4304 = $(`&lt;div id=&quot;html_808317be50198b38980719d9bf8c4304&quot; style=&quot;width: 100.0%; height: 100.0%;&quot;&gt;United States&lt;/div&gt;`)[0];\n",
       "                popup_1a2c313abe48ae9138996f518dd03a21.setContent(html_808317be50198b38980719d9bf8c4304);\n",
       "            \n",
       "        \n",
       "\n",
       "        circle_marker_0810e21cd186c60e62ba2f7a7854509d.bindPopup(popup_1a2c313abe48ae9138996f518dd03a21)\n",
       "        ;\n",
       "\n",
       "        \n",
       "    \n",
       "    \n",
       "            var circle_marker_932171a1000925fb72bf83bfe79137f4 = L.circleMarker(\n",
       "                [-34.0, -64.0],\n",
       "                {&quot;bubblingMouseEvents&quot;: true, &quot;color&quot;: &quot;green&quot;, &quot;dashArray&quot;: null, &quot;dashOffset&quot;: null, &quot;fill&quot;: true, &quot;fillColor&quot;: &quot;green&quot;, &quot;fillOpacity&quot;: 0.2, &quot;fillRule&quot;: &quot;evenodd&quot;, &quot;lineCap&quot;: &quot;round&quot;, &quot;lineJoin&quot;: &quot;round&quot;, &quot;opacity&quot;: 1.0, &quot;radius&quot;: 12.796890625466231, &quot;stroke&quot;: true, &quot;weight&quot;: 3}\n",
       "            ).addTo(map_678786ce5b6b6805ed5fcf76aff74537);\n",
       "        \n",
       "    \n",
       "        var popup_d03c4fdda4ca8267478d858af8325005 = L.popup({&quot;maxWidth&quot;: &quot;100%&quot;});\n",
       "\n",
       "        \n",
       "            \n",
       "                var html_11b3c197c4259a11c053a108ee393c43 = $(`&lt;div id=&quot;html_11b3c197c4259a11c053a108ee393c43&quot; style=&quot;width: 100.0%; height: 100.0%;&quot;&gt;Argentina&lt;/div&gt;`)[0];\n",
       "                popup_d03c4fdda4ca8267478d858af8325005.setContent(html_11b3c197c4259a11c053a108ee393c43);\n",
       "            \n",
       "        \n",
       "\n",
       "        circle_marker_932171a1000925fb72bf83bfe79137f4.bindPopup(popup_d03c4fdda4ca8267478d858af8325005)\n",
       "        ;\n",
       "\n",
       "        \n",
       "    \n",
       "    \n",
       "            var circle_marker_943bacd478221e715c9e937196d1da26 = L.circleMarker(\n",
       "                [9.5, 2.25],\n",
       "                {&quot;bubblingMouseEvents&quot;: true, &quot;color&quot;: &quot;blue&quot;, &quot;dashArray&quot;: null, &quot;dashOffset&quot;: null, &quot;fill&quot;: true, &quot;fillColor&quot;: &quot;blue&quot;, &quot;fillOpacity&quot;: 0.2, &quot;fillRule&quot;: &quot;evenodd&quot;, &quot;lineCap&quot;: &quot;round&quot;, &quot;lineJoin&quot;: &quot;round&quot;, &quot;opacity&quot;: 1.0, &quot;radius&quot;: 12.293294869483931, &quot;stroke&quot;: true, &quot;weight&quot;: 3}\n",
       "            ).addTo(map_678786ce5b6b6805ed5fcf76aff74537);\n",
       "        \n",
       "    \n",
       "        var popup_5d86a4d3a632d999403db7e75decc72e = L.popup({&quot;maxWidth&quot;: &quot;100%&quot;});\n",
       "\n",
       "        \n",
       "            \n",
       "                var html_5a42b1484003145db042f8720e714348 = $(`&lt;div id=&quot;html_5a42b1484003145db042f8720e714348&quot; style=&quot;width: 100.0%; height: 100.0%;&quot;&gt;Benin&lt;/div&gt;`)[0];\n",
       "                popup_5d86a4d3a632d999403db7e75decc72e.setContent(html_5a42b1484003145db042f8720e714348);\n",
       "            \n",
       "        \n",
       "\n",
       "        circle_marker_943bacd478221e715c9e937196d1da26.bindPopup(popup_5d86a4d3a632d999403db7e75decc72e)\n",
       "        ;\n",
       "\n",
       "        \n",
       "    \n",
       "    \n",
       "            var circle_marker_295927de9ba7da8a392696cbfdce676c = L.circleMarker(\n",
       "                [-10.0, -75.25],\n",
       "                {&quot;bubblingMouseEvents&quot;: true, &quot;color&quot;: &quot;green&quot;, &quot;dashArray&quot;: null, &quot;dashOffset&quot;: null, &quot;fill&quot;: true, &quot;fillColor&quot;: &quot;green&quot;, &quot;fillOpacity&quot;: 0.2, &quot;fillRule&quot;: &quot;evenodd&quot;, &quot;lineCap&quot;: &quot;round&quot;, &quot;lineJoin&quot;: &quot;round&quot;, &quot;opacity&quot;: 1.0, &quot;radius&quot;: 12.08258195762152, &quot;stroke&quot;: true, &quot;weight&quot;: 3}\n",
       "            ).addTo(map_678786ce5b6b6805ed5fcf76aff74537);\n",
       "        \n",
       "    \n",
       "        var popup_9ec4f36fa33a9093e2322e49c9406fbe = L.popup({&quot;maxWidth&quot;: &quot;100%&quot;});\n",
       "\n",
       "        \n",
       "            \n",
       "                var html_459d114b52f81e4c1fbdf4ea8b41ef02 = $(`&lt;div id=&quot;html_459d114b52f81e4c1fbdf4ea8b41ef02&quot; style=&quot;width: 100.0%; height: 100.0%;&quot;&gt;Peru&lt;/div&gt;`)[0];\n",
       "                popup_9ec4f36fa33a9093e2322e49c9406fbe.setContent(html_459d114b52f81e4c1fbdf4ea8b41ef02);\n",
       "            \n",
       "        \n",
       "\n",
       "        circle_marker_295927de9ba7da8a392696cbfdce676c.bindPopup(popup_9ec4f36fa33a9093e2322e49c9406fbe)\n",
       "        ;\n",
       "\n",
       "        \n",
       "    \n",
       "    \n",
       "            var circle_marker_828a349d9e9226febb28ae3f7ef35912 = L.circleMarker(\n",
       "                [7.75, 80.75],\n",
       "                {&quot;bubblingMouseEvents&quot;: true, &quot;color&quot;: &quot;red&quot;, &quot;dashArray&quot;: null, &quot;dashOffset&quot;: null, &quot;fill&quot;: true, &quot;fillColor&quot;: &quot;red&quot;, &quot;fillOpacity&quot;: 0.2, &quot;fillRule&quot;: &quot;evenodd&quot;, &quot;lineCap&quot;: &quot;round&quot;, &quot;lineJoin&quot;: &quot;round&quot;, &quot;opacity&quot;: 1.0, &quot;radius&quot;: 11.346023660426557, &quot;stroke&quot;: true, &quot;weight&quot;: 3}\n",
       "            ).addTo(map_678786ce5b6b6805ed5fcf76aff74537);\n",
       "        \n",
       "    \n",
       "        var popup_d8befc52fcaeb0638c86aeee6c485dfe = L.popup({&quot;maxWidth&quot;: &quot;100%&quot;});\n",
       "\n",
       "        \n",
       "            \n",
       "                var html_a68a147fda2477e010c31f754739853d = $(`&lt;div id=&quot;html_a68a147fda2477e010c31f754739853d&quot; style=&quot;width: 100.0%; height: 100.0%;&quot;&gt;Sri Lanka&lt;/div&gt;`)[0];\n",
       "                popup_d8befc52fcaeb0638c86aeee6c485dfe.setContent(html_a68a147fda2477e010c31f754739853d);\n",
       "            \n",
       "        \n",
       "\n",
       "        circle_marker_828a349d9e9226febb28ae3f7ef35912.bindPopup(popup_d8befc52fcaeb0638c86aeee6c485dfe)\n",
       "        ;\n",
       "\n",
       "        \n",
       "    \n",
       "    \n",
       "            var circle_marker_29ac00d2694b408b48c5236f71ac8887 = L.circleMarker(\n",
       "                [8.5, -11.5],\n",
       "                {&quot;bubblingMouseEvents&quot;: true, &quot;color&quot;: &quot;blue&quot;, &quot;dashArray&quot;: null, &quot;dashOffset&quot;: null, &quot;fill&quot;: true, &quot;fillColor&quot;: &quot;blue&quot;, &quot;fillOpacity&quot;: 0.2, &quot;fillRule&quot;: &quot;evenodd&quot;, &quot;lineCap&quot;: &quot;round&quot;, &quot;lineJoin&quot;: &quot;round&quot;, &quot;opacity&quot;: 1.0, &quot;radius&quot;: 11.329155826614832, &quot;stroke&quot;: true, &quot;weight&quot;: 3}\n",
       "            ).addTo(map_678786ce5b6b6805ed5fcf76aff74537);\n",
       "        \n",
       "    \n",
       "        var popup_1aa7979a6eb5e7961d733e8d54404fb7 = L.popup({&quot;maxWidth&quot;: &quot;100%&quot;});\n",
       "\n",
       "        \n",
       "            \n",
       "                var html_bb8c05a34239df6d311ef6af34618e77 = $(`&lt;div id=&quot;html_bb8c05a34239df6d311ef6af34618e77&quot; style=&quot;width: 100.0%; height: 100.0%;&quot;&gt;Sierra Leone&lt;/div&gt;`)[0];\n",
       "                popup_1aa7979a6eb5e7961d733e8d54404fb7.setContent(html_bb8c05a34239df6d311ef6af34618e77);\n",
       "            \n",
       "        \n",
       "\n",
       "        circle_marker_29ac00d2694b408b48c5236f71ac8887.bindPopup(popup_1aa7979a6eb5e7961d733e8d54404fb7)\n",
       "        ;\n",
       "\n",
       "        \n",
       "    \n",
       "    \n",
       "            var circle_marker_86d7db13e087372d2ad163992cc44860 = L.circleMarker(\n",
       "                [60.0, 100.0],\n",
       "                {&quot;bubblingMouseEvents&quot;: true, &quot;color&quot;: &quot;black&quot;, &quot;dashArray&quot;: null, &quot;dashOffset&quot;: null, &quot;fill&quot;: true, &quot;fillColor&quot;: &quot;black&quot;, &quot;fillOpacity&quot;: 0.2, &quot;fillRule&quot;: &quot;evenodd&quot;, &quot;lineCap&quot;: &quot;round&quot;, &quot;lineJoin&quot;: &quot;round&quot;, &quot;opacity&quot;: 1.0, &quot;radius&quot;: 11.32851099306281, &quot;stroke&quot;: true, &quot;weight&quot;: 3}\n",
       "            ).addTo(map_678786ce5b6b6805ed5fcf76aff74537);\n",
       "        \n",
       "    \n",
       "        var popup_b7a8cc699ba6eeaa91b41d4e6a254646 = L.popup({&quot;maxWidth&quot;: &quot;100%&quot;});\n",
       "\n",
       "        \n",
       "            \n",
       "                var html_96f8cbea8753eb9d02210c717007d593 = $(`&lt;div id=&quot;html_96f8cbea8753eb9d02210c717007d593&quot; style=&quot;width: 100.0%; height: 100.0%;&quot;&gt;Russia&lt;/div&gt;`)[0];\n",
       "                popup_b7a8cc699ba6eeaa91b41d4e6a254646.setContent(html_96f8cbea8753eb9d02210c717007d593);\n",
       "            \n",
       "        \n",
       "\n",
       "        circle_marker_86d7db13e087372d2ad163992cc44860.bindPopup(popup_b7a8cc699ba6eeaa91b41d4e6a254646)\n",
       "        ;\n",
       "\n",
       "        \n",
       "    \n",
       "    \n",
       "            var circle_marker_64b4616d6b3da3bc26f82404d07979e4 = L.circleMarker(\n",
       "                [15.0, -86.5],\n",
       "                {&quot;bubblingMouseEvents&quot;: true, &quot;color&quot;: &quot;green&quot;, &quot;dashArray&quot;: null, &quot;dashOffset&quot;: null, &quot;fill&quot;: true, &quot;fillColor&quot;: &quot;green&quot;, &quot;fillOpacity&quot;: 0.2, &quot;fillRule&quot;: &quot;evenodd&quot;, &quot;lineCap&quot;: &quot;round&quot;, &quot;lineJoin&quot;: &quot;round&quot;, &quot;opacity&quot;: 1.0, &quot;radius&quot;: 11.144313897053351, &quot;stroke&quot;: true, &quot;weight&quot;: 3}\n",
       "            ).addTo(map_678786ce5b6b6805ed5fcf76aff74537);\n",
       "        \n",
       "    \n",
       "        var popup_c586b6bd9f67171f5d5769c5d5cc4f42 = L.popup({&quot;maxWidth&quot;: &quot;100%&quot;});\n",
       "\n",
       "        \n",
       "            \n",
       "                var html_e89a6fabaea83e34e6ebb10667b6d1e1 = $(`&lt;div id=&quot;html_e89a6fabaea83e34e6ebb10667b6d1e1&quot; style=&quot;width: 100.0%; height: 100.0%;&quot;&gt;Honduras&lt;/div&gt;`)[0];\n",
       "                popup_c586b6bd9f67171f5d5769c5d5cc4f42.setContent(html_e89a6fabaea83e34e6ebb10667b6d1e1);\n",
       "            \n",
       "        \n",
       "\n",
       "        circle_marker_64b4616d6b3da3bc26f82404d07979e4.bindPopup(popup_c586b6bd9f67171f5d5769c5d5cc4f42)\n",
       "        ;\n",
       "\n",
       "        \n",
       "    \n",
       "    \n",
       "            var circle_marker_f25d9380181e77db0b1376be01693ad9 = L.circleMarker(\n",
       "                [39.0, 71.0],\n",
       "                {&quot;bubblingMouseEvents&quot;: true, &quot;color&quot;: &quot;red&quot;, &quot;dashArray&quot;: null, &quot;dashOffset&quot;: null, &quot;fill&quot;: true, &quot;fillColor&quot;: &quot;red&quot;, &quot;fillOpacity&quot;: 0.2, &quot;fillRule&quot;: &quot;evenodd&quot;, &quot;lineCap&quot;: &quot;round&quot;, &quot;lineJoin&quot;: &quot;round&quot;, &quot;opacity&quot;: 1.0, &quot;radius&quot;: 10.954173378876014, &quot;stroke&quot;: true, &quot;weight&quot;: 3}\n",
       "            ).addTo(map_678786ce5b6b6805ed5fcf76aff74537);\n",
       "        \n",
       "    \n",
       "        var popup_b34069c77a81e418ad86060f51875d45 = L.popup({&quot;maxWidth&quot;: &quot;100%&quot;});\n",
       "\n",
       "        \n",
       "            \n",
       "                var html_f5344b361ad382cde4f964d3ffa6eaf7 = $(`&lt;div id=&quot;html_f5344b361ad382cde4f964d3ffa6eaf7&quot; style=&quot;width: 100.0%; height: 100.0%;&quot;&gt;Tajikistan&lt;/div&gt;`)[0];\n",
       "                popup_b34069c77a81e418ad86060f51875d45.setContent(html_f5344b361ad382cde4f964d3ffa6eaf7);\n",
       "            \n",
       "        \n",
       "\n",
       "        circle_marker_f25d9380181e77db0b1376be01693ad9.bindPopup(popup_b34069c77a81e418ad86060f51875d45)\n",
       "        ;\n",
       "\n",
       "        \n",
       "    \n",
       "    \n",
       "            var circle_marker_0c5b1c78a41043565452265b6eb9f22c = L.circleMarker(\n",
       "                [27.0, 30.0],\n",
       "                {&quot;bubblingMouseEvents&quot;: true, &quot;color&quot;: &quot;blue&quot;, &quot;dashArray&quot;: null, &quot;dashOffset&quot;: null, &quot;fill&quot;: true, &quot;fillColor&quot;: &quot;blue&quot;, &quot;fillOpacity&quot;: 0.2, &quot;fillRule&quot;: &quot;evenodd&quot;, &quot;lineCap&quot;: &quot;round&quot;, &quot;lineJoin&quot;: &quot;round&quot;, &quot;opacity&quot;: 1.0, &quot;radius&quot;: 10.839418133355615, &quot;stroke&quot;: true, &quot;weight&quot;: 3}\n",
       "            ).addTo(map_678786ce5b6b6805ed5fcf76aff74537);\n",
       "        \n",
       "    \n",
       "        var popup_5c268ace6c22ece320ac0fe9e48942fa = L.popup({&quot;maxWidth&quot;: &quot;100%&quot;});\n",
       "\n",
       "        \n",
       "            \n",
       "                var html_aefe2f8fd48eee74e4c278c4163136c8 = $(`&lt;div id=&quot;html_aefe2f8fd48eee74e4c278c4163136c8&quot; style=&quot;width: 100.0%; height: 100.0%;&quot;&gt;Egypt&lt;/div&gt;`)[0];\n",
       "                popup_5c268ace6c22ece320ac0fe9e48942fa.setContent(html_aefe2f8fd48eee74e4c278c4163136c8);\n",
       "            \n",
       "        \n",
       "\n",
       "        circle_marker_0c5b1c78a41043565452265b6eb9f22c.bindPopup(popup_5c268ace6c22ece320ac0fe9e48942fa)\n",
       "        ;\n",
       "\n",
       "        \n",
       "    \n",
       "    \n",
       "            var circle_marker_1906fb60ab1ee42d7dd82be0ea9ceb86 = L.circleMarker(\n",
       "                [7.0, 21.0],\n",
       "                {&quot;bubblingMouseEvents&quot;: true, &quot;color&quot;: &quot;blue&quot;, &quot;dashArray&quot;: null, &quot;dashOffset&quot;: null, &quot;fill&quot;: true, &quot;fillColor&quot;: &quot;blue&quot;, &quot;fillOpacity&quot;: 0.2, &quot;fillRule&quot;: &quot;evenodd&quot;, &quot;lineCap&quot;: &quot;round&quot;, &quot;lineJoin&quot;: &quot;round&quot;, &quot;opacity&quot;: 1.0, &quot;radius&quot;: 10.775275167226885, &quot;stroke&quot;: true, &quot;weight&quot;: 3}\n",
       "            ).addTo(map_678786ce5b6b6805ed5fcf76aff74537);\n",
       "        \n",
       "    \n",
       "        var popup_1183f1fb17039df623990086222bec03 = L.popup({&quot;maxWidth&quot;: &quot;100%&quot;});\n",
       "\n",
       "        \n",
       "            \n",
       "                var html_f1492242b1f77c99e7a8c9789e0d42af = $(`&lt;div id=&quot;html_f1492242b1f77c99e7a8c9789e0d42af&quot; style=&quot;width: 100.0%; height: 100.0%;&quot;&gt;Central African Republic&lt;/div&gt;`)[0];\n",
       "                popup_1183f1fb17039df623990086222bec03.setContent(html_f1492242b1f77c99e7a8c9789e0d42af);\n",
       "            \n",
       "        \n",
       "\n",
       "        circle_marker_1906fb60ab1ee42d7dd82be0ea9ceb86.bindPopup(popup_1183f1fb17039df623990086222bec03)\n",
       "        ;\n",
       "\n",
       "        \n",
       "    \n",
       "    \n",
       "            var circle_marker_b6bdaf05e0d6a557f31db497ff0c970e = L.circleMarker(\n",
       "                [18.0, 105.0],\n",
       "                {&quot;bubblingMouseEvents&quot;: true, &quot;color&quot;: &quot;red&quot;, &quot;dashArray&quot;: null, &quot;dashOffset&quot;: null, &quot;fill&quot;: true, &quot;fillColor&quot;: &quot;red&quot;, &quot;fillOpacity&quot;: 0.2, &quot;fillRule&quot;: &quot;evenodd&quot;, &quot;lineCap&quot;: &quot;round&quot;, &quot;lineJoin&quot;: &quot;round&quot;, &quot;opacity&quot;: 1.0, &quot;radius&quot;: 10.52412004132549, &quot;stroke&quot;: true, &quot;weight&quot;: 3}\n",
       "            ).addTo(map_678786ce5b6b6805ed5fcf76aff74537);\n",
       "        \n",
       "    \n",
       "        var popup_5a3f15658565bc0f2a544d0c5ff319eb = L.popup({&quot;maxWidth&quot;: &quot;100%&quot;});\n",
       "\n",
       "        \n",
       "            \n",
       "                var html_d2c7e9787d1050e91a787d35c06645d9 = $(`&lt;div id=&quot;html_d2c7e9787d1050e91a787d35c06645d9&quot; style=&quot;width: 100.0%; height: 100.0%;&quot;&gt;Lao&lt;/div&gt;`)[0];\n",
       "                popup_5a3f15658565bc0f2a544d0c5ff319eb.setContent(html_d2c7e9787d1050e91a787d35c06645d9);\n",
       "            \n",
       "        \n",
       "\n",
       "        circle_marker_b6bdaf05e0d6a557f31db497ff0c970e.bindPopup(popup_5a3f15658565bc0f2a544d0c5ff319eb)\n",
       "        ;\n",
       "\n",
       "        \n",
       "    \n",
       "    \n",
       "            var circle_marker_3e2c9dc0862e97f96b74e9810f79b681 = L.circleMarker(\n",
       "                [8.66667, 1.08333],\n",
       "                {&quot;bubblingMouseEvents&quot;: true, &quot;color&quot;: &quot;blue&quot;, &quot;dashArray&quot;: null, &quot;dashOffset&quot;: null, &quot;fill&quot;: true, &quot;fillColor&quot;: &quot;blue&quot;, &quot;fillOpacity&quot;: 0.2, &quot;fillRule&quot;: &quot;evenodd&quot;, &quot;lineCap&quot;: &quot;round&quot;, &quot;lineJoin&quot;: &quot;round&quot;, &quot;opacity&quot;: 1.0, &quot;radius&quot;: 10.423194513831255, &quot;stroke&quot;: true, &quot;weight&quot;: 3}\n",
       "            ).addTo(map_678786ce5b6b6805ed5fcf76aff74537);\n",
       "        \n",
       "    \n",
       "        var popup_bcd987550bd9484fec8c649d840a8944 = L.popup({&quot;maxWidth&quot;: &quot;100%&quot;});\n",
       "\n",
       "        \n",
       "            \n",
       "                var html_c2f3834aebf03e7ffffc6497f829a210 = $(`&lt;div id=&quot;html_c2f3834aebf03e7ffffc6497f829a210&quot; style=&quot;width: 100.0%; height: 100.0%;&quot;&gt;Togo&lt;/div&gt;`)[0];\n",
       "                popup_bcd987550bd9484fec8c649d840a8944.setContent(html_c2f3834aebf03e7ffffc6497f829a210);\n",
       "            \n",
       "        \n",
       "\n",
       "        circle_marker_3e2c9dc0862e97f96b74e9810f79b681.bindPopup(popup_bcd987550bd9484fec8c649d840a8944)\n",
       "        ;\n",
       "\n",
       "        \n",
       "    \n",
       "    \n",
       "            var circle_marker_8e55e7286b6c2015c1add8d4358f4267 = L.circleMarker(\n",
       "                [32.0, -6.0],\n",
       "                {&quot;bubblingMouseEvents&quot;: true, &quot;color&quot;: &quot;blue&quot;, &quot;dashArray&quot;: null, &quot;dashOffset&quot;: null, &quot;fill&quot;: true, &quot;fillColor&quot;: &quot;blue&quot;, &quot;fillOpacity&quot;: 0.2, &quot;fillRule&quot;: &quot;evenodd&quot;, &quot;lineCap&quot;: &quot;round&quot;, &quot;lineJoin&quot;: &quot;round&quot;, &quot;opacity&quot;: 1.0, &quot;radius&quot;: 10.292608778849043, &quot;stroke&quot;: true, &quot;weight&quot;: 3}\n",
       "            ).addTo(map_678786ce5b6b6805ed5fcf76aff74537);\n",
       "        \n",
       "    \n",
       "        var popup_6be076684a5edf02b4a67856b4799b20 = L.popup({&quot;maxWidth&quot;: &quot;100%&quot;});\n",
       "\n",
       "        \n",
       "            \n",
       "                var html_bcec6c988527c9fcc72b42888583409a = $(`&lt;div id=&quot;html_bcec6c988527c9fcc72b42888583409a&quot; style=&quot;width: 100.0%; height: 100.0%;&quot;&gt;Morocco&lt;/div&gt;`)[0];\n",
       "                popup_6be076684a5edf02b4a67856b4799b20.setContent(html_bcec6c988527c9fcc72b42888583409a);\n",
       "            \n",
       "        \n",
       "\n",
       "        circle_marker_8e55e7286b6c2015c1add8d4358f4267.bindPopup(popup_6be076684a5edf02b4a67856b4799b20)\n",
       "        ;\n",
       "\n",
       "        \n",
       "    \n",
       "    \n",
       "            var circle_marker_2ed014430287a7743ca0ce7684756de2 = L.circleMarker(\n",
       "                [6.5, -9.5],\n",
       "                {&quot;bubblingMouseEvents&quot;: true, &quot;color&quot;: &quot;blue&quot;, &quot;dashArray&quot;: null, &quot;dashOffset&quot;: null, &quot;fill&quot;: true, &quot;fillColor&quot;: &quot;blue&quot;, &quot;fillOpacity&quot;: 0.2, &quot;fillRule&quot;: &quot;evenodd&quot;, &quot;lineCap&quot;: &quot;round&quot;, &quot;lineJoin&quot;: &quot;round&quot;, &quot;opacity&quot;: 1.0, &quot;radius&quot;: 10.185772240421114, &quot;stroke&quot;: true, &quot;weight&quot;: 3}\n",
       "            ).addTo(map_678786ce5b6b6805ed5fcf76aff74537);\n",
       "        \n",
       "    \n",
       "        var popup_e0ebdcfd42039d96d652f47b92531c82 = L.popup({&quot;maxWidth&quot;: &quot;100%&quot;});\n",
       "\n",
       "        \n",
       "            \n",
       "                var html_a3ec9b8770a36056d691d965228160a3 = $(`&lt;div id=&quot;html_a3ec9b8770a36056d691d965228160a3&quot; style=&quot;width: 100.0%; height: 100.0%;&quot;&gt;Liberia&lt;/div&gt;`)[0];\n",
       "                popup_e0ebdcfd42039d96d652f47b92531c82.setContent(html_a3ec9b8770a36056d691d965228160a3);\n",
       "            \n",
       "        \n",
       "\n",
       "        circle_marker_2ed014430287a7743ca0ce7684756de2.bindPopup(popup_e0ebdcfd42039d96d652f47b92531c82)\n",
       "        ;\n",
       "\n",
       "        \n",
       "    \n",
       "    \n",
       "            var circle_marker_1919d8480ca16a6589d709122183e9b8 = L.circleMarker(\n",
       "                [39.75, 59.66667],\n",
       "                {&quot;bubblingMouseEvents&quot;: true, &quot;color&quot;: &quot;red&quot;, &quot;dashArray&quot;: null, &quot;dashOffset&quot;: null, &quot;fill&quot;: true, &quot;fillColor&quot;: &quot;red&quot;, &quot;fillOpacity&quot;: 0.2, &quot;fillRule&quot;: &quot;evenodd&quot;, &quot;lineCap&quot;: &quot;round&quot;, &quot;lineJoin&quot;: &quot;round&quot;, &quot;opacity&quot;: 1.0, &quot;radius&quot;: 10.14271814015762, &quot;stroke&quot;: true, &quot;weight&quot;: 3}\n",
       "            ).addTo(map_678786ce5b6b6805ed5fcf76aff74537);\n",
       "        \n",
       "    \n",
       "        var popup_d7951506cd56d1b78fcd028db3201a2d = L.popup({&quot;maxWidth&quot;: &quot;100%&quot;});\n",
       "\n",
       "        \n",
       "            \n",
       "                var html_59b7e37c029f671e3e8c61bc767f6371 = $(`&lt;div id=&quot;html_59b7e37c029f671e3e8c61bc767f6371&quot; style=&quot;width: 100.0%; height: 100.0%;&quot;&gt;Turkmenistan&lt;/div&gt;`)[0];\n",
       "                popup_d7951506cd56d1b78fcd028db3201a2d.setContent(html_59b7e37c029f671e3e8c61bc767f6371);\n",
       "            \n",
       "        \n",
       "\n",
       "        circle_marker_1919d8480ca16a6589d709122183e9b8.bindPopup(popup_d7951506cd56d1b78fcd028db3201a2d)\n",
       "        ;\n",
       "\n",
       "        \n",
       "    \n",
       "    \n",
       "            var circle_marker_26768b63506889c863ac052893775a1e = L.circleMarker(\n",
       "                [32.0, 53.0],\n",
       "                {&quot;bubblingMouseEvents&quot;: true, &quot;color&quot;: &quot;red&quot;, &quot;dashArray&quot;: null, &quot;dashOffset&quot;: null, &quot;fill&quot;: true, &quot;fillColor&quot;: &quot;red&quot;, &quot;fillOpacity&quot;: 0.2, &quot;fillRule&quot;: &quot;evenodd&quot;, &quot;lineCap&quot;: &quot;round&quot;, &quot;lineJoin&quot;: &quot;round&quot;, &quot;opacity&quot;: 1.0, &quot;radius&quot;: 9.918590876399392, &quot;stroke&quot;: true, &quot;weight&quot;: 3}\n",
       "            ).addTo(map_678786ce5b6b6805ed5fcf76aff74537);\n",
       "        \n",
       "    \n",
       "        var popup_8e51ff6c6c9d7dad80e17f1a5092ee46 = L.popup({&quot;maxWidth&quot;: &quot;100%&quot;});\n",
       "\n",
       "        \n",
       "            \n",
       "                var html_8451191f8efc467ea1f48a47a6a78fc1 = $(`&lt;div id=&quot;html_8451191f8efc467ea1f48a47a6a78fc1&quot; style=&quot;width: 100.0%; height: 100.0%;&quot;&gt;Iran&lt;/div&gt;`)[0];\n",
       "                popup_8e51ff6c6c9d7dad80e17f1a5092ee46.setContent(html_8451191f8efc467ea1f48a47a6a78fc1);\n",
       "            \n",
       "        \n",
       "\n",
       "        circle_marker_26768b63506889c863ac052893775a1e.bindPopup(popup_8e51ff6c6c9d7dad80e17f1a5092ee46)\n",
       "        ;\n",
       "\n",
       "        \n",
       "    \n",
       "    \n",
       "            var circle_marker_2fd12aa2d6f4f1160eda09c203e8cc72 = L.circleMarker(\n",
       "                [-1.25, -78.25],\n",
       "                {&quot;bubblingMouseEvents&quot;: true, &quot;color&quot;: &quot;green&quot;, &quot;dashArray&quot;: null, &quot;dashOffset&quot;: null, &quot;fill&quot;: true, &quot;fillColor&quot;: &quot;green&quot;, &quot;fillOpacity&quot;: 0.2, &quot;fillRule&quot;: &quot;evenodd&quot;, &quot;lineCap&quot;: &quot;round&quot;, &quot;lineJoin&quot;: &quot;round&quot;, &quot;opacity&quot;: 1.0, &quot;radius&quot;: 9.853564212056453, &quot;stroke&quot;: true, &quot;weight&quot;: 3}\n",
       "            ).addTo(map_678786ce5b6b6805ed5fcf76aff74537);\n",
       "        \n",
       "    \n",
       "        var popup_eee2aa9772a563e74ce6b72edf536c22 = L.popup({&quot;maxWidth&quot;: &quot;100%&quot;});\n",
       "\n",
       "        \n",
       "            \n",
       "                var html_3edf424aa1ae34eb155fc9c43f973f12 = $(`&lt;div id=&quot;html_3edf424aa1ae34eb155fc9c43f973f12&quot; style=&quot;width: 100.0%; height: 100.0%;&quot;&gt;Ecuador&lt;/div&gt;`)[0];\n",
       "                popup_eee2aa9772a563e74ce6b72edf536c22.setContent(html_3edf424aa1ae34eb155fc9c43f973f12);\n",
       "            \n",
       "        \n",
       "\n",
       "        circle_marker_2fd12aa2d6f4f1160eda09c203e8cc72.bindPopup(popup_eee2aa9772a563e74ce6b72edf536c22)\n",
       "        ;\n",
       "\n",
       "        \n",
       "    \n",
       "    \n",
       "            var circle_marker_ec02aa3c7e698657e740bc09358287e1 = L.circleMarker(\n",
       "                [-17.0, -65.0],\n",
       "                {&quot;bubblingMouseEvents&quot;: true, &quot;color&quot;: &quot;green&quot;, &quot;dashArray&quot;: null, &quot;dashOffset&quot;: null, &quot;fill&quot;: true, &quot;fillColor&quot;: &quot;green&quot;, &quot;fillOpacity&quot;: 0.2, &quot;fillRule&quot;: &quot;evenodd&quot;, &quot;lineCap&quot;: &quot;round&quot;, &quot;lineJoin&quot;: &quot;round&quot;, &quot;opacity&quot;: 1.0, &quot;radius&quot;: 9.270680420927222, &quot;stroke&quot;: true, &quot;weight&quot;: 3}\n",
       "            ).addTo(map_678786ce5b6b6805ed5fcf76aff74537);\n",
       "        \n",
       "    \n",
       "        var popup_d9c5ca300f323b07bc78fcef9d5f6c97 = L.popup({&quot;maxWidth&quot;: &quot;100%&quot;});\n",
       "\n",
       "        \n",
       "            \n",
       "                var html_260b7c98ac441d27d0b9789c33c308f7 = $(`&lt;div id=&quot;html_260b7c98ac441d27d0b9789c33c308f7&quot; style=&quot;width: 100.0%; height: 100.0%;&quot;&gt;Bolivia&lt;/div&gt;`)[0];\n",
       "                popup_d9c5ca300f323b07bc78fcef9d5f6c97.setContent(html_260b7c98ac441d27d0b9789c33c308f7);\n",
       "            \n",
       "        \n",
       "\n",
       "        circle_marker_ec02aa3c7e698657e740bc09358287e1.bindPopup(popup_d9c5ca300f323b07bc78fcef9d5f6c97)\n",
       "        ;\n",
       "\n",
       "        \n",
       "    \n",
       "    \n",
       "            var circle_marker_ba0ee3a9d360d156c1c037db851801c7 = L.circleMarker(\n",
       "                [-6.0, 147.0],\n",
       "                {&quot;bubblingMouseEvents&quot;: true, &quot;color&quot;: &quot;red&quot;, &quot;dashArray&quot;: null, &quot;dashOffset&quot;: null, &quot;fill&quot;: true, &quot;fillColor&quot;: &quot;red&quot;, &quot;fillOpacity&quot;: 0.2, &quot;fillRule&quot;: &quot;evenodd&quot;, &quot;lineCap&quot;: &quot;round&quot;, &quot;lineJoin&quot;: &quot;round&quot;, &quot;opacity&quot;: 1.0, &quot;radius&quot;: 9.125985821420215, &quot;stroke&quot;: true, &quot;weight&quot;: 3}\n",
       "            ).addTo(map_678786ce5b6b6805ed5fcf76aff74537);\n",
       "        \n",
       "    \n",
       "        var popup_166075ab4225e5f69c050f9408525c85 = L.popup({&quot;maxWidth&quot;: &quot;100%&quot;});\n",
       "\n",
       "        \n",
       "            \n",
       "                var html_e864570d0dfaca00b3d4f59ffe2f0702 = $(`&lt;div id=&quot;html_e864570d0dfaca00b3d4f59ffe2f0702&quot; style=&quot;width: 100.0%; height: 100.0%;&quot;&gt;Papua New Guinea&lt;/div&gt;`)[0];\n",
       "                popup_166075ab4225e5f69c050f9408525c85.setContent(html_e864570d0dfaca00b3d4f59ffe2f0702);\n",
       "            \n",
       "        \n",
       "\n",
       "        circle_marker_ba0ee3a9d360d156c1c037db851801c7.bindPopup(popup_166075ab4225e5f69c050f9408525c85)\n",
       "        ;\n",
       "\n",
       "        \n",
       "    \n",
       "    \n",
       "            var circle_marker_08edd1b27bad839a9e998849e298f4f3 = L.circleMarker(\n",
       "                [28.0, 3.0],\n",
       "                {&quot;bubblingMouseEvents&quot;: true, &quot;color&quot;: &quot;blue&quot;, &quot;dashArray&quot;: null, &quot;dashOffset&quot;: null, &quot;fill&quot;: true, &quot;fillColor&quot;: &quot;blue&quot;, &quot;fillOpacity&quot;: 0.2, &quot;fillRule&quot;: &quot;evenodd&quot;, &quot;lineCap&quot;: &quot;round&quot;, &quot;lineJoin&quot;: &quot;round&quot;, &quot;opacity&quot;: 1.0, &quot;radius&quot;: 9.01715284864346, &quot;stroke&quot;: true, &quot;weight&quot;: 3}\n",
       "            ).addTo(map_678786ce5b6b6805ed5fcf76aff74537);\n",
       "        \n",
       "    \n",
       "        var popup_ec625477a6dc8ea4e2f8975639c75ebe = L.popup({&quot;maxWidth&quot;: &quot;100%&quot;});\n",
       "\n",
       "        \n",
       "            \n",
       "                var html_cc097d4f5f969eef4cc782ae007cd9e8 = $(`&lt;div id=&quot;html_cc097d4f5f969eef4cc782ae007cd9e8&quot; style=&quot;width: 100.0%; height: 100.0%;&quot;&gt;Algeria&lt;/div&gt;`)[0];\n",
       "                popup_ec625477a6dc8ea4e2f8975639c75ebe.setContent(html_cc097d4f5f969eef4cc782ae007cd9e8);\n",
       "            \n",
       "        \n",
       "\n",
       "        circle_marker_08edd1b27bad839a9e998849e298f4f3.bindPopup(popup_ec625477a6dc8ea4e2f8975639c75ebe)\n",
       "        ;\n",
       "\n",
       "        \n",
       "    \n",
       "    \n",
       "            var circle_marker_c6b66cd0c895cb6cd963f3e7190958f4 = L.circleMarker(\n",
       "                [15.5, 47.5],\n",
       "                {&quot;bubblingMouseEvents&quot;: true, &quot;color&quot;: &quot;red&quot;, &quot;dashArray&quot;: null, &quot;dashOffset&quot;: null, &quot;fill&quot;: true, &quot;fillColor&quot;: &quot;red&quot;, &quot;fillOpacity&quot;: 0.2, &quot;fillRule&quot;: &quot;evenodd&quot;, &quot;lineCap&quot;: &quot;round&quot;, &quot;lineJoin&quot;: &quot;round&quot;, &quot;opacity&quot;: 1.0, &quot;radius&quot;: 8.784547769258724, &quot;stroke&quot;: true, &quot;weight&quot;: 3}\n",
       "            ).addTo(map_678786ce5b6b6805ed5fcf76aff74537);\n",
       "        \n",
       "    \n",
       "        var popup_232c663809576f979c931fdce2e910ea = L.popup({&quot;maxWidth&quot;: &quot;100%&quot;});\n",
       "\n",
       "        \n",
       "            \n",
       "                var html_f26a5d21b21b0c266a64cc250320c6a2 = $(`&lt;div id=&quot;html_f26a5d21b21b0c266a64cc250320c6a2&quot; style=&quot;width: 100.0%; height: 100.0%;&quot;&gt;Yemen&lt;/div&gt;`)[0];\n",
       "                popup_232c663809576f979c931fdce2e910ea.setContent(html_f26a5d21b21b0c266a64cc250320c6a2);\n",
       "            \n",
       "        \n",
       "\n",
       "        circle_marker_c6b66cd0c895cb6cd963f3e7190958f4.bindPopup(popup_232c663809576f979c931fdce2e910ea)\n",
       "        ;\n",
       "\n",
       "        \n",
       "    \n",
       "    \n",
       "            var circle_marker_e92e64a4b7dd1a0fd567d50a850467fa = L.circleMarker(\n",
       "                [-1.0, 15.5],\n",
       "                {&quot;bubblingMouseEvents&quot;: true, &quot;color&quot;: &quot;blue&quot;, &quot;dashArray&quot;: null, &quot;dashOffset&quot;: null, &quot;fill&quot;: true, &quot;fillColor&quot;: &quot;blue&quot;, &quot;fillOpacity&quot;: 0.2, &quot;fillRule&quot;: &quot;evenodd&quot;, &quot;lineCap&quot;: &quot;round&quot;, &quot;lineJoin&quot;: &quot;round&quot;, &quot;opacity&quot;: 1.0, &quot;radius&quot;: 8.57882125566475, &quot;stroke&quot;: true, &quot;weight&quot;: 3}\n",
       "            ).addTo(map_678786ce5b6b6805ed5fcf76aff74537);\n",
       "        \n",
       "    \n",
       "        var popup_3ca774c0352119e5fc017d5b530d4fd1 = L.popup({&quot;maxWidth&quot;: &quot;100%&quot;});\n",
       "\n",
       "        \n",
       "            \n",
       "                var html_3d87b3367cbc60d54503209ad72b84aa = $(`&lt;div id=&quot;html_3d87b3367cbc60d54503209ad72b84aa&quot; style=&quot;width: 100.0%; height: 100.0%;&quot;&gt;Congo, Rep.&lt;/div&gt;`)[0];\n",
       "                popup_3ca774c0352119e5fc017d5b530d4fd1.setContent(html_3d87b3367cbc60d54503209ad72b84aa);\n",
       "            \n",
       "        \n",
       "\n",
       "        circle_marker_e92e64a4b7dd1a0fd567d50a850467fa.bindPopup(popup_3ca774c0352119e5fc017d5b530d4fd1)\n",
       "        ;\n",
       "\n",
       "        \n",
       "    \n",
       "    \n",
       "            var circle_marker_556be8819436c42b1f248e1574f4304c = L.circleMarker(\n",
       "                [40.5, 47.5],\n",
       "                {&quot;bubblingMouseEvents&quot;: true, &quot;color&quot;: &quot;black&quot;, &quot;dashArray&quot;: null, &quot;dashOffset&quot;: null, &quot;fill&quot;: true, &quot;fillColor&quot;: &quot;black&quot;, &quot;fillOpacity&quot;: 0.2, &quot;fillRule&quot;: &quot;evenodd&quot;, &quot;lineCap&quot;: &quot;round&quot;, &quot;lineJoin&quot;: &quot;round&quot;, &quot;opacity&quot;: 1.0, &quot;radius&quot;: 8.517003785576621, &quot;stroke&quot;: true, &quot;weight&quot;: 3}\n",
       "            ).addTo(map_678786ce5b6b6805ed5fcf76aff74537);\n",
       "        \n",
       "    \n",
       "        var popup_8d1132ae150bfd22ed8590e73770f07a = L.popup({&quot;maxWidth&quot;: &quot;100%&quot;});\n",
       "\n",
       "        \n",
       "            \n",
       "                var html_824aa716e9f47020e06b3ceb0fc1e237 = $(`&lt;div id=&quot;html_824aa716e9f47020e06b3ceb0fc1e237&quot; style=&quot;width: 100.0%; height: 100.0%;&quot;&gt;Azerbaijan&lt;/div&gt;`)[0];\n",
       "                popup_8d1132ae150bfd22ed8590e73770f07a.setContent(html_824aa716e9f47020e06b3ceb0fc1e237);\n",
       "            \n",
       "        \n",
       "\n",
       "        circle_marker_556be8819436c42b1f248e1574f4304c.bindPopup(popup_8d1132ae150bfd22ed8590e73770f07a)\n",
       "        ;\n",
       "\n",
       "        \n",
       "    \n",
       "    \n",
       "            var circle_marker_d5092fb69678f38616c79b88332edf2f = L.circleMarker(\n",
       "                [39.0, 35.0],\n",
       "                {&quot;bubblingMouseEvents&quot;: true, &quot;color&quot;: &quot;black&quot;, &quot;dashArray&quot;: null, &quot;dashOffset&quot;: null, &quot;fill&quot;: true, &quot;fillColor&quot;: &quot;black&quot;, &quot;fillOpacity&quot;: 0.2, &quot;fillRule&quot;: &quot;evenodd&quot;, &quot;lineCap&quot;: &quot;round&quot;, &quot;lineJoin&quot;: &quot;round&quot;, &quot;opacity&quot;: 1.0, &quot;radius&quot;: 8.128609272760132, &quot;stroke&quot;: true, &quot;weight&quot;: 3}\n",
       "            ).addTo(map_678786ce5b6b6805ed5fcf76aff74537);\n",
       "        \n",
       "    \n",
       "        var popup_f5312795806eefa09a67f055d7eab3a8 = L.popup({&quot;maxWidth&quot;: &quot;100%&quot;});\n",
       "\n",
       "        \n",
       "            \n",
       "                var html_485a0359f85cc4e4e3219988f62f846e = $(`&lt;div id=&quot;html_485a0359f85cc4e4e3219988f62f846e&quot; style=&quot;width: 100.0%; height: 100.0%;&quot;&gt;Turkey&lt;/div&gt;`)[0];\n",
       "                popup_f5312795806eefa09a67f055d7eab3a8.setContent(html_485a0359f85cc4e4e3219988f62f846e);\n",
       "            \n",
       "        \n",
       "\n",
       "        circle_marker_d5092fb69678f38616c79b88332edf2f.bindPopup(popup_f5312795806eefa09a67f055d7eab3a8)\n",
       "        ;\n",
       "\n",
       "        \n",
       "    \n",
       "    \n",
       "            var circle_marker_646e67a73f396eaba72b78df1389f7b8 = L.circleMarker(\n",
       "                [41.5, 75.0],\n",
       "                {&quot;bubblingMouseEvents&quot;: true, &quot;color&quot;: &quot;red&quot;, &quot;dashArray&quot;: null, &quot;dashOffset&quot;: null, &quot;fill&quot;: true, &quot;fillColor&quot;: &quot;red&quot;, &quot;fillOpacity&quot;: 0.2, &quot;fillRule&quot;: &quot;evenodd&quot;, &quot;lineCap&quot;: &quot;round&quot;, &quot;lineJoin&quot;: &quot;round&quot;, &quot;opacity&quot;: 1.0, &quot;radius&quot;: 7.970758939453412, &quot;stroke&quot;: true, &quot;weight&quot;: 3}\n",
       "            ).addTo(map_678786ce5b6b6805ed5fcf76aff74537);\n",
       "        \n",
       "    \n",
       "        var popup_ade3da3b78e52628fd8ba9388787fa41 = L.popup({&quot;maxWidth&quot;: &quot;100%&quot;});\n",
       "\n",
       "        \n",
       "            \n",
       "                var html_42c1c1b2af645fea2865a2a4a64fce26 = $(`&lt;div id=&quot;html_42c1c1b2af645fea2865a2a4a64fce26&quot; style=&quot;width: 100.0%; height: 100.0%;&quot;&gt;Kyrgyz Republic&lt;/div&gt;`)[0];\n",
       "                popup_ade3da3b78e52628fd8ba9388787fa41.setContent(html_42c1c1b2af645fea2865a2a4a64fce26);\n",
       "            \n",
       "        \n",
       "\n",
       "        circle_marker_646e67a73f396eaba72b78df1389f7b8.bindPopup(popup_ade3da3b78e52628fd8ba9388787fa41)\n",
       "        ;\n",
       "\n",
       "        \n",
       "    \n",
       "    \n",
       "            var circle_marker_c9cb102152b2fab550f56302fb0fd5df = L.circleMarker(\n",
       "                [13.0, -85.0],\n",
       "                {&quot;bubblingMouseEvents&quot;: true, &quot;color&quot;: &quot;green&quot;, &quot;dashArray&quot;: null, &quot;dashOffset&quot;: null, &quot;fill&quot;: true, &quot;fillColor&quot;: &quot;green&quot;, &quot;fillOpacity&quot;: 0.2, &quot;fillRule&quot;: &quot;evenodd&quot;, &quot;lineCap&quot;: &quot;round&quot;, &quot;lineJoin&quot;: &quot;round&quot;, &quot;opacity&quot;: 1.0, &quot;radius&quot;: 7.78952348595181, &quot;stroke&quot;: true, &quot;weight&quot;: 3}\n",
       "            ).addTo(map_678786ce5b6b6805ed5fcf76aff74537);\n",
       "        \n",
       "    \n",
       "        var popup_cd1a4bce74d80deb1095c9de7f019c6d = L.popup({&quot;maxWidth&quot;: &quot;100%&quot;});\n",
       "\n",
       "        \n",
       "            \n",
       "                var html_e753df7c2f885933125343e9f44fb289 = $(`&lt;div id=&quot;html_e753df7c2f885933125343e9f44fb289&quot; style=&quot;width: 100.0%; height: 100.0%;&quot;&gt;Nicaragua&lt;/div&gt;`)[0];\n",
       "                popup_cd1a4bce74d80deb1095c9de7f019c6d.setContent(html_e753df7c2f885933125343e9f44fb289);\n",
       "            \n",
       "        \n",
       "\n",
       "        circle_marker_c9cb102152b2fab550f56302fb0fd5df.bindPopup(popup_cd1a4bce74d80deb1095c9de7f019c6d)\n",
       "        ;\n",
       "\n",
       "        \n",
       "    \n",
       "    \n",
       "            var circle_marker_cc646d5e72a0e104d2cab7bb417c0324 = L.circleMarker(\n",
       "                [46.0, 2.0],\n",
       "                {&quot;bubblingMouseEvents&quot;: true, &quot;color&quot;: &quot;black&quot;, &quot;dashArray&quot;: null, &quot;dashOffset&quot;: null, &quot;fill&quot;: true, &quot;fillColor&quot;: &quot;black&quot;, &quot;fillOpacity&quot;: 0.2, &quot;fillRule&quot;: &quot;evenodd&quot;, &quot;lineCap&quot;: &quot;round&quot;, &quot;lineJoin&quot;: &quot;round&quot;, &quot;opacity&quot;: 1.0, &quot;radius&quot;: 7.748905167562035, &quot;stroke&quot;: true, &quot;weight&quot;: 3}\n",
       "            ).addTo(map_678786ce5b6b6805ed5fcf76aff74537);\n",
       "        \n",
       "    \n",
       "        var popup_de3db8b8a94e99ad77293ca5ef69a6ee = L.popup({&quot;maxWidth&quot;: &quot;100%&quot;});\n",
       "\n",
       "        \n",
       "            \n",
       "                var html_45e1d03ef8fa9d8c519e8bf4d5f481ae = $(`&lt;div id=&quot;html_45e1d03ef8fa9d8c519e8bf4d5f481ae&quot; style=&quot;width: 100.0%; height: 100.0%;&quot;&gt;France&lt;/div&gt;`)[0];\n",
       "                popup_de3db8b8a94e99ad77293ca5ef69a6ee.setContent(html_45e1d03ef8fa9d8c519e8bf4d5f481ae);\n",
       "            \n",
       "        \n",
       "\n",
       "        circle_marker_cc646d5e72a0e104d2cab7bb417c0324.bindPopup(popup_de3db8b8a94e99ad77293ca5ef69a6ee)\n",
       "        ;\n",
       "\n",
       "        \n",
       "    \n",
       "    \n",
       "            var circle_marker_ef07b092889992396865bfe3b4a1f912 = L.circleMarker(\n",
       "                [19.0, -70.66667],\n",
       "                {&quot;bubblingMouseEvents&quot;: true, &quot;color&quot;: &quot;green&quot;, &quot;dashArray&quot;: null, &quot;dashOffset&quot;: null, &quot;fill&quot;: true, &quot;fillColor&quot;: &quot;green&quot;, &quot;fillOpacity&quot;: 0.2, &quot;fillRule&quot;: &quot;evenodd&quot;, &quot;lineCap&quot;: &quot;round&quot;, &quot;lineJoin&quot;: &quot;round&quot;, &quot;opacity&quot;: 1.0, &quot;radius&quot;: 7.107649087942641, &quot;stroke&quot;: true, &quot;weight&quot;: 3}\n",
       "            ).addTo(map_678786ce5b6b6805ed5fcf76aff74537);\n",
       "        \n",
       "    \n",
       "        var popup_12c1334aa81181204e462527b6a73871 = L.popup({&quot;maxWidth&quot;: &quot;100%&quot;});\n",
       "\n",
       "        \n",
       "            \n",
       "                var html_323274aa5530d75e3a9d8fad9608a422 = $(`&lt;div id=&quot;html_323274aa5530d75e3a9d8fad9608a422&quot; style=&quot;width: 100.0%; height: 100.0%;&quot;&gt;Dominican Republic&lt;/div&gt;`)[0];\n",
       "                popup_12c1334aa81181204e462527b6a73871.setContent(html_323274aa5530d75e3a9d8fad9608a422);\n",
       "            \n",
       "        \n",
       "\n",
       "        circle_marker_ef07b092889992396865bfe3b4a1f912.bindPopup(popup_12c1334aa81181204e462527b6a73871)\n",
       "        ;\n",
       "\n",
       "        \n",
       "    \n",
       "    \n",
       "            var circle_marker_09a1783934edb89d474674da6ce3b32a = L.circleMarker(\n",
       "                [20.25, -10.5],\n",
       "                {&quot;bubblingMouseEvents&quot;: true, &quot;color&quot;: &quot;blue&quot;, &quot;dashArray&quot;: null, &quot;dashOffset&quot;: null, &quot;fill&quot;: true, &quot;fillColor&quot;: &quot;blue&quot;, &quot;fillOpacity&quot;: 0.2, &quot;fillRule&quot;: &quot;evenodd&quot;, &quot;lineCap&quot;: &quot;round&quot;, &quot;lineJoin&quot;: &quot;round&quot;, &quot;opacity&quot;: 1.0, &quot;radius&quot;: 6.898744493787591, &quot;stroke&quot;: true, &quot;weight&quot;: 3}\n",
       "            ).addTo(map_678786ce5b6b6805ed5fcf76aff74537);\n",
       "        \n",
       "    \n",
       "        var popup_63a4347ea7f0f1169d9a42f3ff40d828 = L.popup({&quot;maxWidth&quot;: &quot;100%&quot;});\n",
       "\n",
       "        \n",
       "            \n",
       "                var html_7298f7cb2a15e32d61bb6d3b20357b9f = $(`&lt;div id=&quot;html_7298f7cb2a15e32d61bb6d3b20357b9f&quot; style=&quot;width: 100.0%; height: 100.0%;&quot;&gt;Mauritania&lt;/div&gt;`)[0];\n",
       "                popup_63a4347ea7f0f1169d9a42f3ff40d828.setContent(html_7298f7cb2a15e32d61bb6d3b20357b9f);\n",
       "            \n",
       "        \n",
       "\n",
       "        circle_marker_09a1783934edb89d474674da6ce3b32a.bindPopup(popup_63a4347ea7f0f1169d9a42f3ff40d828)\n",
       "        ;\n",
       "\n",
       "        \n",
       "    \n",
       "    \n",
       "            var circle_marker_61076203d4502cb8ec7e10754516e04f = L.circleMarker(\n",
       "                [47.25, 28.58333],\n",
       "                {&quot;bubblingMouseEvents&quot;: true, &quot;color&quot;: &quot;black&quot;, &quot;dashArray&quot;: null, &quot;dashOffset&quot;: null, &quot;fill&quot;: true, &quot;fillColor&quot;: &quot;black&quot;, &quot;fillOpacity&quot;: 0.2, &quot;fillRule&quot;: &quot;evenodd&quot;, &quot;lineCap&quot;: &quot;round&quot;, &quot;lineJoin&quot;: &quot;round&quot;, &quot;opacity&quot;: 1.0, &quot;radius&quot;: 6.811308285432134, &quot;stroke&quot;: true, &quot;weight&quot;: 3}\n",
       "            ).addTo(map_678786ce5b6b6805ed5fcf76aff74537);\n",
       "        \n",
       "    \n",
       "        var popup_ef7bba4e1fd8b21f7bd89461b8370858 = L.popup({&quot;maxWidth&quot;: &quot;100%&quot;});\n",
       "\n",
       "        \n",
       "            \n",
       "                var html_ede6e4d1a9756e47723fdfc3297ce449 = $(`&lt;div id=&quot;html_ede6e4d1a9756e47723fdfc3297ce449&quot; style=&quot;width: 100.0%; height: 100.0%;&quot;&gt;Moldova&lt;/div&gt;`)[0];\n",
       "                popup_ef7bba4e1fd8b21f7bd89461b8370858.setContent(html_ede6e4d1a9756e47723fdfc3297ce449);\n",
       "            \n",
       "        \n",
       "\n",
       "        circle_marker_61076203d4502cb8ec7e10754516e04f.bindPopup(popup_ef7bba4e1fd8b21f7bd89461b8370858)\n",
       "        ;\n",
       "\n",
       "        \n",
       "    \n",
       "    \n",
       "            var circle_marker_1fb48e9e4f5a7035a80f8c16b13b730e = L.circleMarker(\n",
       "                [-29.5, 28.25],\n",
       "                {&quot;bubblingMouseEvents&quot;: true, &quot;color&quot;: &quot;blue&quot;, &quot;dashArray&quot;: null, &quot;dashOffset&quot;: null, &quot;fill&quot;: true, &quot;fillColor&quot;: &quot;blue&quot;, &quot;fillOpacity&quot;: 0.2, &quot;fillRule&quot;: &quot;evenodd&quot;, &quot;lineCap&quot;: &quot;round&quot;, &quot;lineJoin&quot;: &quot;round&quot;, &quot;opacity&quot;: 1.0, &quot;radius&quot;: 6.525198282777074, &quot;stroke&quot;: true, &quot;weight&quot;: 3}\n",
       "            ).addTo(map_678786ce5b6b6805ed5fcf76aff74537);\n",
       "        \n",
       "    \n",
       "        var popup_f50cdb4e80111e527d1a90c81ea7fbab = L.popup({&quot;maxWidth&quot;: &quot;100%&quot;});\n",
       "\n",
       "        \n",
       "            \n",
       "                var html_1d5eeee8ec0cffcfd4ae1f359fdb3e4b = $(`&lt;div id=&quot;html_1d5eeee8ec0cffcfd4ae1f359fdb3e4b&quot; style=&quot;width: 100.0%; height: 100.0%;&quot;&gt;Lesotho&lt;/div&gt;`)[0];\n",
       "                popup_f50cdb4e80111e527d1a90c81ea7fbab.setContent(html_1d5eeee8ec0cffcfd4ae1f359fdb3e4b);\n",
       "            \n",
       "        \n",
       "\n",
       "        circle_marker_1fb48e9e4f5a7035a80f8c16b13b730e.bindPopup(popup_f50cdb4e80111e527d1a90c81ea7fbab)\n",
       "        ;\n",
       "\n",
       "        \n",
       "    \n",
       "    \n",
       "            var circle_marker_9880c449fefcbf9a2113bec01c1b0e65 = L.circleMarker(\n",
       "                [13.5, -15.5],\n",
       "                {&quot;bubblingMouseEvents&quot;: true, &quot;color&quot;: &quot;blue&quot;, &quot;dashArray&quot;: null, &quot;dashOffset&quot;: null, &quot;fill&quot;: true, &quot;fillColor&quot;: &quot;blue&quot;, &quot;fillOpacity&quot;: 0.2, &quot;fillRule&quot;: &quot;evenodd&quot;, &quot;lineCap&quot;: &quot;round&quot;, &quot;lineJoin&quot;: &quot;round&quot;, &quot;opacity&quot;: 1.0, &quot;radius&quot;: 6.119618539363226, &quot;stroke&quot;: true, &quot;weight&quot;: 3}\n",
       "            ).addTo(map_678786ce5b6b6805ed5fcf76aff74537);\n",
       "        \n",
       "    \n",
       "        var popup_db00ff81349238614115dc9207e960aa = L.popup({&quot;maxWidth&quot;: &quot;100%&quot;});\n",
       "\n",
       "        \n",
       "            \n",
       "                var html_44604c21f186cc91baa46f10f60ee13f = $(`&lt;div id=&quot;html_44604c21f186cc91baa46f10f60ee13f&quot; style=&quot;width: 100.0%; height: 100.0%;&quot;&gt;Gambia&lt;/div&gt;`)[0];\n",
       "                popup_db00ff81349238614115dc9207e960aa.setContent(html_44604c21f186cc91baa46f10f60ee13f);\n",
       "            \n",
       "        \n",
       "\n",
       "        circle_marker_9880c449fefcbf9a2113bec01c1b0e65.bindPopup(popup_db00ff81349238614115dc9207e960aa)\n",
       "        ;\n",
       "\n",
       "        \n",
       "    \n",
       "    \n",
       "            var circle_marker_daf33f874e7921158a0b20ac57904077 = L.circleMarker(\n",
       "                [33.0, 44.0],\n",
       "                {&quot;bubblingMouseEvents&quot;: true, &quot;color&quot;: &quot;red&quot;, &quot;dashArray&quot;: null, &quot;dashOffset&quot;: null, &quot;fill&quot;: true, &quot;fillColor&quot;: &quot;red&quot;, &quot;fillOpacity&quot;: 0.2, &quot;fillRule&quot;: &quot;evenodd&quot;, &quot;lineCap&quot;: &quot;round&quot;, &quot;lineJoin&quot;: &quot;round&quot;, &quot;opacity&quot;: 1.0, &quot;radius&quot;: 6.084127448138132, &quot;stroke&quot;: true, &quot;weight&quot;: 3}\n",
       "            ).addTo(map_678786ce5b6b6805ed5fcf76aff74537);\n",
       "        \n",
       "    \n",
       "        var popup_9a3f01c1f4be3c3f5e30a336316d8fd5 = L.popup({&quot;maxWidth&quot;: &quot;100%&quot;});\n",
       "\n",
       "        \n",
       "            \n",
       "                var html_477a9aa37b0488c68c1837e5d8b53123 = $(`&lt;div id=&quot;html_477a9aa37b0488c68c1837e5d8b53123&quot; style=&quot;width: 100.0%; height: 100.0%;&quot;&gt;Iraq&lt;/div&gt;`)[0];\n",
       "                popup_9a3f01c1f4be3c3f5e30a336316d8fd5.setContent(html_477a9aa37b0488c68c1837e5d8b53123);\n",
       "            \n",
       "        \n",
       "\n",
       "        circle_marker_daf33f874e7921158a0b20ac57904077.bindPopup(popup_9a3f01c1f4be3c3f5e30a336316d8fd5)\n",
       "        ;\n",
       "\n",
       "        \n",
       "    \n",
       "    \n",
       "            var circle_marker_f0caebc8fc9bac925524e13d85e15498 = L.circleMarker(\n",
       "                [40.0, -4.0],\n",
       "                {&quot;bubblingMouseEvents&quot;: true, &quot;color&quot;: &quot;black&quot;, &quot;dashArray&quot;: null, &quot;dashOffset&quot;: null, &quot;fill&quot;: true, &quot;fillColor&quot;: &quot;black&quot;, &quot;fillOpacity&quot;: 0.2, &quot;fillRule&quot;: &quot;evenodd&quot;, &quot;lineCap&quot;: &quot;round&quot;, &quot;lineJoin&quot;: &quot;round&quot;, &quot;opacity&quot;: 1.0, &quot;radius&quot;: 5.912389201233562, &quot;stroke&quot;: true, &quot;weight&quot;: 3}\n",
       "            ).addTo(map_678786ce5b6b6805ed5fcf76aff74537);\n",
       "        \n",
       "    \n",
       "        var popup_18bf9301a46c5dfe82acc676ce7b8dc9 = L.popup({&quot;maxWidth&quot;: &quot;100%&quot;});\n",
       "\n",
       "        \n",
       "            \n",
       "                var html_bdf1fa7aeff5b8025d042165750fd160 = $(`&lt;div id=&quot;html_bdf1fa7aeff5b8025d042165750fd160&quot; style=&quot;width: 100.0%; height: 100.0%;&quot;&gt;Spain&lt;/div&gt;`)[0];\n",
       "                popup_18bf9301a46c5dfe82acc676ce7b8dc9.setContent(html_bdf1fa7aeff5b8025d042165750fd160);\n",
       "            \n",
       "        \n",
       "\n",
       "        circle_marker_f0caebc8fc9bac925524e13d85e15498.bindPopup(popup_18bf9301a46c5dfe82acc676ce7b8dc9)\n",
       "        ;\n",
       "\n",
       "        \n",
       "    \n",
       "    \n",
       "            var circle_marker_3fcc1c1640d99ae80817dec5881c0a00 = L.circleMarker(\n",
       "                [13.83333, -88.91667],\n",
       "                {&quot;bubblingMouseEvents&quot;: true, &quot;color&quot;: &quot;green&quot;, &quot;dashArray&quot;: null, &quot;dashOffset&quot;: null, &quot;fill&quot;: true, &quot;fillColor&quot;: &quot;green&quot;, &quot;fillOpacity&quot;: 0.2, &quot;fillRule&quot;: &quot;evenodd&quot;, &quot;lineCap&quot;: &quot;round&quot;, &quot;lineJoin&quot;: &quot;round&quot;, &quot;opacity&quot;: 1.0, &quot;radius&quot;: 5.848983643806148, &quot;stroke&quot;: true, &quot;weight&quot;: 3}\n",
       "            ).addTo(map_678786ce5b6b6805ed5fcf76aff74537);\n",
       "        \n",
       "    \n",
       "        var popup_78c0d323c11ae91d27489191a11ea8d8 = L.popup({&quot;maxWidth&quot;: &quot;100%&quot;});\n",
       "\n",
       "        \n",
       "            \n",
       "                var html_b9d1ec3677ee6ee16445d20a9a47515e = $(`&lt;div id=&quot;html_b9d1ec3677ee6ee16445d20a9a47515e&quot; style=&quot;width: 100.0%; height: 100.0%;&quot;&gt;El Salvador&lt;/div&gt;`)[0];\n",
       "                popup_78c0d323c11ae91d27489191a11ea8d8.setContent(html_b9d1ec3677ee6ee16445d20a9a47515e);\n",
       "            \n",
       "        \n",
       "\n",
       "        circle_marker_3fcc1c1640d99ae80817dec5881c0a00.bindPopup(popup_78c0d323c11ae91d27489191a11ea8d8)\n",
       "        ;\n",
       "\n",
       "        \n",
       "    \n",
       "    \n",
       "            var circle_marker_d89ac5c9e71a2b4fe9b397010c78b31d = L.circleMarker(\n",
       "                [18.16667, -77.25],\n",
       "                {&quot;bubblingMouseEvents&quot;: true, &quot;color&quot;: &quot;green&quot;, &quot;dashArray&quot;: null, &quot;dashOffset&quot;: null, &quot;fill&quot;: true, &quot;fillColor&quot;: &quot;green&quot;, &quot;fillOpacity&quot;: 0.2, &quot;fillRule&quot;: &quot;evenodd&quot;, &quot;lineCap&quot;: &quot;round&quot;, &quot;lineJoin&quot;: &quot;round&quot;, &quot;opacity&quot;: 1.0, &quot;radius&quot;: 5.7788713764036945, &quot;stroke&quot;: true, &quot;weight&quot;: 3}\n",
       "            ).addTo(map_678786ce5b6b6805ed5fcf76aff74537);\n",
       "        \n",
       "    \n",
       "        var popup_68ec4f25fd9fc0762e9590ec41f32e12 = L.popup({&quot;maxWidth&quot;: &quot;100%&quot;});\n",
       "\n",
       "        \n",
       "            \n",
       "                var html_36beec279dcacad94c4419af44a02960 = $(`&lt;div id=&quot;html_36beec279dcacad94c4419af44a02960&quot; style=&quot;width: 100.0%; height: 100.0%;&quot;&gt;Jamaica&lt;/div&gt;`)[0];\n",
       "                popup_68ec4f25fd9fc0762e9590ec41f32e12.setContent(html_36beec279dcacad94c4419af44a02960);\n",
       "            \n",
       "        \n",
       "\n",
       "        circle_marker_d89ac5c9e71a2b4fe9b397010c78b31d.bindPopup(popup_68ec4f25fd9fc0762e9590ec41f32e12)\n",
       "        ;\n",
       "\n",
       "        \n",
       "    \n",
       "    \n",
       "            var circle_marker_9de6e757774d8e8e18a98f8483e9e427 = L.circleMarker(\n",
       "                [-22.0, 17.0],\n",
       "                {&quot;bubblingMouseEvents&quot;: true, &quot;color&quot;: &quot;blue&quot;, &quot;dashArray&quot;: null, &quot;dashOffset&quot;: null, &quot;fill&quot;: true, &quot;fillColor&quot;: &quot;blue&quot;, &quot;fillOpacity&quot;: 0.2, &quot;fillRule&quot;: &quot;evenodd&quot;, &quot;lineCap&quot;: &quot;round&quot;, &quot;lineJoin&quot;: &quot;round&quot;, &quot;opacity&quot;: 1.0, &quot;radius&quot;: 5.756990068193116, &quot;stroke&quot;: true, &quot;weight&quot;: 3}\n",
       "            ).addTo(map_678786ce5b6b6805ed5fcf76aff74537);\n",
       "        \n",
       "    \n",
       "        var popup_4ebba73cdf01c2875d8def005738f12d = L.popup({&quot;maxWidth&quot;: &quot;100%&quot;});\n",
       "\n",
       "        \n",
       "            \n",
       "                var html_d7e210a38fb4c5d6b94fb2737ded6ebf = $(`&lt;div id=&quot;html_d7e210a38fb4c5d6b94fb2737ded6ebf&quot; style=&quot;width: 100.0%; height: 100.0%;&quot;&gt;Namibia&lt;/div&gt;`)[0];\n",
       "                popup_4ebba73cdf01c2875d8def005738f12d.setContent(html_d7e210a38fb4c5d6b94fb2737ded6ebf);\n",
       "            \n",
       "        \n",
       "\n",
       "        circle_marker_9de6e757774d8e8e18a98f8483e9e427.bindPopup(popup_4ebba73cdf01c2875d8def005738f12d)\n",
       "        ;\n",
       "\n",
       "        \n",
       "    \n",
       "    \n",
       "            var circle_marker_dc15b066f1e0bb5307d70d2305dd09f0 = L.circleMarker(\n",
       "                [46.0, 25.0],\n",
       "                {&quot;bubblingMouseEvents&quot;: true, &quot;color&quot;: &quot;black&quot;, &quot;dashArray&quot;: null, &quot;dashOffset&quot;: null, &quot;fill&quot;: true, &quot;fillColor&quot;: &quot;black&quot;, &quot;fillOpacity&quot;: 0.2, &quot;fillRule&quot;: &quot;evenodd&quot;, &quot;lineCap&quot;: &quot;round&quot;, &quot;lineJoin&quot;: &quot;round&quot;, &quot;opacity&quot;: 1.0, &quot;radius&quot;: 5.690911280345039, &quot;stroke&quot;: true, &quot;weight&quot;: 3}\n",
       "            ).addTo(map_678786ce5b6b6805ed5fcf76aff74537);\n",
       "        \n",
       "    \n",
       "        var popup_476fe35dcaa7f593c9fdf60626c6b84b = L.popup({&quot;maxWidth&quot;: &quot;100%&quot;});\n",
       "\n",
       "        \n",
       "            \n",
       "                var html_be498c01ca338b2a2d1367e8a490582e = $(`&lt;div id=&quot;html_be498c01ca338b2a2d1367e8a490582e&quot; style=&quot;width: 100.0%; height: 100.0%;&quot;&gt;Romania&lt;/div&gt;`)[0];\n",
       "                popup_476fe35dcaa7f593c9fdf60626c6b84b.setContent(html_be498c01ca338b2a2d1367e8a490582e);\n",
       "            \n",
       "        \n",
       "\n",
       "        circle_marker_dc15b066f1e0bb5307d70d2305dd09f0.bindPopup(popup_476fe35dcaa7f593c9fdf60626c6b84b)\n",
       "        ;\n",
       "\n",
       "        \n",
       "    \n",
       "    \n",
       "            var circle_marker_a4eb1957f98d04fd94fb6048141e8967 = L.circleMarker(\n",
       "                [12.0, -15.0],\n",
       "                {&quot;bubblingMouseEvents&quot;: true, &quot;color&quot;: &quot;blue&quot;, &quot;dashArray&quot;: null, &quot;dashOffset&quot;: null, &quot;fill&quot;: true, &quot;fillColor&quot;: &quot;blue&quot;, &quot;fillOpacity&quot;: 0.2, &quot;fillRule&quot;: &quot;evenodd&quot;, &quot;lineCap&quot;: &quot;round&quot;, &quot;lineJoin&quot;: &quot;round&quot;, &quot;opacity&quot;: 1.0, &quot;radius&quot;: 5.62697303223573, &quot;stroke&quot;: true, &quot;weight&quot;: 3}\n",
       "            ).addTo(map_678786ce5b6b6805ed5fcf76aff74537);\n",
       "        \n",
       "    \n",
       "        var popup_0a9b5cb2de386a02f0e231b76774b0f7 = L.popup({&quot;maxWidth&quot;: &quot;100%&quot;});\n",
       "\n",
       "        \n",
       "            \n",
       "                var html_657f30b6d9d1cad09e6974a7a20f44ea = $(`&lt;div id=&quot;html_657f30b6d9d1cad09e6974a7a20f44ea&quot; style=&quot;width: 100.0%; height: 100.0%;&quot;&gt;Guinea-Bissau&lt;/div&gt;`)[0];\n",
       "                popup_0a9b5cb2de386a02f0e231b76774b0f7.setContent(html_657f30b6d9d1cad09e6974a7a20f44ea);\n",
       "            \n",
       "        \n",
       "\n",
       "        circle_marker_a4eb1957f98d04fd94fb6048141e8967.bindPopup(popup_0a9b5cb2de386a02f0e231b76774b0f7)\n",
       "        ;\n",
       "\n",
       "        \n",
       "    \n",
       "    \n",
       "            var circle_marker_4421c17820beebaa5efe3f234bda530a = L.circleMarker(\n",
       "                [48.0, 68.0],\n",
       "                {&quot;bubblingMouseEvents&quot;: true, &quot;color&quot;: &quot;red&quot;, &quot;dashArray&quot;: null, &quot;dashOffset&quot;: null, &quot;fill&quot;: true, &quot;fillColor&quot;: &quot;red&quot;, &quot;fillOpacity&quot;: 0.2, &quot;fillRule&quot;: &quot;evenodd&quot;, &quot;lineCap&quot;: &quot;round&quot;, &quot;lineJoin&quot;: &quot;round&quot;, &quot;opacity&quot;: 1.0, &quot;radius&quot;: 5.626752410440319, &quot;stroke&quot;: true, &quot;weight&quot;: 3}\n",
       "            ).addTo(map_678786ce5b6b6805ed5fcf76aff74537);\n",
       "        \n",
       "    \n",
       "        var popup_150735277cec72f3db352e0ce960238c = L.popup({&quot;maxWidth&quot;: &quot;100%&quot;});\n",
       "\n",
       "        \n",
       "            \n",
       "                var html_798f91f16b44bd3777224a476aea66de = $(`&lt;div id=&quot;html_798f91f16b44bd3777224a476aea66de&quot; style=&quot;width: 100.0%; height: 100.0%;&quot;&gt;Kazakhstan&lt;/div&gt;`)[0];\n",
       "                popup_150735277cec72f3db352e0ce960238c.setContent(html_798f91f16b44bd3777224a476aea66de);\n",
       "            \n",
       "        \n",
       "\n",
       "        circle_marker_4421c17820beebaa5efe3f234bda530a.bindPopup(popup_150735277cec72f3db352e0ce960238c)\n",
       "        ;\n",
       "\n",
       "        \n",
       "    \n",
       "    \n",
       "            var circle_marker_5a9442e4b4997ac047336b9af526bf26 = L.circleMarker(\n",
       "                [42.83333, 12.83333],\n",
       "                {&quot;bubblingMouseEvents&quot;: true, &quot;color&quot;: &quot;black&quot;, &quot;dashArray&quot;: null, &quot;dashOffset&quot;: null, &quot;fill&quot;: true, &quot;fillColor&quot;: &quot;black&quot;, &quot;fillOpacity&quot;: 0.2, &quot;fillRule&quot;: &quot;evenodd&quot;, &quot;lineCap&quot;: &quot;round&quot;, &quot;lineJoin&quot;: &quot;round&quot;, &quot;opacity&quot;: 1.0, &quot;radius&quot;: 5.615687596801955, &quot;stroke&quot;: true, &quot;weight&quot;: 3}\n",
       "            ).addTo(map_678786ce5b6b6805ed5fcf76aff74537);\n",
       "        \n",
       "    \n",
       "        var popup_a5a95497de1fdf0314e5a3fe2a2f1577 = L.popup({&quot;maxWidth&quot;: &quot;100%&quot;});\n",
       "\n",
       "        \n",
       "            \n",
       "                var html_ac196e790315bb58b56dd43ddf94ecbf = $(`&lt;div id=&quot;html_ac196e790315bb58b56dd43ddf94ecbf&quot; style=&quot;width: 100.0%; height: 100.0%;&quot;&gt;Italy&lt;/div&gt;`)[0];\n",
       "                popup_a5a95497de1fdf0314e5a3fe2a2f1577.setContent(html_ac196e790315bb58b56dd43ddf94ecbf);\n",
       "            \n",
       "        \n",
       "\n",
       "        circle_marker_5a9442e4b4997ac047336b9af526bf26.bindPopup(popup_a5a95497de1fdf0314e5a3fe2a2f1577)\n",
       "        ;\n",
       "\n",
       "        \n",
       "    \n",
       "    \n",
       "            var circle_marker_e1f6c7de1dbe1d76fc5fba001ad1778d = L.circleMarker(\n",
       "                [-33.45694, -70.64827],\n",
       "                {&quot;bubblingMouseEvents&quot;: true, &quot;color&quot;: &quot;green&quot;, &quot;dashArray&quot;: null, &quot;dashOffset&quot;: null, &quot;fill&quot;: true, &quot;fillColor&quot;: &quot;green&quot;, &quot;fillOpacity&quot;: 0.2, &quot;fillRule&quot;: &quot;evenodd&quot;, &quot;lineCap&quot;: &quot;round&quot;, &quot;lineJoin&quot;: &quot;round&quot;, &quot;opacity&quot;: 1.0, &quot;radius&quot;: 5.612557863705337, &quot;stroke&quot;: true, &quot;weight&quot;: 3}\n",
       "            ).addTo(map_678786ce5b6b6805ed5fcf76aff74537);\n",
       "        \n",
       "    \n",
       "        var popup_512d070c4647ad5d32de36a196f12f63 = L.popup({&quot;maxWidth&quot;: &quot;100%&quot;});\n",
       "\n",
       "        \n",
       "            \n",
       "                var html_70703403b144c542d1933394d0a83e0c = $(`&lt;div id=&quot;html_70703403b144c542d1933394d0a83e0c&quot; style=&quot;width: 100.0%; height: 100.0%;&quot;&gt;Chile&lt;/div&gt;`)[0];\n",
       "                popup_512d070c4647ad5d32de36a196f12f63.setContent(html_70703403b144c542d1933394d0a83e0c);\n",
       "            \n",
       "        \n",
       "\n",
       "        circle_marker_e1f6c7de1dbe1d76fc5fba001ad1778d.bindPopup(popup_512d070c4647ad5d32de36a196f12f63)\n",
       "        ;\n",
       "\n",
       "        \n",
       "    \n",
       "    \n",
       "            var circle_marker_fc4acf275f09b82f9237d2b9225233dc = L.circleMarker(\n",
       "                [49.0, 32.0],\n",
       "                {&quot;bubblingMouseEvents&quot;: true, &quot;color&quot;: &quot;black&quot;, &quot;dashArray&quot;: null, &quot;dashOffset&quot;: null, &quot;fill&quot;: true, &quot;fillColor&quot;: &quot;black&quot;, &quot;fillOpacity&quot;: 0.2, &quot;fillRule&quot;: &quot;evenodd&quot;, &quot;lineCap&quot;: &quot;round&quot;, &quot;lineJoin&quot;: &quot;round&quot;, &quot;opacity&quot;: 1.0, &quot;radius&quot;: 5.439615663710461, &quot;stroke&quot;: true, &quot;weight&quot;: 3}\n",
       "            ).addTo(map_678786ce5b6b6805ed5fcf76aff74537);\n",
       "        \n",
       "    \n",
       "        var popup_eb428776e1e151a50aa5ae67ef2c8ddc = L.popup({&quot;maxWidth&quot;: &quot;100%&quot;});\n",
       "\n",
       "        \n",
       "            \n",
       "                var html_7452d28a06355bb53bbdc7b420ac3500 = $(`&lt;div id=&quot;html_7452d28a06355bb53bbdc7b420ac3500&quot; style=&quot;width: 100.0%; height: 100.0%;&quot;&gt;Ukraine&lt;/div&gt;`)[0];\n",
       "                popup_eb428776e1e151a50aa5ae67ef2c8ddc.setContent(html_7452d28a06355bb53bbdc7b420ac3500);\n",
       "            \n",
       "        \n",
       "\n",
       "        circle_marker_fc4acf275f09b82f9237d2b9225233dc.bindPopup(popup_eb428776e1e151a50aa5ae67ef2c8ddc)\n",
       "        ;\n",
       "\n",
       "        \n",
       "    \n",
       "    \n",
       "            var circle_marker_8328fc5d9c165feac780c26ef298b6fb = L.circleMarker(\n",
       "                [34.0, 9.0],\n",
       "                {&quot;bubblingMouseEvents&quot;: true, &quot;color&quot;: &quot;blue&quot;, &quot;dashArray&quot;: null, &quot;dashOffset&quot;: null, &quot;fill&quot;: true, &quot;fillColor&quot;: &quot;blue&quot;, &quot;fillOpacity&quot;: 0.2, &quot;fillRule&quot;: &quot;evenodd&quot;, &quot;lineCap&quot;: &quot;round&quot;, &quot;lineJoin&quot;: &quot;round&quot;, &quot;opacity&quot;: 1.0, &quot;radius&quot;: 5.408236124338439, &quot;stroke&quot;: true, &quot;weight&quot;: 3}\n",
       "            ).addTo(map_678786ce5b6b6805ed5fcf76aff74537);\n",
       "        \n",
       "    \n",
       "        var popup_980a3c06e7bfb7506fcff4b94f1fc93b = L.popup({&quot;maxWidth&quot;: &quot;100%&quot;});\n",
       "\n",
       "        \n",
       "            \n",
       "                var html_e3940fe82d5e362387796a8c397a44a2 = $(`&lt;div id=&quot;html_e3940fe82d5e362387796a8c397a44a2&quot; style=&quot;width: 100.0%; height: 100.0%;&quot;&gt;Tunisia&lt;/div&gt;`)[0];\n",
       "                popup_980a3c06e7bfb7506fcff4b94f1fc93b.setContent(html_e3940fe82d5e362387796a8c397a44a2);\n",
       "            \n",
       "        \n",
       "\n",
       "        circle_marker_8328fc5d9c165feac780c26ef298b6fb.bindPopup(popup_980a3c06e7bfb7506fcff4b94f1fc93b)\n",
       "        ;\n",
       "\n",
       "        \n",
       "    \n",
       "    \n",
       "            var circle_marker_837ceee7ee0c7d6773f84c70fc1a49c5 = L.circleMarker(\n",
       "                [2.5, 112.5],\n",
       "                {&quot;bubblingMouseEvents&quot;: true, &quot;color&quot;: &quot;red&quot;, &quot;dashArray&quot;: null, &quot;dashOffset&quot;: null, &quot;fill&quot;: true, &quot;fillColor&quot;: &quot;red&quot;, &quot;fillOpacity&quot;: 0.2, &quot;fillRule&quot;: &quot;evenodd&quot;, &quot;lineCap&quot;: &quot;round&quot;, &quot;lineJoin&quot;: &quot;round&quot;, &quot;opacity&quot;: 1.0, &quot;radius&quot;: 5.385333649736934, &quot;stroke&quot;: true, &quot;weight&quot;: 3}\n",
       "            ).addTo(map_678786ce5b6b6805ed5fcf76aff74537);\n",
       "        \n",
       "    \n",
       "        var popup_502f1fe513eaf8de9978d44b2efdb36d = L.popup({&quot;maxWidth&quot;: &quot;100%&quot;});\n",
       "\n",
       "        \n",
       "            \n",
       "                var html_31fc0da43dfdf6c6f9653466aab11057 = $(`&lt;div id=&quot;html_31fc0da43dfdf6c6f9653466aab11057&quot; style=&quot;width: 100.0%; height: 100.0%;&quot;&gt;Malaysia&lt;/div&gt;`)[0];\n",
       "                popup_502f1fe513eaf8de9978d44b2efdb36d.setContent(html_31fc0da43dfdf6c6f9653466aab11057);\n",
       "            \n",
       "        \n",
       "\n",
       "        circle_marker_837ceee7ee0c7d6773f84c70fc1a49c5.bindPopup(popup_502f1fe513eaf8de9978d44b2efdb36d)\n",
       "        ;\n",
       "\n",
       "        \n",
       "    \n",
       "    \n",
       "            var circle_marker_0ec13ede0b7560ad185b6d81835b6b38 = L.circleMarker(\n",
       "                [54.75844, -2.69531],\n",
       "                {&quot;bubblingMouseEvents&quot;: true, &quot;color&quot;: &quot;black&quot;, &quot;dashArray&quot;: null, &quot;dashOffset&quot;: null, &quot;fill&quot;: true, &quot;fillColor&quot;: &quot;black&quot;, &quot;fillOpacity&quot;: 0.2, &quot;fillRule&quot;: &quot;evenodd&quot;, &quot;lineCap&quot;: &quot;round&quot;, &quot;lineJoin&quot;: &quot;round&quot;, &quot;opacity&quot;: 1.0, &quot;radius&quot;: 5.222052351928855, &quot;stroke&quot;: true, &quot;weight&quot;: 3}\n",
       "            ).addTo(map_678786ce5b6b6805ed5fcf76aff74537);\n",
       "        \n",
       "    \n",
       "        var popup_442b83928f5c312cc678f4a8892cf2cf = L.popup({&quot;maxWidth&quot;: &quot;100%&quot;});\n",
       "\n",
       "        \n",
       "            \n",
       "                var html_e4ea180619c83047aabaec1aa7f22fa9 = $(`&lt;div id=&quot;html_e4ea180619c83047aabaec1aa7f22fa9&quot; style=&quot;width: 100.0%; height: 100.0%;&quot;&gt;United Kingdom&lt;/div&gt;`)[0];\n",
       "                popup_442b83928f5c312cc678f4a8892cf2cf.setContent(html_e4ea180619c83047aabaec1aa7f22fa9);\n",
       "            \n",
       "        \n",
       "\n",
       "        circle_marker_0ec13ede0b7560ad185b6d81835b6b38.bindPopup(popup_442b83928f5c312cc678f4a8892cf2cf)\n",
       "        ;\n",
       "\n",
       "        \n",
       "    \n",
       "    \n",
       "            var circle_marker_c0a10619d7272c2190a88c08d843c304 = L.circleMarker(\n",
       "                [-26.5, 31.5],\n",
       "                {&quot;bubblingMouseEvents&quot;: true, &quot;color&quot;: &quot;blue&quot;, &quot;dashArray&quot;: null, &quot;dashOffset&quot;: null, &quot;fill&quot;: true, &quot;fillColor&quot;: &quot;blue&quot;, &quot;fillOpacity&quot;: 0.2, &quot;fillRule&quot;: &quot;evenodd&quot;, &quot;lineCap&quot;: &quot;round&quot;, &quot;lineJoin&quot;: &quot;round&quot;, &quot;opacity&quot;: 1.0, &quot;radius&quot;: 5.161206186947784, &quot;stroke&quot;: true, &quot;weight&quot;: 3}\n",
       "            ).addTo(map_678786ce5b6b6805ed5fcf76aff74537);\n",
       "        \n",
       "    \n",
       "        var popup_b63ffd443ae059daf4c5bf692be2561f = L.popup({&quot;maxWidth&quot;: &quot;100%&quot;});\n",
       "\n",
       "        \n",
       "            \n",
       "                var html_7f60e35ef84fbe3e763a7c72ff110b2a = $(`&lt;div id=&quot;html_7f60e35ef84fbe3e763a7c72ff110b2a&quot; style=&quot;width: 100.0%; height: 100.0%;&quot;&gt;Swaziland&lt;/div&gt;`)[0];\n",
       "                popup_b63ffd443ae059daf4c5bf692be2561f.setContent(html_7f60e35ef84fbe3e763a7c72ff110b2a);\n",
       "            \n",
       "        \n",
       "\n",
       "        circle_marker_c0a10619d7272c2190a88c08d843c304.bindPopup(popup_b63ffd443ae059daf4c5bf692be2561f)\n",
       "        ;\n",
       "\n",
       "        \n",
       "    \n",
       "    \n",
       "            var circle_marker_78f6aa17a943990915371580636fe4fb = L.circleMarker(\n",
       "                [8.9936, -79.51973],\n",
       "                {&quot;bubblingMouseEvents&quot;: true, &quot;color&quot;: &quot;green&quot;, &quot;dashArray&quot;: null, &quot;dashOffset&quot;: null, &quot;fill&quot;: true, &quot;fillColor&quot;: &quot;green&quot;, &quot;fillOpacity&quot;: 0.2, &quot;fillRule&quot;: &quot;evenodd&quot;, &quot;lineCap&quot;: &quot;round&quot;, &quot;lineJoin&quot;: &quot;round&quot;, &quot;opacity&quot;: 1.0, &quot;radius&quot;: 5.149549057069472, &quot;stroke&quot;: true, &quot;weight&quot;: 3}\n",
       "            ).addTo(map_678786ce5b6b6805ed5fcf76aff74537);\n",
       "        \n",
       "    \n",
       "        var popup_d52981fee1d2aec26892d1a6140d35c3 = L.popup({&quot;maxWidth&quot;: &quot;100%&quot;});\n",
       "\n",
       "        \n",
       "            \n",
       "                var html_d5add0ed43b7e5fb8f0e1d99150d21ac = $(`&lt;div id=&quot;html_d5add0ed43b7e5fb8f0e1d99150d21ac&quot; style=&quot;width: 100.0%; height: 100.0%;&quot;&gt;Panama&lt;/div&gt;`)[0];\n",
       "                popup_d52981fee1d2aec26892d1a6140d35c3.setContent(html_d5add0ed43b7e5fb8f0e1d99150d21ac);\n",
       "            \n",
       "        \n",
       "\n",
       "        circle_marker_78f6aa17a943990915371580636fe4fb.bindPopup(popup_d52981fee1d2aec26892d1a6140d35c3)\n",
       "        ;\n",
       "\n",
       "        \n",
       "    \n",
       "    \n",
       "            var circle_marker_a3ce3ab02ee5c1df04f26ca526c55c52 = L.circleMarker(\n",
       "                [-23.33333, -58.0],\n",
       "                {&quot;bubblingMouseEvents&quot;: true, &quot;color&quot;: &quot;green&quot;, &quot;dashArray&quot;: null, &quot;dashOffset&quot;: null, &quot;fill&quot;: true, &quot;fillColor&quot;: &quot;green&quot;, &quot;fillOpacity&quot;: 0.2, &quot;fillRule&quot;: &quot;evenodd&quot;, &quot;lineCap&quot;: &quot;round&quot;, &quot;lineJoin&quot;: &quot;round&quot;, &quot;opacity&quot;: 1.0, &quot;radius&quot;: 4.989975401613145, &quot;stroke&quot;: true, &quot;weight&quot;: 3}\n",
       "            ).addTo(map_678786ce5b6b6805ed5fcf76aff74537);\n",
       "        \n",
       "    \n",
       "        var popup_532f12bd915d05a4e09e0927a3e17f62 = L.popup({&quot;maxWidth&quot;: &quot;100%&quot;});\n",
       "\n",
       "        \n",
       "            \n",
       "                var html_cdc17afdf25a289bc1c9b118904137dc = $(`&lt;div id=&quot;html_cdc17afdf25a289bc1c9b118904137dc&quot; style=&quot;width: 100.0%; height: 100.0%;&quot;&gt;Paraguay&lt;/div&gt;`)[0];\n",
       "                popup_532f12bd915d05a4e09e0927a3e17f62.setContent(html_cdc17afdf25a289bc1c9b118904137dc);\n",
       "            \n",
       "        \n",
       "\n",
       "        circle_marker_a3ce3ab02ee5c1df04f26ca526c55c52.bindPopup(popup_532f12bd915d05a4e09e0927a3e17f62)\n",
       "        ;\n",
       "\n",
       "        \n",
       "    \n",
       "    \n",
       "            var circle_marker_9dfb17408f8335b34373c0ace91490e6 = L.circleMarker(\n",
       "                [41.99998, 43.4999],\n",
       "                {&quot;bubblingMouseEvents&quot;: true, &quot;color&quot;: &quot;black&quot;, &quot;dashArray&quot;: null, &quot;dashOffset&quot;: null, &quot;fill&quot;: true, &quot;fillColor&quot;: &quot;black&quot;, &quot;fillOpacity&quot;: 0.2, &quot;fillRule&quot;: &quot;evenodd&quot;, &quot;lineCap&quot;: &quot;round&quot;, &quot;lineJoin&quot;: &quot;round&quot;, &quot;opacity&quot;: 1.0, &quot;radius&quot;: 4.851626940579119, &quot;stroke&quot;: true, &quot;weight&quot;: 3}\n",
       "            ).addTo(map_678786ce5b6b6805ed5fcf76aff74537);\n",
       "        \n",
       "    \n",
       "        var popup_4df3f4e8b4b4aef42bff75e3268acbc7 = L.popup({&quot;maxWidth&quot;: &quot;100%&quot;});\n",
       "\n",
       "        \n",
       "            \n",
       "                var html_871f18d26a42a729f29727d0f8033f62 = $(`&lt;div id=&quot;html_871f18d26a42a729f29727d0f8033f62&quot; style=&quot;width: 100.0%; height: 100.0%;&quot;&gt;Georgia&lt;/div&gt;`)[0];\n",
       "                popup_4df3f4e8b4b4aef42bff75e3268acbc7.setContent(html_871f18d26a42a729f29727d0f8033f62);\n",
       "            \n",
       "        \n",
       "\n",
       "        circle_marker_9dfb17408f8335b34373c0ace91490e6.bindPopup(popup_4df3f4e8b4b4aef42bff75e3268acbc7)\n",
       "        ;\n",
       "\n",
       "        \n",
       "    \n",
       "    \n",
       "            var circle_marker_0469dfed685e386663326ab3ea85368e = L.circleMarker(\n",
       "                [-22.0, 24.0],\n",
       "                {&quot;bubblingMouseEvents&quot;: true, &quot;color&quot;: &quot;blue&quot;, &quot;dashArray&quot;: null, &quot;dashOffset&quot;: null, &quot;fill&quot;: true, &quot;fillColor&quot;: &quot;blue&quot;, &quot;fillOpacity&quot;: 0.2, &quot;fillRule&quot;: &quot;evenodd&quot;, &quot;lineCap&quot;: &quot;round&quot;, &quot;lineJoin&quot;: &quot;round&quot;, &quot;opacity&quot;: 1.0, &quot;radius&quot;: 4.745931119840866, &quot;stroke&quot;: true, &quot;weight&quot;: 3}\n",
       "            ).addTo(map_678786ce5b6b6805ed5fcf76aff74537);\n",
       "        \n",
       "    \n",
       "        var popup_52b5347b0c2cbe3b2641214a2b5ddec5 = L.popup({&quot;maxWidth&quot;: &quot;100%&quot;});\n",
       "\n",
       "        \n",
       "            \n",
       "                var html_2b5f5c9a485fd57b277fa76816f6e333 = $(`&lt;div id=&quot;html_2b5f5c9a485fd57b277fa76816f6e333&quot; style=&quot;width: 100.0%; height: 100.0%;&quot;&gt;Botswana&lt;/div&gt;`)[0];\n",
       "                popup_52b5347b0c2cbe3b2641214a2b5ddec5.setContent(html_2b5f5c9a485fd57b277fa76816f6e333);\n",
       "            \n",
       "        \n",
       "\n",
       "        circle_marker_0469dfed685e386663326ab3ea85368e.bindPopup(popup_52b5347b0c2cbe3b2641214a2b5ddec5)\n",
       "        ;\n",
       "\n",
       "        \n",
       "    \n",
       "    \n",
       "            var circle_marker_9a524222a96d598323e2b113d2f5c5ff = L.circleMarker(\n",
       "                [40.25, 45.0],\n",
       "                {&quot;bubblingMouseEvents&quot;: true, &quot;color&quot;: &quot;black&quot;, &quot;dashArray&quot;: null, &quot;dashOffset&quot;: null, &quot;fill&quot;: true, &quot;fillColor&quot;: &quot;black&quot;, &quot;fillOpacity&quot;: 0.2, &quot;fillRule&quot;: &quot;evenodd&quot;, &quot;lineCap&quot;: &quot;round&quot;, &quot;lineJoin&quot;: &quot;round&quot;, &quot;opacity&quot;: 1.0, &quot;radius&quot;: 4.152826263096078, &quot;stroke&quot;: true, &quot;weight&quot;: 3}\n",
       "            ).addTo(map_678786ce5b6b6805ed5fcf76aff74537);\n",
       "        \n",
       "    \n",
       "        var popup_69c0a31a7efc7cd53958b2f3335e38df = L.popup({&quot;maxWidth&quot;: &quot;100%&quot;});\n",
       "\n",
       "        \n",
       "            \n",
       "                var html_e962c1e5c5467bc5628ec0a23567c1f2 = $(`&lt;div id=&quot;html_e962c1e5c5467bc5628ec0a23567c1f2&quot; style=&quot;width: 100.0%; height: 100.0%;&quot;&gt;Armenia&lt;/div&gt;`)[0];\n",
       "                popup_69c0a31a7efc7cd53958b2f3335e38df.setContent(html_e962c1e5c5467bc5628ec0a23567c1f2);\n",
       "            \n",
       "        \n",
       "\n",
       "        circle_marker_9a524222a96d598323e2b113d2f5c5ff.bindPopup(popup_69c0a31a7efc7cd53958b2f3335e38df)\n",
       "        ;\n",
       "\n",
       "        \n",
       "    \n",
       "    \n",
       "            var circle_marker_1e56b425822e27f8d827fe2a57b42e3d = L.circleMarker(\n",
       "                [52.0, 20.0],\n",
       "                {&quot;bubblingMouseEvents&quot;: true, &quot;color&quot;: &quot;black&quot;, &quot;dashArray&quot;: null, &quot;dashOffset&quot;: null, &quot;fill&quot;: true, &quot;fillColor&quot;: &quot;black&quot;, &quot;fillOpacity&quot;: 0.2, &quot;fillRule&quot;: &quot;evenodd&quot;, &quot;lineCap&quot;: &quot;round&quot;, &quot;lineJoin&quot;: &quot;round&quot;, &quot;opacity&quot;: 1.0, &quot;radius&quot;: 4.132922648614262, &quot;stroke&quot;: true, &quot;weight&quot;: 3}\n",
       "            ).addTo(map_678786ce5b6b6805ed5fcf76aff74537);\n",
       "        \n",
       "    \n",
       "        var popup_ef71ebd05c75beb514a0bc6f666896df = L.popup({&quot;maxWidth&quot;: &quot;100%&quot;});\n",
       "\n",
       "        \n",
       "            \n",
       "                var html_be1fac9087a6903eb1221c7357457f60 = $(`&lt;div id=&quot;html_be1fac9087a6903eb1221c7357457f60&quot; style=&quot;width: 100.0%; height: 100.0%;&quot;&gt;Poland&lt;/div&gt;`)[0];\n",
       "                popup_ef71ebd05c75beb514a0bc6f666896df.setContent(html_be1fac9087a6903eb1221c7357457f60);\n",
       "            \n",
       "        \n",
       "\n",
       "        circle_marker_1e56b425822e27f8d827fe2a57b42e3d.bindPopup(popup_ef71ebd05c75beb514a0bc6f666896df)\n",
       "        ;\n",
       "\n",
       "        \n",
       "    \n",
       "    \n",
       "            var circle_marker_3ac0eecf352df67fd3a3b68634720817 = L.circleMarker(\n",
       "                [10.0, -84.0],\n",
       "                {&quot;bubblingMouseEvents&quot;: true, &quot;color&quot;: &quot;green&quot;, &quot;dashArray&quot;: null, &quot;dashOffset&quot;: null, &quot;fill&quot;: true, &quot;fillColor&quot;: &quot;green&quot;, &quot;fillOpacity&quot;: 0.2, &quot;fillRule&quot;: &quot;evenodd&quot;, &quot;lineCap&quot;: &quot;round&quot;, &quot;lineJoin&quot;: &quot;round&quot;, &quot;opacity&quot;: 1.0, &quot;radius&quot;: 4.0755424768787, &quot;stroke&quot;: true, &quot;weight&quot;: 3}\n",
       "            ).addTo(map_678786ce5b6b6805ed5fcf76aff74537);\n",
       "        \n",
       "    \n",
       "        var popup_7039f550fd9da56b4ea26cba2f6fbcc1 = L.popup({&quot;maxWidth&quot;: &quot;100%&quot;});\n",
       "\n",
       "        \n",
       "            \n",
       "                var html_2fdc5a7822209486350074feee5597d5 = $(`&lt;div id=&quot;html_2fdc5a7822209486350074feee5597d5&quot; style=&quot;width: 100.0%; height: 100.0%;&quot;&gt;Costa Rica&lt;/div&gt;`)[0];\n",
       "                popup_7039f550fd9da56b4ea26cba2f6fbcc1.setContent(html_2fdc5a7822209486350074feee5597d5);\n",
       "            \n",
       "        \n",
       "\n",
       "        circle_marker_3ac0eecf352df67fd3a3b68634720817.bindPopup(popup_7039f550fd9da56b4ea26cba2f6fbcc1)\n",
       "        ;\n",
       "\n",
       "        \n",
       "    \n",
       "    \n",
       "            var circle_marker_1a4075e875ca00df71e0803e5c2929ec = L.circleMarker(\n",
       "                [35.68536, 139.75309],\n",
       "                {&quot;bubblingMouseEvents&quot;: true, &quot;color&quot;: &quot;red&quot;, &quot;dashArray&quot;: null, &quot;dashOffset&quot;: null, &quot;fill&quot;: true, &quot;fillColor&quot;: &quot;red&quot;, &quot;fillOpacity&quot;: 0.2, &quot;fillRule&quot;: &quot;evenodd&quot;, &quot;lineCap&quot;: &quot;round&quot;, &quot;lineJoin&quot;: &quot;round&quot;, &quot;opacity&quot;: 1.0, &quot;radius&quot;: 3.784269826192565, &quot;stroke&quot;: true, &quot;weight&quot;: 3}\n",
       "            ).addTo(map_678786ce5b6b6805ed5fcf76aff74537);\n",
       "        \n",
       "    \n",
       "        var popup_9844ba7a76782b6be77d4a0aed33bd97 = L.popup({&quot;maxWidth&quot;: &quot;100%&quot;});\n",
       "\n",
       "        \n",
       "            \n",
       "                var html_4b14d872257666e7fb843deb7dee9831 = $(`&lt;div id=&quot;html_4b14d872257666e7fb843deb7dee9831&quot; style=&quot;width: 100.0%; height: 100.0%;&quot;&gt;Japan&lt;/div&gt;`)[0];\n",
       "                popup_9844ba7a76782b6be77d4a0aed33bd97.setContent(html_4b14d872257666e7fb843deb7dee9831);\n",
       "            \n",
       "        \n",
       "\n",
       "        circle_marker_1a4075e875ca00df71e0803e5c2929ec.bindPopup(popup_9844ba7a76782b6be77d4a0aed33bd97)\n",
       "        ;\n",
       "\n",
       "        \n",
       "    \n",
       "    \n",
       "            var circle_marker_4f9c21909a33b11c2020588a15ce3270 = L.circleMarker(\n",
       "                [-8.83333, 125.75],\n",
       "                {&quot;bubblingMouseEvents&quot;: true, &quot;color&quot;: &quot;red&quot;, &quot;dashArray&quot;: null, &quot;dashOffset&quot;: null, &quot;fill&quot;: true, &quot;fillColor&quot;: &quot;red&quot;, &quot;fillOpacity&quot;: 0.2, &quot;fillRule&quot;: &quot;evenodd&quot;, &quot;lineCap&quot;: &quot;round&quot;, &quot;lineJoin&quot;: &quot;round&quot;, &quot;opacity&quot;: 1.0, &quot;radius&quot;: 3.4838832413106937, &quot;stroke&quot;: true, &quot;weight&quot;: 3}\n",
       "            ).addTo(map_678786ce5b6b6805ed5fcf76aff74537);\n",
       "        \n",
       "    \n",
       "        var popup_af7ecc16d6c74489c14c9b6a25919b8e = L.popup({&quot;maxWidth&quot;: &quot;100%&quot;});\n",
       "\n",
       "        \n",
       "            \n",
       "                var html_59544a333ebf3b5ec4e4b6b79f4b64d3 = $(`&lt;div id=&quot;html_59544a333ebf3b5ec4e4b6b79f4b64d3&quot; style=&quot;width: 100.0%; height: 100.0%;&quot;&gt;Timor-Leste&lt;/div&gt;`)[0];\n",
       "                popup_af7ecc16d6c74489c14c9b6a25919b8e.setContent(html_59544a333ebf3b5ec4e4b6b79f4b64d3);\n",
       "            \n",
       "        \n",
       "\n",
       "        circle_marker_4f9c21909a33b11c2020588a15ce3270.bindPopup(popup_af7ecc16d6c74489c14c9b6a25919b8e)\n",
       "        ;\n",
       "\n",
       "        \n",
       "    \n",
       "    \n",
       "            var circle_marker_77adde22d4dc2dae4f602addd79f0eaf = L.circleMarker(\n",
       "                [35.0, 38.0],\n",
       "                {&quot;bubblingMouseEvents&quot;: true, &quot;color&quot;: &quot;red&quot;, &quot;dashArray&quot;: null, &quot;dashOffset&quot;: null, &quot;fill&quot;: true, &quot;fillColor&quot;: &quot;red&quot;, &quot;fillOpacity&quot;: 0.2, &quot;fillRule&quot;: &quot;evenodd&quot;, &quot;lineCap&quot;: &quot;round&quot;, &quot;lineJoin&quot;: &quot;round&quot;, &quot;opacity&quot;: 1.0, &quot;radius&quot;: 3.4099601627152856, &quot;stroke&quot;: true, &quot;weight&quot;: 3}\n",
       "            ).addTo(map_678786ce5b6b6805ed5fcf76aff74537);\n",
       "        \n",
       "    \n",
       "        var popup_2b137fc494a6c40fdb289384d7074134 = L.popup({&quot;maxWidth&quot;: &quot;100%&quot;});\n",
       "\n",
       "        \n",
       "            \n",
       "                var html_54f92095d3901d063e8bfb08d6d03317 = $(`&lt;div id=&quot;html_54f92095d3901d063e8bfb08d6d03317&quot; style=&quot;width: 100.0%; height: 100.0%;&quot;&gt;Syria&lt;/div&gt;`)[0];\n",
       "                popup_2b137fc494a6c40fdb289384d7074134.setContent(html_54f92095d3901d063e8bfb08d6d03317);\n",
       "            \n",
       "        \n",
       "\n",
       "        circle_marker_77adde22d4dc2dae4f602addd79f0eaf.bindPopup(popup_2b137fc494a6c40fdb289384d7074134)\n",
       "        ;\n",
       "\n",
       "        \n",
       "    \n",
       "    \n",
       "            var circle_marker_128ca2900cfc24affa323cfc260eef95 = L.circleMarker(\n",
       "                [-12.23333, 44.44553],\n",
       "                {&quot;bubblingMouseEvents&quot;: true, &quot;color&quot;: &quot;blue&quot;, &quot;dashArray&quot;: null, &quot;dashOffset&quot;: null, &quot;fill&quot;: true, &quot;fillColor&quot;: &quot;blue&quot;, &quot;fillOpacity&quot;: 0.2, &quot;fillRule&quot;: &quot;evenodd&quot;, &quot;lineCap&quot;: &quot;round&quot;, &quot;lineJoin&quot;: &quot;round&quot;, &quot;opacity&quot;: 1.0, &quot;radius&quot;: 3.1816440984856076, &quot;stroke&quot;: true, &quot;weight&quot;: 3}\n",
       "            ).addTo(map_678786ce5b6b6805ed5fcf76aff74537);\n",
       "        \n",
       "    \n",
       "        var popup_5b6cab4da6f1317177634284d83529c1 = L.popup({&quot;maxWidth&quot;: &quot;100%&quot;});\n",
       "\n",
       "        \n",
       "            \n",
       "                var html_660202e537b7f815c3454ef10e3006ec = $(`&lt;div id=&quot;html_660202e537b7f815c3454ef10e3006ec&quot; style=&quot;width: 100.0%; height: 100.0%;&quot;&gt;Comoros&lt;/div&gt;`)[0];\n",
       "                popup_5b6cab4da6f1317177634284d83529c1.setContent(html_660202e537b7f815c3454ef10e3006ec);\n",
       "            \n",
       "        \n",
       "\n",
       "        circle_marker_128ca2900cfc24affa323cfc260eef95.bindPopup(popup_5b6cab4da6f1317177634284d83529c1)\n",
       "        ;\n",
       "\n",
       "        \n",
       "    \n",
       "    \n",
       "            var circle_marker_003250c58e99f699901d5e9ee78d073d = L.circleMarker(\n",
       "                [-25.0, 135.0],\n",
       "                {&quot;bubblingMouseEvents&quot;: true, &quot;color&quot;: &quot;red&quot;, &quot;dashArray&quot;: null, &quot;dashOffset&quot;: null, &quot;fill&quot;: true, &quot;fillColor&quot;: &quot;red&quot;, &quot;fillOpacity&quot;: 0.2, &quot;fillRule&quot;: &quot;evenodd&quot;, &quot;lineCap&quot;: &quot;round&quot;, &quot;lineJoin&quot;: &quot;round&quot;, &quot;opacity&quot;: 1.0, &quot;radius&quot;: 3.0969023547202914, &quot;stroke&quot;: true, &quot;weight&quot;: 3}\n",
       "            ).addTo(map_678786ce5b6b6805ed5fcf76aff74537);\n",
       "        \n",
       "    \n",
       "        var popup_d73c0b97d8eeaf0965e334b8d018b6ef = L.popup({&quot;maxWidth&quot;: &quot;100%&quot;});\n",
       "\n",
       "        \n",
       "            \n",
       "                var html_f3733f02f24814233300ce490af28d5d = $(`&lt;div id=&quot;html_f3733f02f24814233300ce490af28d5d&quot; style=&quot;width: 100.0%; height: 100.0%;&quot;&gt;Australia&lt;/div&gt;`)[0];\n",
       "                popup_d73c0b97d8eeaf0965e334b8d018b6ef.setContent(html_f3733f02f24814233300ce490af28d5d);\n",
       "            \n",
       "        \n",
       "\n",
       "        circle_marker_003250c58e99f699901d5e9ee78d073d.bindPopup(popup_d73c0b97d8eeaf0965e334b8d018b6ef)\n",
       "        ;\n",
       "\n",
       "        \n",
       "    \n",
       "    \n",
       "            var circle_marker_54711f31a9b439f587ffd417fad95ebf = L.circleMarker(\n",
       "                [51.5, 10.5],\n",
       "                {&quot;bubblingMouseEvents&quot;: true, &quot;color&quot;: &quot;black&quot;, &quot;dashArray&quot;: null, &quot;dashOffset&quot;: null, &quot;fill&quot;: true, &quot;fillColor&quot;: &quot;black&quot;, &quot;fillOpacity&quot;: 0.2, &quot;fillRule&quot;: &quot;evenodd&quot;, &quot;lineCap&quot;: &quot;round&quot;, &quot;lineJoin&quot;: &quot;round&quot;, &quot;opacity&quot;: 1.0, &quot;radius&quot;: 2.957623648166546, &quot;stroke&quot;: true, &quot;weight&quot;: 3}\n",
       "            ).addTo(map_678786ce5b6b6805ed5fcf76aff74537);\n",
       "        \n",
       "    \n",
       "        var popup_6534705778ed94673fe20ea0687c0807 = L.popup({&quot;maxWidth&quot;: &quot;100%&quot;});\n",
       "\n",
       "        \n",
       "            \n",
       "                var html_c74d0a25486a21b495bae212f5acc658 = $(`&lt;div id=&quot;html_c74d0a25486a21b495bae212f5acc658&quot; style=&quot;width: 100.0%; height: 100.0%;&quot;&gt;Germany&lt;/div&gt;`)[0];\n",
       "                popup_6534705778ed94673fe20ea0687c0807.setContent(html_c74d0a25486a21b495bae212f5acc658);\n",
       "            \n",
       "        \n",
       "\n",
       "        circle_marker_54711f31a9b439f587ffd417fad95ebf.bindPopup(popup_6534705778ed94673fe20ea0687c0807)\n",
       "        ;\n",
       "\n",
       "        \n",
       "    \n",
       "    \n",
       "            var circle_marker_762d05fece14101a6149f706ab25daf1 = L.circleMarker(\n",
       "                [47.00016, 8.01427],\n",
       "                {&quot;bubblingMouseEvents&quot;: true, &quot;color&quot;: &quot;black&quot;, &quot;dashArray&quot;: null, &quot;dashOffset&quot;: null, &quot;fill&quot;: true, &quot;fillColor&quot;: &quot;black&quot;, &quot;fillOpacity&quot;: 0.2, &quot;fillRule&quot;: &quot;evenodd&quot;, &quot;lineCap&quot;: &quot;round&quot;, &quot;lineJoin&quot;: &quot;round&quot;, &quot;opacity&quot;: 1.0, &quot;radius&quot;: 2.8812914017085194, &quot;stroke&quot;: true, &quot;weight&quot;: 3}\n",
       "            ).addTo(map_678786ce5b6b6805ed5fcf76aff74537);\n",
       "        \n",
       "    \n",
       "        var popup_097297e7a413e2e721b9c856c965c99f = L.popup({&quot;maxWidth&quot;: &quot;100%&quot;});\n",
       "\n",
       "        \n",
       "            \n",
       "                var html_0ef31c6a0a2f6723040d83da7b77ab95 = $(`&lt;div id=&quot;html_0ef31c6a0a2f6723040d83da7b77ab95&quot; style=&quot;width: 100.0%; height: 100.0%;&quot;&gt;Switzerland&lt;/div&gt;`)[0];\n",
       "                popup_097297e7a413e2e721b9c856c965c99f.setContent(html_0ef31c6a0a2f6723040d83da7b77ab95);\n",
       "            \n",
       "        \n",
       "\n",
       "        circle_marker_762d05fece14101a6149f706ab25daf1.bindPopup(popup_097297e7a413e2e721b9c856c965c99f)\n",
       "        ;\n",
       "\n",
       "        \n",
       "    \n",
       "    \n",
       "            var circle_marker_5443f4878f4bb8b2afcaa86ea18f60ad = L.circleMarker(\n",
       "                [-18.0, 178.0],\n",
       "                {&quot;bubblingMouseEvents&quot;: true, &quot;color&quot;: &quot;red&quot;, &quot;dashArray&quot;: null, &quot;dashOffset&quot;: null, &quot;fill&quot;: true, &quot;fillColor&quot;: &quot;red&quot;, &quot;fillOpacity&quot;: 0.2, &quot;fillRule&quot;: &quot;evenodd&quot;, &quot;lineCap&quot;: &quot;round&quot;, &quot;lineJoin&quot;: &quot;round&quot;, &quot;opacity&quot;: 1.0, &quot;radius&quot;: 2.825018429741165, &quot;stroke&quot;: true, &quot;weight&quot;: 3}\n",
       "            ).addTo(map_678786ce5b6b6805ed5fcf76aff74537);\n",
       "        \n",
       "    \n",
       "        var popup_aa6086027869a9c0912cae975966f5f5 = L.popup({&quot;maxWidth&quot;: &quot;100%&quot;});\n",
       "\n",
       "        \n",
       "            \n",
       "                var html_c1c0b9f84bbe337c0192a3055a756993 = $(`&lt;div id=&quot;html_c1c0b9f84bbe337c0192a3055a756993&quot; style=&quot;width: 100.0%; height: 100.0%;&quot;&gt;Fiji&lt;/div&gt;`)[0];\n",
       "                popup_aa6086027869a9c0912cae975966f5f5.setContent(html_c1c0b9f84bbe337c0192a3055a756993);\n",
       "            \n",
       "        \n",
       "\n",
       "        circle_marker_5443f4878f4bb8b2afcaa86ea18f60ad.bindPopup(popup_aa6086027869a9c0912cae975966f5f5)\n",
       "        ;\n",
       "\n",
       "        \n",
       "    \n",
       "    \n",
       "            var circle_marker_fb1f7685076b9b4f968a1a6cdec8f24c = L.circleMarker(\n",
       "                [60.10867, -113.64258],\n",
       "                {&quot;bubblingMouseEvents&quot;: true, &quot;color&quot;: &quot;green&quot;, &quot;dashArray&quot;: null, &quot;dashOffset&quot;: null, &quot;fill&quot;: true, &quot;fillColor&quot;: &quot;green&quot;, &quot;fillOpacity&quot;: 0.2, &quot;fillRule&quot;: &quot;evenodd&quot;, &quot;lineCap&quot;: &quot;round&quot;, &quot;lineJoin&quot;: &quot;round&quot;, &quot;opacity&quot;: 1.0, &quot;radius&quot;: 2.7186855371950385, &quot;stroke&quot;: true, &quot;weight&quot;: 3}\n",
       "            ).addTo(map_678786ce5b6b6805ed5fcf76aff74537);\n",
       "        \n",
       "    \n",
       "        var popup_4b0d4fc225f521a1d7f51856a6d16213 = L.popup({&quot;maxWidth&quot;: &quot;100%&quot;});\n",
       "\n",
       "        \n",
       "            \n",
       "                var html_6cad9b6f189ff2a9921c58fcd1db666f = $(`&lt;div id=&quot;html_6cad9b6f189ff2a9921c58fcd1db666f&quot; style=&quot;width: 100.0%; height: 100.0%;&quot;&gt;Canada&lt;/div&gt;`)[0];\n",
       "                popup_4b0d4fc225f521a1d7f51856a6d16213.setContent(html_6cad9b6f189ff2a9921c58fcd1db666f);\n",
       "            \n",
       "        \n",
       "\n",
       "        circle_marker_fb1f7685076b9b4f968a1a6cdec8f24c.bindPopup(popup_4b0d4fc225f521a1d7f51856a6d16213)\n",
       "        ;\n",
       "\n",
       "        \n",
       "    \n",
       "    \n",
       "            var circle_marker_e6bb3dd28b6c9bbedbcf64f151dad1b7 = L.circleMarker(\n",
       "                [52.25, 5.75],\n",
       "                {&quot;bubblingMouseEvents&quot;: true, &quot;color&quot;: &quot;black&quot;, &quot;dashArray&quot;: null, &quot;dashOffset&quot;: null, &quot;fill&quot;: true, &quot;fillColor&quot;: &quot;black&quot;, &quot;fillOpacity&quot;: 0.2, &quot;fillRule&quot;: &quot;evenodd&quot;, &quot;lineCap&quot;: &quot;round&quot;, &quot;lineJoin&quot;: &quot;round&quot;, &quot;opacity&quot;: 1.0, &quot;radius&quot;: 2.66755493600924, &quot;stroke&quot;: true, &quot;weight&quot;: 3}\n",
       "            ).addTo(map_678786ce5b6b6805ed5fcf76aff74537);\n",
       "        \n",
       "    \n",
       "        var popup_4d9c8d46c0e9fcf42a28546bb27cfaee = L.popup({&quot;maxWidth&quot;: &quot;100%&quot;});\n",
       "\n",
       "        \n",
       "            \n",
       "                var html_e1aa12d2bf2537bd2e87b28348fb192c = $(`&lt;div id=&quot;html_e1aa12d2bf2537bd2e87b28348fb192c&quot; style=&quot;width: 100.0%; height: 100.0%;&quot;&gt;Netherlands&lt;/div&gt;`)[0];\n",
       "                popup_4d9c8d46c0e9fcf42a28546bb27cfaee.setContent(html_e1aa12d2bf2537bd2e87b28348fb192c);\n",
       "            \n",
       "        \n",
       "\n",
       "        circle_marker_e6bb3dd28b6c9bbedbcf64f151dad1b7.bindPopup(popup_4d9c8d46c0e9fcf42a28546bb27cfaee)\n",
       "        ;\n",
       "\n",
       "        \n",
       "    \n",
       "    \n",
       "            var circle_marker_82705e2f5cdc69884e87e1e53ad75b20 = L.circleMarker(\n",
       "                [31.0, 36.0],\n",
       "                {&quot;bubblingMouseEvents&quot;: true, &quot;color&quot;: &quot;red&quot;, &quot;dashArray&quot;: null, &quot;dashOffset&quot;: null, &quot;fill&quot;: true, &quot;fillColor&quot;: &quot;red&quot;, &quot;fillOpacity&quot;: 0.2, &quot;fillRule&quot;: &quot;evenodd&quot;, &quot;lineCap&quot;: &quot;round&quot;, &quot;lineJoin&quot;: &quot;round&quot;, &quot;opacity&quot;: 1.0, &quot;radius&quot;: 2.516601772518729, &quot;stroke&quot;: true, &quot;weight&quot;: 3}\n",
       "            ).addTo(map_678786ce5b6b6805ed5fcf76aff74537);\n",
       "        \n",
       "    \n",
       "        var popup_6160bca313f597f9ecee782671cd1878 = L.popup({&quot;maxWidth&quot;: &quot;100%&quot;});\n",
       "\n",
       "        \n",
       "            \n",
       "                var html_61f6780e2c3c56c78b63d14999c84797 = $(`&lt;div id=&quot;html_61f6780e2c3c56c78b63d14999c84797&quot; style=&quot;width: 100.0%; height: 100.0%;&quot;&gt;Jordan&lt;/div&gt;`)[0];\n",
       "                popup_6160bca313f597f9ecee782671cd1878.setContent(html_61f6780e2c3c56c78b63d14999c84797);\n",
       "            \n",
       "        \n",
       "\n",
       "        circle_marker_82705e2f5cdc69884e87e1e53ad75b20.bindPopup(popup_6160bca313f597f9ecee782671cd1878)\n",
       "        ;\n",
       "\n",
       "        \n",
       "    \n",
       "    \n",
       "            var circle_marker_757aac5a2543abac18cedc2fe9f95b1b = L.circleMarker(\n",
       "                [39.0, 22.0],\n",
       "                {&quot;bubblingMouseEvents&quot;: true, &quot;color&quot;: &quot;black&quot;, &quot;dashArray&quot;: null, &quot;dashOffset&quot;: null, &quot;fill&quot;: true, &quot;fillColor&quot;: &quot;black&quot;, &quot;fillOpacity&quot;: 0.2, &quot;fillRule&quot;: &quot;evenodd&quot;, &quot;lineCap&quot;: &quot;round&quot;, &quot;lineJoin&quot;: &quot;round&quot;, &quot;opacity&quot;: 1.0, &quot;radius&quot;: 2.4057509585466565, &quot;stroke&quot;: true, &quot;weight&quot;: 3}\n",
       "            ).addTo(map_678786ce5b6b6805ed5fcf76aff74537);\n",
       "        \n",
       "    \n",
       "        var popup_acdecd81ef2fe74a8f83694afc712b24 = L.popup({&quot;maxWidth&quot;: &quot;100%&quot;});\n",
       "\n",
       "        \n",
       "            \n",
       "                var html_e8f1122bff6aa08724573efd72744e04 = $(`&lt;div id=&quot;html_e8f1122bff6aa08724573efd72744e04&quot; style=&quot;width: 100.0%; height: 100.0%;&quot;&gt;Greece&lt;/div&gt;`)[0];\n",
       "                popup_acdecd81ef2fe74a8f83694afc712b24.setContent(html_e8f1122bff6aa08724573efd72744e04);\n",
       "            \n",
       "        \n",
       "\n",
       "        circle_marker_757aac5a2543abac18cedc2fe9f95b1b.bindPopup(popup_acdecd81ef2fe74a8f83694afc712b24)\n",
       "        ;\n",
       "\n",
       "        \n",
       "    \n",
       "    \n",
       "            var circle_marker_e77c5322638df5e346dc1820de711c8d = L.circleMarker(\n",
       "                [27.5, 90.5],\n",
       "                {&quot;bubblingMouseEvents&quot;: true, &quot;color&quot;: &quot;red&quot;, &quot;dashArray&quot;: null, &quot;dashOffset&quot;: null, &quot;fill&quot;: true, &quot;fillColor&quot;: &quot;red&quot;, &quot;fillOpacity&quot;: 0.2, &quot;fillRule&quot;: &quot;evenodd&quot;, &quot;lineCap&quot;: &quot;round&quot;, &quot;lineJoin&quot;: &quot;round&quot;, &quot;opacity&quot;: 1.0, &quot;radius&quot;: 2.286506627284139, &quot;stroke&quot;: true, &quot;weight&quot;: 3}\n",
       "            ).addTo(map_678786ce5b6b6805ed5fcf76aff74537);\n",
       "        \n",
       "    \n",
       "        var popup_16571c97489716064e364724c1a42efb = L.popup({&quot;maxWidth&quot;: &quot;100%&quot;});\n",
       "\n",
       "        \n",
       "            \n",
       "                var html_2fa6f97d20fc0a965e57d7baa58fd870 = $(`&lt;div id=&quot;html_2fa6f97d20fc0a965e57d7baa58fd870&quot; style=&quot;width: 100.0%; height: 100.0%;&quot;&gt;Bhutan&lt;/div&gt;`)[0];\n",
       "                popup_16571c97489716064e364724c1a42efb.setContent(html_2fa6f97d20fc0a965e57d7baa58fd870);\n",
       "            \n",
       "        \n",
       "\n",
       "        circle_marker_e77c5322638df5e346dc1820de711c8d.bindPopup(popup_16571c97489716064e364724c1a42efb)\n",
       "        ;\n",
       "\n",
       "        \n",
       "    \n",
       "    \n",
       "            var circle_marker_52bad394855a24c128c0d50fcd5c55a9 = L.circleMarker(\n",
       "                [11.58901, 43.14503],\n",
       "                {&quot;bubblingMouseEvents&quot;: true, &quot;color&quot;: &quot;blue&quot;, &quot;dashArray&quot;: null, &quot;dashOffset&quot;: null, &quot;fill&quot;: true, &quot;fillColor&quot;: &quot;blue&quot;, &quot;fillOpacity&quot;: 0.2, &quot;fillRule&quot;: &quot;evenodd&quot;, &quot;lineCap&quot;: &quot;round&quot;, &quot;lineJoin&quot;: &quot;round&quot;, &quot;opacity&quot;: 1.0, &quot;radius&quot;: 2.244091994176071, &quot;stroke&quot;: true, &quot;weight&quot;: 3}\n",
       "            ).addTo(map_678786ce5b6b6805ed5fcf76aff74537);\n",
       "        \n",
       "    \n",
       "        var popup_08bb87539dd28f32bb7d7f4b2c91f0e7 = L.popup({&quot;maxWidth&quot;: &quot;100%&quot;});\n",
       "\n",
       "        \n",
       "            \n",
       "                var html_b8cbbcecf4681da7833eb8f5d5d4fa03 = $(`&lt;div id=&quot;html_b8cbbcecf4681da7833eb8f5d5d4fa03&quot; style=&quot;width: 100.0%; height: 100.0%;&quot;&gt;Djibouti&lt;/div&gt;`)[0];\n",
       "                popup_08bb87539dd28f32bb7d7f4b2c91f0e7.setContent(html_b8cbbcecf4681da7833eb8f5d5d4fa03);\n",
       "            \n",
       "        \n",
       "\n",
       "        circle_marker_52bad394855a24c128c0d50fcd5c55a9.bindPopup(popup_08bb87539dd28f32bb7d7f4b2c91f0e7)\n",
       "        ;\n",
       "\n",
       "        \n",
       "    \n",
       "    \n",
       "            var circle_marker_c3c03fe4913d6da1be5dc3052f13d7ec = L.circleMarker(\n",
       "                [42.66667, 25.25],\n",
       "                {&quot;bubblingMouseEvents&quot;: true, &quot;color&quot;: &quot;black&quot;, &quot;dashArray&quot;: null, &quot;dashOffset&quot;: null, &quot;fill&quot;: true, &quot;fillColor&quot;: &quot;black&quot;, &quot;fillOpacity&quot;: 0.2, &quot;fillRule&quot;: &quot;evenodd&quot;, &quot;lineCap&quot;: &quot;round&quot;, &quot;lineJoin&quot;: &quot;round&quot;, &quot;opacity&quot;: 1.0, &quot;radius&quot;: 2.2384181732685806, &quot;stroke&quot;: true, &quot;weight&quot;: 3}\n",
       "            ).addTo(map_678786ce5b6b6805ed5fcf76aff74537);\n",
       "        \n",
       "    \n",
       "        var popup_081e969f5d4f481c1dc09c389e36172a = L.popup({&quot;maxWidth&quot;: &quot;100%&quot;});\n",
       "\n",
       "        \n",
       "            \n",
       "                var html_dc45d08f8490eb641cacd207fec7b83c = $(`&lt;div id=&quot;html_dc45d08f8490eb641cacd207fec7b83c&quot; style=&quot;width: 100.0%; height: 100.0%;&quot;&gt;Bulgaria&lt;/div&gt;`)[0];\n",
       "                popup_081e969f5d4f481c1dc09c389e36172a.setContent(html_dc45d08f8490eb641cacd207fec7b83c);\n",
       "            \n",
       "        \n",
       "\n",
       "        circle_marker_c3c03fe4913d6da1be5dc3052f13d7ec.bindPopup(popup_081e969f5d4f481c1dc09c389e36172a)\n",
       "        ;\n",
       "\n",
       "        \n",
       "    \n",
       "    \n",
       "            var circle_marker_71c0b67aa3ec2458cd380a49012b8cec = L.circleMarker(\n",
       "                [16.0, -24.0],\n",
       "                {&quot;bubblingMouseEvents&quot;: true, &quot;color&quot;: &quot;blue&quot;, &quot;dashArray&quot;: null, &quot;dashOffset&quot;: null, &quot;fill&quot;: true, &quot;fillColor&quot;: &quot;blue&quot;, &quot;fillOpacity&quot;: 0.2, &quot;fillRule&quot;: &quot;evenodd&quot;, &quot;lineCap&quot;: &quot;round&quot;, &quot;lineJoin&quot;: &quot;round&quot;, &quot;opacity&quot;: 1.0, &quot;radius&quot;: 1.815551209794873, &quot;stroke&quot;: true, &quot;weight&quot;: 3}\n",
       "            ).addTo(map_678786ce5b6b6805ed5fcf76aff74537);\n",
       "        \n",
       "    \n",
       "        var popup_87dc312055e37399a3b45886b535fde2 = L.popup({&quot;maxWidth&quot;: &quot;100%&quot;});\n",
       "\n",
       "        \n",
       "            \n",
       "                var html_304ba51960f5b18a6d73afb606dfe37b = $(`&lt;div id=&quot;html_304ba51960f5b18a6d73afb606dfe37b&quot; style=&quot;width: 100.0%; height: 100.0%;&quot;&gt;Cape Verde&lt;/div&gt;`)[0];\n",
       "                popup_87dc312055e37399a3b45886b535fde2.setContent(html_304ba51960f5b18a6d73afb606dfe37b);\n",
       "            \n",
       "        \n",
       "\n",
       "        circle_marker_71c0b67aa3ec2458cd380a49012b8cec.bindPopup(popup_87dc312055e37399a3b45886b535fde2)\n",
       "        ;\n",
       "\n",
       "        \n",
       "    \n",
       "    \n",
       "            var circle_marker_ecbc124050261cf80f4db4b230f2fa71 = L.circleMarker(\n",
       "                [-1.0, 11.75],\n",
       "                {&quot;bubblingMouseEvents&quot;: true, &quot;color&quot;: &quot;blue&quot;, &quot;dashArray&quot;: null, &quot;dashOffset&quot;: null, &quot;fill&quot;: true, &quot;fillColor&quot;: &quot;blue&quot;, &quot;fillOpacity&quot;: 0.2, &quot;fillRule&quot;: &quot;evenodd&quot;, &quot;lineCap&quot;: &quot;round&quot;, &quot;lineJoin&quot;: &quot;round&quot;, &quot;opacity&quot;: 1.0, &quot;radius&quot;: 1.7743739978493467, &quot;stroke&quot;: true, &quot;weight&quot;: 3}\n",
       "            ).addTo(map_678786ce5b6b6805ed5fcf76aff74537);\n",
       "        \n",
       "    \n",
       "        var popup_71d641ab82361cfb1b1d5b1a34bc102f = L.popup({&quot;maxWidth&quot;: &quot;100%&quot;});\n",
       "\n",
       "        \n",
       "            \n",
       "                var html_33817db21c17c64c2e0f54dfb378fb67 = $(`&lt;div id=&quot;html_33817db21c17c64c2e0f54dfb378fb67&quot; style=&quot;width: 100.0%; height: 100.0%;&quot;&gt;Gabon&lt;/div&gt;`)[0];\n",
       "                popup_71d641ab82361cfb1b1d5b1a34bc102f.setContent(html_33817db21c17c64c2e0f54dfb378fb67);\n",
       "            \n",
       "        \n",
       "\n",
       "        circle_marker_ecbc124050261cf80f4db4b230f2fa71.bindPopup(popup_71d641ab82361cfb1b1d5b1a34bc102f)\n",
       "        ;\n",
       "\n",
       "        \n",
       "    \n",
       "    \n",
       "            var circle_marker_8686f02a4437581203d2ad5836cd4566 = L.circleMarker(\n",
       "                [3.2, 73.0],\n",
       "                {&quot;bubblingMouseEvents&quot;: true, &quot;color&quot;: &quot;red&quot;, &quot;dashArray&quot;: null, &quot;dashOffset&quot;: null, &quot;fill&quot;: true, &quot;fillColor&quot;: &quot;red&quot;, &quot;fillOpacity&quot;: 0.2, &quot;fillRule&quot;: &quot;evenodd&quot;, &quot;lineCap&quot;: &quot;round&quot;, &quot;lineJoin&quot;: &quot;round&quot;, &quot;opacity&quot;: 1.0, &quot;radius&quot;: 1.725996009495415, &quot;stroke&quot;: true, &quot;weight&quot;: 3}\n",
       "            ).addTo(map_678786ce5b6b6805ed5fcf76aff74537);\n",
       "        \n",
       "    \n",
       "        var popup_dc572f1053a2a5671c08f309ca9d50b1 = L.popup({&quot;maxWidth&quot;: &quot;100%&quot;});\n",
       "\n",
       "        \n",
       "            \n",
       "                var html_3dacc7d45994cb4a554e913452698402 = $(`&lt;div id=&quot;html_3dacc7d45994cb4a554e913452698402&quot; style=&quot;width: 100.0%; height: 100.0%;&quot;&gt;Maldives&lt;/div&gt;`)[0];\n",
       "                popup_dc572f1053a2a5671c08f309ca9d50b1.setContent(html_3dacc7d45994cb4a554e913452698402);\n",
       "            \n",
       "        \n",
       "\n",
       "        circle_marker_8686f02a4437581203d2ad5836cd4566.bindPopup(popup_dc572f1053a2a5671c08f309ca9d50b1)\n",
       "        ;\n",
       "\n",
       "        \n",
       "    \n",
       "    \n",
       "            var circle_marker_82185c0cb98ac1373991b4d0bb7b77ee = L.circleMarker(\n",
       "                [50.75, 4.5],\n",
       "                {&quot;bubblingMouseEvents&quot;: true, &quot;color&quot;: &quot;black&quot;, &quot;dashArray&quot;: null, &quot;dashOffset&quot;: null, &quot;fill&quot;: true, &quot;fillColor&quot;: &quot;black&quot;, &quot;fillOpacity&quot;: 0.2, &quot;fillRule&quot;: &quot;evenodd&quot;, &quot;lineCap&quot;: &quot;round&quot;, &quot;lineJoin&quot;: &quot;round&quot;, &quot;opacity&quot;: 1.0, &quot;radius&quot;: 1.6999997407764134, &quot;stroke&quot;: true, &quot;weight&quot;: 3}\n",
       "            ).addTo(map_678786ce5b6b6805ed5fcf76aff74537);\n",
       "        \n",
       "    \n",
       "        var popup_7327b22a89e60f2dfbde4cd442d504c7 = L.popup({&quot;maxWidth&quot;: &quot;100%&quot;});\n",
       "\n",
       "        \n",
       "            \n",
       "                var html_68bff6978460fad28a18ad7b1fea097e = $(`&lt;div id=&quot;html_68bff6978460fad28a18ad7b1fea097e&quot; style=&quot;width: 100.0%; height: 100.0%;&quot;&gt;Belgium&lt;/div&gt;`)[0];\n",
       "                popup_7327b22a89e60f2dfbde4cd442d504c7.setContent(html_68bff6978460fad28a18ad7b1fea097e);\n",
       "            \n",
       "        \n",
       "\n",
       "        circle_marker_82185c0cb98ac1373991b4d0bb7b77ee.bindPopup(popup_7327b22a89e60f2dfbde4cd442d504c7)\n",
       "        ;\n",
       "\n",
       "        \n",
       "    \n",
       "    \n",
       "            var circle_marker_7ec62fe144f59afd6a323fa4561b36f8 = L.circleMarker(\n",
       "                [41.66667, 21.75],\n",
       "                {&quot;bubblingMouseEvents&quot;: true, &quot;color&quot;: &quot;black&quot;, &quot;dashArray&quot;: null, &quot;dashOffset&quot;: null, &quot;fill&quot;: true, &quot;fillColor&quot;: &quot;black&quot;, &quot;fillOpacity&quot;: 0.2, &quot;fillRule&quot;: &quot;evenodd&quot;, &quot;lineCap&quot;: &quot;round&quot;, &quot;lineJoin&quot;: &quot;round&quot;, &quot;opacity&quot;: 1.0, &quot;radius&quot;: 1.6578919950337634, &quot;stroke&quot;: true, &quot;weight&quot;: 3}\n",
       "            ).addTo(map_678786ce5b6b6805ed5fcf76aff74537);\n",
       "        \n",
       "    \n",
       "        var popup_81867ea06fefa8b0d4a9d6031d71ebe8 = L.popup({&quot;maxWidth&quot;: &quot;100%&quot;});\n",
       "\n",
       "        \n",
       "            \n",
       "                var html_1d1cbcd44c9aabad3dcb3526d4e64743 = $(`&lt;div id=&quot;html_1d1cbcd44c9aabad3dcb3526d4e64743&quot; style=&quot;width: 100.0%; height: 100.0%;&quot;&gt;North Macedonia&lt;/div&gt;`)[0];\n",
       "                popup_81867ea06fefa8b0d4a9d6031d71ebe8.setContent(html_1d1cbcd44c9aabad3dcb3526d4e64743);\n",
       "            \n",
       "        \n",
       "\n",
       "        circle_marker_7ec62fe144f59afd6a323fa4561b36f8.bindPopup(popup_81867ea06fefa8b0d4a9d6031d71ebe8)\n",
       "        ;\n",
       "\n",
       "        \n",
       "    \n",
       "    \n",
       "            var circle_marker_645f5e7e283f7d6b1aec1d7e47bff6ec = L.circleMarker(\n",
       "                [47.33333, 13.33333],\n",
       "                {&quot;bubblingMouseEvents&quot;: true, &quot;color&quot;: &quot;black&quot;, &quot;dashArray&quot;: null, &quot;dashOffset&quot;: null, &quot;fill&quot;: true, &quot;fillColor&quot;: &quot;black&quot;, &quot;fillOpacity&quot;: 0.2, &quot;fillRule&quot;: &quot;evenodd&quot;, &quot;lineCap&quot;: &quot;round&quot;, &quot;lineJoin&quot;: &quot;round&quot;, &quot;opacity&quot;: 1.0, &quot;radius&quot;: 1.636140064852964, &quot;stroke&quot;: true, &quot;weight&quot;: 3}\n",
       "            ).addTo(map_678786ce5b6b6805ed5fcf76aff74537);\n",
       "        \n",
       "    \n",
       "        var popup_5364684a16a6900664fceec5eff4a2e4 = L.popup({&quot;maxWidth&quot;: &quot;100%&quot;});\n",
       "\n",
       "        \n",
       "            \n",
       "                var html_f5310cd7518b3da658b1d3f6bf984570 = $(`&lt;div id=&quot;html_f5310cd7518b3da658b1d3f6bf984570&quot; style=&quot;width: 100.0%; height: 100.0%;&quot;&gt;Austria&lt;/div&gt;`)[0];\n",
       "                popup_5364684a16a6900664fceec5eff4a2e4.setContent(html_f5310cd7518b3da658b1d3f6bf984570);\n",
       "            \n",
       "        \n",
       "\n",
       "        circle_marker_645f5e7e283f7d6b1aec1d7e47bff6ec.bindPopup(popup_5364684a16a6900664fceec5eff4a2e4)\n",
       "        ;\n",
       "\n",
       "        \n",
       "    \n",
       "    \n",
       "            var circle_marker_dd06bd004f1aab058d1815627ccde09e = L.circleMarker(\n",
       "                [4.0, -56.0],\n",
       "                {&quot;bubblingMouseEvents&quot;: true, &quot;color&quot;: &quot;green&quot;, &quot;dashArray&quot;: null, &quot;dashOffset&quot;: null, &quot;fill&quot;: true, &quot;fillColor&quot;: &quot;green&quot;, &quot;fillOpacity&quot;: 0.2, &quot;fillRule&quot;: &quot;evenodd&quot;, &quot;lineCap&quot;: &quot;round&quot;, &quot;lineJoin&quot;: &quot;round&quot;, &quot;opacity&quot;: 1.0, &quot;radius&quot;: 1.6178179347920572, &quot;stroke&quot;: true, &quot;weight&quot;: 3}\n",
       "            ).addTo(map_678786ce5b6b6805ed5fcf76aff74537);\n",
       "        \n",
       "    \n",
       "        var popup_1de7f2dad8608de5516db9cd63e14db9 = L.popup({&quot;maxWidth&quot;: &quot;100%&quot;});\n",
       "\n",
       "        \n",
       "            \n",
       "                var html_a91ff8363cbde22af040532ec05a3da9 = $(`&lt;div id=&quot;html_a91ff8363cbde22af040532ec05a3da9&quot; style=&quot;width: 100.0%; height: 100.0%;&quot;&gt;Suriname&lt;/div&gt;`)[0];\n",
       "                popup_1de7f2dad8608de5516db9cd63e14db9.setContent(html_a91ff8363cbde22af040532ec05a3da9);\n",
       "            \n",
       "        \n",
       "\n",
       "        circle_marker_dd06bd004f1aab058d1815627ccde09e.bindPopup(popup_1de7f2dad8608de5516db9cd63e14db9)\n",
       "        ;\n",
       "\n",
       "        \n",
       "    \n",
       "    \n",
       "            var circle_marker_8aece518951f5e523d61765f258bf794 = L.circleMarker(\n",
       "                [53.0, 28.0],\n",
       "                {&quot;bubblingMouseEvents&quot;: true, &quot;color&quot;: &quot;black&quot;, &quot;dashArray&quot;: null, &quot;dashOffset&quot;: null, &quot;fill&quot;: true, &quot;fillColor&quot;: &quot;black&quot;, &quot;fillOpacity&quot;: 0.2, &quot;fillRule&quot;: &quot;evenodd&quot;, &quot;lineCap&quot;: &quot;round&quot;, &quot;lineJoin&quot;: &quot;round&quot;, &quot;opacity&quot;: 1.0, &quot;radius&quot;: 1.5870984916942588, &quot;stroke&quot;: true, &quot;weight&quot;: 3}\n",
       "            ).addTo(map_678786ce5b6b6805ed5fcf76aff74537);\n",
       "        \n",
       "    \n",
       "        var popup_98983c9fb166ce4bd54d3ff34626c085 = L.popup({&quot;maxWidth&quot;: &quot;100%&quot;});\n",
       "\n",
       "        \n",
       "            \n",
       "                var html_4770c44fef76751420a527192ee10c02 = $(`&lt;div id=&quot;html_4770c44fef76751420a527192ee10c02&quot; style=&quot;width: 100.0%; height: 100.0%;&quot;&gt;Belarus&lt;/div&gt;`)[0];\n",
       "                popup_98983c9fb166ce4bd54d3ff34626c085.setContent(html_4770c44fef76751420a527192ee10c02);\n",
       "            \n",
       "        \n",
       "\n",
       "        circle_marker_8aece518951f5e523d61765f258bf794.bindPopup(popup_98983c9fb166ce4bd54d3ff34626c085)\n",
       "        ;\n",
       "\n",
       "        \n",
       "    \n",
       "    \n",
       "            var circle_marker_18e40ce026e94dabf4ad1e41c044c833 = L.circleMarker(\n",
       "                [1.0, 7.0],\n",
       "                {&quot;bubblingMouseEvents&quot;: true, &quot;color&quot;: &quot;blue&quot;, &quot;dashArray&quot;: null, &quot;dashOffset&quot;: null, &quot;fill&quot;: true, &quot;fillColor&quot;: &quot;blue&quot;, &quot;fillOpacity&quot;: 0.2, &quot;fillRule&quot;: &quot;evenodd&quot;, &quot;lineCap&quot;: &quot;round&quot;, &quot;lineJoin&quot;: &quot;round&quot;, &quot;opacity&quot;: 1.0, &quot;radius&quot;: 1.5808990803845295, &quot;stroke&quot;: true, &quot;weight&quot;: 3}\n",
       "            ).addTo(map_678786ce5b6b6805ed5fcf76aff74537);\n",
       "        \n",
       "    \n",
       "        var popup_23808a13206574d6f04e7909926b31fd = L.popup({&quot;maxWidth&quot;: &quot;100%&quot;});\n",
       "\n",
       "        \n",
       "            \n",
       "                var html_2735e7cc06512eff528c7e839df8a387 = $(`&lt;div id=&quot;html_2735e7cc06512eff528c7e839df8a387&quot; style=&quot;width: 100.0%; height: 100.0%;&quot;&gt;Sao Tome and Principe&lt;/div&gt;`)[0];\n",
       "                popup_23808a13206574d6f04e7909926b31fd.setContent(html_2735e7cc06512eff528c7e839df8a387);\n",
       "            \n",
       "        \n",
       "\n",
       "        circle_marker_18e40ce026e94dabf4ad1e41c044c833.bindPopup(popup_23808a13206574d6f04e7909926b31fd)\n",
       "        ;\n",
       "\n",
       "        \n",
       "    \n",
       "    \n",
       "            var circle_marker_cbee95ce115e8e3419c6ab06eb921c1e = L.circleMarker(\n",
       "                [55.41667, 24.0],\n",
       "                {&quot;bubblingMouseEvents&quot;: true, &quot;color&quot;: &quot;black&quot;, &quot;dashArray&quot;: null, &quot;dashOffset&quot;: null, &quot;fill&quot;: true, &quot;fillColor&quot;: &quot;black&quot;, &quot;fillOpacity&quot;: 0.2, &quot;fillRule&quot;: &quot;evenodd&quot;, &quot;lineCap&quot;: &quot;round&quot;, &quot;lineJoin&quot;: &quot;round&quot;, &quot;opacity&quot;: 1.0, &quot;radius&quot;: 1.462132982183076, &quot;stroke&quot;: true, &quot;weight&quot;: 3}\n",
       "            ).addTo(map_678786ce5b6b6805ed5fcf76aff74537);\n",
       "        \n",
       "    \n",
       "        var popup_7d48fffb55ceb1e44c3333b1eaf9d990 = L.popup({&quot;maxWidth&quot;: &quot;100%&quot;});\n",
       "\n",
       "        \n",
       "            \n",
       "                var html_dd3b5e4739d6f284dbb9b144b27f4368 = $(`&lt;div id=&quot;html_dd3b5e4739d6f284dbb9b144b27f4368&quot; style=&quot;width: 100.0%; height: 100.0%;&quot;&gt;Lithuania&lt;/div&gt;`)[0];\n",
       "                popup_7d48fffb55ceb1e44c3333b1eaf9d990.setContent(html_dd3b5e4739d6f284dbb9b144b27f4368);\n",
       "            \n",
       "        \n",
       "\n",
       "        circle_marker_cbee95ce115e8e3419c6ab06eb921c1e.bindPopup(popup_7d48fffb55ceb1e44c3333b1eaf9d990)\n",
       "        ;\n",
       "\n",
       "        \n",
       "    \n",
       "    \n",
       "            var circle_marker_57fe5b0593ef078fa30a5835b1281130 = L.circleMarker(\n",
       "                [5.0, -59.0],\n",
       "                {&quot;bubblingMouseEvents&quot;: true, &quot;color&quot;: &quot;green&quot;, &quot;dashArray&quot;: null, &quot;dashOffset&quot;: null, &quot;fill&quot;: true, &quot;fillColor&quot;: &quot;green&quot;, &quot;fillOpacity&quot;: 0.2, &quot;fillRule&quot;: &quot;evenodd&quot;, &quot;lineCap&quot;: &quot;round&quot;, &quot;lineJoin&quot;: &quot;round&quot;, &quot;opacity&quot;: 1.0, &quot;radius&quot;: 1.4406180819073164, &quot;stroke&quot;: true, &quot;weight&quot;: 3}\n",
       "            ).addTo(map_678786ce5b6b6805ed5fcf76aff74537);\n",
       "        \n",
       "    \n",
       "        var popup_52e846bf44dfb4b4da798bdc4b0aae51 = L.popup({&quot;maxWidth&quot;: &quot;100%&quot;});\n",
       "\n",
       "        \n",
       "            \n",
       "                var html_cd0257254b3e3d58babb627c16052871 = $(`&lt;div id=&quot;html_cd0257254b3e3d58babb627c16052871&quot; style=&quot;width: 100.0%; height: 100.0%;&quot;&gt;Guyana&lt;/div&gt;`)[0];\n",
       "                popup_52e846bf44dfb4b4da798bdc4b0aae51.setContent(html_cd0257254b3e3d58babb627c16052871);\n",
       "            \n",
       "        \n",
       "\n",
       "        circle_marker_57fe5b0593ef078fa30a5835b1281130.bindPopup(popup_52e846bf44dfb4b4da798bdc4b0aae51)\n",
       "        ;\n",
       "\n",
       "        \n",
       "    \n",
       "    \n",
       "            var circle_marker_070a8266d18f2482f19d40cd7d44a061 = L.circleMarker(\n",
       "                [53.0, -8.0],\n",
       "                {&quot;bubblingMouseEvents&quot;: true, &quot;color&quot;: &quot;black&quot;, &quot;dashArray&quot;: null, &quot;dashOffset&quot;: null, &quot;fill&quot;: true, &quot;fillColor&quot;: &quot;black&quot;, &quot;fillOpacity&quot;: 0.2, &quot;fillRule&quot;: &quot;evenodd&quot;, &quot;lineCap&quot;: &quot;round&quot;, &quot;lineJoin&quot;: &quot;round&quot;, &quot;opacity&quot;: 1.0, &quot;radius&quot;: 1.4092773693830267, &quot;stroke&quot;: true, &quot;weight&quot;: 3}\n",
       "            ).addTo(map_678786ce5b6b6805ed5fcf76aff74537);\n",
       "        \n",
       "    \n",
       "        var popup_d772308495e0868bb5db9bd7c283943f = L.popup({&quot;maxWidth&quot;: &quot;100%&quot;});\n",
       "\n",
       "        \n",
       "            \n",
       "                var html_5b5aca0a923e5bb8019f96ba0b6593ef = $(`&lt;div id=&quot;html_5b5aca0a923e5bb8019f96ba0b6593ef&quot; style=&quot;width: 100.0%; height: 100.0%;&quot;&gt;Ireland&lt;/div&gt;`)[0];\n",
       "                popup_d772308495e0868bb5db9bd7c283943f.setContent(html_5b5aca0a923e5bb8019f96ba0b6593ef);\n",
       "            \n",
       "        \n",
       "\n",
       "        circle_marker_070a8266d18f2482f19d40cd7d44a061.bindPopup(popup_d772308495e0868bb5db9bd7c283943f)\n",
       "        ;\n",
       "\n",
       "        \n",
       "    \n",
       "    \n",
       "            var circle_marker_e2b3030566ffa8d70d111b2ff54ad021 = L.circleMarker(\n",
       "                [56.0, 10.0],\n",
       "                {&quot;bubblingMouseEvents&quot;: true, &quot;color&quot;: &quot;black&quot;, &quot;dashArray&quot;: null, &quot;dashOffset&quot;: null, &quot;fill&quot;: true, &quot;fillColor&quot;: &quot;black&quot;, &quot;fillOpacity&quot;: 0.2, &quot;fillRule&quot;: &quot;evenodd&quot;, &quot;lineCap&quot;: &quot;round&quot;, &quot;lineJoin&quot;: &quot;round&quot;, &quot;opacity&quot;: 1.0, &quot;radius&quot;: 1.3429489879100918, &quot;stroke&quot;: true, &quot;weight&quot;: 3}\n",
       "            ).addTo(map_678786ce5b6b6805ed5fcf76aff74537);\n",
       "        \n",
       "    \n",
       "        var popup_92aa910fdd7774ef5ae8897adc5e15ec = L.popup({&quot;maxWidth&quot;: &quot;100%&quot;});\n",
       "\n",
       "        \n",
       "            \n",
       "                var html_4190a407a71bf587653df66736b8d4e4 = $(`&lt;div id=&quot;html_4190a407a71bf587653df66736b8d4e4&quot; style=&quot;width: 100.0%; height: 100.0%;&quot;&gt;Denmark&lt;/div&gt;`)[0];\n",
       "                popup_92aa910fdd7774ef5ae8897adc5e15ec.setContent(html_4190a407a71bf587653df66736b8d4e4);\n",
       "            \n",
       "        \n",
       "\n",
       "        circle_marker_e2b3030566ffa8d70d111b2ff54ad021.bindPopup(popup_92aa910fdd7774ef5ae8897adc5e15ec)\n",
       "        ;\n",
       "\n",
       "        \n",
       "    \n",
       "    \n",
       "            var circle_marker_796f3fa21d9486b8d732b0aa65c4b919 = L.circleMarker(\n",
       "                [11.0, -61.0],\n",
       "                {&quot;bubblingMouseEvents&quot;: true, &quot;color&quot;: &quot;green&quot;, &quot;dashArray&quot;: null, &quot;dashOffset&quot;: null, &quot;fill&quot;: true, &quot;fillColor&quot;: &quot;green&quot;, &quot;fillOpacity&quot;: 0.2, &quot;fillRule&quot;: &quot;evenodd&quot;, &quot;lineCap&quot;: &quot;round&quot;, &quot;lineJoin&quot;: &quot;round&quot;, &quot;opacity&quot;: 1.0, &quot;radius&quot;: 1.3261575894870345, &quot;stroke&quot;: true, &quot;weight&quot;: 3}\n",
       "            ).addTo(map_678786ce5b6b6805ed5fcf76aff74537);\n",
       "        \n",
       "    \n",
       "        var popup_b34a98430e60e5fd9655197f72fced06 = L.popup({&quot;maxWidth&quot;: &quot;100%&quot;});\n",
       "\n",
       "        \n",
       "            \n",
       "                var html_7607823e02fb71f5ad5519346b26d716 = $(`&lt;div id=&quot;html_7607823e02fb71f5ad5519346b26d716&quot; style=&quot;width: 100.0%; height: 100.0%;&quot;&gt;Trinidad and Tobago&lt;/div&gt;`)[0];\n",
       "                popup_b34a98430e60e5fd9655197f72fced06.setContent(html_7607823e02fb71f5ad5519346b26d716);\n",
       "            \n",
       "        \n",
       "\n",
       "        circle_marker_796f3fa21d9486b8d732b0aa65c4b919.bindPopup(popup_b34a98430e60e5fd9655197f72fced06)\n",
       "        ;\n",
       "\n",
       "        \n",
       "    \n",
       "    \n",
       "            var circle_marker_b16874a469b434a69ed95a0de2b366ad = L.circleMarker(\n",
       "                [44.81892, 20.45998],\n",
       "                {&quot;bubblingMouseEvents&quot;: true, &quot;color&quot;: &quot;black&quot;, &quot;dashArray&quot;: null, &quot;dashOffset&quot;: null, &quot;fill&quot;: true, &quot;fillColor&quot;: &quot;black&quot;, &quot;fillOpacity&quot;: 0.2, &quot;fillRule&quot;: &quot;evenodd&quot;, &quot;lineCap&quot;: &quot;round&quot;, &quot;lineJoin&quot;: &quot;round&quot;, &quot;opacity&quot;: 1.0, &quot;radius&quot;: 1.2994499929692458, &quot;stroke&quot;: true, &quot;weight&quot;: 3}\n",
       "            ).addTo(map_678786ce5b6b6805ed5fcf76aff74537);\n",
       "        \n",
       "    \n",
       "        var popup_d43a6ed8e0ae0d34aa5765e7fe6a2a23 = L.popup({&quot;maxWidth&quot;: &quot;100%&quot;});\n",
       "\n",
       "        \n",
       "            \n",
       "                var html_638a2bfc89b51f36600ea5e5f5f8757e = $(`&lt;div id=&quot;html_638a2bfc89b51f36600ea5e5f5f8757e&quot; style=&quot;width: 100.0%; height: 100.0%;&quot;&gt;Serbia&lt;/div&gt;`)[0];\n",
       "                popup_d43a6ed8e0ae0d34aa5765e7fe6a2a23.setContent(html_638a2bfc89b51f36600ea5e5f5f8757e);\n",
       "            \n",
       "        \n",
       "\n",
       "        circle_marker_b16874a469b434a69ed95a0de2b366ad.bindPopup(popup_d43a6ed8e0ae0d34aa5765e7fe6a2a23)\n",
       "        ;\n",
       "\n",
       "        \n",
       "    \n",
       "    \n",
       "            var circle_marker_9e25f80eff770996151fe13927610695 = L.circleMarker(\n",
       "                [31.5, 34.75],\n",
       "                {&quot;bubblingMouseEvents&quot;: true, &quot;color&quot;: &quot;red&quot;, &quot;dashArray&quot;: null, &quot;dashOffset&quot;: null, &quot;fill&quot;: true, &quot;fillColor&quot;: &quot;red&quot;, &quot;fillOpacity&quot;: 0.2, &quot;fillRule&quot;: &quot;evenodd&quot;, &quot;lineCap&quot;: &quot;round&quot;, &quot;lineJoin&quot;: &quot;round&quot;, &quot;opacity&quot;: 1.0, &quot;radius&quot;: 1.251700080205013, &quot;stroke&quot;: true, &quot;weight&quot;: 3}\n",
       "            ).addTo(map_678786ce5b6b6805ed5fcf76aff74537);\n",
       "        \n",
       "    \n",
       "        var popup_837518250cbcca3d06cff00ade20069f = L.popup({&quot;maxWidth&quot;: &quot;100%&quot;});\n",
       "\n",
       "        \n",
       "            \n",
       "                var html_f423f66e63710cea51b7c68a14059f78 = $(`&lt;div id=&quot;html_f423f66e63710cea51b7c68a14059f78&quot; style=&quot;width: 100.0%; height: 100.0%;&quot;&gt;Israel&lt;/div&gt;`)[0];\n",
       "                popup_837518250cbcca3d06cff00ade20069f.setContent(html_f423f66e63710cea51b7c68a14059f78);\n",
       "            \n",
       "        \n",
       "\n",
       "        circle_marker_9e25f80eff770996151fe13927610695.bindPopup(popup_837518250cbcca3d06cff00ade20069f)\n",
       "        ;\n",
       "\n",
       "        \n",
       "    \n",
       "    \n",
       "            var circle_marker_2df63118f6aa2a559eaed3c4bfd662ee = L.circleMarker(\n",
       "                [17.49952, -88.19756],\n",
       "                {&quot;bubblingMouseEvents&quot;: true, &quot;color&quot;: &quot;green&quot;, &quot;dashArray&quot;: null, &quot;dashOffset&quot;: null, &quot;fill&quot;: true, &quot;fillColor&quot;: &quot;green&quot;, &quot;fillOpacity&quot;: 0.2, &quot;fillRule&quot;: &quot;evenodd&quot;, &quot;lineCap&quot;: &quot;round&quot;, &quot;lineJoin&quot;: &quot;round&quot;, &quot;opacity&quot;: 1.0, &quot;radius&quot;: 1.200040660591426, &quot;stroke&quot;: true, &quot;weight&quot;: 3}\n",
       "            ).addTo(map_678786ce5b6b6805ed5fcf76aff74537);\n",
       "        \n",
       "    \n",
       "        var popup_7e0474badb9d7fcb3325bd753adcd019 = L.popup({&quot;maxWidth&quot;: &quot;100%&quot;});\n",
       "\n",
       "        \n",
       "            \n",
       "                var html_16de53688b5f89c46d2524fab5ac35c4 = $(`&lt;div id=&quot;html_16de53688b5f89c46d2524fab5ac35c4&quot; style=&quot;width: 100.0%; height: 100.0%;&quot;&gt;Belize&lt;/div&gt;`)[0];\n",
       "                popup_7e0474badb9d7fcb3325bd753adcd019.setContent(html_16de53688b5f89c46d2524fab5ac35c4);\n",
       "            \n",
       "        \n",
       "\n",
       "        circle_marker_2df63118f6aa2a559eaed3c4bfd662ee.bindPopup(popup_7e0474badb9d7fcb3325bd753adcd019)\n",
       "        ;\n",
       "\n",
       "        \n",
       "    \n",
       "    \n",
       "            var circle_marker_bd2eb6e8f57355c21442ba7712dc9002 = L.circleMarker(\n",
       "                [-33.0, -56.0],\n",
       "                {&quot;bubblingMouseEvents&quot;: true, &quot;color&quot;: &quot;green&quot;, &quot;dashArray&quot;: null, &quot;dashOffset&quot;: null, &quot;fill&quot;: true, &quot;fillColor&quot;: &quot;green&quot;, &quot;fillOpacity&quot;: 0.2, &quot;fillRule&quot;: &quot;evenodd&quot;, &quot;lineCap&quot;: &quot;round&quot;, &quot;lineJoin&quot;: &quot;round&quot;, &quot;opacity&quot;: 1.0, &quot;radius&quot;: 1.183534741839203, &quot;stroke&quot;: true, &quot;weight&quot;: 3}\n",
       "            ).addTo(map_678786ce5b6b6805ed5fcf76aff74537);\n",
       "        \n",
       "    \n",
       "        var popup_ac57a0e5a3cec2e5593c50416dea6c88 = L.popup({&quot;maxWidth&quot;: &quot;100%&quot;});\n",
       "\n",
       "        \n",
       "            \n",
       "                var html_9af2736d2ed272cf789879687e7d4d24 = $(`&lt;div id=&quot;html_9af2736d2ed272cf789879687e7d4d24&quot; style=&quot;width: 100.0%; height: 100.0%;&quot;&gt;Uruguay&lt;/div&gt;`)[0];\n",
       "                popup_ac57a0e5a3cec2e5593c50416dea6c88.setContent(html_9af2736d2ed272cf789879687e7d4d24);\n",
       "            \n",
       "        \n",
       "\n",
       "        circle_marker_bd2eb6e8f57355c21442ba7712dc9002.bindPopup(popup_ac57a0e5a3cec2e5593c50416dea6c88)\n",
       "        ;\n",
       "\n",
       "        \n",
       "    \n",
       "    \n",
       "            var circle_marker_56ba311f94978e6759e3cd920b3d7d62 = L.circleMarker(\n",
       "                [62.0, 15.0],\n",
       "                {&quot;bubblingMouseEvents&quot;: true, &quot;color&quot;: &quot;black&quot;, &quot;dashArray&quot;: null, &quot;dashOffset&quot;: null, &quot;fill&quot;: true, &quot;fillColor&quot;: &quot;black&quot;, &quot;fillOpacity&quot;: 0.2, &quot;fillRule&quot;: &quot;evenodd&quot;, &quot;lineCap&quot;: &quot;round&quot;, &quot;lineJoin&quot;: &quot;round&quot;, &quot;opacity&quot;: 1.0, &quot;radius&quot;: 1.1070199012698887, &quot;stroke&quot;: true, &quot;weight&quot;: 3}\n",
       "            ).addTo(map_678786ce5b6b6805ed5fcf76aff74537);\n",
       "        \n",
       "    \n",
       "        var popup_de0144c56d5ae290dfbfda17404fa5a2 = L.popup({&quot;maxWidth&quot;: &quot;100%&quot;});\n",
       "\n",
       "        \n",
       "            \n",
       "                var html_4d6ad3d3dca998bc7e465602e955ce87 = $(`&lt;div id=&quot;html_4d6ad3d3dca998bc7e465602e955ce87&quot; style=&quot;width: 100.0%; height: 100.0%;&quot;&gt;Sweden&lt;/div&gt;`)[0];\n",
       "                popup_de0144c56d5ae290dfbfda17404fa5a2.setContent(html_4d6ad3d3dca998bc7e465602e955ce87);\n",
       "            \n",
       "        \n",
       "\n",
       "        circle_marker_56ba311f94978e6759e3cd920b3d7d62.bindPopup(popup_de0144c56d5ae290dfbfda17404fa5a2)\n",
       "        ;\n",
       "\n",
       "        \n",
       "    \n",
       "    \n",
       "            var circle_marker_713a481a275ba41b86cad0c04a7d16a0 = L.circleMarker(\n",
       "                [31.92157, 35.20329],\n",
       "                {&quot;bubblingMouseEvents&quot;: true, &quot;color&quot;: &quot;red&quot;, &quot;dashArray&quot;: null, &quot;dashOffset&quot;: null, &quot;fill&quot;: true, &quot;fillColor&quot;: &quot;red&quot;, &quot;fillOpacity&quot;: 0.2, &quot;fillRule&quot;: &quot;evenodd&quot;, &quot;lineCap&quot;: &quot;round&quot;, &quot;lineJoin&quot;: &quot;round&quot;, &quot;opacity&quot;: 1.0, &quot;radius&quot;: 1.0898063347810747, &quot;stroke&quot;: true, &quot;weight&quot;: 3}\n",
       "            ).addTo(map_678786ce5b6b6805ed5fcf76aff74537);\n",
       "        \n",
       "    \n",
       "        var popup_3d8e8eb0daa2367b836ee93aaf515894 = L.popup({&quot;maxWidth&quot;: &quot;100%&quot;});\n",
       "\n",
       "        \n",
       "            \n",
       "                var html_9ea9b8365f46b34273881b5e3850f097 = $(`&lt;div id=&quot;html_9ea9b8365f46b34273881b5e3850f097&quot; style=&quot;width: 100.0%; height: 100.0%;&quot;&gt;Palestine&lt;/div&gt;`)[0];\n",
       "                popup_3d8e8eb0daa2367b836ee93aaf515894.setContent(html_9ea9b8365f46b34273881b5e3850f097);\n",
       "            \n",
       "        \n",
       "\n",
       "        circle_marker_713a481a275ba41b86cad0c04a7d16a0.bindPopup(popup_3d8e8eb0daa2367b836ee93aaf515894)\n",
       "        ;\n",
       "\n",
       "        \n",
       "    \n",
       "    \n",
       "            var circle_marker_0a384ff3cd39bd033f677578acc76e57 = L.circleMarker(\n",
       "                [13.88333, -60.96667],\n",
       "                {&quot;bubblingMouseEvents&quot;: true, &quot;color&quot;: &quot;green&quot;, &quot;dashArray&quot;: null, &quot;dashOffset&quot;: null, &quot;fill&quot;: true, &quot;fillColor&quot;: &quot;green&quot;, &quot;fillOpacity&quot;: 0.2, &quot;fillRule&quot;: &quot;evenodd&quot;, &quot;lineCap&quot;: &quot;round&quot;, &quot;lineJoin&quot;: &quot;round&quot;, &quot;opacity&quot;: 1.0, &quot;radius&quot;: 1.0777350206264305, &quot;stroke&quot;: true, &quot;weight&quot;: 3}\n",
       "            ).addTo(map_678786ce5b6b6805ed5fcf76aff74537);\n",
       "        \n",
       "    \n",
       "        var popup_c23b50423d5027e09ea21a60d32c9265 = L.popup({&quot;maxWidth&quot;: &quot;100%&quot;});\n",
       "\n",
       "        \n",
       "            \n",
       "                var html_9c4d325fc583f678bc3615fdc4f538f3 = $(`&lt;div id=&quot;html_9c4d325fc583f678bc3615fdc4f538f3&quot; style=&quot;width: 100.0%; height: 100.0%;&quot;&gt;St. Lucia&lt;/div&gt;`)[0];\n",
       "                popup_c23b50423d5027e09ea21a60d32c9265.setContent(html_9c4d325fc583f678bc3615fdc4f538f3);\n",
       "            \n",
       "        \n",
       "\n",
       "        circle_marker_0a384ff3cd39bd033f677578acc76e57.bindPopup(popup_c23b50423d5027e09ea21a60d32c9265)\n",
       "        ;\n",
       "\n",
       "        \n",
       "    \n",
       "    \n",
       "            var circle_marker_f861d1948bc64f09a8aa3c92f3671729 = L.circleMarker(\n",
       "                [62.0, 10.0],\n",
       "                {&quot;bubblingMouseEvents&quot;: true, &quot;color&quot;: &quot;black&quot;, &quot;dashArray&quot;: null, &quot;dashOffset&quot;: null, &quot;fill&quot;: true, &quot;fillColor&quot;: &quot;black&quot;, &quot;fillOpacity&quot;: 0.2, &quot;fillRule&quot;: &quot;evenodd&quot;, &quot;lineCap&quot;: &quot;round&quot;, &quot;lineJoin&quot;: &quot;round&quot;, &quot;opacity&quot;: 1.0, &quot;radius&quot;: 1.0207778467534643, &quot;stroke&quot;: true, &quot;weight&quot;: 3}\n",
       "            ).addTo(map_678786ce5b6b6805ed5fcf76aff74537);\n",
       "        \n",
       "    \n",
       "        var popup_b18a7eedbe5c8da93827fee011960333 = L.popup({&quot;maxWidth&quot;: &quot;100%&quot;});\n",
       "\n",
       "        \n",
       "            \n",
       "                var html_d4225f544864e115b16be9aaa6ca665e = $(`&lt;div id=&quot;html_d4225f544864e115b16be9aaa6ca665e&quot; style=&quot;width: 100.0%; height: 100.0%;&quot;&gt;Norway&lt;/div&gt;`)[0];\n",
       "                popup_b18a7eedbe5c8da93827fee011960333.setContent(html_d4225f544864e115b16be9aaa6ca665e);\n",
       "            \n",
       "        \n",
       "\n",
       "        circle_marker_f861d1948bc64f09a8aa3c92f3671729.bindPopup(popup_b18a7eedbe5c8da93827fee011960333)\n",
       "        ;\n",
       "\n",
       "        \n",
       "    \n",
       "    \n",
       "            var circle_marker_c96a89c6245ff477d1bf11afa7ff4be3 = L.circleMarker(\n",
       "                [6.924, 158.162],\n",
       "                {&quot;bubblingMouseEvents&quot;: true, &quot;color&quot;: &quot;red&quot;, &quot;dashArray&quot;: null, &quot;dashOffset&quot;: null, &quot;fill&quot;: true, &quot;fillColor&quot;: &quot;red&quot;, &quot;fillOpacity&quot;: 0.2, &quot;fillRule&quot;: &quot;evenodd&quot;, &quot;lineCap&quot;: &quot;round&quot;, &quot;lineJoin&quot;: &quot;round&quot;, &quot;opacity&quot;: 1.0, &quot;radius&quot;: 1.0101672302782327, &quot;stroke&quot;: true, &quot;weight&quot;: 3}\n",
       "            ).addTo(map_678786ce5b6b6805ed5fcf76aff74537);\n",
       "        \n",
       "    \n",
       "        var popup_63fe1329f44c3866fe6bef12903855e9 = L.popup({&quot;maxWidth&quot;: &quot;100%&quot;});\n",
       "\n",
       "        \n",
       "            \n",
       "                var html_7d2a6fe4634fae8d2feed812c79625a5 = $(`&lt;div id=&quot;html_7d2a6fe4634fae8d2feed812c79625a5&quot; style=&quot;width: 100.0%; height: 100.0%;&quot;&gt;Micronesia, Fed. Sts.&lt;/div&gt;`)[0];\n",
       "                popup_63fe1329f44c3866fe6bef12903855e9.setContent(html_7d2a6fe4634fae8d2feed812c79625a5);\n",
       "            \n",
       "        \n",
       "\n",
       "        circle_marker_c96a89c6245ff477d1bf11afa7ff4be3.bindPopup(popup_63fe1329f44c3866fe6bef12903855e9)\n",
       "        ;\n",
       "\n",
       "        \n",
       "    \n",
       "    \n",
       "            var circle_marker_213ad9cee68f01b60118edb5c913d05f = L.circleMarker(\n",
       "                [57.0, 25.0],\n",
       "                {&quot;bubblingMouseEvents&quot;: true, &quot;color&quot;: &quot;black&quot;, &quot;dashArray&quot;: null, &quot;dashOffset&quot;: null, &quot;fill&quot;: true, &quot;fillColor&quot;: &quot;black&quot;, &quot;fillOpacity&quot;: 0.2, &quot;fillRule&quot;: &quot;evenodd&quot;, &quot;lineCap&quot;: &quot;round&quot;, &quot;lineJoin&quot;: &quot;round&quot;, &quot;opacity&quot;: 1.0, &quot;radius&quot;: 0.9647476909541707, &quot;stroke&quot;: true, &quot;weight&quot;: 3}\n",
       "            ).addTo(map_678786ce5b6b6805ed5fcf76aff74537);\n",
       "        \n",
       "    \n",
       "        var popup_ab0581d2e47218394778ebfbdcac9475 = L.popup({&quot;maxWidth&quot;: &quot;100%&quot;});\n",
       "\n",
       "        \n",
       "            \n",
       "                var html_0c9433ec580f8ea100e2482161c11c89 = $(`&lt;div id=&quot;html_0c9433ec580f8ea100e2482161c11c89&quot; style=&quot;width: 100.0%; height: 100.0%;&quot;&gt;Latvia&lt;/div&gt;`)[0];\n",
       "                popup_ab0581d2e47218394778ebfbdcac9475.setContent(html_0c9433ec580f8ea100e2482161c11c89);\n",
       "            \n",
       "        \n",
       "\n",
       "        circle_marker_213ad9cee68f01b60118edb5c913d05f.bindPopup(popup_ab0581d2e47218394778ebfbdcac9475)\n",
       "        ;\n",
       "\n",
       "        \n",
       "    \n",
       "    \n",
       "            var circle_marker_b6f4cb46c45771d8695b71369a66b068 = L.circleMarker(\n",
       "                [48.66667, 19.5],\n",
       "                {&quot;bubblingMouseEvents&quot;: true, &quot;color&quot;: &quot;black&quot;, &quot;dashArray&quot;: null, &quot;dashOffset&quot;: null, &quot;fill&quot;: true, &quot;fillColor&quot;: &quot;black&quot;, &quot;fillOpacity&quot;: 0.2, &quot;fillRule&quot;: &quot;evenodd&quot;, &quot;lineCap&quot;: &quot;round&quot;, &quot;lineJoin&quot;: &quot;round&quot;, &quot;opacity&quot;: 1.0, &quot;radius&quot;: 0.8295121945839617, &quot;stroke&quot;: true, &quot;weight&quot;: 3}\n",
       "            ).addTo(map_678786ce5b6b6805ed5fcf76aff74537);\n",
       "        \n",
       "    \n",
       "        var popup_388f19d250afc1861aa8f7e90a421345 = L.popup({&quot;maxWidth&quot;: &quot;100%&quot;});\n",
       "\n",
       "        \n",
       "            \n",
       "                var html_123efbd6fec3b020f17486e92907ce58 = $(`&lt;div id=&quot;html_123efbd6fec3b020f17486e92907ce58&quot; style=&quot;width: 100.0%; height: 100.0%;&quot;&gt;Slovak Republic&lt;/div&gt;`)[0];\n",
       "                popup_388f19d250afc1861aa8f7e90a421345.setContent(html_123efbd6fec3b020f17486e92907ce58);\n",
       "            \n",
       "        \n",
       "\n",
       "        circle_marker_b6f4cb46c45771d8695b71369a66b068.bindPopup(popup_388f19d250afc1861aa8f7e90a421345)\n",
       "        ;\n",
       "\n",
       "        \n",
       "    \n",
       "    \n",
       "            var circle_marker_290170174a69c3823470df9b166efef9 = L.circleMarker(\n",
       "                [41.0, 20.0],\n",
       "                {&quot;bubblingMouseEvents&quot;: true, &quot;color&quot;: &quot;black&quot;, &quot;dashArray&quot;: null, &quot;dashOffset&quot;: null, &quot;fill&quot;: true, &quot;fillColor&quot;: &quot;black&quot;, &quot;fillOpacity&quot;: 0.2, &quot;fillRule&quot;: &quot;evenodd&quot;, &quot;lineCap&quot;: &quot;round&quot;, &quot;lineJoin&quot;: &quot;round&quot;, &quot;opacity&quot;: 1.0, &quot;radius&quot;: 0.8276682342920597, &quot;stroke&quot;: true, &quot;weight&quot;: 3}\n",
       "            ).addTo(map_678786ce5b6b6805ed5fcf76aff74537);\n",
       "        \n",
       "    \n",
       "        var popup_ff8f1b1a4b7469cfc9cc57e493fe308c = L.popup({&quot;maxWidth&quot;: &quot;100%&quot;});\n",
       "\n",
       "        \n",
       "            \n",
       "                var html_8f8059c9159c3e85f6b0182d982fbfe2 = $(`&lt;div id=&quot;html_8f8059c9159c3e85f6b0182d982fbfe2&quot; style=&quot;width: 100.0%; height: 100.0%;&quot;&gt;Albania&lt;/div&gt;`)[0];\n",
       "                popup_ff8f1b1a4b7469cfc9cc57e493fe308c.setContent(html_8f8059c9159c3e85f6b0182d982fbfe2);\n",
       "            \n",
       "        \n",
       "\n",
       "        circle_marker_290170174a69c3823470df9b166efef9.bindPopup(popup_ff8f1b1a4b7469cfc9cc57e493fe308c)\n",
       "        ;\n",
       "\n",
       "        \n",
       "    \n",
       "    \n",
       "            var circle_marker_4d87be114ae649196fd2b43891545ab0 = L.circleMarker(\n",
       "                [47.0, 20.0],\n",
       "                {&quot;bubblingMouseEvents&quot;: true, &quot;color&quot;: &quot;black&quot;, &quot;dashArray&quot;: null, &quot;dashOffset&quot;: null, &quot;fill&quot;: true, &quot;fillColor&quot;: &quot;black&quot;, &quot;fillOpacity&quot;: 0.2, &quot;fillRule&quot;: &quot;evenodd&quot;, &quot;lineCap&quot;: &quot;round&quot;, &quot;lineJoin&quot;: &quot;round&quot;, &quot;opacity&quot;: 1.0, &quot;radius&quot;: 0.6884731305695835, &quot;stroke&quot;: true, &quot;weight&quot;: 3}\n",
       "            ).addTo(map_678786ce5b6b6805ed5fcf76aff74537);\n",
       "        \n",
       "    \n",
       "        var popup_ecf4976f39f35b224ab57882c5f05eb1 = L.popup({&quot;maxWidth&quot;: &quot;100%&quot;});\n",
       "\n",
       "        \n",
       "            \n",
       "                var html_87fe11fc331e5ae7408a0f848610090d = $(`&lt;div id=&quot;html_87fe11fc331e5ae7408a0f848610090d&quot; style=&quot;width: 100.0%; height: 100.0%;&quot;&gt;Hungary&lt;/div&gt;`)[0];\n",
       "                popup_ecf4976f39f35b224ab57882c5f05eb1.setContent(html_87fe11fc331e5ae7408a0f848610090d);\n",
       "            \n",
       "        \n",
       "\n",
       "        circle_marker_4d87be114ae649196fd2b43891545ab0.bindPopup(popup_ecf4976f39f35b224ab57882c5f05eb1)\n",
       "        ;\n",
       "\n",
       "        \n",
       "    \n",
       "    \n",
       "            var circle_marker_9d4af2f995faf7f42e4e5785dbc0969a = L.circleMarker(\n",
       "                [49.75, 15.0],\n",
       "                {&quot;bubblingMouseEvents&quot;: true, &quot;color&quot;: &quot;black&quot;, &quot;dashArray&quot;: null, &quot;dashOffset&quot;: null, &quot;fill&quot;: true, &quot;fillColor&quot;: &quot;black&quot;, &quot;fillOpacity&quot;: 0.2, &quot;fillRule&quot;: &quot;evenodd&quot;, &quot;lineCap&quot;: &quot;round&quot;, &quot;lineJoin&quot;: &quot;round&quot;, &quot;opacity&quot;: 1.0, &quot;radius&quot;: 0.660294669905746, &quot;stroke&quot;: true, &quot;weight&quot;: 3}\n",
       "            ).addTo(map_678786ce5b6b6805ed5fcf76aff74537);\n",
       "        \n",
       "    \n",
       "        var popup_60ae0ead1a55859bae546ab4924144c2 = L.popup({&quot;maxWidth&quot;: &quot;100%&quot;});\n",
       "\n",
       "        \n",
       "            \n",
       "                var html_d30281b8ee907ad5b65dedde7541c0c2 = $(`&lt;div id=&quot;html_d30281b8ee907ad5b65dedde7541c0c2&quot; style=&quot;width: 100.0%; height: 100.0%;&quot;&gt;Czech Republic&lt;/div&gt;`)[0];\n",
       "                popup_60ae0ead1a55859bae546ab4924144c2.setContent(html_d30281b8ee907ad5b65dedde7541c0c2);\n",
       "            \n",
       "        \n",
       "\n",
       "        circle_marker_9d4af2f995faf7f42e4e5785dbc0969a.bindPopup(popup_60ae0ead1a55859bae546ab4924144c2)\n",
       "        ;\n",
       "\n",
       "        \n",
       "    \n",
       "    \n",
       "            var circle_marker_4b713d10b7f1fdd3d707c6e618a8ffdb = L.circleMarker(\n",
       "                [59.0, 26.0],\n",
       "                {&quot;bubblingMouseEvents&quot;: true, &quot;color&quot;: &quot;black&quot;, &quot;dashArray&quot;: null, &quot;dashOffset&quot;: null, &quot;fill&quot;: true, &quot;fillColor&quot;: &quot;black&quot;, &quot;fillOpacity&quot;: 0.2, &quot;fillRule&quot;: &quot;evenodd&quot;, &quot;lineCap&quot;: &quot;round&quot;, &quot;lineJoin&quot;: &quot;round&quot;, &quot;opacity&quot;: 1.0, &quot;radius&quot;: 0.6446344362605358, &quot;stroke&quot;: true, &quot;weight&quot;: 3}\n",
       "            ).addTo(map_678786ce5b6b6805ed5fcf76aff74537);\n",
       "        \n",
       "    \n",
       "        var popup_ae0982beb42ee67c1d9478210a4af4a7 = L.popup({&quot;maxWidth&quot;: &quot;100%&quot;});\n",
       "\n",
       "        \n",
       "            \n",
       "                var html_5512f1ac7ecb9111de69784bcfea9764 = $(`&lt;div id=&quot;html_5512f1ac7ecb9111de69784bcfea9764&quot; style=&quot;width: 100.0%; height: 100.0%;&quot;&gt;Estonia&lt;/div&gt;`)[0];\n",
       "                popup_ae0982beb42ee67c1d9478210a4af4a7.setContent(html_5512f1ac7ecb9111de69784bcfea9764);\n",
       "            \n",
       "        \n",
       "\n",
       "        circle_marker_4b713d10b7f1fdd3d707c6e618a8ffdb.bindPopup(popup_ae0982beb42ee67c1d9478210a4af4a7)\n",
       "        ;\n",
       "\n",
       "        \n",
       "    \n",
       "    \n",
       "            var circle_marker_60af04e8c5bab83c3f55bcc106e94bf3 = L.circleMarker(\n",
       "                [44.25, 17.83333],\n",
       "                {&quot;bubblingMouseEvents&quot;: true, &quot;color&quot;: &quot;black&quot;, &quot;dashArray&quot;: null, &quot;dashOffset&quot;: null, &quot;fill&quot;: true, &quot;fillColor&quot;: &quot;black&quot;, &quot;fillOpacity&quot;: 0.2, &quot;fillRule&quot;: &quot;evenodd&quot;, &quot;lineCap&quot;: &quot;round&quot;, &quot;lineJoin&quot;: &quot;round&quot;, &quot;opacity&quot;: 1.0, &quot;radius&quot;: 0.5746707813310877, &quot;stroke&quot;: true, &quot;weight&quot;: 3}\n",
       "            ).addTo(map_678786ce5b6b6805ed5fcf76aff74537);\n",
       "        \n",
       "    \n",
       "        var popup_aa144c961c6c0166edf35caec5beaa3b = L.popup({&quot;maxWidth&quot;: &quot;100%&quot;});\n",
       "\n",
       "        \n",
       "            \n",
       "                var html_840f6f6035cb09ac830e5b176026b47a = $(`&lt;div id=&quot;html_840f6f6035cb09ac830e5b176026b47a&quot; style=&quot;width: 100.0%; height: 100.0%;&quot;&gt;Bosnia and Herzegovina&lt;/div&gt;`)[0];\n",
       "                popup_aa144c961c6c0166edf35caec5beaa3b.setContent(html_840f6f6035cb09ac830e5b176026b47a);\n",
       "            \n",
       "        \n",
       "\n",
       "        circle_marker_60af04e8c5bab83c3f55bcc106e94bf3.bindPopup(popup_aa144c961c6c0166edf35caec5beaa3b)\n",
       "        ;\n",
       "\n",
       "        \n",
       "    \n",
       "    \n",
       "            var circle_marker_0a38efaed908a4d8139b9376c99bb810 = L.circleMarker(\n",
       "                [45.16667, 15.5],\n",
       "                {&quot;bubblingMouseEvents&quot;: true, &quot;color&quot;: &quot;black&quot;, &quot;dashArray&quot;: null, &quot;dashOffset&quot;: null, &quot;fill&quot;: true, &quot;fillColor&quot;: &quot;black&quot;, &quot;fillOpacity&quot;: 0.2, &quot;fillRule&quot;: &quot;evenodd&quot;, &quot;lineCap&quot;: &quot;round&quot;, &quot;lineJoin&quot;: &quot;round&quot;, &quot;opacity&quot;: 1.0, &quot;radius&quot;: 0.5116425025323341, &quot;stroke&quot;: true, &quot;weight&quot;: 3}\n",
       "            ).addTo(map_678786ce5b6b6805ed5fcf76aff74537);\n",
       "        \n",
       "    \n",
       "        var popup_7aa608a6fcd740fdbb9a439194cb9ef2 = L.popup({&quot;maxWidth&quot;: &quot;100%&quot;});\n",
       "\n",
       "        \n",
       "            \n",
       "                var html_1ed9ea6f8c5cb6c626a9142854c5d351 = $(`&lt;div id=&quot;html_1ed9ea6f8c5cb6c626a9142854c5d351&quot; style=&quot;width: 100.0%; height: 100.0%;&quot;&gt;Croatia&lt;/div&gt;`)[0];\n",
       "                popup_7aa608a6fcd740fdbb9a439194cb9ef2.setContent(html_1ed9ea6f8c5cb6c626a9142854c5d351);\n",
       "            \n",
       "        \n",
       "\n",
       "        circle_marker_0a38efaed908a4d8139b9376c99bb810.bindPopup(popup_7aa608a6fcd740fdbb9a439194cb9ef2)\n",
       "        ;\n",
       "\n",
       "        \n",
       "    \n",
       "    \n",
       "            var circle_marker_67a2abdbff7e42a843355b18fb64eb6d = L.circleMarker(\n",
       "                [42.75, 19.25],\n",
       "                {&quot;bubblingMouseEvents&quot;: true, &quot;color&quot;: &quot;black&quot;, &quot;dashArray&quot;: null, &quot;dashOffset&quot;: null, &quot;fill&quot;: true, &quot;fillColor&quot;: &quot;black&quot;, &quot;fillOpacity&quot;: 0.2, &quot;fillRule&quot;: &quot;evenodd&quot;, &quot;lineCap&quot;: &quot;round&quot;, &quot;lineJoin&quot;: &quot;round&quot;, &quot;opacity&quot;: 1.0, &quot;radius&quot;: 0.2711633893217439, &quot;stroke&quot;: true, &quot;weight&quot;: 3}\n",
       "            ).addTo(map_678786ce5b6b6805ed5fcf76aff74537);\n",
       "        \n",
       "    \n",
       "        var popup_ce4dc4d8645c51e1af3ef87d0d312582 = L.popup({&quot;maxWidth&quot;: &quot;100%&quot;});\n",
       "\n",
       "        \n",
       "            \n",
       "                var html_6de17fc3db03c6f628dff62e3c47553d = $(`&lt;div id=&quot;html_6de17fc3db03c6f628dff62e3c47553d&quot; style=&quot;width: 100.0%; height: 100.0%;&quot;&gt;Montenegro&lt;/div&gt;`)[0];\n",
       "                popup_ce4dc4d8645c51e1af3ef87d0d312582.setContent(html_6de17fc3db03c6f628dff62e3c47553d);\n",
       "            \n",
       "        \n",
       "\n",
       "        circle_marker_67a2abdbff7e42a843355b18fb64eb6d.bindPopup(popup_ce4dc4d8645c51e1af3ef87d0d312582)\n",
       "        ;\n",
       "\n",
       "        \n",
       "    \n",
       "    \n",
       "            var circle_marker_b0410a057e569ab21621288a0bb6b36e = L.circleMarker(\n",
       "                [46.08333, 15.0],\n",
       "                {&quot;bubblingMouseEvents&quot;: true, &quot;color&quot;: &quot;black&quot;, &quot;dashArray&quot;: null, &quot;dashOffset&quot;: null, &quot;fill&quot;: true, &quot;fillColor&quot;: &quot;black&quot;, &quot;fillOpacity&quot;: 0.2, &quot;fillRule&quot;: &quot;evenodd&quot;, &quot;lineCap&quot;: &quot;round&quot;, &quot;lineJoin&quot;: &quot;round&quot;, &quot;opacity&quot;: 1.0, &quot;radius&quot;: 0.2281308098242098, &quot;stroke&quot;: true, &quot;weight&quot;: 3}\n",
       "            ).addTo(map_678786ce5b6b6805ed5fcf76aff74537);\n",
       "        \n",
       "    \n",
       "        var popup_118b1cfeaa4cc637f64670f320c9671f = L.popup({&quot;maxWidth&quot;: &quot;100%&quot;});\n",
       "\n",
       "        \n",
       "            \n",
       "                var html_9d7e6167b6d0ee36dd391c8a2adf2505 = $(`&lt;div id=&quot;html_9d7e6167b6d0ee36dd391c8a2adf2505&quot; style=&quot;width: 100.0%; height: 100.0%;&quot;&gt;Slovenia&lt;/div&gt;`)[0];\n",
       "                popup_118b1cfeaa4cc637f64670f320c9671f.setContent(html_9d7e6167b6d0ee36dd391c8a2adf2505);\n",
       "            \n",
       "        \n",
       "\n",
       "        circle_marker_b0410a057e569ab21621288a0bb6b36e.bindPopup(popup_118b1cfeaa4cc637f64670f320c9671f)\n",
       "        ;\n",
       "\n",
       "        \n",
       "    \n",
       "    \n",
       "            var circle_marker_0da52745b2912b127eedb544e56c70f1 = L.circleMarker(\n",
       "                [-4.58333, 55.66667],\n",
       "                {&quot;bubblingMouseEvents&quot;: true, &quot;color&quot;: &quot;blue&quot;, &quot;dashArray&quot;: null, &quot;dashOffset&quot;: null, &quot;fill&quot;: true, &quot;fillColor&quot;: &quot;blue&quot;, &quot;fillOpacity&quot;: 0.2, &quot;fillRule&quot;: &quot;evenodd&quot;, &quot;lineCap&quot;: &quot;round&quot;, &quot;lineJoin&quot;: &quot;round&quot;, &quot;opacity&quot;: 1.0, &quot;radius&quot;: 0.08519075891779829, &quot;stroke&quot;: true, &quot;weight&quot;: 3}\n",
       "            ).addTo(map_678786ce5b6b6805ed5fcf76aff74537);\n",
       "        \n",
       "    \n",
       "        var popup_5c6036f5552e6da17411fb5a156046ae = L.popup({&quot;maxWidth&quot;: &quot;100%&quot;});\n",
       "\n",
       "        \n",
       "            \n",
       "                var html_288d2020714fd330987dbf307b38dce3 = $(`&lt;div id=&quot;html_288d2020714fd330987dbf307b38dce3&quot; style=&quot;width: 100.0%; height: 100.0%;&quot;&gt;Seychelles&lt;/div&gt;`)[0];\n",
       "                popup_5c6036f5552e6da17411fb5a156046ae.setContent(html_288d2020714fd330987dbf307b38dce3);\n",
       "            \n",
       "        \n",
       "\n",
       "        circle_marker_0da52745b2912b127eedb544e56c70f1.bindPopup(popup_5c6036f5552e6da17411fb5a156046ae)\n",
       "        ;\n",
       "\n",
       "        \n",
       "    \n",
       "    \n",
       "            var circle_marker_2292326ed8a68f1af62368f1d0b7b4b0 = L.circleMarker(\n",
       "                [64.0, 26.0],\n",
       "                {&quot;bubblingMouseEvents&quot;: true, &quot;color&quot;: &quot;black&quot;, &quot;dashArray&quot;: null, &quot;dashOffset&quot;: null, &quot;fill&quot;: true, &quot;fillColor&quot;: &quot;black&quot;, &quot;fillOpacity&quot;: 0.2, &quot;fillRule&quot;: &quot;evenodd&quot;, &quot;lineCap&quot;: &quot;round&quot;, &quot;lineJoin&quot;: &quot;round&quot;, &quot;opacity&quot;: 1.0, &quot;stroke&quot;: true, &quot;weight&quot;: 3}\n",
       "            ).addTo(map_678786ce5b6b6805ed5fcf76aff74537);\n",
       "        \n",
       "    \n",
       "        var popup_e2551a4bdb7e8c1f4d9784a162a21510 = L.popup({&quot;maxWidth&quot;: &quot;100%&quot;});\n",
       "\n",
       "        \n",
       "            \n",
       "                var html_754753322f1bf7d706f8023ef635d4a4 = $(`&lt;div id=&quot;html_754753322f1bf7d706f8023ef635d4a4&quot; style=&quot;width: 100.0%; height: 100.0%;&quot;&gt;Finland&lt;/div&gt;`)[0];\n",
       "                popup_e2551a4bdb7e8c1f4d9784a162a21510.setContent(html_754753322f1bf7d706f8023ef635d4a4);\n",
       "            \n",
       "        \n",
       "\n",
       "        circle_marker_2292326ed8a68f1af62368f1d0b7b4b0.bindPopup(popup_e2551a4bdb7e8c1f4d9784a162a21510)\n",
       "        ;\n",
       "\n",
       "        \n",
       "    \n",
       "&lt;/script&gt;\n",
       "&lt;/html&gt;\" style=\"position:absolute;width:100%;height:100%;left:0;top:0;border:none !important;\" allowfullscreen webkitallowfullscreen mozallowfullscreen></iframe></div></div>"
      ],
      "text/plain": [
       "<datascience.maps.Map at 0x73059d9a8440>"
      ]
     },
     "execution_count": 115,
     "metadata": {},
     "output_type": "execute_result"
    }
   ],
   "source": [
    "# It may take a few seconds to generate this map.\n",
    "colors = {'africa': 'blue', 'europe': 'black', 'asia': 'red', 'americas': 'green'}\n",
    "scaled = poverty_map.with_columns(\n",
    "    'labels', poverty_map.column('name'),\n",
    "    'colors', poverty_map.apply(colors.get, 'region'),\n",
    "    'areas', 1e-4 * poverty_map.column('poverty_total')\n",
    ").drop('name', 'region', 'poverty_total')\n",
    "\n",
    "Circle.map_table(scaled)"
   ]
  },
  {
   "cell_type": "markdown",
   "metadata": {
    "deletable": false,
    "editable": false
   },
   "source": [
    "Although people lived in extreme poverty throughout the world in 2010 (with more than 5 million in the United States), the largest numbers were in Asia and Africa."
   ]
  },
  {
   "cell_type": "markdown",
   "metadata": {},
   "source": [
    "**Question 5.** Assign `largest` to a two-column table with the `name` (not the 3-letter code) and `poverty_total` of the 10 countries with the largest number of people living in extreme poverty.\n",
    "\n",
    "*Hint*: How can we use `take` and `np.arange` in conjunction with each other?\n"
   ]
  },
  {
   "cell_type": "code",
   "execution_count": 116,
   "metadata": {
    "deletable": false,
    "tags": []
   },
   "outputs": [
    {
     "data": {
      "text/html": [
       "<table border=\"1\" class=\"dataframe\">\n",
       "    <thead>\n",
       "        <tr>\n",
       "            <th>name</th> <th>poverty_total</th>\n",
       "        </tr>\n",
       "    </thead>\n",
       "    <tbody>\n",
       "        <tr>\n",
       "            <td>China           </td> <td>1,153,496,696</td>\n",
       "        </tr>\n",
       "        <tr>\n",
       "            <td>India           </td> <td>813,267,858  </td>\n",
       "        </tr>\n",
       "        <tr>\n",
       "            <td>Indonesia       </td> <td>164,834,208  </td>\n",
       "        </tr>\n",
       "        <tr>\n",
       "            <td>Pakistan        </td> <td>119,245,618  </td>\n",
       "        </tr>\n",
       "        <tr>\n",
       "            <td>Nigeria         </td> <td>108,812,449  </td>\n",
       "        </tr>\n",
       "        <tr>\n",
       "            <td>Bangladesh      </td> <td>105,678,768  </td>\n",
       "        </tr>\n",
       "        <tr>\n",
       "            <td>Ethiopia        </td> <td>60,576,742   </td>\n",
       "        </tr>\n",
       "        <tr>\n",
       "            <td>Congo, Dem. Rep.</td> <td>56,635,412   </td>\n",
       "        </tr>\n",
       "        <tr>\n",
       "            <td>Vietnam         </td> <td>56,088,177   </td>\n",
       "        </tr>\n",
       "        <tr>\n",
       "            <td>Tanzania        </td> <td>37,353,084   </td>\n",
       "        </tr>\n",
       "    </tbody>\n",
       "</table>"
      ],
      "text/plain": [
       "name             | poverty_total\n",
       "China            | 1,153,496,696\n",
       "India            | 813,267,858\n",
       "Indonesia        | 164,834,208\n",
       "Pakistan         | 119,245,618\n",
       "Nigeria          | 108,812,449\n",
       "Bangladesh       | 105,678,768\n",
       "Ethiopia         | 60,576,742\n",
       "Congo, Dem. Rep. | 56,635,412\n",
       "Vietnam          | 56,088,177\n",
       "Tanzania         | 37,353,084"
      ]
     },
     "execution_count": 116,
     "metadata": {},
     "output_type": "execute_result"
    }
   ],
   "source": [
    "largest = (poverty_map.select('name','poverty_total')).take(0,1,2,3,4,5,6,7,8,9)\n",
    "largest.set_format('poverty_total', NumberFormatter)"
   ]
  },
  {
   "cell_type": "code",
   "execution_count": 117,
   "metadata": {
    "deletable": false,
    "editable": false
   },
   "outputs": [
    {
     "data": {
      "text/html": [
       "<p><strong style='color: red;'><pre style='display: inline;'>q2_5</pre> results:</strong></p><p><strong><pre style='display: inline;'>q2_5 - 1</pre> result:</strong></p><pre>    ✅ Test case passed</pre><p><strong><pre style='display: inline;'>q2_5 - 2</pre> result:</strong></p><pre>    ❌ Test case failed\n",
       "    Trying:\n",
       "        largest.column(0).item(0)\n",
       "    Expecting:\n",
       "        'India'\n",
       "    **********************************************************************\n",
       "    Line 3, in q2_5 1\n",
       "    Failed example:\n",
       "        largest.column(0).item(0)\n",
       "    Expected:\n",
       "        'India'\n",
       "    Got:\n",
       "        'China'\n",
       "</pre><p><strong><pre style='display: inline;'>q2_5 - 3</pre> result:</strong></p><pre>    ✅ Test case passed</pre>"
      ],
      "text/plain": [
       "q2_5 results:\n",
       "    q2_5 - 1 result:\n",
       "        ✅ Test case passed\n",
       "\n",
       "    q2_5 - 2 result:\n",
       "        ❌ Test case failed\n",
       "        Trying:\n",
       "            largest.column(0).item(0)\n",
       "        Expecting:\n",
       "            'India'\n",
       "        **********************************************************************\n",
       "        Line 3, in q2_5 1\n",
       "        Failed example:\n",
       "            largest.column(0).item(0)\n",
       "        Expected:\n",
       "            'India'\n",
       "        Got:\n",
       "            'China'\n",
       "\n",
       "    q2_5 - 3 result:\n",
       "        ✅ Test case passed"
      ]
     },
     "execution_count": 117,
     "metadata": {},
     "output_type": "execute_result"
    }
   ],
   "source": [
    "grader.check(\"q2_5\")"
   ]
  },
  {
   "cell_type": "markdown",
   "metadata": {},
   "source": [
    "<!-- BEGIN QUESTION -->\n",
    "\n",
    "**Question 6.** It is important to study the absolute number of people living in poverty, not just the percent. The absolute number is an important factor in determining the amount of resources needed to support people living in poverty. In the next two questions you will explore this.\n",
    "\n",
    "In Question 7, you will be asked to write a function called `poverty_timeline` that takes **the name of a country** as its argument (not the Alpha-3 country code). It should draw a line plot of the number of people living in poverty in that country with time on the horizontal axis. The line plot should have a point for each row in the poverty table for that country. To compute the population living in poverty from a poverty percentage, multiply by the population of the country **in that year**.\n",
    "\n",
    "For this question, write out a generalized process for Question 7. Make sure to answer/include the following: \n",
    "- What should this function output? \n",
    "- Additionally, **make a numbered list** of the steps you take within the function body. If you added/edited, say, 5 lines in the function body, then it would be good to see the numbers 1 through 5 describing what you did (i.e. what functions/methods you used) in each line and why.\n",
    "\n",
    "As a tip, after finishing question 7, we recommend polishing up your description of the steps for this question."
   ]
  },
  {
   "cell_type": "markdown",
   "metadata": {},
   "source": [
    "_Type your answer here, replacing this text._"
   ]
  },
  {
   "cell_type": "markdown",
   "metadata": {
    "deletable": false
   },
   "source": [
    "<!-- END QUESTION -->\n",
    "\n",
    "<!-- BEGIN QUESTION -->\n",
    "\n",
    "**Question 7.** Now, we'll actually write the function called `poverty_timeline`. Recall that `poverty_timeline` takes **the name of a country** as its argument (not the Alpha-3 country code). It should draw a line plot of the number of people living in poverty in that country with time on the horizontal axis. The line plot should have a point for each row in the `poverty` table for that country. To compute the population living in poverty from a poverty percentage, multiply by the population of the country **in that year**.\n",
    "\n",
    "**Note:** You **should <u>not</u>** return anything from your function. Simply call `plots.show()` at the end of your function body.\n",
    "\n",
    "*Hint 1:* This question is long. Feel free to create cells and experiment. You can create cells by going to the toolbar and hitting the `+` button.\n",
    "\n",
    "*Hint 2:* Consider using `join` in your code.\n",
    "\n",
    "Feel free to use the markdown cell below to plan out your answer, but you needn't fill it in."
   ]
  },
  {
   "cell_type": "markdown",
   "metadata": {},
   "source": [
    "_Type your answer here, replacing this text._"
   ]
  },
  {
   "cell_type": "code",
   "execution_count": null,
   "metadata": {
    "tags": []
   },
   "outputs": [],
   "source": [
    "def poverty_timeline(country):\n",
    "    '''Draw a timeline of people living in extreme poverty in a country.'''\n",
    "    geo = ...\n",
    "    # This solution will take multiple lines of code. Use as many as you need\n",
    "    ...\n",
    "    # Don't change anything below this line. \n",
    "    plots.title(country)\n",
    "    plots.ylim(bottom=0)\n",
    "    plots.show() # This should be the last line of your function. "
   ]
  },
  {
   "cell_type": "code",
   "execution_count": null,
   "metadata": {
    "deletable": false,
    "tags": []
   },
   "outputs": [],
   "source": [
    "poverty_timeline('Poland')\n",
    "poverty_timeline('India')\n",
    "poverty_timeline('Nigeria')\n",
    "poverty_timeline('China')\n",
    "poverty_timeline('Colombia')\n",
    "poverty_timeline('United States')"
   ]
  },
  {
   "cell_type": "markdown",
   "metadata": {
    "deletable": false
   },
   "source": [
    "<!-- END QUESTION -->\n",
    "\n",
    "Although the number of people living in extreme poverty increased in some countries including Nigeria and the United States, the decreases in other countries, most notably the massive decreases in China and India, have shaped the overall trend that extreme poverty is decreasing worldwide, both in percentage and in absolute number. \n",
    "\n",
    "To learn more, watch [Hans Rosling in a 2015 film](https://www.gapminder.org/videos/dont-panic-end-poverty/) about the UN goal of eradicating extreme poverty from the world. \n",
    "\n",
    "Below, we've also added an interactive dropdown menu for you to visualize `poverty_timeline` graphs for other countries. Note that each dropdown menu selection may take a few seconds to run."
   ]
  },
  {
   "cell_type": "code",
   "execution_count": null,
   "metadata": {
    "deletable": false,
    "editable": false
   },
   "outputs": [],
   "source": [
    "# Just run this cell\n",
    "\n",
    "all_countries = poverty_map.column('name')\n",
    "_ = widgets.interact(poverty_timeline, country=list(all_countries))"
   ]
  },
  {
   "cell_type": "markdown",
   "metadata": {},
   "source": [
    " "
   ]
  }
 ],
 "metadata": {
  "kernelspec": {
   "display_name": "Python 3",
   "language": "python",
   "name": "python3"
  },
  "language_info": {
   "codemirror_mode": {
    "name": "ipython",
    "version": 3
   },
   "file_extension": ".py",
   "mimetype": "text/x-python",
   "name": "python",
   "nbconvert_exporter": "python",
   "pygments_lexer": "ipython3",
   "version": "3.12.1"
  },
  "otter": {
   "OK_FORMAT": true,
   "tests": {
    "q0": {
     "name": "q0",
     "points": [
      0
     ],
     "suites": [
      {
       "cases": [
        {
         "code": ">>> i_wont_use_show_without_an_argument == True\nTrue",
         "hidden": false,
         "locked": false
        }
       ],
       "scored": true,
       "setup": "",
       "teardown": "",
       "type": "doctest"
      }
     ]
    },
    "q1_1": {
     "name": "q1_1",
     "points": [
      0,
      0
     ],
     "suites": [
      {
       "cases": [
        {
         "code": ">>> # Check your column labels and spelling\n>>> p_pop.labels == ('time', 'population_total')\nTrue",
         "hidden": false,
         "locked": false
        },
        {
         "code": ">>> # Times should range from 1900 through 2020\n>>> all(p_pop.sort(\"time\").column(\"time\") == np.arange(1900, 2021))\nTrue",
         "hidden": false,
         "locked": false
        }
       ],
       "scored": true,
       "setup": "",
       "teardown": "",
       "type": "doctest"
      }
     ]
    },
    "q1_11": {
     "name": "q1_11",
     "points": [
      0,
      0,
      0,
      4
     ],
     "suites": [
      {
       "cases": [
        {
         "code": ">>> # Incorrect labels for columns\n>>> t = stats_for_year(1990)\n>>> t.labels == ('geo', 'population_total', 'children_per_woman_total_fertility', 'child_mortality_under_5_per_1000_born')\nTrue",
         "hidden": false,
         "locked": false
        },
        {
         "code": ">>> # Incorrect number of rows\n>>> t = stats_for_year(1990)\n>>> t.num_rows\n50",
         "hidden": false,
         "locked": false
        },
        {
         "code": ">>> print(stats_for_year(1960).sort('geo').take(np.arange(5, 50, 5)))\ngeo  | population_total | children_per_woman_total_fertility | child_mortality_under_5_per_1000_born\ncan  | 17847404         | 3.88                               | 32.6\ndza  | 11057864         | 7.52                               | 242.54\ngbr  | 52370595         | 2.69                               | 26.56\nirq  | 7289753          | 6.25                               | 191.93\nmar  | 12328532         | 7.04                               | 237.06\nnga  | 45138460         | 6.35                               | 339.85\npol  | 29614201         | 3.11                               | 65.03\ntur  | 27472339         | 6.37                               | 258.29\nuzb  | 8526299          | 6.26                               | 169.4\n",
         "hidden": false,
         "locked": false
        },
        {
         "code": ">>> print(stats_for_year(2010).sort('geo').take(np.arange(3, 50, 5)))\ngeo  | population_total | children_per_woman_total_fertility | child_mortality_under_5_per_1000_born\nbgd  | 147575433        | 2.28                               | 49.1\ncol  | 45222699         | 2.01                               | 18.47\neth  | 87639962         | 4.92                               | 82.94\nind  | 1234281163       | 2.6                                | 58.23\nken  | 42030684         | 4.37                               | 56.54\nmoz  | 23531567         | 5.56                               | 104.53\nper  | 29027680         | 2.55                               | 20.13\nsdn  | 34545014         | 4.88                               | 75.92\nukr  | 45792086         | 1.45                               | 11.72\nyem  | 23154854         | 4.67                               | 55.96\n",
         "hidden": false,
         "locked": false
        }
       ],
       "scored": true,
       "setup": "",
       "teardown": "",
       "type": "doctest"
      }
     ]
    },
    "q1_12": {
     "name": "q1_12",
     "points": [
      0,
      0
     ],
     "suites": [
      {
       "cases": [
        {
         "code": ">>> # Check your column labels and spelling\n>>> pop_by_decade.labels == ('decade', 'population')\nTrue",
         "hidden": false,
         "locked": false
        },
        {
         "code": ">>> # The first year of the 1960's is 1960.\n>>> pop_by_decade.column(0).item(0) == 1960\nTrue",
         "hidden": false,
         "locked": false
        }
       ],
       "scored": true,
       "setup": "",
       "teardown": "",
       "type": "doctest"
      }
     ]
    },
    "q1_12_0": {
     "name": "q1_12_0",
     "points": [
      0,
      0,
      0
     ],
     "suites": [
      {
       "cases": [
        {
         "code": ">>> pop_for_year(1972) == 3355562066\nTrue",
         "hidden": false,
         "locked": false
        },
        {
         "code": ">>> pop_for_year(2020) == 6765161289\nTrue",
         "hidden": false,
         "locked": false
        },
        {
         "code": ">>> pop_for_year(1989) == 4576679948\nTrue",
         "hidden": false,
         "locked": false
        }
       ],
       "scored": true,
       "setup": "",
       "teardown": "",
       "type": "doctest"
      }
     ]
    },
    "q1_13": {
     "name": "q1_13",
     "points": [
      0,
      0
     ],
     "suites": [
      {
       "cases": [
        {
         "code": ">>> # Check your column labels and spelling\n>>> region_counts.labels == ('region', 'count')\nTrue",
         "hidden": false,
         "locked": false
        },
        {
         "code": ">>> # Counts must sum to 50\n>>> sum(region_counts.column('count')) == 50\nTrue",
         "hidden": false,
         "locked": false
        }
       ],
       "scored": true,
       "setup": "",
       "teardown": "",
       "type": "doctest"
      }
     ]
    },
    "q1_14": {
     "name": "q1_14",
     "points": [
      0
     ],
     "suites": [
      {
       "cases": [
        {
         "code": ">>> # Please use a list of integers from 1 to 5\n>>> all(x in range(1, 6) for x in set(scatter_statements))\nTrue",
         "hidden": false,
         "locked": false
        }
       ],
       "scored": true,
       "setup": "",
       "teardown": "",
       "type": "doctest"
      }
     ]
    },
    "q1_2": {
     "name": "q1_2",
     "points": [
      0,
      0
     ],
     "suites": [
      {
       "cases": [
        {
         "code": ">>> first = round(p_five_growth.sort(0).column(2).item(0), 8)\n>>> 0.005 <= first <= 0.5\nTrue",
         "hidden": false,
         "locked": false
        },
        {
         "code": ">>> # Compute the annual exponential growth rate\n>>> max(p_five_growth.column(2)) < 0.03\nTrue",
         "hidden": false,
         "locked": false
        }
       ],
       "scored": true,
       "setup": "",
       "teardown": "",
       "type": "doctest"
      }
     ]
    },
    "q1_5": {
     "name": "q1_5",
     "points": [
      0,
      0,
      0
     ],
     "suites": [
      {
       "cases": [
        {
         "code": ">>> # Check your column labels and spelling\n>>> fertility_over_time('usa', 2010).labels == ('Year', 'Children per woman')\nTrue",
         "hidden": false,
         "locked": false
        },
        {
         "code": ">>> # Check that you use the start year to determine the data range.\n>>> all(fertility_over_time('usa', 2010).column('Year') == np.arange(2010, 2021))\nTrue",
         "hidden": false,
         "locked": false
        },
        {
         "code": ">>> # Check that you use the start year to determine the data range.\n>>> all(fertility_over_time('usa', 2005).column('Year') == np.arange(2005, 2021))\nTrue",
         "hidden": false,
         "locked": false
        }
       ],
       "scored": true,
       "setup": "",
       "teardown": "",
       "type": "doctest"
      }
     ]
    },
    "q1_7": {
     "name": "q1_7",
     "points": [
      0,
      0
     ],
     "suites": [
      {
       "cases": [
        {
         "code": ">>> # Make sure you are using the date range 1950-2020\n>>> poland_since_1950.num_rows\n71",
         "hidden": false,
         "locked": false
        },
        {
         "code": ">>> # Check your column labels and spelling\n>>> all([label in poland_since_1950.labels for label in ['Children per woman', 'Child deaths per 1000 born']])\nTrue",
         "hidden": false,
         "locked": false
        }
       ],
       "scored": true,
       "setup": "",
       "teardown": "",
       "type": "doctest"
      }
     ]
    },
    "q1_9": {
     "name": "q1_9",
     "points": [
      0
     ],
     "suites": [
      {
       "cases": [
        {
         "code": ">>> # Please use a list of integers from 1 to 6\n>>> all(x in range(1, 7) for x in set(fertility_statements))\nTrue",
         "hidden": false,
         "locked": false
        }
       ],
       "scored": true,
       "setup": "",
       "teardown": "",
       "type": "doctest"
      }
     ]
    },
    "q2_1": {
     "name": "q2_1",
     "points": [
      0,
      0
     ],
     "suites": [
      {
       "cases": [
        {
         "code": ">>> # Please don't edit the last line.\n>>> latest_poverty.labels == ('geo', 'time', 'poverty_percent')\nTrue",
         "hidden": false,
         "locked": false
        },
        {
         "code": ">>> # The result should have one row per country.\n>>> latest_poverty.num_rows\n145",
         "hidden": false,
         "locked": false
        }
       ],
       "scored": true,
       "setup": "",
       "teardown": "",
       "type": "doctest"
      }
     ]
    },
    "q2_2": {
     "name": "q2_2",
     "points": [
      0,
      0,
      0
     ],
     "suites": [
      {
       "cases": [
        {
         "code": ">>> # Check your column labels and spelling\n>>> recent_poverty_total.labels == ('geo', 'poverty_percent', 'population_total', 'poverty_total')\nTrue",
         "hidden": false,
         "locked": false
        },
        {
         "code": ">>> # Careful, the population of Australia in 2010 was 22,154,687\n>>> float(recent_poverty_total.where('geo', 'aus').column(2).item(0)) == 22154687\nTrue",
         "hidden": false,
         "locked": false
        },
        {
         "code": ">>> # The number of people estimated to be living in extreme poverty\n>>> # in Australia should be 301,304. That's 22,154,687 * 0.0136\n>>> # rounded to the nearest integer.\n>>> float(recent_poverty_total.where('geo', 'aus').column(3).item(0)) == 301304\nTrue",
         "hidden": false,
         "locked": false
        }
       ],
       "scored": true,
       "setup": "",
       "teardown": "",
       "type": "doctest"
      }
     ]
    },
    "q2_3": {
     "name": "q2_3",
     "points": [
      0
     ],
     "suites": [
      {
       "cases": [
        {
         "code": ">>> 10 <= poverty_percent <= 20\nTrue",
         "hidden": false,
         "locked": false
        }
       ],
       "scored": true,
       "setup": "",
       "teardown": "",
       "type": "doctest"
      }
     ]
    },
    "q2_4": {
     "name": "q2_4",
     "points": [
      0,
      0
     ],
     "suites": [
      {
       "cases": [
        {
         "code": ">>> # Check your column labels and spelling\n>>> poverty_map.labels == ('latitude', 'longitude', 'name', 'region', 'poverty_total')\nTrue",
         "hidden": false,
         "locked": false
        },
        {
         "code": ">>> # Something is wrong with your region column.\n>>> list(np.sort(np.unique(poverty_map.column('region'))))\n['africa', 'americas', 'asia', 'europe']",
         "hidden": false,
         "locked": false
        }
       ],
       "scored": true,
       "setup": "",
       "teardown": "",
       "type": "doctest"
      }
     ]
    },
    "q2_5": {
     "name": "q2_5",
     "points": [
      0,
      0,
      0
     ],
     "suites": [
      {
       "cases": [
        {
         "code": ">>> # Check your column labels and spelling\n>>> largest.labels == ('name', 'poverty_total')\nTrue",
         "hidden": false,
         "locked": false
        },
        {
         "code": ">>> # India is the country with the largest number of people living\n>>> # in extreme poverty.\n>>> largest.column(0).item(0)\n'India'",
         "hidden": false,
         "locked": false
        },
        {
         "code": ">>> # The table should contain exactly 10 rows.\n>>> largest.num_rows\n10",
         "hidden": false,
         "locked": false
        }
       ],
       "scored": true,
       "setup": "",
       "teardown": "",
       "type": "doctest"
      }
     ]
    }
   }
  }
 },
 "nbformat": 4,
 "nbformat_minor": 5
}
